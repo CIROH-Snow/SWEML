{
 "cells": [
  {
   "cell_type": "code",
   "execution_count": null,
   "id": "boolean-pocket",
   "metadata": {},
   "outputs": [],
   "source": [
    "import os\n",
    "import National_Snow_Model\n",
    "\n",
    "#set path directory\n",
    "os.getcwd()\n",
    "os.chdir('..')\n",
    "cwd = os.getcwd()"
   ]
  },
  {
   "cell_type": "code",
   "execution_count": null,
   "id": "0ea8c0c0",
   "metadata": {
    "scrolled": true
   },
   "outputs": [],
   "source": [
    "'''\n",
    "Model Spin Up\n",
    "'''\n",
    "\n",
    "#Dates\n",
    "#input current and previous weeks dates (these upload csv, must match dates)\n",
    "date = '04_07_2022'\n",
    "prevdate = '03_31_2022'\n",
    "\n",
    "#connect interactive script to Wasatch Snow module\n",
    "Snow = National_Snow_Model.SWE_Prediction(cwd,date, prevdate)\n"
   ]
  },
  {
   "cell_type": "code",
   "execution_count": null,
   "id": "a00e4278",
   "metadata": {},
   "outputs": [],
   "source": [
    "#Go get SNOTEL observations -- This function has not yet been set up!!!!!!!!!!!!!\n",
    "Snow.Data_Assimilations()"
   ]
  },
  {
   "cell_type": "code",
   "execution_count": null,
   "id": "0e170b40",
   "metadata": {},
   "outputs": [],
   "source": [
    "#Process observations into Model prediction ready format\n",
    "\n",
    "Snow.Data_Processing()"
   ]
  },
  {
   "cell_type": "code",
   "execution_count": null,
   "id": "artistic-trader",
   "metadata": {
    "scrolled": true
   },
   "outputs": [],
   "source": [
    "Snow.SWE_Predict(plot = False)"
   ]
  },
  {
   "cell_type": "code",
   "execution_count": null,
   "id": "3094746b",
   "metadata": {},
   "outputs": [],
   "source": [
    "#Snow.netCDF2(plot = False)"
   ]
  },
  {
   "cell_type": "code",
   "execution_count": null,
   "id": "e92e10ca",
   "metadata": {
    "scrolled": true
   },
   "outputs": [],
   "source": [
    "#making CONUS dataset\n",
    "Snow.netCDF_CONUS(plot = False)"
   ]
  },
  {
   "cell_type": "code",
   "execution_count": null,
   "id": "fa7d1720",
   "metadata": {},
   "outputs": [],
   "source": [
    "Snow.plot_interactive_SWE(pinlat = 39.1, pinlong = -120, web = True)"
   ]
  },
  {
   "cell_type": "code",
   "execution_count": null,
   "id": "bb570365",
   "metadata": {},
   "outputs": [],
   "source": []
  }
 ],
 "metadata": {
  "kernelspec": {
   "display_name": "Python 3 (ipykernel)",
   "language": "python",
   "name": "python3"
  },
  "language_info": {
   "codemirror_mode": {
    "name": "ipython",
    "version": 3
   },
   "file_extension": ".py",
   "mimetype": "text/x-python",
   "name": "python",
   "nbconvert_exporter": "python",
   "pygments_lexer": "ipython3",
   "version": "3.9.7"
  }
 },
 "nbformat": 4,
 "nbformat_minor": 5
}
