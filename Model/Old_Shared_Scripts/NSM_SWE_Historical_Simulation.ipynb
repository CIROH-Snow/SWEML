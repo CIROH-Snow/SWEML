{
 "cells": [
  {
   "cell_type": "code",
   "execution_count": null,
   "id": "boolean-pocket",
   "metadata": {},
   "outputs": [],
   "source": [
    "'''\n",
    "Run on virtual environment: Snow_env with the following packages installed\n",
    "***tested on Python 3.9.12, does not work with python 3.10***\n",
    "\n",
    "Load all dependencies via cmd and pay special attention to version requirements.\n",
    "\n",
    "Steps for installing virtual env: https://janakiev.com/blog/jupyter-virtual-envs/\n",
    "\n",
    "1st geopandas: https://towardsdatascience.com/geopandas-installation-the-easy-way-for-windows-31a666b3610f\n",
    "Here are binaries: https://www.lfd.uci.edu/~gohlke/pythonlibs/\n",
    "2nd: rioxarray\n",
    "3rd: rasterio\n",
    "tables\n",
    "sklearn\n",
    "earthpy\n",
    "numpy 1.22\n",
    "pyshp 2.1\n",
    "h5py\n",
    "tqdm\n",
    "matplotlib 3.5\n",
    "seaborn\n",
    "tensorflow\n",
    "\n",
    "\n",
    "\n",
    "joblib\n",
    "pillow\n",
    "panda\n",
    "pyproj\n",
    "shapely\n",
    "kiwisolver\n",
    "fonttools\n",
    "pillow\n",
    "mpl_toolkits - pip install --user basemap\n",
    "**git clone https://github.com/matplotlib/matplotlib\n",
    "cd matplotlib\n",
    "pip install -e .**\n",
    "tables\n",
    "pytables\n",
    "netCDF4 **https://unidata.github.io/netcdf4-python/\n",
    "\n",
    "Data Assimilation of snotel data\n",
    "https://snowex-hackweek.github.io/website/tutorials/geospatial/SNOTEL_query.html\n",
    "\n",
    "'''\n",
    "\n",
    "import os\n",
    "import National_Snow_Model\n",
    "import pandas as pd\n",
    "import warnings\n",
    "warnings.filterwarnings(\"ignore\")"
   ]
  },
  {
   "cell_type": "code",
   "execution_count": null,
   "outputs": [],
   "source": [
    "#set path directory\n",
    "os.getcwd()\n",
    "os.chdir('..')\n",
    "cwd = os.getcwd()\n",
    "cwd"
   ],
   "metadata": {
    "collapsed": false
   }
  },
  {
   "cell_type": "markdown",
   "id": "a1216932",
   "metadata": {},
   "source": [
    "## Running the NSM to create retrospective datasets\n",
    "\n",
    "The following datasets need to be 'created' within the Predictions folder, replacing YEAR with beginning of the desired water year:\n",
    "* predictionsYEAR-09-24.h5\n",
    "* submission_format_YEAR-09-24.csv\n",
    "\n",
    "The following datasets need to be 'created' within the Pre_Processed_DA folder, replacing YEAR with beginning of the desired water year:\n",
    "* ground_measures_features_YEAR-09-24.csv"
   ]
  },
  {
   "cell_type": "code",
   "execution_count": null,
   "id": "72c30500",
   "metadata": {},
   "outputs": [],
   "source": [
    "from datetime import date, timedelta\n",
    "\n",
    "#the year of the original file\n",
    "prev_year = '2020'\n",
    "prev_date = prev_year + '-09-24'\n",
    "\n",
    "#input the new year of choice\n",
    "water_year = '2021'\n",
    "new_date = water_year + '-09-24'\n",
    "\n",
    "# TODO do the CSV files need to be updated as well?\n",
    "\n",
    "#for h5 files\n",
    "Region_list = ['N_Sierras',\n",
    "                       'S_Sierras_High',\n",
    "                       'S_Sierras_Low',\n",
    "                       'Greater_Yellowstone',\n",
    "                       'N_Co_Rockies',\n",
    "                       'SW_Mont',\n",
    "                       'SW_Co_Rockies',\n",
    "                       'GBasin',\n",
    "                       'N_Wasatch',\n",
    "                       'N_Cascade',\n",
    "                       'S_Wasatch',\n",
    "                       'SW_Mtns',\n",
    "                       'E_WA_N_Id_W_Mont',\n",
    "                       'S_Wyoming',\n",
    "                       'SE_Co_Rockies',\n",
    "                       'Sawtooth',\n",
    "                       'Ca_Coast',\n",
    "                       'E_Or',\n",
    "                       'N_Yellowstone',\n",
    "                       'S_Cascade',\n",
    "                       'Wa_Coast',\n",
    "                       'Greater_Glacier',\n",
    "                       'Or_Coast'\n",
    "                      ]\n",
    "SWE_new = {}\n",
    "for region in Region_list:\n",
    "    #The below file will serve as a starting point\n",
    "    SWE_new[region] = pd.read_hdf(cwd+'/Predictions/predictions'+prev_year+'-09-24.h5', key = region)\n",
    "    SWE_new[region].rename(columns = {prev_date:new_date}, inplace = True)\n",
    "    SWE_new[region].to_hdf(cwd+'/Predictions/predictions'+water_year+'-09-24.h5', key = region)"
   ]
  },
  {
   "cell_type": "code",
   "execution_count": null,
   "outputs": [],
   "source": [
    "#define start and end date for list of dates\n",
    "start_dt = date(2020, 10, 1)\n",
    "end_dt = date(2021, 7, 31)"
   ],
   "metadata": {
    "collapsed": false
   }
  },
  {
   "cell_type": "code",
   "execution_count": null,
   "id": "3555dd51",
   "metadata": {},
   "outputs": [],
   "source": [
    "#can be altered to create list every n number of days by changing 7 to desired skip length\n",
    "def daterange(start_date, end_date):\n",
    "     for n in range(0, int((end_date - start_date).days) + 1, 7):\n",
    "        yield start_date + timedelta(n)\n",
    "\n",
    "#create empty list to store dates\n",
    "datelist = []\n",
    "\n",
    "#append dates to list\n",
    "for dt in daterange(start_dt, end_dt):\n",
    "    #print(dt.strftime(\"%Y-%m-%d\"))\n",
    "    dt=dt.strftime('%Y-%m-%d')\n",
    "    datelist.append(dt)"
   ]
  },
  {
   "cell_type": "code",
   "execution_count": null,
   "outputs": [],
   "source": [
    "datelist"
   ],
   "metadata": {
    "collapsed": false
   }
  },
  {
   "cell_type": "code",
   "execution_count": null,
   "id": "9386868b",
   "metadata": {
    "scrolled": true
   },
   "outputs": [],
   "source": [
    "#run the model through all time (data acqusition already completed)\n",
    "for date in datelist:\n",
    "    print('Updating SWE predictions for ', date)\n",
    "    #connect interactive script to Wasatch Snow module\n",
    "    Snow = National_Snow_Model.SWE_Prediction(cwd, date)\n",
    "    \n",
    "    #Go get SNOTEL observations -- currently saving to csv, change to H5,\n",
    "    #dd if self.data < 11-1-2022 and SWE = -9999, \n",
    "    Snow.Get_Monitoring_Data_Threaded()\n",
    "\n",
    "    #Process observations into Model prediction ready format,\n",
    "    Snow.Data_Processing()\n",
    "\n",
    "    #Sometimes need to run twice for some reason, has a hard time loading the model\n",
    "    Snow.SWE_Predict()\n",
    "\n",
    "    #Make CONUS netCDF file, compressed.\n",
    "    Snow.netCDF_compressed(plot=False)\n",
    "\n",
    "    #Make GeoDataframe and plot, self.Geo_df() makes the geo df\n",
    "    # Snow.Geo_df()\n",
    "    Snow.plot_interactive_SWE_comp(pinlat = 39.1, pinlong = -120, web = True)"
   ]
  },
  {
   "cell_type": "code",
   "execution_count": null,
   "id": "a035d062",
   "metadata": {
    "scrolled": true
   },
   "outputs": [],
   "source": [
    "'''\n",
    "Model Spin Up\n",
    "'''\n",
    "\n",
    "#Dates\n",
    "#input current and previous weeks dates (these upload csv, must match dates)\n",
    "date = '2018-10-01'\n",
    "#date = pd.to_datetime(\"today\").strftime(\"%Y-%m-%d\")\n",
    "\n",
    "\n",
    "#connect interactive script to Wasatch Snow module\n",
    "Snow = National_Snow_Model.SWE_Prediction(cwd, date)\n"
   ]
  },
  {
   "cell_type": "code",
   "execution_count": null,
   "id": "770f066d",
   "metadata": {
    "scrolled": true
   },
   "outputs": [],
   "source": [
    "#Go get SNOTEL observations -- currently saving to csv, change to H5,\n",
    "#dd if self.data < 11-1-2022 and SWE = -9999, \n",
    "Snow.Get_Monitoring_Data_Threaded()\n",
    "\n"
   ]
  },
  {
   "cell_type": "code",
   "execution_count": null,
   "id": "dec3b746",
   "metadata": {
    "scrolled": true
   },
   "outputs": [],
   "source": [
    "#Process observations into Model prediction ready format,\n",
    "#currently requiring me to go in an make all -9999 values 0 (early season)\n",
    "Snow.Data_Processing()\n"
   ]
  },
  {
   "cell_type": "code",
   "execution_count": null,
   "id": "artistic-trader",
   "metadata": {
    "scrolled": true
   },
   "outputs": [],
   "source": [
    "\n",
    "#Sometimes need to run twice for some reason, has a hard time loading the model\n",
    "Snow.SWE_Predict()\n"
   ]
  },
  {
   "cell_type": "code",
   "execution_count": null,
   "id": "1dbf4194",
   "metadata": {
    "scrolled": true
   },
   "outputs": [],
   "source": [
    "#Make CONUS netCDF file, compressed.\n",
    "Snow.netCDF_compressed(plot=False)\n",
    "\n",
    "#Make GeoDataframe and plot, self.Geo_df() makes the geo df\n",
    "Snow.Geo_df()\n",
    "Snow.plot_interactive_SWE_comp(pinlat = 39.1, pinlong = -120, web = True)"
   ]
  },
  {
   "cell_type": "code",
   "execution_count": null,
   "id": "cbbe769c",
   "metadata": {},
   "outputs": [],
   "source": [
    "#Get a list of HUC8 sites containing SWE\n",
    "Snow.huc_list('HUC8')\n",
    "\n",
    "#Get the mean SWE for each HUC8\n",
    "Snow.get_Mean_HUC_SWE()\n",
    "\n",
    "#Convert Geodataframe to Xarray and save as compressed netCDF4\n",
    "Snow.GeoDF_HUC_NetCDF_compressed()\n",
    "\n",
    "#Plot HUC8 SWE\n",
    "Snow.plot_interactive_SWE_comp_HUC(pinlat = 39.1, pinlong = -120, web = False)"
   ]
  },
  {
   "cell_type": "code",
   "execution_count": null,
   "id": "b18f6c5c",
   "metadata": {},
   "outputs": [],
   "source": [
    "def run(cwd, date):\n",
    "    print('Updating SWE predictions for ', date)\n",
    "    #connect interactive script to Wasatch Snow module\n",
    "    Snow = National_Snow_Model.SWE_Prediction(cwd, date)\n",
    "\n",
    "    #Go get SNOTEL observations -- currently saving to csv, change to H5,\n",
    "    #dd if self.data < 11-1-2022 and SWE = -9999,\n",
    "    Snow.Get_Monitoring_Data_Threaded()\n",
    "\n",
    "    #Process observations into Model prediction ready format,\n",
    "    Snow.Data_Processing()\n",
    "\n",
    "    #Make predictions\n",
    "    Snow.SWE_Predict()\n",
    "\n",
    "    #Make CONUS netCDF file, compressed.\n",
    "    Snow.netCDF_compressed(plot=False)"
   ]
  },
  {
   "cell_type": "code",
   "execution_count": null,
   "id": "c06ec651",
   "metadata": {},
   "outputs": [],
   "source": [
    "for date in datelist[:4]:\n",
    "    %time run(cwd, date)"
   ]
  }
 ],
 "metadata": {
  "kernelspec": {
   "name": "python3",
   "language": "python",
   "display_name": "Python 3 (ipykernel)"
  },
  "language_info": {
   "codemirror_mode": {
    "name": "ipython",
    "version": 3
   },
   "file_extension": ".py",
   "mimetype": "text/x-python",
   "name": "python",
   "nbconvert_exporter": "python",
   "pygments_lexer": "ipython3",
   "version": "3.9.12"
  }
 },
 "nbformat": 4,
 "nbformat_minor": 5
}
