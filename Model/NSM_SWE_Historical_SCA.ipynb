{
 "cells": [
  {
   "cell_type": "code",
   "execution_count": 1,
   "id": "boolean-pocket",
   "metadata": {},
   "outputs": [
    {
     "name": "stderr",
     "output_type": "stream",
     "text": [
      "C:\\Users\\rjohnson18\\Anaconda3\\envs\\NSM_env\\lib\\site-packages\\geopandas\\_compat.py:111: UserWarning: The Shapely GEOS version (3.10.2-CAPI-1.16.0) is incompatible with the GEOS version PyGEOS was compiled with (3.10.3-CAPI-1.16.1). Conversions between both will be slow.\n",
      "  warnings.warn(\n",
      "C:\\Users\\rjohnson18\\Anaconda3\\envs\\NSM_env\\lib\\site-packages\\xarray\\backends\\cfgrib_.py:29: UserWarning: Failed to load cfgrib - most likely there is a problem accessing the ecCodes library. Try `import cfgrib` to get the full error message\n",
      "  warnings.warn(\n"
     ]
    }
   ],
   "source": [
    "'''\n",
    "Run on virtual environment: Snow_env with the following packages installed\n",
    "***tested on Python 3.9.12, does not work with python 3.10***\n",
    "\n",
    "Load all dependencies via cmd and pay special attention to version requirements.\n",
    "\n",
    "Steps for installing virtual env: https://janakiev.com/blog/jupyter-virtual-envs/\n",
    "\n",
    "1st geopandas: https://towardsdatascience.com/geopandas-installation-the-easy-way-for-windows-31a666b3610f\n",
    "Here are binaries: https://www.lfd.uci.edu/~gohlke/pythonlibs/\n",
    "2nd: rioxarray\n",
    "3rd: rasterio\n",
    "tables\n",
    "sklearn\n",
    "earthpy\n",
    "numpy 1.22\n",
    "pyshp 2.1\n",
    "h5py\n",
    "tqdm\n",
    "matplotlib 3.5\n",
    "seaborn\n",
    "tensorflow\n",
    "\n",
    "\n",
    "\n",
    "joblib\n",
    "pillow\n",
    "panda\n",
    "pyproj\n",
    "shapely\n",
    "kiwisolver\n",
    "fonttools\n",
    "pillow\n",
    "mpl_toolkits - pip install --user basemap\n",
    "**git clone https://github.com/matplotlib/matplotlib\n",
    "cd matplotlib\n",
    "pip install -e .**\n",
    "tables\n",
    "pytables\n",
    "netCDF4 **https://unidata.github.io/netcdf4-python/\n",
    "\n",
    "Data Assimilation of snotel data\n",
    "https://snowex-hackweek.github.io/website/tutorials/geospatial/SNOTEL_query.html\n",
    "\n",
    "'''\n",
    "\n",
    "import os\n",
    "import National_Snow_Model\n",
    "import NSM_SCA\n",
    "import pandas as pd\n",
    "import warnings\n",
    "from datetime import date, timedelta\n",
    "warnings.filterwarnings(\"ignore\")"
   ]
  },
  {
   "cell_type": "code",
   "execution_count": 2,
   "id": "13048ad4",
   "metadata": {},
   "outputs": [
    {
     "data": {
      "text/plain": [
       "'C:\\\\Users\\\\rjohnson18\\\\Box\\\\CIROH\\\\SnowModeling\\\\Snow_Modeling_Group\\\\NSM_App_Deployment\\\\National-Snow-Model'"
      ]
     },
     "execution_count": 2,
     "metadata": {},
     "output_type": "execute_result"
    }
   ],
   "source": [
    "#set path directory\n",
    "os.getcwd()\n",
    "os.chdir('..')  # TODO find a way around this, it causes issues when rerunning the code\n",
    "cwd = os.getcwd()\n",
    "cwd"
   ]
  },
  {
   "cell_type": "markdown",
   "id": "a1216932",
   "metadata": {},
   "source": [
    "## Running the NSM to create retrospective datasets\n",
    "\n"
   ]
  },
  {
   "cell_type": "code",
   "execution_count": 12,
   "id": "72c30500",
   "metadata": {},
   "outputs": [
    {
     "name": "stdout",
     "output_type": "stream",
     "text": [
      ".h5 file complete\n",
      "Ground measures features df complete\n",
      "Ground measures features meta df complete\n",
      "New simulation start files complete\n"
     ]
    }
   ],
   "source": [
    "#Grab existing files based on water year\n",
    "prev_year = '2022'\n",
    "prev_date = prev_year + '-09-24'\n",
    "\n",
    "#input the new water year of choice\n",
    "new_year = '2018'\n",
    "new_date = new_year + '-09-24'\n",
    "\n",
    "#threshold\n",
    "threshold = '20.0'\n",
    "\n",
    "#write code for CSV files\n",
    "\n",
    "#for h5 files\n",
    "Region_list = ['N_Sierras',\n",
    "                       'S_Sierras_High',\n",
    "                       'S_Sierras_Low',\n",
    "                       'Greater_Yellowstone',\n",
    "                       'N_Co_Rockies',\n",
    "                       'SW_Mont',\n",
    "                       'SW_Co_Rockies',\n",
    "                       'GBasin',\n",
    "                       'N_Wasatch',\n",
    "                       'N_Cascade',\n",
    "                       'S_Wasatch',\n",
    "                       'SW_Mtns',\n",
    "                       'E_WA_N_Id_W_Mont',\n",
    "                       'S_Wyoming',\n",
    "                       'SE_Co_Rockies',\n",
    "                       'Sawtooth',\n",
    "                       'Ca_Coast',\n",
    "                       'E_Or',\n",
    "                       'N_Yellowstone',\n",
    "                       'S_Cascade',\n",
    "                       'Wa_Coast',\n",
    "                       'Greater_Glacier',\n",
    "                       'Or_Coast'\n",
    "                      ]\n",
    "SWE_new = {}\n",
    "for region in Region_list:\n",
    "    #The below file will serve as a starting poinw\n",
    "    SWE_new[region] = pd.read_hdf(cwd+f\"/Predictions/predictions{prev_year}-09-24.h5\", key = region)\n",
    "    SWE_new[region].rename(columns = {prev_date:new_date}, inplace = True)\n",
    "    SWE_new[region].to_hdf(cwd+f\"/Predictions/{threshold}/predictions{new_year}-09-24.h5\", key = region)\n",
    "print('.h5 file complete')\n",
    "    \n",
    "#set the ground measures features DF    \n",
    "obs_old = pd.read_csv(cwd+f\"/Data/Pre_Processed_DA/ground_measures_features_{prev_year}-09-24.csv\")\n",
    "obs_old.rename(columns = {'Unnamed: 0':'station_id', prev_date:new_date}, inplace = True)\n",
    "obs_old.set_index('station_id', inplace = True)\n",
    "obs_old[new_date] = 0\n",
    "obs_old.to_csv(cwd+f\"/Data/Pre_Processed_DA/ground_measures_features_{new_year}-09-24.csv\")\n",
    "\n",
    "print('Ground measures features df complete')\n",
    "\n",
    "#load the ground_measures_features meta w/preds\n",
    "obs_meta_old = pd.read_csv(cwd+f\"/Data/Processed/DA_ground_measures_features_{prev_year}-09-24.csv\")\n",
    "obs_meta_old.rename(columns = {'Unnamed: 0':'station_id'}, inplace = True)\n",
    "obs_meta_old.set_index('station_id', inplace = True)\n",
    "obs_meta_old['Date'] = new_date\n",
    "obs_meta_old.to_csv(cwd+f\"/Data/Processed/DA_ground_measures_features_{new_year}-09-24.csv\")\n",
    "\n",
    "print('Ground measures features meta df complete')\n",
    "\n",
    "#Make a submission DF\n",
    "old_preds = pd.read_csv(cwd+ f\"/Predictions/submission_format_{prev_date}.csv\")\n",
    "old_preds['2022-10-01'] = 0\n",
    "new_preds_date = new_year+'-10-01'\n",
    "old_preds.rename(columns = {'2022-10-01':new_preds_date}, inplace = True)\n",
    "old_preds.set_index('cell_id', inplace = True)\n",
    "old_preds.to_csv(cwd+ f\"/Predictions/{threshold}/submission_format_{new_date}.csv\")\n",
    "print('New simulation start files complete')"
   ]
  },
  {
   "cell_type": "code",
   "execution_count": 5,
   "id": "3555dd51",
   "metadata": {
    "scrolled": true
   },
   "outputs": [
    {
     "data": {
      "text/plain": [
       "['2018-10-01',\n",
       " '2018-10-08',\n",
       " '2018-10-15',\n",
       " '2018-10-22',\n",
       " '2018-10-29',\n",
       " '2018-11-05',\n",
       " '2018-11-12',\n",
       " '2018-11-19',\n",
       " '2018-11-26',\n",
       " '2018-12-03',\n",
       " '2018-12-10',\n",
       " '2018-12-17',\n",
       " '2018-12-24',\n",
       " '2018-12-31',\n",
       " '2019-01-07',\n",
       " '2019-01-14',\n",
       " '2019-01-21',\n",
       " '2019-01-28',\n",
       " '2019-02-04',\n",
       " '2019-02-11',\n",
       " '2019-02-18',\n",
       " '2019-02-25',\n",
       " '2019-03-04',\n",
       " '2019-03-11',\n",
       " '2019-03-18',\n",
       " '2019-03-25',\n",
       " '2019-04-01',\n",
       " '2019-04-08',\n",
       " '2019-04-15',\n",
       " '2019-04-22',\n",
       " '2019-04-29',\n",
       " '2019-05-06',\n",
       " '2019-05-13',\n",
       " '2019-05-20',\n",
       " '2019-05-27',\n",
       " '2019-06-03',\n",
       " '2019-06-10',\n",
       " '2019-06-17',\n",
       " '2019-06-24',\n",
       " '2019-07-01',\n",
       " '2019-07-08',\n",
       " '2019-07-15',\n",
       " '2019-07-22',\n",
       " '2019-07-29']"
      ]
     },
     "execution_count": 5,
     "metadata": {},
     "output_type": "execute_result"
    }
   ],
   "source": [
    "#can be altered to create list every n number of days by changing 7 to desired skip length\n",
    "def daterange(start_date, end_date):\n",
    "     for n in range(0, int((end_date - start_date).days) + 1, 7):\n",
    "        yield start_date + timedelta(n)\n",
    "         \n",
    "#define start and end date for list of dates\n",
    "start_dt = date(2018, 10, 1)\n",
    "end_dt = date(2019, 7, 31)\n",
    "\n",
    "#create empty list to store dates\n",
    "datelist = []\n",
    "\n",
    "#append dates to list\n",
    "for dt in daterange(start_dt, end_dt):\n",
    "    #print(dt.strftime(\"%Y-%m-%d\"))\n",
    "    dt=dt.strftime('%Y-%m-%d')\n",
    "    datelist.append(dt)\n",
    "    \n",
    "datelist"
   ]
  },
  {
   "cell_type": "markdown",
   "id": "0fea2cf6",
   "metadata": {},
   "source": [
    "## Run model"
   ]
  },
  {
   "cell_type": "code",
   "execution_count": null,
   "id": "9386868b",
   "metadata": {
    "scrolled": true
   },
   "outputs": [
    {
     "name": "stdout",
     "output_type": "stream",
     "text": [
      "Updating SWE predictions for  2018-10-01\n"
     ]
    },
    {
     "name": "stderr",
     "output_type": "stream",
     "text": [
      "100%|██████████| 696/696 [00:00<00:00, 2740.19it/s]\n",
      "100%|██████████| 696/696 [00:00<00:00, 2835.84it/s]\n",
      "100%|██████████| 3349/3349 [00:00<00:00, 7163.33it/s]\n",
      "100%|██████████| 2458/2458 [00:00<00:00, 6853.17it/s]\n",
      "100%|██████████| 6642/6642 [00:00<00:00, 7135.17it/s]\n",
      "100%|██████████| 6448/6448 [00:00<00:00, 6957.50it/s]\n",
      "100%|██████████| 1707/1707 [00:00<00:00, 6902.02it/s]\n",
      "100%|██████████| 25/25 [00:00<00:00, 6250.08it/s]\n",
      "100%|██████████| 10/10 [00:00<00:00, 3330.93it/s]\n",
      "100%|██████████| 16/16 [00:00<00:00, 4000.53it/s]\n",
      "100%|██████████| 15/15 [00:00<00:00, 3745.81it/s]\n",
      "100%|██████████| 12/12 [00:00<00:00, 5998.29it/s]\n",
      "100%|██████████| 9/9 [00:00<00:00, 3000.93it/s]\n",
      "100%|██████████| 8/8 [00:00<00:00, 2664.53it/s]\n",
      "100%|██████████| 5/5 [00:00<00:00, 5002.75it/s]\n",
      "100%|██████████| 7/7 [00:00<00:00, 3501.09it/s]\n",
      "100%|██████████| 13/13 [00:00<00:00, 6499.70it/s]\n",
      "100%|██████████| 3/3 [00:00<00:00, 3000.22it/s]\n",
      "100%|██████████| 9/9 [00:00<00:00, 4502.47it/s]\n",
      "100%|██████████| 6/6 [00:00<00:00, 5997.57it/s]\n",
      "100%|██████████| 12/12 [00:00<00:00, 12009.46it/s]\n",
      "100%|██████████| 1/1 [00:00<00:00, 999.83it/s]\n",
      "100%|██████████| 3/3 [00:00<00:00, 1502.62it/s]\n",
      "100%|██████████| 1/1 [00:00<?, ?it/s]\n"
     ]
    },
    {
     "name": "stdout",
     "output_type": "stream",
     "text": [
      "Regional data QA/QC\n"
     ]
    },
    {
     "name": "stderr",
     "output_type": "stream",
     "text": [
      "100%|██████████| 22/22 [00:00<00:00, 25.47it/s]\n",
      "100%|██████████| 22/22 [00:17<00:00,  1.24it/s]\n"
     ]
    },
    {
     "name": "stdout",
     "output_type": "stream",
     "text": [
      "Calculating mean SCA for each geometry in each region...\n"
     ]
    },
    {
     "name": "stderr",
     "output_type": "stream",
     "text": [
      "100%|██████████| 23/23 [00:48<00:00,  2.11s/it]\n"
     ]
    },
    {
     "name": "stdout",
     "output_type": "stream",
     "text": [
      "Making predictions for:  2018-10-01\n",
      "N_Sierras\n",
      "No snow in region:  N_Sierras\n",
      "S_Sierras_High\n",
      "No snow in region:  S_Sierras_High\n",
      "S_Sierras_Low\n",
      "No snow in region:  S_Sierras_Low\n",
      "Greater_Yellowstone\n",
      "C:\\Users\\rjohnson18\\Box\\CIROH\\SnowModeling\\Snow_Modeling_Group\\NSM_App_Deployment\\National-Snow-Model/Model/Prev_SWE_Models_Final/Greater_Yellowstone/Greater_Yellowstone_model.h5\n",
      "5/5 [==============================] - 0s 2ms/step\n",
      "N_Co_Rockies\n",
      "No snow in region:  N_Co_Rockies\n",
      "SW_Mont\n",
      "No snow in region:  SW_Mont\n",
      "SW_Co_Rockies\n",
      "No snow in region:  SW_Co_Rockies\n",
      "GBasin\n",
      "No snow in region:  GBasin\n",
      "N_Wasatch\n",
      "No snow in region:  N_Wasatch\n",
      "N_Cascade\n",
      "No snow in region:  N_Cascade\n",
      "S_Wasatch\n",
      "No snow in region:  S_Wasatch\n",
      "SW_Mtns\n",
      "No snow in region:  SW_Mtns\n",
      "E_WA_N_Id_W_Mont\n",
      "No snow in region:  E_WA_N_Id_W_Mont\n",
      "S_Wyoming\n",
      "No snow in region:  S_Wyoming\n",
      "SE_Co_Rockies\n",
      "No snow in region:  SE_Co_Rockies\n",
      "Sawtooth\n",
      "No snow in region:  Sawtooth\n",
      "Ca_Coast\n",
      "No snow in region:  Ca_Coast\n",
      "E_Or\n",
      "No snow in region:  E_Or\n",
      "N_Yellowstone\n",
      "No snow in region:  N_Yellowstone\n",
      "S_Cascade\n",
      "No snow in region:  S_Cascade\n",
      "Wa_Coast\n",
      "No snow in region:  Wa_Coast\n",
      "Greater_Glacier\n",
      "No snow in region:  Greater_Glacier\n",
      "Or_Coast\n",
      "No snow in region:  Or_Coast\n",
      "Updating SWE predictions for  2018-10-08\n"
     ]
    },
    {
     "name": "stderr",
     "output_type": "stream",
     "text": [
      "100%|██████████| 696/696 [00:00<00:00, 3079.65it/s]\n",
      "100%|██████████| 696/696 [00:00<00:00, 2912.28it/s]\n",
      "100%|██████████| 3349/3349 [00:00<00:00, 7576.90it/s]\n",
      "100%|██████████| 2458/2458 [00:00<00:00, 7419.77it/s]\n",
      "100%|██████████| 6642/6642 [00:00<00:00, 7642.86it/s]\n",
      "100%|██████████| 6448/6448 [00:00<00:00, 7341.89it/s]\n",
      "100%|██████████| 1707/1707 [00:00<00:00, 7266.08it/s]\n",
      "100%|██████████| 25/25 [00:00<00:00, 4979.47it/s]\n",
      "100%|██████████| 10/10 [00:00<00:00, 10034.22it/s]\n",
      "100%|██████████| 16/16 [00:00<00:00, 8006.31it/s]\n",
      "100%|██████████| 15/15 [00:00<00:00, 7563.66it/s]\n",
      "100%|██████████| 12/12 [00:00<00:00, 5998.29it/s]\n",
      "100%|██████████| 9/9 [00:00<00:00, 8998.51it/s]\n",
      "100%|██████████| 8/8 [00:00<00:00, 4002.20it/s]\n",
      "100%|██████████| 5/5 [00:00<00:00, 5003.94it/s]\n",
      "100%|██████████| 7/7 [00:00<00:00, 6997.17it/s]\n",
      "100%|██████████| 13/13 [00:00<00:00, 6512.12it/s]\n",
      "100%|██████████| 3/3 [00:00<00:00, 3000.22it/s]\n",
      "100%|██████████| 9/9 [00:00<00:00, 8987.79it/s]\n",
      "100%|██████████| 6/6 [00:00<00:00, 5999.00it/s]\n",
      "100%|██████████| 12/12 [00:00<00:00, 6001.87it/s]\n",
      "100%|██████████| 1/1 [00:00<00:00, 999.12it/s]\n",
      "100%|██████████| 3/3 [00:00<00:00, 3000.93it/s]\n",
      "100%|██████████| 1/1 [00:00<00:00, 999.60it/s]\n"
     ]
    },
    {
     "name": "stdout",
     "output_type": "stream",
     "text": [
      "Regional data QA/QC\n"
     ]
    },
    {
     "name": "stderr",
     "output_type": "stream",
     "text": [
      "100%|██████████| 22/22 [00:00<00:00, 29.29it/s]\n",
      "100%|██████████| 22/22 [00:17<00:00,  1.24it/s]\n"
     ]
    },
    {
     "name": "stdout",
     "output_type": "stream",
     "text": [
      "Calculating mean SCA for each geometry in each region...\n"
     ]
    },
    {
     "name": "stderr",
     "output_type": "stream",
     "text": [
      "100%|██████████| 23/23 [00:52<00:00,  2.29s/it]\n"
     ]
    },
    {
     "name": "stdout",
     "output_type": "stream",
     "text": [
      "Making predictions for:  2018-10-08\n",
      "N_Sierras\n",
      "C:\\Users\\rjohnson18\\Box\\CIROH\\SnowModeling\\Snow_Modeling_Group\\NSM_App_Deployment\\National-Snow-Model/Model/Prev_SWE_Models_Final/N_Sierras/N_Sierras_model.h5\n",
      "60/60 [==============================] - 0s 3ms/step\n",
      "S_Sierras_High\n",
      "C:\\Users\\rjohnson18\\Box\\CIROH\\SnowModeling\\Snow_Modeling_Group\\NSM_App_Deployment\\National-Snow-Model/Model/Prev_SWE_Models_Final/S_Sierras_High/S_Sierras_High_model.h5\n",
      "7/7 [==============================] - 0s 2ms/step\n",
      "S_Sierras_Low\n",
      "C:\\Users\\rjohnson18\\Box\\CIROH\\SnowModeling\\Snow_Modeling_Group\\NSM_App_Deployment\\National-Snow-Model/Model/Prev_SWE_Models_Final/S_Sierras_Low/S_Sierras_Low_model.h5\n",
      "3/3 [==============================] - 0s 2ms/step\n",
      "Greater_Yellowstone\n",
      "C:\\Users\\rjohnson18\\Box\\CIROH\\SnowModeling\\Snow_Modeling_Group\\NSM_App_Deployment\\National-Snow-Model/Model/Prev_SWE_Models_Final/Greater_Yellowstone/Greater_Yellowstone_model.h5\n",
      "76/76 [==============================] - 0s 2ms/step\n",
      "N_Co_Rockies\n",
      "C:\\Users\\rjohnson18\\Box\\CIROH\\SnowModeling\\Snow_Modeling_Group\\NSM_App_Deployment\\National-Snow-Model/Model/Prev_SWE_Models_Final/N_Co_Rockies/N_Co_Rockies_model.h5\n",
      "24/24 [==============================] - 0s 1ms/step\n",
      "SW_Mont\n",
      "C:\\Users\\rjohnson18\\Box\\CIROH\\SnowModeling\\Snow_Modeling_Group\\NSM_App_Deployment\\National-Snow-Model/Model/Prev_SWE_Models_Final/SW_Mont/SW_Mont_model.h5\n",
      "1/1 [==============================] - 0s 57ms/step\n",
      "SW_Co_Rockies\n",
      "C:\\Users\\rjohnson18\\Box\\CIROH\\SnowModeling\\Snow_Modeling_Group\\NSM_App_Deployment\\National-Snow-Model/Model/Prev_SWE_Models_Final/SW_Co_Rockies/SW_Co_Rockies_model.h5\n",
      "7/7 [==============================] - 0s 3ms/step\n",
      "GBasin\n",
      "C:\\Users\\rjohnson18\\Box\\CIROH\\SnowModeling\\Snow_Modeling_Group\\NSM_App_Deployment\\National-Snow-Model/Model/Prev_SWE_Models_Final/GBasin/GBasin_model.h5\n",
      "1/1 [==============================] - 0s 60ms/step\n",
      "N_Wasatch\n",
      "C:\\Users\\rjohnson18\\Box\\CIROH\\SnowModeling\\Snow_Modeling_Group\\NSM_App_Deployment\\National-Snow-Model/Model/Prev_SWE_Models_Final/N_Wasatch/N_Wasatch_model.h5\n",
      "WARNING:tensorflow:5 out of the last 34 calls to <function Model.make_predict_function.<locals>.predict_function at 0x0000027658E461F0> triggered tf.function retracing. Tracing is expensive and the excessive number of tracings could be due to (1) creating @tf.function repeatedly in a loop, (2) passing tensors with different shapes, (3) passing Python objects instead of tensors. For (1), please define your @tf.function outside of the loop. For (2), @tf.function has reduce_retracing=True option that can avoid unnecessary retracing. For (3), please refer to https://www.tensorflow.org/guide/function#controlling_retracing and https://www.tensorflow.org/api_docs/python/tf/function for  more details.\n"
     ]
    },
    {
     "name": "stderr",
     "output_type": "stream",
     "text": [
      "5 out of the last 34 calls to <function Model.make_predict_function.<locals>.predict_function at 0x0000027658E461F0> triggered tf.function retracing. Tracing is expensive and the excessive number of tracings could be due to (1) creating @tf.function repeatedly in a loop, (2) passing tensors with different shapes, (3) passing Python objects instead of tensors. For (1), please define your @tf.function outside of the loop. For (2), @tf.function has reduce_retracing=True option that can avoid unnecessary retracing. For (3), please refer to https://www.tensorflow.org/guide/function#controlling_retracing and https://www.tensorflow.org/api_docs/python/tf/function for  more details.\n"
     ]
    },
    {
     "name": "stdout",
     "output_type": "stream",
     "text": [
      "1/1 [==============================] - 0s 64ms/step\n"
     ]
    }
   ],
   "source": [
    "#run the model through all time (data acqusition already completed)\n",
    "for date in datelist:\n",
    "    print('Updating SWE predictions for ', date)\n",
    "    #connect interactive script to Wasatch Snow module\n",
    "    Snow = NSM_SCA.NSM_SCA(cwd, date, threshold=0.2)\n",
    "    \n",
    "    #Go get SNOTEL observations -- currently saving to csv, change to H5,\n",
    "    #dd if self.data < 11-1-2022 and SWE = -9999, \n",
    "    #Snow.Get_Monitoring_Data_Threaded()\n",
    "\n",
    "    #Get the prediction extent\n",
    "    bbox = Snow.getPredictionExtent()\n",
    "\n",
    "    #Initialize/Download the granules\n",
    "    Snow.initializeGranules(bbox, Snow.SCA_folder)\n",
    "\n",
    "    #Process observations into Model prediction ready format,\n",
    "    Snow.Data_Processing()\n",
    "\n",
    "    #Agument with SCA\n",
    "    Snow.augmentPredictionDFs()\n",
    "\n",
    "    #Make predictions\n",
    "    Snow.SWE_Predict()\n",
    "\n",
    "    #Make CONUS netCDF file, compressed.\n",
    "    #Snow.netCDF_compressed(plot=False)\n",
    "\n",
    "    #Make GeoDataframe and plot, self.Geo_df() makes the geo df\n",
    "    # Snow.Geo_df()\n",
    "    # Snow.plot_interactive_SWE_comp(pinlat = 39.1, pinlong = -120, web = True)"
   ]
  },
  {
   "cell_type": "code",
   "execution_count": 8,
   "id": "a54720cb",
   "metadata": {},
   "outputs": [
    {
     "data": {
      "text/plain": [
       "20.0"
      ]
     },
     "execution_count": 8,
     "metadata": {},
     "output_type": "execute_result"
    }
   ],
   "source": [
    "Snow.threshold"
   ]
  },
  {
   "cell_type": "code",
   "execution_count": null,
   "id": "6e00ddf3",
   "metadata": {},
   "outputs": [],
   "source": [
    "def run(cwd, date):\n",
    "    print('Updating SWE predictions for ', date)\n",
    "    #connect interactive script to Wasatch Snow module\n",
    "    Snow = NSM_SCA.NSM_SCA(cwd, date)\n",
    "\n",
    "    #Go get SNOTEL observations -- currently saving to csv, change to H5,\n",
    "    #dd if self.data < 11-1-2022 and SWE = -9999,\n",
    "    Snow.Get_Monitoring_Data_Threaded()\n",
    "\n",
    "    #Get the prediction extent\n",
    "    bbox = Snow.getPredictionExtent()\n",
    "\n",
    "    #Initialize/Download the granules\n",
    "    Snow.initializeGranules(bbox, Snow.SCA_folder)\n",
    "\n",
    "    #Process observations into Model prediction ready format,\n",
    "    Snow.Data_Processing()\n",
    "\n",
    "    #Agument with SCA\n",
    "    Snow.augmentPredictionDFs()\n",
    "\n",
    "    #Make predictions\n",
    "    Snow.SWE_Predict()\n",
    "\n",
    "    #Make CONUS netCDF file, compressed.\n",
    "    Snow.netCDF_compressed(plot=False)"
   ]
  },
  {
   "cell_type": "code",
   "execution_count": null,
   "id": "55a9ccca",
   "metadata": {},
   "outputs": [],
   "source": [
    "for date in datelist[:4]:\n",
    "    %time run(cwd, date)"
   ]
  }
 ],
 "metadata": {
  "kernelspec": {
   "display_name": "NSM_env",
   "language": "python",
   "name": "nsm_env"
  },
  "language_info": {
   "codemirror_mode": {
    "name": "ipython",
    "version": 3
   },
   "file_extension": ".py",
   "mimetype": "text/x-python",
   "name": "python",
   "nbconvert_exporter": "python",
   "pygments_lexer": "ipython3",
   "version": "3.9.12"
  }
 },
 "nbformat": 4,
 "nbformat_minor": 5
}
