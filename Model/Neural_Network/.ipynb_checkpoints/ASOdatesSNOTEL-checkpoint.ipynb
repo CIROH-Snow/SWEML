{
 "cells": [
  {
   "cell_type": "code",
   "execution_count": 26,
   "id": "345d0e10-16ef-4f91-91cb-cf5e99f8c429",
   "metadata": {},
   "outputs": [],
   "source": [
    "import os\n",
    "import sys\n",
    "import pandas as pd\n",
    "from tqdm import tqdm\n",
    "sys.path.insert(0, '..') #sys allows for the .ipynb file to connect to the shared folder files\n",
    "from shared_scripts import Hindcast_Initialization, NSM_SCA\n",
    "from datetime import datetime\n",
    "\n",
    "#Set working directories\n",
    "cwd = os.getcwd()\n",
    "datapath = f\"{os.path.expanduser('~')}/SWEML\" "
   ]
  },
  {
   "cell_type": "code",
   "execution_count": 41,
   "id": "02f27cce-520c-4531-bb2a-125cdfe81521",
   "metadata": {
    "scrolled": true
   },
   "outputs": [],
   "source": [
    "ISdates = list(G_features.columns)\n",
    "ISdates = [datetime.strptime(x, '%m/%d/%Y').strftime('%Y-%m-%d') for x in ISdates]\n",
    "ASOdates = [ '2013-06-01','2019-07-15', '2019-03-09', '2019-07-16', '2013-05-03',\n",
    "       '2019-06-11', '2016-05-09', '2016-06-21', '2017-01-29',\n",
    "       '2019-06-04', '2013-05-25', '2013-04-29', '2016-06-07',\n",
    "       '2013-04-03', '2016-03-26', '2016-07-08', '2019-03-29',\n",
    "       '2013-06-08', '2016-06-14', '2016-04-01', '2016-06-26',\n",
    "       '2019-07-03', '2018-04-25', '2017-07-17', '2016-05-27',\n",
    "       '2017-01-28']\n",
    "Alldates = ISdates+ASOdates\n",
    "Alldates.sort()"
   ]
  },
  {
   "cell_type": "code",
   "execution_count": 35,
   "id": "ec7c0d75-3a7b-49de-b843-251f20c8a1a5",
   "metadata": {
    "collapsed": true,
    "jupyter": {
     "outputs_hidden": true
    }
   },
   "outputs": [
    {
     "data": {
      "text/plain": [
       "['2013-01-01',\n",
       " '2013-01-08',\n",
       " '2013-01-15',\n",
       " '2013-01-22',\n",
       " '2013-01-29',\n",
       " '2013-02-05',\n",
       " '2013-02-12',\n",
       " '2013-02-19',\n",
       " '2013-02-26',\n",
       " '2013-03-05',\n",
       " '2013-03-12',\n",
       " '2013-03-19',\n",
       " '2013-03-26',\n",
       " '2013-04-02',\n",
       " '2013-04-03',\n",
       " '2013-04-09',\n",
       " '2013-04-16',\n",
       " '2013-04-23',\n",
       " '2013-04-29',\n",
       " '2013-04-30',\n",
       " '2013-05-03',\n",
       " '2013-05-07',\n",
       " '2013-05-14',\n",
       " '2013-05-21',\n",
       " '2013-05-25',\n",
       " '2013-05-28',\n",
       " '2013-06-01',\n",
       " '2013-06-04',\n",
       " '2013-06-08',\n",
       " '2013-06-11',\n",
       " '2013-06-18',\n",
       " '2013-06-25',\n",
       " '2013-12-03',\n",
       " '2013-12-10',\n",
       " '2013-12-17',\n",
       " '2013-12-24',\n",
       " '2013-12-31',\n",
       " '2014-01-07',\n",
       " '2014-01-14',\n",
       " '2014-01-21',\n",
       " '2014-01-28',\n",
       " '2014-02-04',\n",
       " '2014-02-11',\n",
       " '2014-02-18',\n",
       " '2014-02-25',\n",
       " '2014-03-04',\n",
       " '2014-03-11',\n",
       " '2014-03-18',\n",
       " '2014-03-25',\n",
       " '2014-04-01',\n",
       " '2014-04-08',\n",
       " '2014-04-15',\n",
       " '2014-04-22',\n",
       " '2014-04-29',\n",
       " '2014-05-06',\n",
       " '2014-05-13',\n",
       " '2014-05-20',\n",
       " '2014-05-27',\n",
       " '2014-06-03',\n",
       " '2014-06-10',\n",
       " '2014-06-17',\n",
       " '2014-06-24',\n",
       " '2014-12-02',\n",
       " '2014-12-09',\n",
       " '2014-12-16',\n",
       " '2014-12-23',\n",
       " '2014-12-30',\n",
       " '2015-01-06',\n",
       " '2015-01-13',\n",
       " '2015-01-20',\n",
       " '2015-01-27',\n",
       " '2015-02-03',\n",
       " '2015-02-10',\n",
       " '2015-02-17',\n",
       " '2015-02-24',\n",
       " '2015-03-03',\n",
       " '2015-03-10',\n",
       " '2015-03-17',\n",
       " '2015-03-24',\n",
       " '2015-03-31',\n",
       " '2015-04-07',\n",
       " '2015-04-14',\n",
       " '2015-04-21',\n",
       " '2015-04-28',\n",
       " '2015-05-05',\n",
       " '2015-05-12',\n",
       " '2015-05-19',\n",
       " '2015-05-26',\n",
       " '2015-06-02',\n",
       " '2015-06-09',\n",
       " '2015-06-16',\n",
       " '2015-06-23',\n",
       " '2015-06-30',\n",
       " '2015-12-01',\n",
       " '2015-12-08',\n",
       " '2015-12-15',\n",
       " '2015-12-22',\n",
       " '2015-12-29',\n",
       " '2016-01-05',\n",
       " '2016-01-12',\n",
       " '2016-01-19',\n",
       " '2016-01-26',\n",
       " '2016-02-02',\n",
       " '2016-02-09',\n",
       " '2016-02-16',\n",
       " '2016-02-23',\n",
       " '2016-03-01',\n",
       " '2016-03-08',\n",
       " '2016-03-15',\n",
       " '2016-03-22',\n",
       " '2016-03-26',\n",
       " '2016-03-29',\n",
       " '2016-04-01',\n",
       " '2016-04-05',\n",
       " '2016-04-12',\n",
       " '2016-04-19',\n",
       " '2016-04-26',\n",
       " '2016-05-03',\n",
       " '2016-05-09',\n",
       " '2016-05-10',\n",
       " '2016-05-17',\n",
       " '2016-05-24',\n",
       " '2016-05-27',\n",
       " '2016-05-31',\n",
       " '2016-06-07',\n",
       " '2016-06-07',\n",
       " '2016-06-14',\n",
       " '2016-06-14',\n",
       " '2016-06-21',\n",
       " '2016-06-21',\n",
       " '2016-06-26',\n",
       " '2016-06-28',\n",
       " '2016-07-08',\n",
       " '2016-12-06',\n",
       " '2016-12-13',\n",
       " '2016-12-20',\n",
       " '2016-12-27',\n",
       " '2017-01-03',\n",
       " '2017-01-10',\n",
       " '2017-01-17',\n",
       " '2017-01-24',\n",
       " '2017-01-28',\n",
       " '2017-01-29',\n",
       " '2017-01-31',\n",
       " '2017-02-07',\n",
       " '2017-02-14',\n",
       " '2017-02-21',\n",
       " '2017-02-28',\n",
       " '2017-03-07',\n",
       " '2017-03-14',\n",
       " '2017-03-21',\n",
       " '2017-03-28',\n",
       " '2017-04-04',\n",
       " '2017-04-11',\n",
       " '2017-04-18',\n",
       " '2017-04-25',\n",
       " '2017-05-02',\n",
       " '2017-05-09',\n",
       " '2017-05-16',\n",
       " '2017-05-23',\n",
       " '2017-05-30',\n",
       " '2017-06-06',\n",
       " '2017-06-13',\n",
       " '2017-06-20',\n",
       " '2017-06-27',\n",
       " '2017-07-17',\n",
       " '2017-12-05',\n",
       " '2017-12-12',\n",
       " '2017-12-19',\n",
       " '2017-12-26',\n",
       " '2018-01-02',\n",
       " '2018-01-09',\n",
       " '2018-01-16',\n",
       " '2018-01-23',\n",
       " '2018-01-30',\n",
       " '2018-02-06',\n",
       " '2018-02-13',\n",
       " '2018-02-20',\n",
       " '2018-02-27',\n",
       " '2018-03-06',\n",
       " '2018-03-13',\n",
       " '2018-03-20',\n",
       " '2018-03-27',\n",
       " '2018-04-03',\n",
       " '2018-04-10',\n",
       " '2018-04-17',\n",
       " '2018-04-24',\n",
       " '2018-04-25',\n",
       " '2018-05-01',\n",
       " '2018-05-08',\n",
       " '2018-05-15',\n",
       " '2018-05-22',\n",
       " '2018-05-29',\n",
       " '2018-06-05',\n",
       " '2018-06-12',\n",
       " '2018-06-19',\n",
       " '2018-06-26',\n",
       " '2018-12-04',\n",
       " '2018-12-11',\n",
       " '2018-12-18',\n",
       " '2018-12-25',\n",
       " '2019-01-01',\n",
       " '2019-01-08',\n",
       " '2019-01-15',\n",
       " '2019-01-22',\n",
       " '2019-01-29',\n",
       " '2019-02-05',\n",
       " '2019-02-12',\n",
       " '2019-02-19',\n",
       " '2019-02-26',\n",
       " '2019-03-05',\n",
       " '2019-03-09',\n",
       " '2019-03-12',\n",
       " '2019-03-19',\n",
       " '2019-03-26',\n",
       " '2019-03-29',\n",
       " '2019-04-02',\n",
       " '2019-04-09',\n",
       " '2019-04-16',\n",
       " '2019-04-23',\n",
       " '2019-04-30',\n",
       " '2019-05-07',\n",
       " '2019-05-14',\n",
       " '2019-05-21',\n",
       " '2019-05-28',\n",
       " '2019-06-04',\n",
       " '2019-06-04',\n",
       " '2019-06-11',\n",
       " '2019-06-11',\n",
       " '2019-06-18',\n",
       " '2019-06-25',\n",
       " '2019-07-03',\n",
       " '2019-07-15',\n",
       " '2019-07-16',\n",
       " '2019-12-03',\n",
       " '2019-12-10',\n",
       " '2019-12-17',\n",
       " '2019-12-24',\n",
       " '2019-12-31']"
      ]
     },
     "execution_count": 35,
     "metadata": {},
     "output_type": "execute_result"
    }
   ],
   "source": [
    "Alldates"
   ]
  },
  {
   "cell_type": "code",
   "execution_count": null,
   "id": "915dd4f3-e104-4fd4-b61f-474ac50ff55d",
   "metadata": {
    "scrolled": true
   },
   "outputs": [
    {
     "name": "stderr",
     "output_type": "stream",
     "text": [
      "  0%|          | 0/239 [00:00<?, ?it/s]"
     ]
    },
    {
     "name": "stdout",
     "output_type": "stream",
     "text": [
      "Updating SWE predictions for  2013-01-01\n",
      "Getting California Data Exchange Center SWE data from sites: \n",
      "CDEC data fail, https://cdec.water.ca.gov/dynamicapp/selectQuery?Stations=SSM&SensorNums=3&dur_code=D&Start=2012-12-31&End=2013-01-01\n",
      "Getting NRCS SNOTEL SWE data from sites: \n"
     ]
    },
    {
     "name": "stderr",
     "output_type": "stream",
     "text": [
      "<suds.sax.document.Document object at 0x7f796f2d51f0>\n",
      "<suds.sax.document.Document object at 0x7f796f2de7f0>\n",
      "<suds.sax.document.Document object at 0x7f796f2e8a00>\n"
     ]
    },
    {
     "name": "stdout",
     "output_type": "stream",
     "text": [
      "Snotel data fail, SNOTEL:1007_OR_SNTL\n",
      "Snotel data fail, SNOTEL:1004_WA_SNTL\n",
      "Snotel data fail, SNOTEL:1018_OR_SNTL\n"
     ]
    },
    {
     "name": "stderr",
     "output_type": "stream",
     "text": [
      "<suds.sax.document.Document object at 0x7f796f2ee7f0>\n",
      "<suds.sax.document.Document object at 0x7f796f2d9f40>\n",
      "<suds.sax.document.Document object at 0x7f796f2e6400>\n",
      "<suds.sax.document.Document object at 0x7f796f2caeb0>\n",
      "<suds.sax.document.Document object at 0x7f796f281e50>\n"
     ]
    },
    {
     "name": "stdout",
     "output_type": "stream",
     "text": [
      "Snotel data fail, SNOTEL:1021_OR_SNTL\n",
      "Snotel data fail, SNOTEL:1023_OR_SNTL\n",
      "Snotel data fail, SNOTEL:1019_OR_SNTL\n",
      "Snotel data fail, SNOTEL:1020_OR_SNTL\n"
     ]
    },
    {
     "name": "stderr",
     "output_type": "stream",
     "text": [
      "<suds.sax.document.Document object at 0x7f796f2e9c70>\n",
      "<suds.sax.document.Document object at 0x7f796f2f7a90>\n"
     ]
    },
    {
     "name": "stdout",
     "output_type": "stream",
     "text": [
      "Snotel data fail, SNOTEL:1029_OR_SNTL\n",
      "Snotel data fail, SNOTEL:1028_OR_SNTL\n",
      "Snotel data fail, SNOTEL:1024_OR_SNTL\n"
     ]
    },
    {
     "name": "stderr",
     "output_type": "stream",
     "text": [
      "<suds.sax.document.Document object at 0x7f796f2f66a0>\n",
      "<suds.sax.document.Document object at 0x7f796f2c1e50>\n",
      "<suds.sax.document.Document object at 0x7f796f2fcca0>\n",
      "<suds.sax.document.Document object at 0x7f796f29fa60>\n"
     ]
    },
    {
     "name": "stdout",
     "output_type": "stream",
     "text": [
      "Snotel data fail, SNOTEL:1022_OR_SNTL\n",
      "Snotel data fail, SNOTEL:1025_OR_SNTL\n",
      "Snotel data fail, SNOTEL:1027_OR_SNTL\n",
      "Snotel data fail, SNOTEL:1038_ID_SNTL\n"
     ]
    },
    {
     "name": "stderr",
     "output_type": "stream",
     "text": [
      "<suds.sax.document.Document object at 0x7f796f235cd0>\n",
      "<suds.sax.document.Document object at 0x7f796f1c4d60>\n"
     ]
    },
    {
     "name": "stdout",
     "output_type": "stream",
     "text": [
      "Snotel data fail, SNOTEL:1148_UT_SNTL\n",
      "Snotel data fail, SNOTEL:1157_WA_SNTL\n"
     ]
    },
    {
     "name": "stderr",
     "output_type": "stream",
     "text": [
      "<suds.sax.document.Document object at 0x7f796f1a0580>\n",
      "<suds.sax.document.Document object at 0x7f796f227370>\n",
      "<suds.sax.document.Document object at 0x7f796f2de880>\n"
     ]
    },
    {
     "name": "stdout",
     "output_type": "stream",
     "text": [
      "Snotel data fail, SNOTEL:1187_CO_SNTL\n",
      "Snotel data fail, SNOTEL:1203_NV_SNTL\n"
     ]
    },
    {
     "name": "stderr",
     "output_type": "stream",
     "text": [
      "<suds.sax.document.Document object at 0x7f796f187c40>\n",
      "<suds.sax.document.Document object at 0x7f796f1a06a0>\n",
      "<suds.sax.document.Document object at 0x7f796f286220>\n",
      "<suds.sax.document.Document object at 0x7f796f235a90>\n"
     ]
    },
    {
     "name": "stdout",
     "output_type": "stream",
     "text": [
      "Snotel data fail, SNOTEL:1202_NV_SNTL\n",
      "Snotel data fail, SNOTEL:1213_NV_SNTL\n",
      "Snotel data fail, SNOTEL:1205_NV_SNTL\n",
      "Snotel data fail, SNOTEL:1206_NV_SNTL\n"
     ]
    },
    {
     "name": "stderr",
     "output_type": "stream",
     "text": [
      "<suds.sax.document.Document object at 0x7f796f24fe80>\n",
      "<suds.sax.document.Document object at 0x7f796f1b68b0>\n",
      "<suds.sax.document.Document object at 0x7f796f2ee190>\n"
     ]
    },
    {
     "name": "stdout",
     "output_type": "stream",
     "text": [
      "Snotel data fail, SNOTEL:1209_NV_SNTL\n",
      "Snotel data fail, SNOTEL:1242_NV_SNTL\n",
      "Snotel data fail, SNOTEL:1244_NV_SNTL\n"
     ]
    },
    {
     "name": "stderr",
     "output_type": "stream",
     "text": [
      "<suds.sax.document.Document object at 0x7f796f22e1c0>\n",
      "<suds.sax.document.Document object at 0x7f796f197610>\n",
      "<suds.sax.document.Document object at 0x7f796f227400>\n"
     ]
    },
    {
     "name": "stdout",
     "output_type": "stream",
     "text": [
      "Snotel data fail, SNOTEL:1248_UT_SNTL\n",
      "Snotel data fail, SNOTEL:1236_UT_SNTL\n",
      "Snotel data fail, SNOTEL:1247_UT_SNTL\n"
     ]
    },
    {
     "name": "stderr",
     "output_type": "stream",
     "text": [
      "<suds.sax.document.Document object at 0x7f796f103a00>\n",
      "<suds.sax.document.Document object at 0x7f796f2a3d00>\n"
     ]
    },
    {
     "name": "stdout",
     "output_type": "stream",
     "text": [
      "Snotel data fail, SNOTEL:1249_UT_SNTL\n",
      "Snotel data fail, SNOTEL:1251_CO_SNTL\n",
      "Snotel data fail, SNOTEL:1243_NV_SNTL\n"
     ]
    },
    {
     "name": "stderr",
     "output_type": "stream",
     "text": [
      "<suds.sax.document.Document object at 0x7f796f2defa0>\n",
      "<suds.sax.document.Document object at 0x7f796f182c70>\n",
      "<suds.sax.document.Document object at 0x7f796f1029d0>\n"
     ]
    },
    {
     "name": "stdout",
     "output_type": "stream",
     "text": [
      "Snotel data fail, SNOTEL:1256_WA_SNTL\n",
      "Snotel data fail, SNOTEL:1254_NM_SNTL\n",
      "Snotel data fail, SNOTEL:1252_CO_SNTL\n"
     ]
    },
    {
     "name": "stderr",
     "output_type": "stream",
     "text": [
      "<suds.sax.document.Document object at 0x7f796f117d00>\n",
      "<suds.sax.document.Document object at 0x7f796f116940>\n",
      "<suds.sax.document.Document object at 0x7f796f28ef10>\n",
      "<suds.sax.document.Document object at 0x7f796f1b6a60>\n",
      "<suds.sax.document.Document object at 0x7f796f18b580>\n"
     ]
    },
    {
     "name": "stdout",
     "output_type": "stream",
     "text": [
      "Snotel data fail, SNOTEL:1258_CA_SNTL\n",
      "Snotel data fail, SNOTEL:1263_WA_SNTL\n",
      "Snotel data fail, SNOTEL:1269_UT_SNTL\n",
      "Snotel data fail, SNOTEL:1257_WA_SNTL\n"
     ]
    },
    {
     "name": "stderr",
     "output_type": "stream",
     "text": [
      "<suds.sax.document.Document object at 0x7f796f2e73a0>\n",
      "<suds.sax.document.Document object at 0x7f796f2f2a60>\n",
      "<suds.sax.document.Document object at 0x7f796f187c10>\n"
     ]
    },
    {
     "name": "stdout",
     "output_type": "stream",
     "text": [
      "Snotel data fail, SNOTEL:1261_UT_SNTL\n",
      "Snotel data fail, SNOTEL:1278_UT_SNTL\n",
      "Snotel data fail, SNOTEL:1259_WA_SNTL\n"
     ]
    },
    {
     "name": "stderr",
     "output_type": "stream",
     "text": [
      "<suds.sax.document.Document object at 0x7f796f103340>\n",
      "<suds.sax.document.Document object at 0x7f796f197fd0>\n"
     ]
    },
    {
     "name": "stdout",
     "output_type": "stream",
     "text": [
      "Snotel data fail, SNOTEL:1262_NV_SNTL\n",
      "Snotel data fail, SNOTEL:1271_AZ_SNTL\n"
     ]
    },
    {
     "name": "stderr",
     "output_type": "stream",
     "text": [
      "<suds.sax.document.Document object at 0x7f796f2f77c0>\n",
      "<suds.sax.document.Document object at 0x7f796f2e4730>\n",
      "<suds.sax.document.Document object at 0x7f796f1a20d0>\n"
     ]
    },
    {
     "name": "stdout",
     "output_type": "stream",
     "text": [
      "Snotel data fail, SNOTEL:1276_ID_SNTL\n",
      "Snotel data fail, SNOTEL:1280_UT_SNTL\n",
      "Snotel data fail, SNOTEL:1287_MT_SNTL\n"
     ]
    },
    {
     "name": "stderr",
     "output_type": "stream",
     "text": [
      "<suds.sax.document.Document object at 0x7f796f1a0910>\n",
      "<suds.sax.document.Document object at 0x7f796f13fb20>\n",
      "<suds.sax.document.Document object at 0x7f796f14f730>\n"
     ]
    },
    {
     "name": "stdout",
     "output_type": "stream",
     "text": [
      "Snotel data fail, SNOTEL:1272_NV_SNTL\n",
      "Snotel data fail, SNOTEL:248_CO_SNTL\n",
      "Snotel data fail, SNOTEL:249_CO_SNTL\n"
     ]
    },
    {
     "name": "stderr",
     "output_type": "stream",
     "text": [
      "<suds.sax.document.Document object at 0x7f796f2d91c0>\n",
      "<suds.sax.document.Document object at 0x7f796f0bf910>\n",
      "<suds.sax.document.Document object at 0x7f796f2bd370>\n",
      "<suds.sax.document.Document object at 0x7f796f1c46a0>\n",
      "<suds.sax.document.Document object at 0x7f796f1c41c0>\n"
     ]
    },
    {
     "name": "stdout",
     "output_type": "stream",
     "text": [
      "Snotel data fail, SNOTEL:1277_CA_SNTL\n",
      "Snotel data fail, SNOTEL:247_CO_SNTL\n",
      "Snotel data fail, SNOTEL:1286_MT_SNTL\n",
      "Snotel data fail, SNOTEL:246_CA_SNTL\n",
      "Snotel data fail, SNOTEL:254_MT_SNTL\n"
     ]
    },
    {
     "name": "stderr",
     "output_type": "stream",
     "text": [
      "<suds.sax.document.Document object at 0x7f796f2e3790>\n",
      "<suds.sax.document.Document object at 0x7f796f0d1ac0>\n",
      "<suds.sax.document.Document object at 0x7f796f2f0490>\n",
      "<suds.sax.document.Document object at 0x7f796f103af0>\n"
     ]
    },
    {
     "name": "stdout",
     "output_type": "stream",
     "text": [
      "Snotel data fail, SNOTEL:251_ID_SNTL\n",
      "Snotel data fail, SNOTEL:255_MT_SNTL\n",
      "Snotel data fail, SNOTEL:256_MT_SNTL\n",
      "Snotel data fail, SNOTEL:252_MT_SNTL\n"
     ]
    },
    {
     "name": "stderr",
     "output_type": "stream",
     "text": [
      "<suds.sax.document.Document object at 0x7f796f200ac0>\n",
      "<suds.sax.document.Document object at 0x7f796f08ac70>\n",
      "<suds.sax.document.Document object at 0x7f796f0dccd0>\n",
      "<suds.sax.document.Document object at 0x7f796f08a280>\n"
     ]
    },
    {
     "name": "stdout",
     "output_type": "stream",
     "text": [
      "Snotel data fail, SNOTEL:259_OR_SNTL\n",
      "Snotel data fail, SNOTEL:257_NV_SNTL\n",
      "Snotel data fail, SNOTEL:262_WA_SNTL\n",
      "Snotel data fail, SNOTEL:250_CO_SNTL\n"
     ]
    },
    {
     "name": "stderr",
     "output_type": "stream",
     "text": [
      "<suds.sax.document.Document object at 0x7f796f0a6580>\n",
      "<suds.sax.document.Document object at 0x7f796f0d7dc0>\n",
      "<suds.sax.document.Document object at 0x7f796f081cd0>\n"
     ]
    },
    {
     "name": "stdout",
     "output_type": "stream",
     "text": [
      "Snotel data fail, SNOTEL:263_WA_SNTL\n",
      "Snotel data fail, SNOTEL:267_WY_SNTL\n",
      "Snotel data fail, SNOTEL:253_MT_SNTL\n"
     ]
    },
    {
     "name": "stderr",
     "output_type": "stream",
     "text": [
      "<suds.sax.document.Document object at 0x7f796f0d1c10>\n",
      "<suds.sax.document.Document object at 0x7f796f118040>\n",
      "<suds.sax.document.Document object at 0x7f796f081d00>\n"
     ]
    },
    {
     "name": "stdout",
     "output_type": "stream",
     "text": [
      "Snotel data fail, SNOTEL:258_NV_SNTL\n",
      "Snotel data fail, SNOTEL:264_WA_SNTL\n",
      "Snotel data fail, SNOTEL:266_WY_SNTL\n",
      "Snotel data fail, SNOTEL:268_WY_SNTL\n"
     ]
    },
    {
     "name": "stderr",
     "output_type": "stream",
     "text": [
      "<suds.sax.document.Document object at 0x7f796f082a90>\n",
      "<suds.sax.document.Document object at 0x7f796f1a2df0>\n",
      "<suds.sax.document.Document object at 0x7f796f09e850>\n",
      "<suds.sax.document.Document object at 0x7f796c8d0670>\n",
      "<suds.sax.document.Document object at 0x7f796f1030a0>\n"
     ]
    },
    {
     "name": "stdout",
     "output_type": "stream",
     "text": [
      "Snotel data fail, SNOTEL:261_UT_SNTL\n",
      "Snotel data fail, SNOTEL:269_WY_SNTL\n",
      "Snotel data fail, SNOTEL:372_AZ_SNTL\n",
      "Snotel data fail, SNOTEL:397_WY_SNTL\n"
     ]
    },
    {
     "name": "stderr",
     "output_type": "stream",
     "text": [
      "<suds.sax.document.Document object at 0x7f796f0021f0>\n"
     ]
    },
    {
     "name": "stdout",
     "output_type": "stream",
     "text": [
      "Snotel data fail, SNOTEL:421_WY_SNTL\n",
      "Snotel data fail, SNOTEL:441_UT_SNTL\n"
     ]
    },
    {
     "name": "stderr",
     "output_type": "stream",
     "text": [
      "<suds.sax.document.Document object at 0x7f796d28fc10>\n"
     ]
    },
    {
     "name": "stdout",
     "output_type": "stream",
     "text": [
      "Snotel data fail, SNOTEL:549_NV_SNTL\n"
     ]
    },
    {
     "name": "stderr",
     "output_type": "stream",
     "text": [
      "<suds.sax.document.Document object at 0x7f796d1eafa0>\n"
     ]
    },
    {
     "name": "stdout",
     "output_type": "stream",
     "text": [
      "Snotel data fail, SNOTEL:598_WY_SNTL\n"
     ]
    },
    {
     "name": "stderr",
     "output_type": "stream",
     "text": [
      "<suds.sax.document.Document object at 0x7f796d187a00>\n"
     ]
    },
    {
     "name": "stdout",
     "output_type": "stream",
     "text": [
      "Snotel data fail, SNOTEL:611_SD_SNTL\n"
     ]
    },
    {
     "name": "stderr",
     "output_type": "stream",
     "text": [
      "<suds.sax.document.Document object at 0x7f796f0587c0>\n"
     ]
    },
    {
     "name": "stdout",
     "output_type": "stream",
     "text": [
      "Snotel data fail, SNOTEL:630_WA_SNTL\n"
     ]
    },
    {
     "name": "stderr",
     "output_type": "stream",
     "text": [
      "<suds.sax.document.Document object at 0x7f796d225580>\n"
     ]
    },
    {
     "name": "stdout",
     "output_type": "stream",
     "text": [
      "Snotel data fail, SNOTEL:659_MT_SNTL\n"
     ]
    },
    {
     "name": "stderr",
     "output_type": "stream",
     "text": [
      "<suds.sax.document.Document object at 0x7f796d1bccd0>\n"
     ]
    },
    {
     "name": "stdout",
     "output_type": "stream",
     "text": [
      "Snotel data fail, SNOTEL:678_NM_SNTL\n"
     ]
    },
    {
     "name": "stderr",
     "output_type": "stream",
     "text": [
      "<suds.sax.document.Document object at 0x7f796d2b0820>\n"
     ]
    },
    {
     "name": "stdout",
     "output_type": "stream",
     "text": [
      "Snotel data fail, SNOTEL:685_CO_SNTL\n"
     ]
    },
    {
     "name": "stderr",
     "output_type": "stream",
     "text": [
      "<suds.sax.document.Document object at 0x7f796d11ef40>\n"
     ]
    },
    {
     "name": "stdout",
     "output_type": "stream",
     "text": [
      "Snotel data fail, SNOTEL:758_MT_SNTL\n"
     ]
    },
    {
     "name": "stderr",
     "output_type": "stream",
     "text": [
      "<suds.sax.document.Document object at 0x7f796c88dc10>\n",
      "<suds.sax.document.Document object at 0x7f796f2de250>\n",
      "<suds.sax.document.Document object at 0x7f796d135bb0>\n"
     ]
    },
    {
     "name": "stdout",
     "output_type": "stream",
     "text": [
      "Snotel data fail, SNOTEL:799_AZ_SNTL\n",
      "Snotel data fail, SNOTEL:8011_WY_SNTL\n",
      "Snotel data fail, SNOTEL:8082_UT_SNTL\n"
     ]
    },
    {
     "name": "stderr",
     "output_type": "stream",
     "text": [
      "<suds.sax.document.Document object at 0x7f796ffd0460>\n"
     ]
    },
    {
     "name": "stdout",
     "output_type": "stream",
     "text": [
      "Snotel data fail, SNOTEL:851_WY_SNTL\n"
     ]
    },
    {
     "name": "stderr",
     "output_type": "stream",
     "text": [
      "<suds.sax.document.Document object at 0x7f796f07f8e0>\n",
      "<suds.sax.document.Document object at 0x7f796ffa2190>\n",
      "<suds.sax.document.Document object at 0x7f796ff047f0>\n",
      "<suds.sax.document.Document object at 0x7f796d1bca90>\n",
      "<suds.sax.document.Document object at 0x7f796ff7dd30>\n"
     ]
    },
    {
     "name": "stdout",
     "output_type": "stream",
     "text": [
      "Snotel data fail, SNOTEL:976_OR_SNTL\n",
      "Snotel data fail, SNOTEL:991_WA_SNTL\n",
      "Snotel data fail, SNOTEL:996_WA_SNTL\n",
      "Snotel data fail, SNOTEL:995_WA_SNTL\n",
      "Snotel data fail, SNOTEL:994_WA_SNTL\n"
     ]
    },
    {
     "name": "stderr",
     "output_type": "stream",
     "text": [
      "  0%|          | 1/239 [00:31<2:06:41, 31.94s/it]"
     ]
    },
    {
     "name": "stdout",
     "output_type": "stream",
     "text": [
      "Updating SWE predictions for  2013-01-08\n",
      "Getting California Data Exchange Center SWE data from sites: \n",
      "CDEC data fail, https://cdec.water.ca.gov/dynamicapp/selectQuery?Stations=SSM&SensorNums=3&dur_code=D&Start=2013-01-07&End=2013-01-08\n",
      "Getting NRCS SNOTEL SWE data from sites: \n"
     ]
    },
    {
     "name": "stderr",
     "output_type": "stream",
     "text": [
      "<suds.sax.document.Document object at 0x7f796ffe3a00>\n",
      "<suds.sax.document.Document object at 0x7f796ff68280>\n",
      "<suds.sax.document.Document object at 0x7f796ff5ba00>\n"
     ]
    },
    {
     "name": "stdout",
     "output_type": "stream",
     "text": [
      "Snotel data fail, SNOTEL:1004_WA_SNTL\n",
      "Snotel data fail, SNOTEL:1007_OR_SNTL\n"
     ]
    },
    {
     "name": "stderr",
     "output_type": "stream",
     "text": [
      "<suds.sax.document.Document object at 0x7f796f3347c0>\n",
      "<suds.sax.document.Document object at 0x7f796ff596a0>\n"
     ]
    },
    {
     "name": "stdout",
     "output_type": "stream",
     "text": [
      "Snotel data fail, SNOTEL:1018_OR_SNTL\n",
      "Snotel data fail, SNOTEL:1021_OR_SNTL\n",
      "Snotel data fail, SNOTEL:1019_OR_SNTL\n"
     ]
    },
    {
     "name": "stderr",
     "output_type": "stream",
     "text": [
      "<suds.sax.document.Document object at 0x7f796f2f50d0>\n",
      "<suds.sax.document.Document object at 0x7f797c991760>\n",
      "<suds.sax.document.Document object at 0x7f796ff60f70>\n",
      "<suds.sax.document.Document object at 0x7f796ff6f940>\n",
      "<suds.sax.document.Document object at 0x7f796ffb9310>\n"
     ]
    },
    {
     "name": "stdout",
     "output_type": "stream",
     "text": [
      "Snotel data fail, SNOTEL:1024_OR_SNTL\n",
      "Snotel data fail, SNOTEL:1023_OR_SNTL\n",
      "Snotel data fail, SNOTEL:1020_OR_SNTL\n",
      "Snotel data fail, SNOTEL:1022_OR_SNTL\n"
     ]
    },
    {
     "name": "stderr",
     "output_type": "stream",
     "text": [
      "<suds.sax.document.Document object at 0x7f796ff5b0a0>\n"
     ]
    },
    {
     "name": "stdout",
     "output_type": "stream",
     "text": [
      "Snotel data fail, SNOTEL:1027_OR_SNTL\n"
     ]
    },
    {
     "name": "stderr",
     "output_type": "stream",
     "text": [
      "<suds.sax.document.Document object at 0x7f797ca28fd0>\n",
      "<suds.sax.document.Document object at 0x7f796ff7cf40>\n"
     ]
    },
    {
     "name": "stdout",
     "output_type": "stream",
     "text": [
      "Snotel data fail, SNOTEL:1025_OR_SNTL\n",
      "Snotel data fail, SNOTEL:1029_OR_SNTL\n"
     ]
    },
    {
     "name": "stderr",
     "output_type": "stream",
     "text": [
      "<suds.sax.document.Document object at 0x7f796ffd38b0>\n"
     ]
    },
    {
     "name": "stdout",
     "output_type": "stream",
     "text": [
      "Snotel data fail, SNOTEL:1028_OR_SNTL\n",
      "Snotel data fail, SNOTEL:1038_ID_SNTL\n"
     ]
    },
    {
     "name": "stderr",
     "output_type": "stream",
     "text": [
      "<suds.sax.document.Document object at 0x7f796ff23a60>\n",
      "<suds.sax.document.Document object at 0x7f796ff23610>\n"
     ]
    },
    {
     "name": "stdout",
     "output_type": "stream",
     "text": [
      "Snotel data fail, SNOTEL:1148_UT_SNTL\n",
      "Snotel data fail, SNOTEL:1157_WA_SNTL\n"
     ]
    },
    {
     "name": "stderr",
     "output_type": "stream",
     "text": [
      "<suds.sax.document.Document object at 0x7f796fee60a0>\n",
      "<suds.sax.document.Document object at 0x7f796fe1cd30>\n",
      "<suds.sax.document.Document object at 0x7f796fe05b20>\n",
      "<suds.sax.document.Document object at 0x7f796fe67550>\n",
      "<suds.sax.document.Document object at 0x7f796fe0c0a0>\n"
     ]
    },
    {
     "name": "stdout",
     "output_type": "stream",
     "text": [
      "Snotel data fail, SNOTEL:1202_NV_SNTL\n",
      "Snotel data fail, SNOTEL:1203_NV_SNTL\n",
      "Snotel data fail, SNOTEL:1187_CO_SNTL\n",
      "Snotel data fail, SNOTEL:1209_NV_SNTL\n"
     ]
    },
    {
     "name": "stderr",
     "output_type": "stream",
     "text": [
      "<suds.sax.document.Document object at 0x7f796fe0d5e0>\n",
      "<suds.sax.document.Document object at 0x7f796fe5e700>\n",
      "<suds.sax.document.Document object at 0x7f796fe41430>\n"
     ]
    },
    {
     "name": "stdout",
     "output_type": "stream",
     "text": [
      "Snotel data fail, SNOTEL:1205_NV_SNTL\n",
      "Snotel data fail, SNOTEL:1213_NV_SNTL\n",
      "Snotel data fail, SNOTEL:1206_NV_SNTL\n",
      "Snotel data fail, SNOTEL:1236_UT_SNTL\n"
     ]
    },
    {
     "name": "stderr",
     "output_type": "stream",
     "text": [
      "<suds.sax.document.Document object at 0x7f796fe29c70>\n",
      "<suds.sax.document.Document object at 0x7f796fe67880>\n",
      "<suds.sax.document.Document object at 0x7f796fe73640>\n",
      "<suds.sax.document.Document object at 0x7f797c9f7f70>\n",
      "<suds.sax.document.Document object at 0x7f796fe0cdc0>\n"
     ]
    },
    {
     "name": "stdout",
     "output_type": "stream",
     "text": [
      "Snotel data fail, SNOTEL:1243_NV_SNTL\n",
      "Snotel data fail, SNOTEL:1242_NV_SNTL\n",
      "Snotel data fail, SNOTEL:1248_UT_SNTL\n",
      "Snotel data fail, SNOTEL:1244_NV_SNTL\n"
     ]
    },
    {
     "name": "stderr",
     "output_type": "stream",
     "text": [
      "<suds.sax.document.Document object at 0x7f796fe4d1f0>\n",
      "<suds.sax.document.Document object at 0x7f796fe91f40>\n",
      "<suds.sax.document.Document object at 0x7f796fdd2700>\n",
      "<suds.sax.document.Document object at 0x7f796fdca580>\n",
      "<suds.sax.document.Document object at 0x7f796ff79c70>\n"
     ]
    },
    {
     "name": "stdout",
     "output_type": "stream",
     "text": [
      "Snotel data fail, SNOTEL:1249_UT_SNTL\n",
      "Snotel data fail, SNOTEL:1247_UT_SNTL\n",
      "Snotel data fail, SNOTEL:1251_CO_SNTL\n",
      "Snotel data fail, SNOTEL:1254_NM_SNTL\n",
      "Snotel data fail, SNOTEL:1256_WA_SNTL\n",
      "Snotel data fail, SNOTEL:1257_WA_SNTL\n"
     ]
    },
    {
     "name": "stderr",
     "output_type": "stream",
     "text": [
      "<suds.sax.document.Document object at 0x7f796ff7bb80>\n",
      "<suds.sax.document.Document object at 0x7f797ca108e0>\n",
      "<suds.sax.document.Document object at 0x7f796fe1c940>\n",
      "<suds.sax.document.Document object at 0x7f796ff23cd0>\n",
      "<suds.sax.document.Document object at 0x7f796fe3ebe0>\n",
      "<suds.sax.document.Document object at 0x7f796fdfe3a0>\n"
     ]
    },
    {
     "name": "stdout",
     "output_type": "stream",
     "text": [
      "Snotel data fail, SNOTEL:1259_WA_SNTL\n",
      "Snotel data fail, SNOTEL:1263_WA_SNTL\n",
      "Snotel data fail, SNOTEL:1261_UT_SNTL\n",
      "Snotel data fail, SNOTEL:1258_CA_SNTL\n",
      "Snotel data fail, SNOTEL:1252_CO_SNTL\n"
     ]
    },
    {
     "name": "stderr",
     "output_type": "stream",
     "text": [
      "<suds.sax.document.Document object at 0x7f796fee40d0>\n",
      "<suds.sax.document.Document object at 0x7f796fe1a0a0>\n"
     ]
    },
    {
     "name": "stdout",
     "output_type": "stream",
     "text": [
      "Snotel data fail, SNOTEL:1286_MT_SNTL\n",
      "Snotel data fail, SNOTEL:1277_CA_SNTL\n",
      "Snotel data fail, SNOTEL:1262_NV_SNTL\n"
     ]
    },
    {
     "name": "stderr",
     "output_type": "stream",
     "text": [
      "<suds.sax.document.Document object at 0x7f796fdf4fa0>\n",
      "<suds.sax.document.Document object at 0x7f796fec3bb0>\n",
      "<suds.sax.document.Document object at 0x7f796fefe220>\n",
      "<suds.sax.document.Document object at 0x7f796fdedd90>\n",
      "<suds.sax.document.Document object at 0x7f796fdfe0a0>\n",
      "<suds.sax.document.Document object at 0x7f796fd808e0>\n",
      "<suds.sax.document.Document object at 0x7f796fdcaa30>\n"
     ]
    },
    {
     "name": "stdout",
     "output_type": "stream",
     "text": [
      "Snotel data fail, SNOTEL:1280_UT_SNTL\n",
      "Snotel data fail, SNOTEL:1269_UT_SNTL\n",
      "Snotel data fail, SNOTEL:1272_NV_SNTL\n",
      "Snotel data fail, SNOTEL:1276_ID_SNTL\n",
      "Snotel data fail, SNOTEL:1278_UT_SNTL\n",
      "Snotel data fail, SNOTEL:1287_MT_SNTL\n"
     ]
    },
    {
     "name": "stderr",
     "output_type": "stream",
     "text": [
      "<suds.sax.document.Document object at 0x7f796fee6a30>\n",
      "<suds.sax.document.Document object at 0x7f796fd8f610>\n",
      "<suds.sax.document.Document object at 0x7f796ff9d1c0>\n"
     ]
    },
    {
     "name": "stdout",
     "output_type": "stream",
     "text": [
      "Snotel data fail, SNOTEL:246_CA_SNTL\n",
      "Snotel data fail, SNOTEL:1271_AZ_SNTL\n",
      "Snotel data fail, SNOTEL:248_CO_SNTL\n",
      "Snotel data fail, SNOTEL:247_CO_SNTL\n"
     ]
    },
    {
     "name": "stderr",
     "output_type": "stream",
     "text": [
      "<suds.sax.document.Document object at 0x7f796fdb3a00>\n",
      "<suds.sax.document.Document object at 0x7f796fe5e340>\n"
     ]
    },
    {
     "name": "stdout",
     "output_type": "stream",
     "text": [
      "Snotel data fail, SNOTEL:251_ID_SNTL\n",
      "Snotel data fail, SNOTEL:249_CO_SNTL\n"
     ]
    },
    {
     "name": "stderr",
     "output_type": "stream",
     "text": [
      "<suds.sax.document.Document object at 0x7f796fd8fa00>\n",
      "<suds.sax.document.Document object at 0x7f796fdf47c0>\n",
      "<suds.sax.document.Document object at 0x7f796fd40670>\n",
      "<suds.sax.document.Document object at 0x7f796fdb7850>\n"
     ]
    },
    {
     "name": "stdout",
     "output_type": "stream",
     "text": [
      "Snotel data fail, SNOTEL:252_MT_SNTL\n",
      "Snotel data fail, SNOTEL:255_MT_SNTL\n",
      "Snotel data fail, SNOTEL:257_NV_SNTL\n"
     ]
    },
    {
     "name": "stderr",
     "output_type": "stream",
     "text": [
      "<suds.sax.document.Document object at 0x7f796fee6220>\n",
      "<suds.sax.document.Document object at 0x7f796fdb3f40>\n",
      "<suds.sax.document.Document object at 0x7f796fd6a070>\n"
     ]
    },
    {
     "name": "stdout",
     "output_type": "stream",
     "text": [
      "Snotel data fail, SNOTEL:254_MT_SNTL\n",
      "Snotel data fail, SNOTEL:256_MT_SNTL\n",
      "Snotel data fail, SNOTEL:258_NV_SNTL\n"
     ]
    },
    {
     "name": "stderr",
     "output_type": "stream",
     "text": [
      "<suds.sax.document.Document object at 0x7f796ff59be0>\n",
      "<suds.sax.document.Document object at 0x7f796fda3ca0>\n"
     ]
    },
    {
     "name": "stdout",
     "output_type": "stream",
     "text": [
      "Snotel data fail, SNOTEL:261_UT_SNTL\n",
      "Snotel data fail, SNOTEL:250_CO_SNTL\n",
      "Snotel data fail, SNOTEL:253_MT_SNTL\n"
     ]
    },
    {
     "name": "stderr",
     "output_type": "stream",
     "text": [
      "<suds.sax.document.Document object at 0x7f796fd8f280>\n",
      "<suds.sax.document.Document object at 0x7f796fe0d880>\n",
      "<suds.sax.document.Document object at 0x7f796fdfee80>\n",
      "<suds.sax.document.Document object at 0x7f796fd7cc40>\n"
     ]
    },
    {
     "name": "stdout",
     "output_type": "stream",
     "text": [
      "Snotel data fail, SNOTEL:259_OR_SNTL\n",
      "Snotel data fail, SNOTEL:262_WA_SNTL\n",
      "Snotel data fail, SNOTEL:264_WA_SNTL\n"
     ]
    },
    {
     "name": "stderr",
     "output_type": "stream",
     "text": [
      "<suds.sax.document.Document object at 0x7f796fe0cca0>\n",
      "<suds.sax.document.Document object at 0x7f796fd08c40>\n"
     ]
    },
    {
     "name": "stdout",
     "output_type": "stream",
     "text": [
      "Snotel data fail, SNOTEL:266_WY_SNTL\n",
      "Snotel data fail, SNOTEL:268_WY_SNTL\n"
     ]
    },
    {
     "name": "stderr",
     "output_type": "stream",
     "text": [
      "<suds.sax.document.Document object at 0x7f796fd6a4f0>\n",
      "<suds.sax.document.Document object at 0x7f796fd911c0>\n",
      "<suds.sax.document.Document object at 0x7f796fd07430>\n"
     ]
    },
    {
     "name": "stdout",
     "output_type": "stream",
     "text": [
      "Snotel data fail, SNOTEL:269_WY_SNTL\n",
      "Snotel data fail, SNOTEL:267_WY_SNTL\n",
      "Snotel data fail, SNOTEL:263_WA_SNTL\n",
      "Snotel data fail, SNOTEL:372_AZ_SNTL\n"
     ]
    },
    {
     "name": "stderr",
     "output_type": "stream",
     "text": [
      "<suds.sax.document.Document object at 0x7f796fd30d90>\n",
      "<suds.sax.document.Document object at 0x7f796fe29e20>\n",
      "<suds.sax.document.Document object at 0x7f796fc39370>\n"
     ]
    },
    {
     "name": "stdout",
     "output_type": "stream",
     "text": [
      "Snotel data fail, SNOTEL:397_WY_SNTL\n",
      "Snotel data fail, SNOTEL:421_WY_SNTL\n",
      "Snotel data fail, SNOTEL:441_UT_SNTL\n"
     ]
    },
    {
     "name": "stderr",
     "output_type": "stream",
     "text": [
      "<suds.sax.document.Document object at 0x7f796fd30580>\n"
     ]
    },
    {
     "name": "stdout",
     "output_type": "stream",
     "text": [
      "Snotel data fail, SNOTEL:549_NV_SNTL\n"
     ]
    },
    {
     "name": "stderr",
     "output_type": "stream",
     "text": [
      "<suds.sax.document.Document object at 0x7f796fb584c0>\n"
     ]
    },
    {
     "name": "stdout",
     "output_type": "stream",
     "text": [
      "Snotel data fail, SNOTEL:598_WY_SNTL\n"
     ]
    },
    {
     "name": "stderr",
     "output_type": "stream",
     "text": [
      "<suds.sax.document.Document object at 0x7f796ff69250>\n",
      "<suds.sax.document.Document object at 0x7f796fb003a0>\n"
     ]
    },
    {
     "name": "stdout",
     "output_type": "stream",
     "text": [
      "Snotel data fail, SNOTEL:611_SD_SNTL\n",
      "Snotel data fail, SNOTEL:630_WA_SNTL\n"
     ]
    },
    {
     "name": "stderr",
     "output_type": "stream",
     "text": [
      "<suds.sax.document.Document object at 0x7f796fad3a90>\n"
     ]
    },
    {
     "name": "stdout",
     "output_type": "stream",
     "text": [
      "Snotel data fail, SNOTEL:659_MT_SNTL\n"
     ]
    },
    {
     "name": "stderr",
     "output_type": "stream",
     "text": [
      "<suds.sax.document.Document object at 0x7f796fd14370>\n"
     ]
    },
    {
     "name": "stdout",
     "output_type": "stream",
     "text": [
      "Snotel data fail, SNOTEL:678_NM_SNTL\n"
     ]
    },
    {
     "name": "stderr",
     "output_type": "stream",
     "text": [
      "<suds.sax.document.Document object at 0x7f796faeb3a0>\n"
     ]
    },
    {
     "name": "stdout",
     "output_type": "stream",
     "text": [
      "Snotel data fail, SNOTEL:685_CO_SNTL\n"
     ]
    },
    {
     "name": "stderr",
     "output_type": "stream",
     "text": [
      "<suds.sax.document.Document object at 0x7f796fa17df0>\n"
     ]
    },
    {
     "name": "stdout",
     "output_type": "stream",
     "text": [
      "Snotel data fail, SNOTEL:758_MT_SNTL\n"
     ]
    },
    {
     "name": "stderr",
     "output_type": "stream",
     "text": [
      "<suds.sax.document.Document object at 0x7f796fa38f40>\n",
      "<suds.sax.document.Document object at 0x7f796fa24ee0>\n"
     ]
    },
    {
     "name": "stdout",
     "output_type": "stream",
     "text": [
      "Snotel data fail, SNOTEL:799_AZ_SNTL\n",
      "Snotel data fail, SNOTEL:8011_WY_SNTL\n"
     ]
    },
    {
     "name": "stderr",
     "output_type": "stream",
     "text": [
      "<suds.sax.document.Document object at 0x7f796fb8b910>\n"
     ]
    },
    {
     "name": "stdout",
     "output_type": "stream",
     "text": [
      "Snotel data fail, SNOTEL:8082_UT_SNTL\n"
     ]
    },
    {
     "name": "stderr",
     "output_type": "stream",
     "text": [
      "<suds.sax.document.Document object at 0x7f796f99f7c0>\n"
     ]
    },
    {
     "name": "stdout",
     "output_type": "stream",
     "text": [
      "Snotel data fail, SNOTEL:851_WY_SNTL\n"
     ]
    },
    {
     "name": "stderr",
     "output_type": "stream",
     "text": [
      "<suds.sax.document.Document object at 0x7f796f909ee0>\n",
      "<suds.sax.document.Document object at 0x7f796fa3d5e0>\n",
      "<suds.sax.document.Document object at 0x7f796f94f610>\n",
      "<suds.sax.document.Document object at 0x7f796f9cff70>\n"
     ]
    },
    {
     "name": "stdout",
     "output_type": "stream",
     "text": [
      "Snotel data fail, SNOTEL:976_OR_SNTL\n",
      "Snotel data fail, SNOTEL:991_WA_SNTL\n",
      "Snotel data fail, SNOTEL:996_WA_SNTL\n",
      "Snotel data fail, SNOTEL:994_WA_SNTL\n"
     ]
    },
    {
     "name": "stderr",
     "output_type": "stream",
     "text": [
      "<suds.sax.document.Document object at 0x7f796fa69220>\n"
     ]
    },
    {
     "name": "stdout",
     "output_type": "stream",
     "text": [
      "Snotel data fail, SNOTEL:995_WA_SNTL\n"
     ]
    },
    {
     "name": "stderr",
     "output_type": "stream",
     "text": [
      "  1%|          | 2/239 [00:59<1:56:28, 29.49s/it]"
     ]
    },
    {
     "name": "stdout",
     "output_type": "stream",
     "text": [
      "Updating SWE predictions for  2013-01-15\n",
      "Getting California Data Exchange Center SWE data from sites: \n",
      "CDEC data fail, https://cdec.water.ca.gov/dynamicapp/selectQuery?Stations=SSM&SensorNums=3&dur_code=D&Start=2013-01-14&End=2013-01-15\n",
      "Getting NRCS SNOTEL SWE data from sites: \n"
     ]
    },
    {
     "name": "stderr",
     "output_type": "stream",
     "text": [
      "<suds.sax.document.Document object at 0x7f796f92e910>\n",
      "<suds.sax.document.Document object at 0x7f796ff528e0>\n",
      "<suds.sax.document.Document object at 0x7f796fe0d2b0>\n",
      "<suds.sax.document.Document object at 0x7f796ff4e190>\n"
     ]
    },
    {
     "name": "stdout",
     "output_type": "stream",
     "text": [
      "Snotel data fail, SNOTEL:1007_OR_SNTL\n",
      "Snotel data fail, SNOTEL:1004_WA_SNTL\n",
      "Snotel data fail, SNOTEL:1018_OR_SNTL\n"
     ]
    },
    {
     "name": "stderr",
     "output_type": "stream",
     "text": [
      "<suds.sax.document.Document object at 0x7f796d022880>\n",
      "<suds.sax.document.Document object at 0x7f796ff68100>\n",
      "<suds.sax.document.Document object at 0x7f796fded190>\n"
     ]
    },
    {
     "name": "stdout",
     "output_type": "stream",
     "text": [
      "Snotel data fail, SNOTEL:1021_OR_SNTL\n",
      "Snotel data fail, SNOTEL:1020_OR_SNTL\n",
      "Snotel data fail, SNOTEL:1022_OR_SNTL\n",
      "Snotel data fail, SNOTEL:1028_OR_SNTL\n"
     ]
    },
    {
     "name": "stderr",
     "output_type": "stream",
     "text": [
      "<suds.sax.document.Document object at 0x7f796f95acd0>\n",
      "<suds.sax.document.Document object at 0x7f796f93aca0>\n",
      "<suds.sax.document.Document object at 0x7f796f9cf0a0>\n",
      "<suds.sax.document.Document object at 0x7f796fdf4040>\n",
      "<suds.sax.document.Document object at 0x7f796f92e670>\n"
     ]
    },
    {
     "name": "stdout",
     "output_type": "stream",
     "text": [
      "Snotel data fail, SNOTEL:1024_OR_SNTL\n",
      "Snotel data fail, SNOTEL:1027_OR_SNTL\n",
      "Snotel data fail, SNOTEL:1023_OR_SNTL\n",
      "Snotel data fail, SNOTEL:1025_OR_SNTL\n",
      "Snotel data fail, SNOTEL:1019_OR_SNTL\n"
     ]
    },
    {
     "name": "stderr",
     "output_type": "stream",
     "text": [
      "<suds.sax.document.Document object at 0x7f796f944940>\n",
      "<suds.sax.document.Document object at 0x7f796f9ff670>\n"
     ]
    },
    {
     "name": "stdout",
     "output_type": "stream",
     "text": [
      "Snotel data fail, SNOTEL:1029_OR_SNTL\n",
      "Snotel data fail, SNOTEL:1038_ID_SNTL\n"
     ]
    },
    {
     "name": "stderr",
     "output_type": "stream",
     "text": [
      "<suds.sax.document.Document object at 0x7f796f861910>\n"
     ]
    },
    {
     "name": "stdout",
     "output_type": "stream",
     "text": [
      "Snotel data fail, SNOTEL:1148_UT_SNTL\n"
     ]
    },
    {
     "name": "stderr",
     "output_type": "stream",
     "text": [
      "<suds.sax.document.Document object at 0x7f796cfd2a00>\n",
      "<suds.sax.document.Document object at 0x7f796cf88a90>\n",
      "<suds.sax.document.Document object at 0x7f796f846490>\n"
     ]
    },
    {
     "name": "stdout",
     "output_type": "stream",
     "text": [
      "Snotel data fail, SNOTEL:1202_NV_SNTL\n",
      "Snotel data fail, SNOTEL:1205_NV_SNTL\n",
      "Snotel data fail, SNOTEL:1203_NV_SNTL\n"
     ]
    },
    {
     "name": "stderr",
     "output_type": "stream",
     "text": [
      "<suds.sax.document.Document object at 0x7f796cf96ac0>\n",
      "<suds.sax.document.Document object at 0x7f796ff69250>\n",
      "<suds.sax.document.Document object at 0x7f796f8a41c0>\n"
     ]
    },
    {
     "name": "stdout",
     "output_type": "stream",
     "text": [
      "Snotel data fail, SNOTEL:1206_NV_SNTL\n",
      "Snotel data fail, SNOTEL:1209_NV_SNTL\n",
      "Snotel data fail, SNOTEL:1213_NV_SNTL\n"
     ]
    },
    {
     "name": "stderr",
     "output_type": "stream",
     "text": [
      "<suds.sax.document.Document object at 0x7f796ea84100>\n",
      "<suds.sax.document.Document object at 0x7f796f83ec10>\n",
      "<suds.sax.document.Document object at 0x7f796cf88c70>\n",
      "<suds.sax.document.Document object at 0x7f796cfba880>\n",
      "<suds.sax.document.Document object at 0x7f796fd91520>\n"
     ]
    },
    {
     "name": "stdout",
     "output_type": "stream",
     "text": [
      "Snotel data fail, SNOTEL:1248_UT_SNTL\n",
      "Snotel data fail, SNOTEL:1236_UT_SNTL\n",
      "Snotel data fail, SNOTEL:1243_NV_SNTL\n",
      "Snotel data fail, SNOTEL:1249_UT_SNTL\n",
      "Snotel data fail, SNOTEL:1247_UT_SNTL\n"
     ]
    },
    {
     "name": "stderr",
     "output_type": "stream",
     "text": [
      "<suds.sax.document.Document object at 0x7f796cfab070>\n",
      "<suds.sax.document.Document object at 0x7f796cfb7340>\n",
      "<suds.sax.document.Document object at 0x7f796f892bb0>\n"
     ]
    },
    {
     "name": "stdout",
     "output_type": "stream",
     "text": [
      "Snotel data fail, SNOTEL:1242_NV_SNTL\n",
      "Snotel data fail, SNOTEL:1244_NV_SNTL\n"
     ]
    },
    {
     "name": "stderr",
     "output_type": "stream",
     "text": [
      "<suds.sax.document.Document object at 0x7f796f851d00>\n",
      "<suds.sax.document.Document object at 0x7f796cfacd30>\n",
      "<suds.sax.document.Document object at 0x7f796ea85f10>\n",
      "<suds.sax.document.Document object at 0x7f796fc1fcd0>\n"
     ]
    },
    {
     "name": "stdout",
     "output_type": "stream",
     "text": [
      "Snotel data fail, SNOTEL:1251_CO_SNTL\n",
      "Snotel data fail, SNOTEL:1254_NM_SNTL\n",
      "Snotel data fail, SNOTEL:1259_WA_SNTL\n",
      "Snotel data fail, SNOTEL:1252_CO_SNTL\n",
      "Snotel data fail, SNOTEL:1256_WA_SNTL\n"
     ]
    },
    {
     "name": "stderr",
     "output_type": "stream",
     "text": [
      "<suds.sax.document.Document object at 0x7f796f893340>\n",
      "<suds.sax.document.Document object at 0x7f796f93c3a0>\n",
      "<suds.sax.document.Document object at 0x7f796cf8b520>\n",
      "<suds.sax.document.Document object at 0x7f796f944a00>\n",
      "<suds.sax.document.Document object at 0x7f796f92e8e0>\n",
      "<suds.sax.document.Document object at 0x7f796f893280>\n"
     ]
    },
    {
     "name": "stdout",
     "output_type": "stream",
     "text": [
      "Snotel data fail, SNOTEL:1257_WA_SNTL\n",
      "Snotel data fail, SNOTEL:1258_CA_SNTL\n",
      "Snotel data fail, SNOTEL:1262_NV_SNTL\n",
      "Snotel data fail, SNOTEL:1269_UT_SNTL\n",
      "Snotel data fail, SNOTEL:1276_ID_SNTL\n"
     ]
    },
    {
     "name": "stderr",
     "output_type": "stream",
     "text": [
      "<suds.sax.document.Document object at 0x7f796ea85d30>\n",
      "<suds.sax.document.Document object at 0x7f796cfbfdc0>\n",
      "<suds.sax.document.Document object at 0x7f796cfbabb0>\n",
      "<suds.sax.document.Document object at 0x7f796f83eb20>\n",
      "<suds.sax.document.Document object at 0x7f796ea94880>\n"
     ]
    },
    {
     "name": "stdout",
     "output_type": "stream",
     "text": [
      "Snotel data fail, SNOTEL:1261_UT_SNTL\n",
      "Snotel data fail, SNOTEL:1277_CA_SNTL\n",
      "Snotel data fail, SNOTEL:1271_AZ_SNTL\n",
      "Snotel data fail, SNOTEL:1278_UT_SNTL\n",
      "Snotel data fail, SNOTEL:1287_MT_SNTL\n"
     ]
    },
    {
     "name": "stderr",
     "output_type": "stream",
     "text": [
      "<suds.sax.document.Document object at 0x7f796f82ed00>\n",
      "<suds.sax.document.Document object at 0x7f796cfabb50>\n",
      "<suds.sax.document.Document object at 0x7f796cf96e20>\n"
     ]
    },
    {
     "name": "stdout",
     "output_type": "stream",
     "text": [
      "Snotel data fail, SNOTEL:1272_NV_SNTL\n",
      "Snotel data fail, SNOTEL:1263_WA_SNTL\n",
      "Snotel data fail, SNOTEL:1286_MT_SNTL\n"
     ]
    },
    {
     "name": "stderr",
     "output_type": "stream",
     "text": [
      "<suds.sax.document.Document object at 0x7f796f830f70>\n",
      "<suds.sax.document.Document object at 0x7f796ea3f820>\n"
     ]
    },
    {
     "name": "stdout",
     "output_type": "stream",
     "text": [
      "Snotel data fail, SNOTEL:249_CO_SNTL\n",
      "Snotel data fail, SNOTEL:250_CO_SNTL\n"
     ]
    },
    {
     "name": "stderr",
     "output_type": "stream",
     "text": [
      "<suds.sax.document.Document object at 0x7f796ea8bac0>\n",
      "<suds.sax.document.Document object at 0x7f796ea4c6d0>\n",
      "<suds.sax.document.Document object at 0x7f796cfab340>\n"
     ]
    },
    {
     "name": "stdout",
     "output_type": "stream",
     "text": [
      "Snotel data fail, SNOTEL:247_CO_SNTL\n",
      "Snotel data fail, SNOTEL:246_CA_SNTL\n",
      "Snotel data fail, SNOTEL:251_ID_SNTL\n"
     ]
    },
    {
     "name": "stderr",
     "output_type": "stream",
     "text": [
      "<suds.sax.document.Document object at 0x7f796ea59d30>\n",
      "<suds.sax.document.Document object at 0x7f796f892d90>\n",
      "<suds.sax.document.Document object at 0x7f796ea570a0>\n"
     ]
    },
    {
     "name": "stdout",
     "output_type": "stream",
     "text": [
      "Snotel data fail, SNOTEL:255_MT_SNTL\n",
      "Snotel data fail, SNOTEL:257_NV_SNTL\n",
      "Snotel data fail, SNOTEL:248_CO_SNTL\n",
      "Snotel data fail, SNOTEL:254_MT_SNTL\n"
     ]
    },
    {
     "name": "stderr",
     "output_type": "stream",
     "text": [
      "<suds.sax.document.Document object at 0x7f796f937430>\n",
      "<suds.sax.document.Document object at 0x7f796cf88d00>\n",
      "<suds.sax.document.Document object at 0x7f796eaa4220>\n",
      "<suds.sax.document.Document object at 0x7f797c9fb0d0>\n",
      "<suds.sax.document.Document object at 0x7f796ea6c640>\n"
     ]
    },
    {
     "name": "stdout",
     "output_type": "stream",
     "text": [
      "Snotel data fail, SNOTEL:1280_UT_SNTL\n",
      "Snotel data fail, SNOTEL:253_MT_SNTL\n",
      "Snotel data fail, SNOTEL:256_MT_SNTL\n",
      "Snotel data fail, SNOTEL:252_MT_SNTL\n"
     ]
    },
    {
     "name": "stderr",
     "output_type": "stream",
     "text": [
      "<suds.sax.document.Document object at 0x7f796ea49d90>\n",
      "<suds.sax.document.Document object at 0x7f796ea41700>\n",
      "<suds.sax.document.Document object at 0x7f796eaa1700>\n",
      "<suds.sax.document.Document object at 0x7f796f851f70>\n",
      "<suds.sax.document.Document object at 0x7f796ea85790>\n"
     ]
    },
    {
     "name": "stdout",
     "output_type": "stream",
     "text": [
      "Snotel data fail, SNOTEL:258_NV_SNTL\n",
      "Snotel data fail, SNOTEL:259_OR_SNTL\n",
      "Snotel data fail, SNOTEL:262_WA_SNTL\n",
      "Snotel data fail, SNOTEL:266_WY_SNTL\n",
      "Snotel data fail, SNOTEL:261_UT_SNTL\n"
     ]
    },
    {
     "name": "stderr",
     "output_type": "stream",
     "text": [
      "<suds.sax.document.Document object at 0x7f797c9722b0>\n",
      "<suds.sax.document.Document object at 0x7f796f87afd0>\n",
      "<suds.sax.document.Document object at 0x7f796cfbffd0>\n"
     ]
    },
    {
     "name": "stdout",
     "output_type": "stream",
     "text": [
      "Snotel data fail, SNOTEL:264_WA_SNTL\n",
      "Snotel data fail, SNOTEL:267_WY_SNTL\n",
      "Snotel data fail, SNOTEL:1157_WA_SNTL\n"
     ]
    },
    {
     "name": "stderr",
     "output_type": "stream",
     "text": [
      "<suds.sax.document.Document object at 0x7f796fcf00d0>\n",
      "<suds.sax.document.Document object at 0x7f796cfbea90>\n"
     ]
    },
    {
     "name": "stdout",
     "output_type": "stream",
     "text": [
      "Snotel data fail, SNOTEL:268_WY_SNTL\n",
      "Snotel data fail, SNOTEL:269_WY_SNTL\n"
     ]
    },
    {
     "name": "stderr",
     "output_type": "stream",
     "text": [
      "<suds.sax.document.Document object at 0x7f796ea44bb0>\n",
      "<suds.sax.document.Document object at 0x7f796fa1e370>\n",
      "<suds.sax.document.Document object at 0x7f796cf88820>\n"
     ]
    },
    {
     "name": "stdout",
     "output_type": "stream",
     "text": [
      "Snotel data fail, SNOTEL:263_WA_SNTL\n",
      "Snotel data fail, SNOTEL:372_AZ_SNTL\n",
      "Snotel data fail, SNOTEL:397_WY_SNTL\n"
     ]
    },
    {
     "name": "stderr",
     "output_type": "stream",
     "text": [
      "<suds.sax.document.Document object at 0x7f796e08cc40>\n",
      "<suds.sax.document.Document object at 0x7f796f8923d0>\n"
     ]
    },
    {
     "name": "stdout",
     "output_type": "stream",
     "text": [
      "Snotel data fail, SNOTEL:1187_CO_SNTL\n",
      "Snotel data fail, SNOTEL:421_WY_SNTL\n",
      "Snotel data fail, SNOTEL:441_UT_SNTL\n"
     ]
    },
    {
     "name": "stderr",
     "output_type": "stream",
     "text": [
      "<suds.sax.document.Document object at 0x7f796e015400>\n"
     ]
    },
    {
     "name": "stdout",
     "output_type": "stream",
     "text": [
      "Snotel data fail, SNOTEL:549_NV_SNTL\n"
     ]
    },
    {
     "name": "stderr",
     "output_type": "stream",
     "text": [
      "<suds.sax.document.Document object at 0x7f796dfe53d0>\n"
     ]
    },
    {
     "name": "stdout",
     "output_type": "stream",
     "text": [
      "Snotel data fail, SNOTEL:598_WY_SNTL\n"
     ]
    },
    {
     "name": "stderr",
     "output_type": "stream",
     "text": [
      "<suds.sax.document.Document object at 0x7f796e14e670>\n"
     ]
    },
    {
     "name": "stdout",
     "output_type": "stream",
     "text": [
      "Snotel data fail, SNOTEL:611_SD_SNTL\n"
     ]
    },
    {
     "name": "stderr",
     "output_type": "stream",
     "text": [
      "<suds.sax.document.Document object at 0x7f796e0bbc40>\n"
     ]
    },
    {
     "name": "stdout",
     "output_type": "stream",
     "text": [
      "Snotel data fail, SNOTEL:630_WA_SNTL\n"
     ]
    },
    {
     "name": "stderr",
     "output_type": "stream",
     "text": [
      "<suds.sax.document.Document object at 0x7f796e077310>\n"
     ]
    },
    {
     "name": "stdout",
     "output_type": "stream",
     "text": [
      "Snotel data fail, SNOTEL:659_MT_SNTL\n"
     ]
    },
    {
     "name": "stderr",
     "output_type": "stream",
     "text": [
      "<suds.sax.document.Document object at 0x7f796e0bba30>\n",
      "<suds.sax.document.Document object at 0x7f796dfe8460>\n"
     ]
    },
    {
     "name": "stdout",
     "output_type": "stream",
     "text": [
      "Snotel data fail, SNOTEL:678_NM_SNTL\n",
      "Snotel data fail, SNOTEL:685_CO_SNTL\n"
     ]
    },
    {
     "name": "stderr",
     "output_type": "stream",
     "text": [
      "<suds.sax.document.Document object at 0x7f796ea1ff40>\n"
     ]
    },
    {
     "name": "stdout",
     "output_type": "stream",
     "text": [
      "Snotel data fail, SNOTEL:758_MT_SNTL\n"
     ]
    },
    {
     "name": "stderr",
     "output_type": "stream",
     "text": [
      "<suds.sax.document.Document object at 0x7f796e08e190>\n",
      "<suds.sax.document.Document object at 0x7f796e9c0fa0>\n"
     ]
    },
    {
     "name": "stdout",
     "output_type": "stream",
     "text": [
      "Snotel data fail, SNOTEL:8011_WY_SNTL\n",
      "Snotel data fail, SNOTEL:799_AZ_SNTL\n"
     ]
    },
    {
     "name": "stderr",
     "output_type": "stream",
     "text": [
      "<suds.sax.document.Document object at 0x7f796dfbdeb0>\n"
     ]
    },
    {
     "name": "stdout",
     "output_type": "stream",
     "text": [
      "Snotel data fail, SNOTEL:8082_UT_SNTL\n"
     ]
    },
    {
     "name": "stderr",
     "output_type": "stream",
     "text": [
      "<suds.sax.document.Document object at 0x7f796df5cbb0>\n"
     ]
    },
    {
     "name": "stdout",
     "output_type": "stream",
     "text": [
      "Snotel data fail, SNOTEL:851_WY_SNTL\n"
     ]
    },
    {
     "name": "stderr",
     "output_type": "stream",
     "text": [
      "<suds.sax.document.Document object at 0x7f796e8814c0>\n",
      "<suds.sax.document.Document object at 0x7f796e9a3e80>\n"
     ]
    },
    {
     "name": "stdout",
     "output_type": "stream",
     "text": [
      "Snotel data fail, SNOTEL:976_OR_SNTL\n",
      "Snotel data fail, SNOTEL:994_WA_SNTL\n"
     ]
    },
    {
     "name": "stderr",
     "output_type": "stream",
     "text": [
      "<suds.sax.document.Document object at 0x7f796e9edc10>\n",
      "<suds.sax.document.Document object at 0x7f796f9de9a0>\n",
      "<suds.sax.document.Document object at 0x7f796e9edbb0>\n"
     ]
    },
    {
     "name": "stdout",
     "output_type": "stream",
     "text": [
      "Snotel data fail, SNOTEL:996_WA_SNTL\n",
      "Snotel data fail, SNOTEL:995_WA_SNTL\n",
      "Snotel data fail, SNOTEL:991_WA_SNTL\n"
     ]
    },
    {
     "name": "stderr",
     "output_type": "stream",
     "text": [
      "  1%|▏         | 3/239 [01:28<1:54:41, 29.16s/it]"
     ]
    },
    {
     "name": "stdout",
     "output_type": "stream",
     "text": [
      "Updating SWE predictions for  2013-01-22\n",
      "Getting California Data Exchange Center SWE data from sites: \n",
      "CDEC data fail, https://cdec.water.ca.gov/dynamicapp/selectQuery?Stations=SSM&SensorNums=3&dur_code=D&Start=2013-01-21&End=2013-01-22\n",
      "Getting NRCS SNOTEL SWE data from sites: \n"
     ]
    },
    {
     "name": "stderr",
     "output_type": "stream",
     "text": [
      "<suds.sax.document.Document object at 0x7f796df91190>\n",
      "<suds.sax.document.Document object at 0x7f796f2e9970>\n",
      "<suds.sax.document.Document object at 0x7f796e0de1f0>\n"
     ]
    },
    {
     "name": "stdout",
     "output_type": "stream",
     "text": [
      "Snotel data fail, SNOTEL:1007_OR_SNTL\n",
      "Snotel data fail, SNOTEL:1004_WA_SNTL\n",
      "Snotel data fail, SNOTEL:1019_OR_SNTL\n"
     ]
    },
    {
     "name": "stderr",
     "output_type": "stream",
     "text": [
      "<suds.sax.document.Document object at 0x7f796fa38250>\n",
      "<suds.sax.document.Document object at 0x7f796df0b880>\n",
      "<suds.sax.document.Document object at 0x7f796f2d4f40>\n",
      "<suds.sax.document.Document object at 0x7f796e91e8e0>\n",
      "<suds.sax.document.Document object at 0x7f796e8c9e20>\n"
     ]
    },
    {
     "name": "stdout",
     "output_type": "stream",
     "text": [
      "Snotel data fail, SNOTEL:1018_OR_SNTL\n",
      "Snotel data fail, SNOTEL:1024_OR_SNTL\n",
      "Snotel data fail, SNOTEL:1021_OR_SNTL\n",
      "Snotel data fail, SNOTEL:1022_OR_SNTL\n"
     ]
    },
    {
     "name": "stderr",
     "output_type": "stream",
     "text": [
      "<suds.sax.document.Document object at 0x7f796e9723d0>\n",
      "<suds.sax.document.Document object at 0x7f796e88ac70>\n",
      "<suds.sax.document.Document object at 0x7f796e0bbb80>\n",
      "<suds.sax.document.Document object at 0x7f796f0dc490>\n"
     ]
    },
    {
     "name": "stdout",
     "output_type": "stream",
     "text": [
      "Snotel data fail, SNOTEL:1023_OR_SNTL\n",
      "Snotel data fail, SNOTEL:1020_OR_SNTL\n",
      "Snotel data fail, SNOTEL:1027_OR_SNTL\n",
      "Snotel data fail, SNOTEL:1028_OR_SNTL\n",
      "Snotel data fail, SNOTEL:1025_OR_SNTL\n"
     ]
    },
    {
     "name": "stderr",
     "output_type": "stream",
     "text": [
      "<suds.sax.document.Document object at 0x7f796e8d3220>\n",
      "<suds.sax.document.Document object at 0x7f796e9bbaf0>\n"
     ]
    },
    {
     "name": "stdout",
     "output_type": "stream",
     "text": [
      "Snotel data fail, SNOTEL:1038_ID_SNTL\n",
      "Snotel data fail, SNOTEL:1029_OR_SNTL\n"
     ]
    },
    {
     "name": "stderr",
     "output_type": "stream",
     "text": [
      "<suds.sax.document.Document object at 0x7f796d022880>\n",
      "<suds.sax.document.Document object at 0x7f796e7f7df0>\n"
     ]
    },
    {
     "name": "stdout",
     "output_type": "stream",
     "text": [
      "Snotel data fail, SNOTEL:1148_UT_SNTL\n",
      "Snotel data fail, SNOTEL:1157_WA_SNTL\n"
     ]
    },
    {
     "name": "stderr",
     "output_type": "stream",
     "text": [
      "<suds.sax.document.Document object at 0x7f796f2e5250>\n",
      "<suds.sax.document.Document object at 0x7f796e8d3250>\n",
      "<suds.sax.document.Document object at 0x7f796e7ac190>\n"
     ]
    },
    {
     "name": "stdout",
     "output_type": "stream",
     "text": [
      "Snotel data fail, SNOTEL:1187_CO_SNTL\n",
      "Snotel data fail, SNOTEL:1202_NV_SNTL\n"
     ]
    },
    {
     "name": "stderr",
     "output_type": "stream",
     "text": [
      "<suds.sax.document.Document object at 0x7f796e7e9430>\n",
      "<suds.sax.document.Document object at 0x7f796e7f7f40>\n"
     ]
    },
    {
     "name": "stdout",
     "output_type": "stream",
     "text": [
      "Snotel data fail, SNOTEL:1203_NV_SNTL\n",
      "Snotel data fail, SNOTEL:1205_NV_SNTL\n",
      "Snotel data fail, SNOTEL:1206_NV_SNTL\n"
     ]
    },
    {
     "name": "stderr",
     "output_type": "stream",
     "text": [
      "<suds.sax.document.Document object at 0x7f796e7ae6a0>\n",
      "<suds.sax.document.Document object at 0x7f796e82f250>\n",
      "<suds.sax.document.Document object at 0x7f796e74a970>\n",
      "<suds.sax.document.Document object at 0x7f796e87a520>\n",
      "<suds.sax.document.Document object at 0x7f796e842520>\n"
     ]
    },
    {
     "name": "stdout",
     "output_type": "stream",
     "text": [
      "Snotel data fail, SNOTEL:1213_NV_SNTL\n",
      "Snotel data fail, SNOTEL:1209_NV_SNTL\n",
      "Snotel data fail, SNOTEL:1243_NV_SNTL\n",
      "Snotel data fail, SNOTEL:1244_NV_SNTL\n"
     ]
    },
    {
     "name": "stderr",
     "output_type": "stream",
     "text": [
      "<suds.sax.document.Document object at 0x7f796e766700>\n",
      "<suds.sax.document.Document object at 0x7f796e7841f0>\n",
      "<suds.sax.document.Document object at 0x7f796e758670>\n",
      "<suds.sax.document.Document object at 0x7f796e8ebf40>\n",
      "<suds.sax.document.Document object at 0x7f796e7658b0>\n"
     ]
    },
    {
     "name": "stdout",
     "output_type": "stream",
     "text": [
      "Snotel data fail, SNOTEL:1236_UT_SNTL\n",
      "Snotel data fail, SNOTEL:1247_UT_SNTL\n",
      "Snotel data fail, SNOTEL:1242_NV_SNTL\n",
      "Snotel data fail, SNOTEL:1252_CO_SNTL\n",
      "Snotel data fail, SNOTEL:1249_UT_SNTL\n"
     ]
    },
    {
     "name": "stderr",
     "output_type": "stream",
     "text": [
      "<suds.sax.document.Document object at 0x7f796e8d3d60>\n",
      "<suds.sax.document.Document object at 0x7f796d0478e0>\n",
      "<suds.sax.document.Document object at 0x7f796e87b0d0>\n",
      "<suds.sax.document.Document object at 0x7f796e819460>\n",
      "<suds.sax.document.Document object at 0x7f796e765250>\n"
     ]
    },
    {
     "name": "stdout",
     "output_type": "stream",
     "text": [
      "Snotel data fail, SNOTEL:1248_UT_SNTL\n",
      "Snotel data fail, SNOTEL:1251_CO_SNTL\n",
      "Snotel data fail, SNOTEL:1259_WA_SNTL\n",
      "Snotel data fail, SNOTEL:1254_NM_SNTL\n",
      "Snotel data fail, SNOTEL:1257_WA_SNTL\n"
     ]
    },
    {
     "name": "stderr",
     "output_type": "stream",
     "text": [
      "<suds.sax.document.Document object at 0x7f796e8d51f0>\n",
      "<suds.sax.document.Document object at 0x7f796e74a610>\n",
      "<suds.sax.document.Document object at 0x7f796e703520>\n",
      "<suds.sax.document.Document object at 0x7f796e779bb0>\n"
     ]
    },
    {
     "name": "stdout",
     "output_type": "stream",
     "text": [
      "Snotel data fail, SNOTEL:1258_CA_SNTL\n",
      "Snotel data fail, SNOTEL:1261_UT_SNTL\n",
      "Snotel data fail, SNOTEL:1262_NV_SNTL\n",
      "Snotel data fail, SNOTEL:1271_AZ_SNTL\n"
     ]
    },
    {
     "name": "stderr",
     "output_type": "stream",
     "text": [
      "<suds.sax.document.Document object at 0x7f796e74a520>\n",
      "<suds.sax.document.Document object at 0x7f796e95d6a0>\n",
      "<suds.sax.document.Document object at 0x7f796e749130>\n"
     ]
    },
    {
     "name": "stdout",
     "output_type": "stream",
     "text": [
      "Snotel data fail, SNOTEL:1277_CA_SNTL\n",
      "Snotel data fail, SNOTEL:1272_NV_SNTL\n",
      "Snotel data fail, SNOTEL:1276_ID_SNTL\n"
     ]
    },
    {
     "name": "stderr",
     "output_type": "stream",
     "text": [
      "<suds.sax.document.Document object at 0x7f796e75d700>\n",
      "<suds.sax.document.Document object at 0x7f796e18f4c0>\n",
      "<suds.sax.document.Document object at 0x7f796fa1e130>\n",
      "<suds.sax.document.Document object at 0x7f796e9a2940>\n",
      "<suds.sax.document.Document object at 0x7f796e740970>\n",
      "<suds.sax.document.Document object at 0x7f796e6feac0>\n"
     ]
    },
    {
     "name": "stdout",
     "output_type": "stream",
     "text": [
      "Snotel data fail, SNOTEL:1278_UT_SNTL\n",
      "Snotel data fail, SNOTEL:1256_WA_SNTL\n",
      "Snotel data fail, SNOTEL:1263_WA_SNTL\n",
      "Snotel data fail, SNOTEL:1269_UT_SNTL\n",
      "Snotel data fail, SNOTEL:1280_UT_SNTL\n",
      "Snotel data fail, SNOTEL:1286_MT_SNTL\n"
     ]
    },
    {
     "name": "stderr",
     "output_type": "stream",
     "text": [
      "<suds.sax.document.Document object at 0x7f796e7795b0>\n",
      "<suds.sax.document.Document object at 0x7f796e8663d0>\n",
      "<suds.sax.document.Document object at 0x7f796e784130>\n"
     ]
    },
    {
     "name": "stdout",
     "output_type": "stream",
     "text": [
      "Snotel data fail, SNOTEL:1287_MT_SNTL\n",
      "Snotel data fail, SNOTEL:247_CO_SNTL\n",
      "Snotel data fail, SNOTEL:249_CO_SNTL\n",
      "Snotel data fail, SNOTEL:246_CA_SNTL\n"
     ]
    },
    {
     "name": "stderr",
     "output_type": "stream",
     "text": [
      "<suds.sax.document.Document object at 0x7f796e740820>\n",
      "<suds.sax.document.Document object at 0x7f796e80dbe0>\n",
      "<suds.sax.document.Document object at 0x7f796e881790>\n",
      "<suds.sax.document.Document object at 0x7f796e73b070>\n",
      "<suds.sax.document.Document object at 0x7f796f2e58e0>\n",
      "<suds.sax.document.Document object at 0x7f796e739880>\n"
     ]
    },
    {
     "name": "stdout",
     "output_type": "stream",
     "text": [
      "Snotel data fail, SNOTEL:252_MT_SNTL\n",
      "Snotel data fail, SNOTEL:248_CO_SNTL\n",
      "Snotel data fail, SNOTEL:250_CO_SNTL\n",
      "Snotel data fail, SNOTEL:253_MT_SNTL\n",
      "Snotel data fail, SNOTEL:251_ID_SNTL\n"
     ]
    },
    {
     "name": "stderr",
     "output_type": "stream",
     "text": [
      "<suds.sax.document.Document object at 0x7f796e7ebc10>\n",
      "<suds.sax.document.Document object at 0x7f796e73c820>\n",
      "<suds.sax.document.Document object at 0x7f796e6cf550>\n"
     ]
    },
    {
     "name": "stdout",
     "output_type": "stream",
     "text": [
      "Snotel data fail, SNOTEL:254_MT_SNTL\n",
      "Snotel data fail, SNOTEL:255_MT_SNTL\n",
      "Snotel data fail, SNOTEL:256_MT_SNTL\n"
     ]
    },
    {
     "name": "stderr",
     "output_type": "stream",
     "text": [
      "<suds.sax.document.Document object at 0x7f796e703d90>\n",
      "<suds.sax.document.Document object at 0x7f796e739790>\n"
     ]
    },
    {
     "name": "stdout",
     "output_type": "stream",
     "text": [
      "Snotel data fail, SNOTEL:258_NV_SNTL\n",
      "Snotel data fail, SNOTEL:263_WA_SNTL\n",
      "Snotel data fail, SNOTEL:264_WA_SNTL\n"
     ]
    },
    {
     "name": "stderr",
     "output_type": "stream",
     "text": [
      "<suds.sax.document.Document object at 0x7f796e73b340>\n",
      "<suds.sax.document.Document object at 0x7f796e703670>\n",
      "<suds.sax.document.Document object at 0x7f796e6cf1c0>\n",
      "<suds.sax.document.Document object at 0x7f796e7e2ca0>\n"
     ]
    },
    {
     "name": "stdout",
     "output_type": "stream",
     "text": [
      "Snotel data fail, SNOTEL:261_UT_SNTL\n",
      "Snotel data fail, SNOTEL:259_OR_SNTL\n",
      "Snotel data fail, SNOTEL:266_WY_SNTL\n"
     ]
    },
    {
     "name": "stderr",
     "output_type": "stream",
     "text": [
      "<suds.sax.document.Document object at 0x7f796e72b220>\n",
      "<suds.sax.document.Document object at 0x7f796e6d1d90>\n",
      "<suds.sax.document.Document object at 0x7f796e8bf610>\n",
      "<suds.sax.document.Document object at 0x7f796e6929d0>\n"
     ]
    },
    {
     "name": "stdout",
     "output_type": "stream",
     "text": [
      "Snotel data fail, SNOTEL:257_NV_SNTL\n",
      "Snotel data fail, SNOTEL:269_WY_SNTL\n",
      "Snotel data fail, SNOTEL:268_WY_SNTL\n",
      "Snotel data fail, SNOTEL:262_WA_SNTL\n"
     ]
    },
    {
     "name": "stderr",
     "output_type": "stream",
     "text": [
      "<suds.sax.document.Document object at 0x7f796e866820>\n",
      "<suds.sax.document.Document object at 0x7f796e63f340>\n",
      "<suds.sax.document.Document object at 0x7f796e57fca0>\n"
     ]
    },
    {
     "name": "stdout",
     "output_type": "stream",
     "text": [
      "Snotel data fail, SNOTEL:324_ID_SNTL\n",
      "Snotel data fail, SNOTEL:267_WY_SNTL\n",
      "Snotel data fail, SNOTEL:372_AZ_SNTL\n"
     ]
    },
    {
     "name": "stderr",
     "output_type": "stream",
     "text": [
      "<suds.sax.document.Document object at 0x7f796e74a520>\n",
      "<suds.sax.document.Document object at 0x7f796e54a670>\n"
     ]
    },
    {
     "name": "stdout",
     "output_type": "stream",
     "text": [
      "Snotel data fail, SNOTEL:397_WY_SNTL\n",
      "Snotel data fail, SNOTEL:421_WY_SNTL\n",
      "Snotel data fail, SNOTEL:441_UT_SNTL\n"
     ]
    },
    {
     "name": "stderr",
     "output_type": "stream",
     "text": [
      "<suds.sax.document.Document object at 0x7f796e7396a0>\n"
     ]
    },
    {
     "name": "stdout",
     "output_type": "stream",
     "text": [
      "Snotel data fail, SNOTEL:549_NV_SNTL\n"
     ]
    },
    {
     "name": "stderr",
     "output_type": "stream",
     "text": [
      "<suds.sax.document.Document object at 0x7f796e758640>\n"
     ]
    },
    {
     "name": "stdout",
     "output_type": "stream",
     "text": [
      "Snotel data fail, SNOTEL:598_WY_SNTL\n"
     ]
    },
    {
     "name": "stderr",
     "output_type": "stream",
     "text": [
      "<suds.sax.document.Document object at 0x7f796e6a6d60>\n",
      "<suds.sax.document.Document object at 0x7f796e6ce940>\n"
     ]
    },
    {
     "name": "stdout",
     "output_type": "stream",
     "text": [
      "Snotel data fail, SNOTEL:611_SD_SNTL\n",
      "Snotel data fail, SNOTEL:630_WA_SNTL\n"
     ]
    },
    {
     "name": "stderr",
     "output_type": "stream",
     "text": [
      "<suds.sax.document.Document object at 0x7f796e4ad970>\n"
     ]
    },
    {
     "name": "stdout",
     "output_type": "stream",
     "text": [
      "Snotel data fail, SNOTEL:659_MT_SNTL\n"
     ]
    },
    {
     "name": "stderr",
     "output_type": "stream",
     "text": [
      "<suds.sax.document.Document object at 0x7f796e4afd00>\n",
      "<suds.sax.document.Document object at 0x7f796e4020a0>\n"
     ]
    },
    {
     "name": "stdout",
     "output_type": "stream",
     "text": [
      "Snotel data fail, SNOTEL:678_NM_SNTL\n",
      "Snotel data fail, SNOTEL:685_CO_SNTL\n"
     ]
    },
    {
     "name": "stderr",
     "output_type": "stream",
     "text": [
      "<suds.sax.document.Document object at 0x7f796e487580>\n"
     ]
    },
    {
     "name": "stdout",
     "output_type": "stream",
     "text": [
      "Snotel data fail, SNOTEL:758_MT_SNTL\n"
     ]
    },
    {
     "name": "stderr",
     "output_type": "stream",
     "text": [
      "<suds.sax.document.Document object at 0x7f796e362700>\n",
      "<suds.sax.document.Document object at 0x7f796e377940>\n"
     ]
    },
    {
     "name": "stdout",
     "output_type": "stream",
     "text": [
      "Snotel data fail, SNOTEL:8011_WY_SNTL\n",
      "Snotel data fail, SNOTEL:799_AZ_SNTL\n"
     ]
    },
    {
     "name": "stderr",
     "output_type": "stream",
     "text": [
      "<suds.sax.document.Document object at 0x7f796e3fa880>\n"
     ]
    },
    {
     "name": "stdout",
     "output_type": "stream",
     "text": [
      "Snotel data fail, SNOTEL:851_WY_SNTL\n"
     ]
    },
    {
     "name": "stderr",
     "output_type": "stream",
     "text": [
      "<suds.sax.document.Document object at 0x7f796e3787f0>\n"
     ]
    },
    {
     "name": "stdout",
     "output_type": "stream",
     "text": [
      "Snotel data fail, SNOTEL:8082_UT_SNTL\n"
     ]
    },
    {
     "name": "stderr",
     "output_type": "stream",
     "text": [
      "<suds.sax.document.Document object at 0x7f796e302be0>\n",
      "<suds.sax.document.Document object at 0x7f796e398ca0>\n",
      "<suds.sax.document.Document object at 0x7f796e281400>\n",
      "<suds.sax.document.Document object at 0x7f796e2dd850>\n",
      "<suds.sax.document.Document object at 0x7f796e3a2070>\n"
     ]
    },
    {
     "name": "stdout",
     "output_type": "stream",
     "text": [
      "Snotel data fail, SNOTEL:991_WA_SNTL\n",
      "Snotel data fail, SNOTEL:976_OR_SNTL\n",
      "Snotel data fail, SNOTEL:994_WA_SNTL\n",
      "Snotel data fail, SNOTEL:996_WA_SNTL\n",
      "Snotel data fail, SNOTEL:995_WA_SNTL\n"
     ]
    },
    {
     "name": "stderr",
     "output_type": "stream",
     "text": [
      "  2%|▏         | 4/239 [01:59<1:57:36, 30.03s/it]"
     ]
    },
    {
     "name": "stdout",
     "output_type": "stream",
     "text": [
      "Updating SWE predictions for  2013-01-29\n",
      "Getting California Data Exchange Center SWE data from sites: \n",
      "CDEC data fail, https://cdec.water.ca.gov/dynamicapp/selectQuery?Stations=SSM&SensorNums=3&dur_code=D&Start=2013-01-28&End=2013-01-29\n",
      "Getting NRCS SNOTEL SWE data from sites: \n"
     ]
    },
    {
     "name": "stderr",
     "output_type": "stream",
     "text": [
      "<suds.sax.document.Document object at 0x7f796e4636d0>\n",
      "<suds.sax.document.Document object at 0x7f796f2bd580>\n",
      "<suds.sax.document.Document object at 0x7f796e31bd00>\n",
      "<suds.sax.document.Document object at 0x7f796e6601f0>\n",
      "<suds.sax.document.Document object at 0x7f796e016a30>\n"
     ]
    },
    {
     "name": "stdout",
     "output_type": "stream",
     "text": [
      "Snotel data fail, SNOTEL:1007_OR_SNTL\n",
      "Snotel data fail, SNOTEL:1004_WA_SNTL\n",
      "Snotel data fail, SNOTEL:1020_OR_SNTL\n",
      "Snotel data fail, SNOTEL:1022_OR_SNTL\n"
     ]
    },
    {
     "name": "stderr",
     "output_type": "stream",
     "text": [
      "<suds.sax.document.Document object at 0x7f796e27b7f0>\n",
      "<suds.sax.document.Document object at 0x7f796e6ce580>\n",
      "<suds.sax.document.Document object at 0x7f796e7e9520>\n",
      "<suds.sax.document.Document object at 0x7f796e43e250>\n"
     ]
    },
    {
     "name": "stdout",
     "output_type": "stream",
     "text": [
      "Snotel data fail, SNOTEL:1021_OR_SNTL\n",
      "Snotel data fail, SNOTEL:1024_OR_SNTL\n",
      "Snotel data fail, SNOTEL:1023_OR_SNTL\n",
      "Snotel data fail, SNOTEL:1025_OR_SNTL\n",
      "Snotel data fail, SNOTEL:1028_OR_SNTL\n"
     ]
    },
    {
     "name": "stderr",
     "output_type": "stream",
     "text": [
      "<suds.sax.document.Document object at 0x7f796e28c3a0>\n",
      "<suds.sax.document.Document object at 0x7f796e522790>\n",
      "<suds.sax.document.Document object at 0x7f796f29f970>\n"
     ]
    },
    {
     "name": "stdout",
     "output_type": "stream",
     "text": [
      "Snotel data fail, SNOTEL:1019_OR_SNTL\n",
      "Snotel data fail, SNOTEL:1027_OR_SNTL\n",
      "Snotel data fail, SNOTEL:1029_OR_SNTL\n"
     ]
    },
    {
     "name": "stderr",
     "output_type": "stream",
     "text": [
      "<suds.sax.document.Document object at 0x7f796e9a3f70>\n",
      "<suds.sax.document.Document object at 0x7f796e67c6a0>\n"
     ]
    },
    {
     "name": "stdout",
     "output_type": "stream",
     "text": [
      "Snotel data fail, SNOTEL:1018_OR_SNTL\n",
      "Snotel data fail, SNOTEL:1038_ID_SNTL\n"
     ]
    },
    {
     "name": "stderr",
     "output_type": "stream",
     "text": [
      "<suds.sax.document.Document object at 0x7f796d5d6790>\n",
      "<suds.sax.document.Document object at 0x7f796e6ce160>\n"
     ]
    },
    {
     "name": "stdout",
     "output_type": "stream",
     "text": [
      "Snotel data fail, SNOTEL:1148_UT_SNTL\n",
      "Snotel data fail, SNOTEL:1157_WA_SNTL\n"
     ]
    },
    {
     "name": "stderr",
     "output_type": "stream",
     "text": [
      "<suds.sax.document.Document object at 0x7f796e27cdc0>\n",
      "<suds.sax.document.Document object at 0x7f796e8571f0>\n"
     ]
    },
    {
     "name": "stdout",
     "output_type": "stream",
     "text": [
      "Snotel data fail, SNOTEL:1187_CO_SNTL\n"
     ]
    },
    {
     "name": "stderr",
     "output_type": "stream",
     "text": [
      "<suds.sax.document.Document object at 0x7f796d6b59d0>\n",
      "<suds.sax.document.Document object at 0x7f796d5b5160>\n",
      "<suds.sax.document.Document object at 0x7f796d5ac6d0>\n",
      "<suds.sax.document.Document object at 0x7f796d53c580>\n",
      "<suds.sax.document.Document object at 0x7f796d53c670>\n"
     ]
    },
    {
     "name": "stdout",
     "output_type": "stream",
     "text": [
      "Snotel data fail, SNOTEL:1203_NV_SNTL\n",
      "Snotel data fail, SNOTEL:1206_NV_SNTL\n",
      "Snotel data fail, SNOTEL:1205_NV_SNTL\n",
      "Snotel data fail, SNOTEL:1202_NV_SNTL\n",
      "Snotel data fail, SNOTEL:1209_NV_SNTL\n",
      "Snotel data fail, SNOTEL:1213_NV_SNTL\n"
     ]
    },
    {
     "name": "stderr",
     "output_type": "stream",
     "text": [
      "<suds.sax.document.Document object at 0x7f796d558d00>\n",
      "<suds.sax.document.Document object at 0x7f796d6066a0>\n",
      "<suds.sax.document.Document object at 0x7f796d66fc70>\n"
     ]
    },
    {
     "name": "stdout",
     "output_type": "stream",
     "text": [
      "Snotel data fail, SNOTEL:1236_UT_SNTL\n",
      "Snotel data fail, SNOTEL:1244_NV_SNTL\n",
      "Snotel data fail, SNOTEL:1242_NV_SNTL\n"
     ]
    },
    {
     "name": "stderr",
     "output_type": "stream",
     "text": [
      "<suds.sax.document.Document object at 0x7f796d6414c0>\n",
      "<suds.sax.document.Document object at 0x7f796d558400>\n",
      "<suds.sax.document.Document object at 0x7f796d542e20>\n",
      "<suds.sax.document.Document object at 0x7f796d57da90>\n",
      "<suds.sax.document.Document object at 0x7f796d57a430>\n"
     ]
    },
    {
     "name": "stdout",
     "output_type": "stream",
     "text": [
      "Snotel data fail, SNOTEL:1243_NV_SNTL\n",
      "Snotel data fail, SNOTEL:1247_UT_SNTL\n",
      "Snotel data fail, SNOTEL:1254_NM_SNTL\n",
      "Snotel data fail, SNOTEL:1249_UT_SNTL\n",
      "Snotel data fail, SNOTEL:1252_CO_SNTL\n"
     ]
    },
    {
     "name": "stderr",
     "output_type": "stream",
     "text": [
      "<suds.sax.document.Document object at 0x7f796d5dd730>\n",
      "<suds.sax.document.Document object at 0x7f796e28f9a0>\n",
      "<suds.sax.document.Document object at 0x7f796d53c610>\n",
      "<suds.sax.document.Document object at 0x7f796e832670>\n",
      "<suds.sax.document.Document object at 0x7f796e267190>\n"
     ]
    },
    {
     "name": "stdout",
     "output_type": "stream",
     "text": [
      "Snotel data fail, SNOTEL:1257_WA_SNTL\n",
      "Snotel data fail, SNOTEL:1251_CO_SNTL\n",
      "Snotel data fail, SNOTEL:1269_UT_SNTL\n",
      "Snotel data fail, SNOTEL:1258_CA_SNTL\n"
     ]
    },
    {
     "name": "stderr",
     "output_type": "stream",
     "text": [
      "<suds.sax.document.Document object at 0x7f796d5586a0>\n",
      "<suds.sax.document.Document object at 0x7f796d5af340>\n",
      "<suds.sax.document.Document object at 0x7f796d655430>\n"
     ]
    },
    {
     "name": "stdout",
     "output_type": "stream",
     "text": [
      "Snotel data fail, SNOTEL:1248_UT_SNTL\n",
      "Snotel data fail, SNOTEL:1259_WA_SNTL\n",
      "Snotel data fail, SNOTEL:1263_WA_SNTL\n",
      "Snotel data fail, SNOTEL:1256_WA_SNTL\n"
     ]
    },
    {
     "name": "stderr",
     "output_type": "stream",
     "text": [
      "<suds.sax.document.Document object at 0x7f796d5b5f10>\n",
      "<suds.sax.document.Document object at 0x7f796d6a96a0>\n",
      "<suds.sax.document.Document object at 0x7f796d5aca30>\n",
      "<suds.sax.document.Document object at 0x7f796d619220>\n",
      "<suds.sax.document.Document object at 0x7f796e27e040>\n"
     ]
    },
    {
     "name": "stdout",
     "output_type": "stream",
     "text": [
      "Snotel data fail, SNOTEL:1262_NV_SNTL\n",
      "Snotel data fail, SNOTEL:1272_NV_SNTL\n",
      "Snotel data fail, SNOTEL:1261_UT_SNTL\n",
      "Snotel data fail, SNOTEL:1271_AZ_SNTL\n",
      "Snotel data fail, SNOTEL:1287_MT_SNTL\n"
     ]
    },
    {
     "name": "stderr",
     "output_type": "stream",
     "text": [
      "<suds.sax.document.Document object at 0x7f796d57aeb0>\n",
      "<suds.sax.document.Document object at 0x7f796d5295e0>\n",
      "<suds.sax.document.Document object at 0x7f796f26e430>\n",
      "<suds.sax.document.Document object at 0x7f796e36fa60>\n",
      "<suds.sax.document.Document object at 0x7f796d5ca2b0>\n"
     ]
    },
    {
     "name": "stdout",
     "output_type": "stream",
     "text": [
      "Snotel data fail, SNOTEL:1280_UT_SNTL\n",
      "Snotel data fail, SNOTEL:1276_ID_SNTL\n",
      "Snotel data fail, SNOTEL:1286_MT_SNTL\n",
      "Snotel data fail, SNOTEL:248_CO_SNTL\n"
     ]
    },
    {
     "name": "stderr",
     "output_type": "stream",
     "text": [
      "<suds.sax.document.Document object at 0x7f796d516d30>\n",
      "<suds.sax.document.Document object at 0x7f796d5af7c0>\n"
     ]
    },
    {
     "name": "stdout",
     "output_type": "stream",
     "text": [
      "Snotel data fail, SNOTEL:1278_UT_SNTL\n",
      "Snotel data fail, SNOTEL:1277_CA_SNTL\n"
     ]
    },
    {
     "name": "stderr",
     "output_type": "stream",
     "text": [
      "<suds.sax.document.Document object at 0x7f796d5133a0>\n",
      "<suds.sax.document.Document object at 0x7f796d4d63d0>\n",
      "<suds.sax.document.Document object at 0x7f796d4d81c0>\n",
      "<suds.sax.document.Document object at 0x7f796d4dc700>\n"
     ]
    },
    {
     "name": "stdout",
     "output_type": "stream",
     "text": [
      "Snotel data fail, SNOTEL:247_CO_SNTL\n",
      "Snotel data fail, SNOTEL:246_CA_SNTL\n",
      "Snotel data fail, SNOTEL:250_CO_SNTL\n",
      "Snotel data fail, SNOTEL:249_CO_SNTL\n"
     ]
    },
    {
     "name": "stderr",
     "output_type": "stream",
     "text": [
      "<suds.sax.document.Document object at 0x7f796d5da400>\n",
      "<suds.sax.document.Document object at 0x7f796d6b86d0>\n",
      "<suds.sax.document.Document object at 0x7f796d5f3eb0>\n"
     ]
    },
    {
     "name": "stdout",
     "output_type": "stream",
     "text": [
      "Snotel data fail, SNOTEL:252_MT_SNTL\n",
      "Snotel data fail, SNOTEL:255_MT_SNTL\n",
      "Snotel data fail, SNOTEL:251_ID_SNTL\n",
      "Snotel data fail, SNOTEL:253_MT_SNTL\n"
     ]
    },
    {
     "name": "stderr",
     "output_type": "stream",
     "text": [
      "<suds.sax.document.Document object at 0x7f796d5ca400>\n",
      "<suds.sax.document.Document object at 0x7f796d4c7e80>\n",
      "<suds.sax.document.Document object at 0x7f796d47c460>\n",
      "<suds.sax.document.Document object at 0x7f796d4c7ac0>\n"
     ]
    },
    {
     "name": "stdout",
     "output_type": "stream",
     "text": [
      "Snotel data fail, SNOTEL:254_MT_SNTL\n",
      "Snotel data fail, SNOTEL:258_NV_SNTL\n",
      "Snotel data fail, SNOTEL:256_MT_SNTL\n"
     ]
    },
    {
     "name": "stderr",
     "output_type": "stream",
     "text": [
      "<suds.sax.document.Document object at 0x7f796d4e78e0>\n",
      "<suds.sax.document.Document object at 0x7f796e326730>\n"
     ]
    },
    {
     "name": "stdout",
     "output_type": "stream",
     "text": [
      "Snotel data fail, SNOTEL:257_NV_SNTL\n",
      "Snotel data fail, SNOTEL:266_WY_SNTL\n"
     ]
    },
    {
     "name": "stderr",
     "output_type": "stream",
     "text": [
      "<suds.sax.document.Document object at 0x7f796e7e9e50>\n",
      "<suds.sax.document.Document object at 0x7f796d47ef40>\n",
      "<suds.sax.document.Document object at 0x7f796d606760>\n"
     ]
    },
    {
     "name": "stdout",
     "output_type": "stream",
     "text": [
      "Snotel data fail, SNOTEL:261_UT_SNTL\n",
      "Snotel data fail, SNOTEL:262_WA_SNTL\n",
      "Snotel data fail, SNOTEL:259_OR_SNTL\n",
      "Snotel data fail, SNOTEL:263_WA_SNTL\n"
     ]
    },
    {
     "name": "stderr",
     "output_type": "stream",
     "text": [
      "<suds.sax.document.Document object at 0x7f796e82f0d0>\n",
      "<suds.sax.document.Document object at 0x7f796d492a90>\n",
      "<suds.sax.document.Document object at 0x7f796d47ea00>\n"
     ]
    },
    {
     "name": "stdout",
     "output_type": "stream",
     "text": [
      "Snotel data fail, SNOTEL:264_WA_SNTL\n",
      "Snotel data fail, SNOTEL:267_WY_SNTL\n"
     ]
    },
    {
     "name": "stderr",
     "output_type": "stream",
     "text": [
      "<suds.sax.document.Document object at 0x7f796d4d8d60>\n",
      "<suds.sax.document.Document object at 0x7f796d40c730>\n",
      "<suds.sax.document.Document object at 0x7f796d40c610>\n"
     ]
    },
    {
     "name": "stdout",
     "output_type": "stream",
     "text": [
      "Snotel data fail, SNOTEL:269_WY_SNTL\n",
      "Snotel data fail, SNOTEL:268_WY_SNTL\n",
      "Snotel data fail, SNOTEL:372_AZ_SNTL\n"
     ]
    },
    {
     "name": "stderr",
     "output_type": "stream",
     "text": [
      "<suds.sax.document.Document object at 0x7f796d473400>\n",
      "<suds.sax.document.Document object at 0x7f796d3da220>\n"
     ]
    },
    {
     "name": "stdout",
     "output_type": "stream",
     "text": [
      "Snotel data fail, SNOTEL:397_WY_SNTL\n",
      "Snotel data fail, SNOTEL:421_WY_SNTL\n",
      "Snotel data fail, SNOTEL:441_UT_SNTL\n"
     ]
    },
    {
     "name": "stderr",
     "output_type": "stream",
     "text": [
      "<suds.sax.document.Document object at 0x7f796d60c0a0>\n"
     ]
    },
    {
     "name": "stdout",
     "output_type": "stream",
     "text": [
      "Snotel data fail, SNOTEL:549_NV_SNTL\n"
     ]
    },
    {
     "name": "stderr",
     "output_type": "stream",
     "text": [
      "<suds.sax.document.Document object at 0x7f796cef2eb0>\n"
     ]
    },
    {
     "name": "stdout",
     "output_type": "stream",
     "text": [
      "Snotel data fail, SNOTEL:598_WY_SNTL\n"
     ]
    },
    {
     "name": "stderr",
     "output_type": "stream",
     "text": [
      "<suds.sax.document.Document object at 0x7f796cef3b50>\n",
      "<suds.sax.document.Document object at 0x7f796cee1580>\n"
     ]
    },
    {
     "name": "stdout",
     "output_type": "stream",
     "text": [
      "Snotel data fail, SNOTEL:611_SD_SNTL\n",
      "Snotel data fail, SNOTEL:630_WA_SNTL\n"
     ]
    },
    {
     "name": "stderr",
     "output_type": "stream",
     "text": [
      "<suds.sax.document.Document object at 0x7f796cd7b340>\n"
     ]
    },
    {
     "name": "stdout",
     "output_type": "stream",
     "text": [
      "Snotel data fail, SNOTEL:659_MT_SNTL\n"
     ]
    },
    {
     "name": "stderr",
     "output_type": "stream",
     "text": [
      "<suds.sax.document.Document object at 0x7f796cd78460>\n",
      "<suds.sax.document.Document object at 0x7f796cdbe580>\n"
     ]
    },
    {
     "name": "stdout",
     "output_type": "stream",
     "text": [
      "Snotel data fail, SNOTEL:685_CO_SNTL\n",
      "Snotel data fail, SNOTEL:678_NM_SNTL\n"
     ]
    },
    {
     "name": "stderr",
     "output_type": "stream",
     "text": [
      "<suds.sax.document.Document object at 0x7f796ccdfeb0>\n"
     ]
    },
    {
     "name": "stdout",
     "output_type": "stream",
     "text": [
      "Snotel data fail, SNOTEL:758_MT_SNTL\n"
     ]
    },
    {
     "name": "stderr",
     "output_type": "stream",
     "text": [
      "<suds.sax.document.Document object at 0x7f796cb2b0a0>\n",
      "<suds.sax.document.Document object at 0x7f796cba0400>\n",
      "<suds.sax.document.Document object at 0x7f796cbadc40>\n"
     ]
    },
    {
     "name": "stdout",
     "output_type": "stream",
     "text": [
      "Snotel data fail, SNOTEL:8011_WY_SNTL\n",
      "Snotel data fail, SNOTEL:799_AZ_SNTL\n",
      "Snotel data fail, SNOTEL:8082_UT_SNTL\n"
     ]
    },
    {
     "name": "stderr",
     "output_type": "stream",
     "text": [
      "<suds.sax.document.Document object at 0x7f796c86ce20>\n"
     ]
    },
    {
     "name": "stdout",
     "output_type": "stream",
     "text": [
      "Snotel data fail, SNOTEL:851_WY_SNTL\n"
     ]
    },
    {
     "name": "stderr",
     "output_type": "stream",
     "text": [
      "<suds.sax.document.Document object at 0x7f7948c2bd60>\n"
     ]
    },
    {
     "name": "stdout",
     "output_type": "stream",
     "text": [
      "Snotel data fail, SNOTEL:909_WA_SNTL\n"
     ]
    },
    {
     "name": "stderr",
     "output_type": "stream",
     "text": [
      "<suds.sax.document.Document object at 0x7f796ceabaf0>\n",
      "<suds.sax.document.Document object at 0x7f7948ba1550>\n",
      "<suds.sax.document.Document object at 0x7f796cecebb0>\n",
      "<suds.sax.document.Document object at 0x7f7948b5c2b0>\n",
      "<suds.sax.document.Document object at 0x7f796cef5ac0>\n"
     ]
    },
    {
     "name": "stdout",
     "output_type": "stream",
     "text": [
      "Snotel data fail, SNOTEL:976_OR_SNTL\n",
      "Snotel data fail, SNOTEL:991_WA_SNTL\n",
      "Snotel data fail, SNOTEL:994_WA_SNTL\n",
      "Snotel data fail, SNOTEL:995_WA_SNTL\n",
      "Snotel data fail, SNOTEL:996_WA_SNTL\n"
     ]
    },
    {
     "name": "stderr",
     "output_type": "stream",
     "text": [
      "  2%|▏         | 5/239 [02:39<2:10:02, 33.34s/it]"
     ]
    },
    {
     "name": "stdout",
     "output_type": "stream",
     "text": [
      "Updating SWE predictions for  2013-02-05\n",
      "Getting California Data Exchange Center SWE data from sites: \n",
      "CDEC data fail, https://cdec.water.ca.gov/dynamicapp/selectQuery?Stations=SSM&SensorNums=3&dur_code=D&Start=2013-02-04&End=2013-02-05\n",
      "Getting NRCS SNOTEL SWE data from sites: \n"
     ]
    },
    {
     "name": "stderr",
     "output_type": "stream",
     "text": [
      "<suds.sax.document.Document object at 0x7f796cedd8b0>\n",
      "<suds.sax.document.Document object at 0x7f796ffb0520>\n",
      "<suds.sax.document.Document object at 0x7f796c862c40>\n",
      "<suds.sax.document.Document object at 0x7f7948cd5310>\n",
      "<suds.sax.document.Document object at 0x7f796e2ec310>\n"
     ]
    },
    {
     "name": "stdout",
     "output_type": "stream",
     "text": [
      "Snotel data fail, SNOTEL:1007_OR_SNTL\n",
      "Snotel data fail, SNOTEL:1004_WA_SNTL\n",
      "Snotel data fail, SNOTEL:1018_OR_SNTL\n",
      "Snotel data fail, SNOTEL:1021_OR_SNTL\n"
     ]
    },
    {
     "name": "stderr",
     "output_type": "stream",
     "text": [
      "<suds.sax.document.Document object at 0x7f796cb2b9d0>\n",
      "<suds.sax.document.Document object at 0x7f796d0267c0>\n",
      "<suds.sax.document.Document object at 0x7f796c82dee0>\n",
      "<suds.sax.document.Document object at 0x7f7948cd57f0>\n",
      "<suds.sax.document.Document object at 0x7f796caf7eb0>\n",
      "<suds.sax.document.Document object at 0x7f7948c2e700>\n",
      "<suds.sax.document.Document object at 0x7f796d33ceb0>\n"
     ]
    },
    {
     "name": "stdout",
     "output_type": "stream",
     "text": [
      "Snotel data fail, SNOTEL:1020_OR_SNTL\n",
      "Snotel data fail, SNOTEL:1027_OR_SNTL\n",
      "Snotel data fail, SNOTEL:1019_OR_SNTL\n",
      "Snotel data fail, SNOTEL:1025_OR_SNTL\n",
      "Snotel data fail, SNOTEL:1022_OR_SNTL\n",
      "Snotel data fail, SNOTEL:1024_OR_SNTL\n",
      "Snotel data fail, SNOTEL:1028_OR_SNTL\n",
      "Snotel data fail, SNOTEL:1023_OR_SNTL\n"
     ]
    },
    {
     "name": "stderr",
     "output_type": "stream",
     "text": [
      "<suds.sax.document.Document object at 0x7f796cb58b80>\n",
      "<suds.sax.document.Document object at 0x7f796cad19a0>\n"
     ]
    },
    {
     "name": "stdout",
     "output_type": "stream",
     "text": [
      "Snotel data fail, SNOTEL:1038_ID_SNTL\n",
      "Snotel data fail, SNOTEL:1029_OR_SNTL\n"
     ]
    },
    {
     "name": "stderr",
     "output_type": "stream",
     "text": [
      "<suds.sax.document.Document object at 0x7f796cca7d00>\n",
      "<suds.sax.document.Document object at 0x7f796cb05220>\n"
     ]
    },
    {
     "name": "stdout",
     "output_type": "stream",
     "text": [
      "Snotel data fail, SNOTEL:1148_UT_SNTL\n",
      "Snotel data fail, SNOTEL:1157_WA_SNTL\n"
     ]
    },
    {
     "name": "stderr",
     "output_type": "stream",
     "text": [
      "<suds.sax.document.Document object at 0x7f796cd6de20>\n",
      "<suds.sax.document.Document object at 0x7f796cbf57f0>\n",
      "<suds.sax.document.Document object at 0x7f796cb73550>\n"
     ]
    },
    {
     "name": "stdout",
     "output_type": "stream",
     "text": [
      "Snotel data fail, SNOTEL:1187_CO_SNTL\n",
      "Snotel data fail, SNOTEL:1203_NV_SNTL\n",
      "Snotel data fail, SNOTEL:1202_NV_SNTL\n"
     ]
    },
    {
     "name": "stderr",
     "output_type": "stream",
     "text": [
      "<suds.sax.document.Document object at 0x7f796cb2eb80>\n",
      "<suds.sax.document.Document object at 0x7f796cd16580>\n",
      "<suds.sax.document.Document object at 0x7f796cac77c0>\n",
      "<suds.sax.document.Document object at 0x7f796cca7d30>\n"
     ]
    },
    {
     "name": "stdout",
     "output_type": "stream",
     "text": [
      "Snotel data fail, SNOTEL:1209_NV_SNTL\n",
      "Snotel data fail, SNOTEL:1206_NV_SNTL\n",
      "Snotel data fail, SNOTEL:1213_NV_SNTL\n",
      "Snotel data fail, SNOTEL:1205_NV_SNTL\n"
     ]
    },
    {
     "name": "stderr",
     "output_type": "stream",
     "text": [
      "<suds.sax.document.Document object at 0x7f796cd81a00>\n",
      "<suds.sax.document.Document object at 0x7f796c846460>\n",
      "<suds.sax.document.Document object at 0x7f796d62c550>\n",
      "<suds.sax.document.Document object at 0x7f796cad12b0>\n"
     ]
    },
    {
     "name": "stdout",
     "output_type": "stream",
     "text": [
      "Snotel data fail, SNOTEL:1236_UT_SNTL\n",
      "Snotel data fail, SNOTEL:1242_NV_SNTL\n",
      "Snotel data fail, SNOTEL:1243_NV_SNTL\n",
      "Snotel data fail, SNOTEL:1244_NV_SNTL\n"
     ]
    },
    {
     "name": "stderr",
     "output_type": "stream",
     "text": [
      "<suds.sax.document.Document object at 0x7f796ccd87c0>\n",
      "<suds.sax.document.Document object at 0x7f796c84a3a0>\n",
      "<suds.sax.document.Document object at 0x7f796ccf2f40>\n"
     ]
    },
    {
     "name": "stdout",
     "output_type": "stream",
     "text": [
      "Snotel data fail, SNOTEL:1248_UT_SNTL\n",
      "Snotel data fail, SNOTEL:1249_UT_SNTL\n",
      "Snotel data fail, SNOTEL:1247_UT_SNTL\n"
     ]
    },
    {
     "name": "stderr",
     "output_type": "stream",
     "text": [
      "<suds.sax.document.Document object at 0x7f796cd7ba00>\n",
      "<suds.sax.document.Document object at 0x7f796caec340>\n",
      "<suds.sax.document.Document object at 0x7f796cb2ec70>\n",
      "<suds.sax.document.Document object at 0x7f796c862280>\n",
      "<suds.sax.document.Document object at 0x7f7948b9f8b0>\n"
     ]
    },
    {
     "name": "stdout",
     "output_type": "stream",
     "text": [
      "Snotel data fail, SNOTEL:1258_CA_SNTL\n",
      "Snotel data fail, SNOTEL:1251_CO_SNTL\n",
      "Snotel data fail, SNOTEL:1256_WA_SNTL\n",
      "Snotel data fail, SNOTEL:1252_CO_SNTL\n"
     ]
    },
    {
     "name": "stderr",
     "output_type": "stream",
     "text": [
      "<suds.sax.document.Document object at 0x7f796cce49a0>\n",
      "<suds.sax.document.Document object at 0x7f796cd65250>\n",
      "<suds.sax.document.Document object at 0x7f796cb56970>\n",
      "<suds.sax.document.Document object at 0x7f796cd54a30>\n"
     ]
    },
    {
     "name": "stdout",
     "output_type": "stream",
     "text": [
      "Snotel data fail, SNOTEL:1262_NV_SNTL\n",
      "Snotel data fail, SNOTEL:1254_NM_SNTL\n",
      "Snotel data fail, SNOTEL:1259_WA_SNTL\n",
      "Snotel data fail, SNOTEL:1257_WA_SNTL\n",
      "Snotel data fail, SNOTEL:1261_UT_SNTL\n"
     ]
    },
    {
     "name": "stderr",
     "output_type": "stream",
     "text": [
      "<suds.sax.document.Document object at 0x7f796cbb94f0>\n",
      "<suds.sax.document.Document object at 0x7f7948b9ffd0>\n",
      "<suds.sax.document.Document object at 0x7f796ccdfd00>\n",
      "<suds.sax.document.Document object at 0x7f796cde1eb0>\n",
      "<suds.sax.document.Document object at 0x7f7948cf8220>\n",
      "<suds.sax.document.Document object at 0x7f796d3c0730>\n"
     ]
    },
    {
     "name": "stdout",
     "output_type": "stream",
     "text": [
      "Snotel data fail, SNOTEL:1263_WA_SNTL\n",
      "Snotel data fail, SNOTEL:1276_ID_SNTL\n",
      "Snotel data fail, SNOTEL:1271_AZ_SNTL\n",
      "Snotel data fail, SNOTEL:1277_CA_SNTL\n",
      "Snotel data fail, SNOTEL:1269_UT_SNTL\n",
      "Snotel data fail, SNOTEL:1278_UT_SNTL\n"
     ]
    },
    {
     "name": "stderr",
     "output_type": "stream",
     "text": [
      "<suds.sax.document.Document object at 0x7f796cae7a90>\n",
      "<suds.sax.document.Document object at 0x7f796cba0d00>\n",
      "<suds.sax.document.Document object at 0x7f796cdc8820>\n",
      "<suds.sax.document.Document object at 0x7f796d35a9a0>\n"
     ]
    },
    {
     "name": "stdout",
     "output_type": "stream",
     "text": [
      "Snotel data fail, SNOTEL:1272_NV_SNTL\n",
      "Snotel data fail, SNOTEL:247_CO_SNTL\n",
      "Snotel data fail, SNOTEL:1287_MT_SNTL\n",
      "Snotel data fail, SNOTEL:248_CO_SNTL\n"
     ]
    },
    {
     "name": "stderr",
     "output_type": "stream",
     "text": [
      "<suds.sax.document.Document object at 0x7f796cabf760>\n",
      "<suds.sax.document.Document object at 0x7f796cddfe20>\n",
      "<suds.sax.document.Document object at 0x7f796cd48790>\n",
      "<suds.sax.document.Document object at 0x7f796ce252e0>\n"
     ]
    },
    {
     "name": "stdout",
     "output_type": "stream",
     "text": [
      "Snotel data fail, SNOTEL:250_CO_SNTL\n",
      "Snotel data fail, SNOTEL:1286_MT_SNTL\n",
      "Snotel data fail, SNOTEL:246_CA_SNTL\n",
      "Snotel data fail, SNOTEL:249_CO_SNTL\n"
     ]
    },
    {
     "name": "stderr",
     "output_type": "stream",
     "text": [
      "<suds.sax.document.Document object at 0x7f796ceabb80>\n",
      "<suds.sax.document.Document object at 0x7f796cbf5820>\n",
      "<suds.sax.document.Document object at 0x7f796d330250>\n",
      "<suds.sax.document.Document object at 0x7f796ced96d0>\n"
     ]
    },
    {
     "name": "stdout",
     "output_type": "stream",
     "text": [
      "Snotel data fail, SNOTEL:252_MT_SNTL\n",
      "Snotel data fail, SNOTEL:256_MT_SNTL\n",
      "Snotel data fail, SNOTEL:254_MT_SNTL\n"
     ]
    },
    {
     "name": "stderr",
     "output_type": "stream",
     "text": [
      "<suds.sax.document.Document object at 0x7f796ce5d6a0>\n",
      "<suds.sax.document.Document object at 0x7f796d5acac0>\n",
      "<suds.sax.document.Document object at 0x7f796ce2fb20>\n",
      "<suds.sax.document.Document object at 0x7f796c82d400>\n"
     ]
    },
    {
     "name": "stdout",
     "output_type": "stream",
     "text": [
      "Snotel data fail, SNOTEL:251_ID_SNTL\n",
      "Snotel data fail, SNOTEL:261_UT_SNTL\n",
      "Snotel data fail, SNOTEL:259_OR_SNTL\n",
      "Snotel data fail, SNOTEL:258_NV_SNTL\n",
      "Snotel data fail, SNOTEL:253_MT_SNTL\n"
     ]
    },
    {
     "name": "stderr",
     "output_type": "stream",
     "text": [
      "<suds.sax.document.Document object at 0x7f796ceb7910>\n",
      "<suds.sax.document.Document object at 0x7f796c8239d0>\n",
      "<suds.sax.document.Document object at 0x7f7948b5c370>\n",
      "<suds.sax.document.Document object at 0x7f796d330280>\n"
     ]
    },
    {
     "name": "stdout",
     "output_type": "stream",
     "text": [
      "Snotel data fail, SNOTEL:255_MT_SNTL\n",
      "Snotel data fail, SNOTEL:1280_UT_SNTL\n",
      "Snotel data fail, SNOTEL:257_NV_SNTL\n"
     ]
    },
    {
     "name": "stderr",
     "output_type": "stream",
     "text": [
      "<suds.sax.document.Document object at 0x7f796d27a100>\n",
      "<suds.sax.document.Document object at 0x7f796cc96280>\n",
      "<suds.sax.document.Document object at 0x7f796cd44a90>\n",
      "<suds.sax.document.Document object at 0x7f796cd6d100>\n"
     ]
    },
    {
     "name": "stdout",
     "output_type": "stream",
     "text": [
      "Snotel data fail, SNOTEL:262_WA_SNTLSnotel data fail, SNOTEL:264_WA_SNTL\n",
      "\n",
      "Snotel data fail, SNOTEL:263_WA_SNTL\n",
      "Snotel data fail, SNOTEL:268_WY_SNTL\n"
     ]
    },
    {
     "name": "stderr",
     "output_type": "stream",
     "text": [
      "<suds.sax.document.Document object at 0x7f796cd1a160>\n",
      "<suds.sax.document.Document object at 0x7f796d49c1c0>\n",
      "<suds.sax.document.Document object at 0x7f796ceb7520>\n"
     ]
    },
    {
     "name": "stdout",
     "output_type": "stream",
     "text": [
      "Snotel data fail, SNOTEL:266_WY_SNTL\n",
      "Snotel data fail, SNOTEL:269_WY_SNTL\n",
      "Snotel data fail, SNOTEL:267_WY_SNTL\n",
      "Snotel data fail, SNOTEL:372_AZ_SNTL\n"
     ]
    },
    {
     "name": "stderr",
     "output_type": "stream",
     "text": [
      "<suds.sax.document.Document object at 0x7f796c86caf0>\n",
      "<suds.sax.document.Document object at 0x7f796d4bb070>\n",
      "<suds.sax.document.Document object at 0x7f796ce56610>\n"
     ]
    },
    {
     "name": "stdout",
     "output_type": "stream",
     "text": [
      "Snotel data fail, SNOTEL:397_WY_SNTL\n",
      "Snotel data fail, SNOTEL:421_WY_SNTL\n",
      "Snotel data fail, SNOTEL:441_UT_SNTL\n"
     ]
    },
    {
     "name": "stderr",
     "output_type": "stream",
     "text": [
      "<suds.sax.document.Document object at 0x7f796cb31bb0>\n"
     ]
    },
    {
     "name": "stdout",
     "output_type": "stream",
     "text": [
      "Snotel data fail, SNOTEL:549_NV_SNTL\n"
     ]
    },
    {
     "name": "stderr",
     "output_type": "stream",
     "text": [
      "<suds.sax.document.Document object at 0x7f796ce50130>\n"
     ]
    },
    {
     "name": "stdout",
     "output_type": "stream",
     "text": [
      "Snotel data fail, SNOTEL:598_WY_SNTL\n"
     ]
    },
    {
     "name": "stderr",
     "output_type": "stream",
     "text": [
      "<suds.sax.document.Document object at 0x7f794ad78d00>\n"
     ]
    },
    {
     "name": "stdout",
     "output_type": "stream",
     "text": [
      "Snotel data fail, SNOTEL:611_SD_SNTL\n"
     ]
    },
    {
     "name": "stderr",
     "output_type": "stream",
     "text": [
      "<suds.sax.document.Document object at 0x7f796cb054c0>\n"
     ]
    },
    {
     "name": "stdout",
     "output_type": "stream",
     "text": [
      "Snotel data fail, SNOTEL:630_WA_SNTL\n"
     ]
    },
    {
     "name": "stderr",
     "output_type": "stream",
     "text": [
      "<suds.sax.document.Document object at 0x7f794acf4820>\n"
     ]
    },
    {
     "name": "stdout",
     "output_type": "stream",
     "text": [
      "Snotel data fail, SNOTEL:659_MT_SNTL\n"
     ]
    },
    {
     "name": "stderr",
     "output_type": "stream",
     "text": [
      "<suds.sax.document.Document object at 0x7f7948c80970>\n",
      "<suds.sax.document.Document object at 0x7f794ace1400>\n"
     ]
    },
    {
     "name": "stdout",
     "output_type": "stream",
     "text": [
      "Snotel data fail, SNOTEL:678_NM_SNTL\n",
      "Snotel data fail, SNOTEL:685_CO_SNTL\n"
     ]
    },
    {
     "name": "stderr",
     "output_type": "stream",
     "text": [
      "<suds.sax.document.Document object at 0x7f794ac27670>\n"
     ]
    },
    {
     "name": "stdout",
     "output_type": "stream",
     "text": [
      "Snotel data fail, SNOTEL:758_MT_SNTL\n"
     ]
    },
    {
     "name": "stderr",
     "output_type": "stream",
     "text": [
      "<suds.sax.document.Document object at 0x7f7948ac87c0>\n",
      "<suds.sax.document.Document object at 0x7f794abcdd90>\n"
     ]
    },
    {
     "name": "stdout",
     "output_type": "stream",
     "text": [
      "Snotel data fail, SNOTEL:799_AZ_SNTL\n",
      "Snotel data fail, SNOTEL:8011_WY_SNTL\n"
     ]
    },
    {
     "name": "stderr",
     "output_type": "stream",
     "text": [
      "<suds.sax.document.Document object at 0x7f794ac28eb0>\n"
     ]
    },
    {
     "name": "stdout",
     "output_type": "stream",
     "text": [
      "Snotel data fail, SNOTEL:8082_UT_SNTL\n"
     ]
    },
    {
     "name": "stderr",
     "output_type": "stream",
     "text": [
      "<suds.sax.document.Document object at 0x7f794abcd220>\n"
     ]
    },
    {
     "name": "stdout",
     "output_type": "stream",
     "text": [
      "Snotel data fail, SNOTEL:851_WY_SNTL\n"
     ]
    },
    {
     "name": "stderr",
     "output_type": "stream",
     "text": [
      "<suds.sax.document.Document object at 0x7f794abad340>\n"
     ]
    },
    {
     "name": "stdout",
     "output_type": "stream",
     "text": [
      "Snotel data fail, SNOTEL:909_WA_SNTL\n"
     ]
    },
    {
     "name": "stderr",
     "output_type": "stream",
     "text": [
      "<suds.sax.document.Document object at 0x7f794ab54e20>\n",
      "<suds.sax.document.Document object at 0x7f794aadf310>\n",
      "<suds.sax.document.Document object at 0x7f794aacbfa0>\n"
     ]
    },
    {
     "name": "stdout",
     "output_type": "stream",
     "text": [
      "Snotel data fail, SNOTEL:976_OR_SNTL\n",
      "Snotel data fail, SNOTEL:994_WA_SNTL\n"
     ]
    },
    {
     "name": "stderr",
     "output_type": "stream",
     "text": [
      "<suds.sax.document.Document object at 0x7f794ac27610>\n",
      "<suds.sax.document.Document object at 0x7f796e27c850>\n"
     ]
    },
    {
     "name": "stdout",
     "output_type": "stream",
     "text": [
      "Snotel data fail, SNOTEL:991_WA_SNTL\n",
      "Snotel data fail, SNOTEL:996_WA_SNTL\n",
      "Snotel data fail, SNOTEL:995_WA_SNTL\n"
     ]
    },
    {
     "name": "stderr",
     "output_type": "stream",
     "text": [
      "  3%|▎         | 6/239 [03:10<2:07:09, 32.74s/it]"
     ]
    },
    {
     "name": "stdout",
     "output_type": "stream",
     "text": [
      "Updating SWE predictions for  2013-02-12\n",
      "Getting California Data Exchange Center SWE data from sites: \n",
      "CDEC data fail, https://cdec.water.ca.gov/dynamicapp/selectQuery?Stations=SSM&SensorNums=3&dur_code=D&Start=2013-02-11&End=2013-02-12\n",
      "Getting NRCS SNOTEL SWE data from sites: \n"
     ]
    },
    {
     "name": "stderr",
     "output_type": "stream",
     "text": [
      "<suds.sax.document.Document object at 0x7f796ffb09a0>\n",
      "<suds.sax.document.Document object at 0x7f796d1bfcd0>\n",
      "<suds.sax.document.Document object at 0x7f7948bb2c40>\n",
      "<suds.sax.document.Document object at 0x7f7948b61be0>\n"
     ]
    },
    {
     "name": "stdout",
     "output_type": "stream",
     "text": [
      "Snotel data fail, SNOTEL:1007_OR_SNTL\n",
      "Snotel data fail, SNOTEL:1004_WA_SNTL\n",
      "Snotel data fail, SNOTEL:1024_OR_SNTL\n",
      "Snotel data fail, SNOTEL:1025_OR_SNTL\n"
     ]
    },
    {
     "name": "stderr",
     "output_type": "stream",
     "text": [
      "<suds.sax.document.Document object at 0x7f794ab418b0>\n",
      "<suds.sax.document.Document object at 0x7f794ac19ee0>\n",
      "<suds.sax.document.Document object at 0x7f794aadf850>\n",
      "<suds.sax.document.Document object at 0x7f794aac02e0>\n",
      "<suds.sax.document.Document object at 0x7f796ffb0a30>\n"
     ]
    },
    {
     "name": "stdout",
     "output_type": "stream",
     "text": [
      "Snotel data fail, SNOTEL:1023_OR_SNTL\n",
      "Snotel data fail, SNOTEL:1027_OR_SNTL\n",
      "Snotel data fail, SNOTEL:1022_OR_SNTL\n",
      "Snotel data fail, SNOTEL:1028_OR_SNTL\n"
     ]
    },
    {
     "name": "stderr",
     "output_type": "stream",
     "text": [
      "<suds.sax.document.Document object at 0x7f794ad70e20>\n",
      "<suds.sax.document.Document object at 0x7f794abf7a60>\n",
      "<suds.sax.document.Document object at 0x7f7948c72fa0>\n"
     ]
    },
    {
     "name": "stdout",
     "output_type": "stream",
     "text": [
      "Snotel data fail, SNOTEL:1019_OR_SNTL\n",
      "Snotel data fail, SNOTEL:1018_OR_SNTL\n",
      "Snotel data fail, SNOTEL:1029_OR_SNTL\n"
     ]
    },
    {
     "name": "stderr",
     "output_type": "stream",
     "text": [
      "<suds.sax.document.Document object at 0x7f794ab87790>\n",
      "<suds.sax.document.Document object at 0x7f796d025160>\n"
     ]
    },
    {
     "name": "stdout",
     "output_type": "stream",
     "text": [
      "Snotel data fail, SNOTEL:1020_OR_SNTL\n",
      "Snotel data fail, SNOTEL:1038_ID_SNTL\n",
      "Snotel data fail, SNOTEL:1021_OR_SNTL\n"
     ]
    },
    {
     "name": "stderr",
     "output_type": "stream",
     "text": [
      "<suds.sax.document.Document object at 0x7f796d025ee0>\n",
      "<suds.sax.document.Document object at 0x7f794ac28b80>\n"
     ]
    },
    {
     "name": "stdout",
     "output_type": "stream",
     "text": [
      "Snotel data fail, SNOTEL:1148_UT_SNTL\n",
      "Snotel data fail, SNOTEL:1157_WA_SNTL\n"
     ]
    },
    {
     "name": "stderr",
     "output_type": "stream",
     "text": [
      "<suds.sax.document.Document object at 0x7f796d1bf550>\n",
      "<suds.sax.document.Document object at 0x7f79491c0160>\n",
      "<suds.sax.document.Document object at 0x7f7948ac7160>\n"
     ]
    },
    {
     "name": "stdout",
     "output_type": "stream",
     "text": [
      "Snotel data fail, SNOTEL:1203_NV_SNTL\n",
      "Snotel data fail, SNOTEL:1187_CO_SNTL\n"
     ]
    },
    {
     "name": "stderr",
     "output_type": "stream",
     "text": [
      "<suds.sax.document.Document object at 0x7f79491c34f0>\n",
      "<suds.sax.document.Document object at 0x7f79491e2d00>\n",
      "<suds.sax.document.Document object at 0x7f794ab123d0>\n",
      "<suds.sax.document.Document object at 0x7f794aabb100>\n"
     ]
    },
    {
     "name": "stdout",
     "output_type": "stream",
     "text": [
      "Snotel data fail, SNOTEL:1209_NV_SNTL\n",
      "Snotel data fail, SNOTEL:1202_NV_SNTL\n",
      "Snotel data fail, SNOTEL:1206_NV_SNTL\n",
      "Snotel data fail, SNOTEL:1205_NV_SNTL\n",
      "Snotel data fail, SNOTEL:1213_NV_SNTL\n"
     ]
    },
    {
     "name": "stderr",
     "output_type": "stream",
     "text": [
      "<suds.sax.document.Document object at 0x7f794a263130>\n",
      "<suds.sax.document.Document object at 0x7f794a260550>\n",
      "<suds.sax.document.Document object at 0x7f794acbf370>\n",
      "<suds.sax.document.Document object at 0x7f794a2635e0>\n"
     ]
    },
    {
     "name": "stdout",
     "output_type": "stream",
     "text": [
      "Snotel data fail, SNOTEL:1242_NV_SNTL\n",
      "Snotel data fail, SNOTEL:1243_NV_SNTL\n",
      "Snotel data fail, SNOTEL:1236_UT_SNTL\n"
     ]
    },
    {
     "name": "stderr",
     "output_type": "stream",
     "text": [
      "<suds.sax.document.Document object at 0x7f794a247e20>\n",
      "<suds.sax.document.Document object at 0x7f794ab87820>\n",
      "<suds.sax.document.Document object at 0x7f794ada2610>\n",
      "<suds.sax.document.Document object at 0x7f794abf7760>\n",
      "<suds.sax.document.Document object at 0x7f794aabb3a0>\n"
     ]
    },
    {
     "name": "stdout",
     "output_type": "stream",
     "text": [
      "Snotel data fail, SNOTEL:1247_UT_SNTL\n",
      "Snotel data fail, SNOTEL:1244_NV_SNTL\n",
      "Snotel data fail, SNOTEL:1248_UT_SNTL\n",
      "Snotel data fail, SNOTEL:1249_UT_SNTL\n",
      "Snotel data fail, SNOTEL:1252_CO_SNTL\n"
     ]
    },
    {
     "name": "stderr",
     "output_type": "stream",
     "text": [
      "<suds.sax.document.Document object at 0x7f794a247dc0>\n",
      "<suds.sax.document.Document object at 0x7f794abcd670>\n",
      "<suds.sax.document.Document object at 0x7f794aab3760>\n",
      "<suds.sax.document.Document object at 0x7f794ad70610>\n",
      "<suds.sax.document.Document object at 0x7f7949254520>\n"
     ]
    },
    {
     "name": "stdout",
     "output_type": "stream",
     "text": [
      "Snotel data fail, SNOTEL:1256_WA_SNTL\n",
      "Snotel data fail, SNOTEL:1257_WA_SNTL\n",
      "Snotel data fail, SNOTEL:1251_CO_SNTL\n",
      "Snotel data fail, SNOTEL:1259_WA_SNTL\n",
      "Snotel data fail, SNOTEL:1254_NM_SNTL\n"
     ]
    },
    {
     "name": "stderr",
     "output_type": "stream",
     "text": [
      "<suds.sax.document.Document object at 0x7f79491e2b20>\n",
      "<suds.sax.document.Document object at 0x7f794a241a30>\n",
      "<suds.sax.document.Document object at 0x7f794921a520>\n"
     ]
    },
    {
     "name": "stdout",
     "output_type": "stream",
     "text": [
      "Snotel data fail, SNOTEL:1258_CA_SNTL\n",
      "Snotel data fail, SNOTEL:1263_WA_SNTL\n",
      "Snotel data fail, SNOTEL:1261_UT_SNTL\n"
     ]
    },
    {
     "name": "stderr",
     "output_type": "stream",
     "text": [
      "<suds.sax.document.Document object at 0x7f7949245af0>\n",
      "<suds.sax.document.Document object at 0x7f794aab3070>\n",
      "<suds.sax.document.Document object at 0x7f79491f0190>\n",
      "<suds.sax.document.Document object at 0x7f796cc696d0>\n",
      "<suds.sax.document.Document object at 0x7f794a20b550>\n"
     ]
    },
    {
     "name": "stdout",
     "output_type": "stream",
     "text": [
      "Snotel data fail, SNOTEL:1262_NV_SNTL\n",
      "Snotel data fail, SNOTEL:1269_UT_SNTL\n",
      "Snotel data fail, SNOTEL:1276_ID_SNTL\n",
      "Snotel data fail, SNOTEL:1272_NV_SNTL\n",
      "Snotel data fail, SNOTEL:1278_UT_SNTL\n"
     ]
    },
    {
     "name": "stderr",
     "output_type": "stream",
     "text": [
      "<suds.sax.document.Document object at 0x7f794ac19730>\n",
      "<suds.sax.document.Document object at 0x7f794a251c70>\n"
     ]
    },
    {
     "name": "stdout",
     "output_type": "stream",
     "text": [
      "Snotel data fail, SNOTEL:1286_MT_SNTL\n",
      "Snotel data fail, SNOTEL:1271_AZ_SNTL\n"
     ]
    },
    {
     "name": "stderr",
     "output_type": "stream",
     "text": [
      "<suds.sax.document.Document object at 0x7f794a20b9d0>\n",
      "<suds.sax.document.Document object at 0x7f79491bffd0>\n",
      "<suds.sax.document.Document object at 0x7f794a217490>\n",
      "<suds.sax.document.Document object at 0x7f79491e2160>\n"
     ]
    },
    {
     "name": "stdout",
     "output_type": "stream",
     "text": [
      "Snotel data fail, SNOTEL:1277_CA_SNTL\n",
      "Snotel data fail, SNOTEL:248_CO_SNTL\n",
      "Snotel data fail, SNOTEL:1287_MT_SNTL\n",
      "Snotel data fail, SNOTEL:1280_UT_SNTL\n"
     ]
    },
    {
     "name": "stderr",
     "output_type": "stream",
     "text": [
      "<suds.sax.document.Document object at 0x7f794a2632e0>\n",
      "<suds.sax.document.Document object at 0x7f79491bfc10>\n"
     ]
    },
    {
     "name": "stdout",
     "output_type": "stream",
     "text": [
      "Snotel data fail, SNOTEL:246_CA_SNTL\n",
      "Snotel data fail, SNOTEL:252_MT_SNTL\n"
     ]
    },
    {
     "name": "stderr",
     "output_type": "stream",
     "text": [
      "<suds.sax.document.Document object at 0x7f794a217a60>\n",
      "<suds.sax.document.Document object at 0x7f796d025430>\n"
     ]
    },
    {
     "name": "stdout",
     "output_type": "stream",
     "text": [
      "Snotel data fail, SNOTEL:249_CO_SNTL\n",
      "Snotel data fail, SNOTEL:250_CO_SNTL\n"
     ]
    },
    {
     "name": "stderr",
     "output_type": "stream",
     "text": [
      "<suds.sax.document.Document object at 0x7f794a247970>\n",
      "<suds.sax.document.Document object at 0x7f794a2190a0>\n"
     ]
    },
    {
     "name": "stdout",
     "output_type": "stream",
     "text": [
      "Snotel data fail, SNOTEL:247_CO_SNTL\n",
      "Snotel data fail, SNOTEL:256_MT_SNTL\n",
      "Snotel data fail, SNOTEL:253_MT_SNTL\n"
     ]
    },
    {
     "name": "stderr",
     "output_type": "stream",
     "text": [
      "<suds.sax.document.Document object at 0x7f794a22bcd0>\n",
      "<suds.sax.document.Document object at 0x7f79491ecc70>\n",
      "<suds.sax.document.Document object at 0x7f7948ac8160>\n",
      "<suds.sax.document.Document object at 0x7f794aabb1c0>\n",
      "<suds.sax.document.Document object at 0x7f796d025a60>\n"
     ]
    },
    {
     "name": "stdout",
     "output_type": "stream",
     "text": [
      "Snotel data fail, SNOTEL:254_MT_SNTL\n",
      "Snotel data fail, SNOTEL:251_ID_SNTL\n",
      "Snotel data fail, SNOTEL:257_NV_SNTL\n",
      "Snotel data fail, SNOTEL:255_MT_SNTL\n"
     ]
    },
    {
     "name": "stderr",
     "output_type": "stream",
     "text": [
      "<suds.sax.document.Document object at 0x7f796cc1fd90>\n",
      "<suds.sax.document.Document object at 0x7f79491c00a0>\n",
      "<suds.sax.document.Document object at 0x7f7949254130>\n"
     ]
    },
    {
     "name": "stdout",
     "output_type": "stream",
     "text": [
      "Snotel data fail, SNOTEL:258_NV_SNTL\n",
      "Snotel data fail, SNOTEL:259_OR_SNTL\n",
      "Snotel data fail, SNOTEL:263_WA_SNTL\n"
     ]
    },
    {
     "name": "stderr",
     "output_type": "stream",
     "text": [
      "<suds.sax.document.Document object at 0x7f794a1c5df0>\n",
      "<suds.sax.document.Document object at 0x7f794a247910>\n",
      "<suds.sax.document.Document object at 0x7f7948ba1e50>\n"
     ]
    },
    {
     "name": "stdout",
     "output_type": "stream",
     "text": [
      "Snotel data fail, SNOTEL:261_UT_SNTL\n",
      "Snotel data fail, SNOTEL:262_WA_SNTL\n",
      "Snotel data fail, SNOTEL:268_WY_SNTL\n",
      "Snotel data fail, SNOTEL:266_WY_SNTL\n"
     ]
    },
    {
     "name": "stderr",
     "output_type": "stream",
     "text": [
      "<suds.sax.document.Document object at 0x7f794a1d3700>\n",
      "<suds.sax.document.Document object at 0x7f794a2179d0>\n",
      "<suds.sax.document.Document object at 0x7f794a1d6c40>\n"
     ]
    },
    {
     "name": "stdout",
     "output_type": "stream",
     "text": [
      "Snotel data fail, SNOTEL:267_WY_SNTL\n",
      "Snotel data fail, SNOTEL:264_WA_SNTL\n"
     ]
    },
    {
     "name": "stderr",
     "output_type": "stream",
     "text": [
      "<suds.sax.document.Document object at 0x7f794a1fa730>\n",
      "<suds.sax.document.Document object at 0x7f794abcddc0>\n"
     ]
    },
    {
     "name": "stdout",
     "output_type": "stream",
     "text": [
      "Snotel data fail, SNOTEL:269_WY_SNTL\n",
      "Snotel data fail, SNOTEL:372_AZ_SNTL\n"
     ]
    },
    {
     "name": "stderr",
     "output_type": "stream",
     "text": [
      "<suds.sax.document.Document object at 0x7f79498eb5e0>\n",
      "<suds.sax.document.Document object at 0x7f794a241e50>\n"
     ]
    },
    {
     "name": "stdout",
     "output_type": "stream",
     "text": [
      "Snotel data fail, SNOTEL:397_WY_SNTL\n",
      "Snotel data fail, SNOTEL:421_WY_SNTL\n",
      "Snotel data fail, SNOTEL:441_UT_SNTL\n"
     ]
    },
    {
     "name": "stderr",
     "output_type": "stream",
     "text": [
      "<suds.sax.document.Document object at 0x7f796def8340>\n"
     ]
    },
    {
     "name": "stdout",
     "output_type": "stream",
     "text": [
      "Snotel data fail, SNOTEL:549_NV_SNTL\n"
     ]
    },
    {
     "name": "stderr",
     "output_type": "stream",
     "text": [
      "<suds.sax.document.Document object at 0x7f7949987cd0>\n"
     ]
    },
    {
     "name": "stdout",
     "output_type": "stream",
     "text": [
      "Snotel data fail, SNOTEL:598_WY_SNTL\n"
     ]
    },
    {
     "name": "stderr",
     "output_type": "stream",
     "text": [
      "<suds.sax.document.Document object at 0x7f796cb91ac0>\n"
     ]
    },
    {
     "name": "stdout",
     "output_type": "stream",
     "text": [
      "Snotel data fail, SNOTEL:611_SD_SNTL\n"
     ]
    },
    {
     "name": "stderr",
     "output_type": "stream",
     "text": [
      "<suds.sax.document.Document object at 0x7f796de813d0>\n"
     ]
    },
    {
     "name": "stdout",
     "output_type": "stream",
     "text": [
      "Snotel data fail, SNOTEL:630_WA_SNTL\n"
     ]
    },
    {
     "name": "stderr",
     "output_type": "stream",
     "text": [
      "<suds.sax.document.Document object at 0x7f796de26100>\n"
     ]
    },
    {
     "name": "stdout",
     "output_type": "stream",
     "text": [
      "Snotel data fail, SNOTEL:659_MT_SNTL\n"
     ]
    },
    {
     "name": "stderr",
     "output_type": "stream",
     "text": [
      "<suds.sax.document.Document object at 0x7f7949875940>\n",
      "<suds.sax.document.Document object at 0x7f794ab87820>\n"
     ]
    },
    {
     "name": "stdout",
     "output_type": "stream",
     "text": [
      "Snotel data fail, SNOTEL:678_NM_SNTL\n",
      "Snotel data fail, SNOTEL:685_CO_SNTL\n"
     ]
    },
    {
     "name": "stderr",
     "output_type": "stream",
     "text": [
      "<suds.sax.document.Document object at 0x7f79498a5250>\n"
     ]
    },
    {
     "name": "stdout",
     "output_type": "stream",
     "text": [
      "Snotel data fail, SNOTEL:758_MT_SNTL\n"
     ]
    },
    {
     "name": "stderr",
     "output_type": "stream",
     "text": [
      "<suds.sax.document.Document object at 0x7f796decc5b0>\n",
      "<suds.sax.document.Document object at 0x7f796deae400>\n",
      "<suds.sax.document.Document object at 0x7f796dded970>\n"
     ]
    },
    {
     "name": "stdout",
     "output_type": "stream",
     "text": [
      "Snotel data fail, SNOTEL:8011_WY_SNTL\n",
      "Snotel data fail, SNOTEL:799_AZ_SNTL\n",
      "Snotel data fail, SNOTEL:8082_UT_SNTL\n"
     ]
    },
    {
     "name": "stderr",
     "output_type": "stream",
     "text": [
      "<suds.sax.document.Document object at 0x7f796dd18e50>\n"
     ]
    },
    {
     "name": "stdout",
     "output_type": "stream",
     "text": [
      "Snotel data fail, SNOTEL:851_WY_SNTL\n"
     ]
    },
    {
     "name": "stderr",
     "output_type": "stream",
     "text": [
      "<suds.sax.document.Document object at 0x7f796dcc4b20>\n"
     ]
    },
    {
     "name": "stdout",
     "output_type": "stream",
     "text": [
      "Snotel data fail, SNOTEL:976_OR_SNTL\n"
     ]
    },
    {
     "name": "stderr",
     "output_type": "stream",
     "text": [
      "<suds.sax.document.Document object at 0x7f796dd18880>\n",
      "<suds.sax.document.Document object at 0x7f796dd426a0>\n",
      "<suds.sax.document.Document object at 0x7f796ddf5700>\n",
      "<suds.sax.document.Document object at 0x7f796dd27a90>\n"
     ]
    },
    {
     "name": "stdout",
     "output_type": "stream",
     "text": [
      "Snotel data fail, SNOTEL:991_WA_SNTL\n",
      "Snotel data fail, SNOTEL:996_WA_SNTL\n",
      "Snotel data fail, SNOTEL:994_WA_SNTL\n",
      "Snotel data fail, SNOTEL:995_WA_SNTL\n"
     ]
    },
    {
     "name": "stderr",
     "output_type": "stream",
     "text": [
      "  3%|▎         | 7/239 [03:42<2:05:42, 32.51s/it]"
     ]
    },
    {
     "name": "stdout",
     "output_type": "stream",
     "text": [
      "Updating SWE predictions for  2013-02-19\n",
      "Getting California Data Exchange Center SWE data from sites: \n",
      "CDEC data fail, https://cdec.water.ca.gov/dynamicapp/selectQuery?Stations=SSM&SensorNums=3&dur_code=D&Start=2013-02-18&End=2013-02-19\n",
      "Getting NRCS SNOTEL SWE data from sites: \n"
     ]
    },
    {
     "name": "stderr",
     "output_type": "stream",
     "text": [
      "<suds.sax.document.Document object at 0x7f796de2a580>\n",
      "<suds.sax.document.Document object at 0x7f796d0b1fd0>\n",
      "<suds.sax.document.Document object at 0x7f794924e070>\n"
     ]
    },
    {
     "name": "stdout",
     "output_type": "stream",
     "text": [
      "Snotel data fail, SNOTEL:1007_OR_SNTL\n",
      "Snotel data fail, SNOTEL:1004_WA_SNTL\n"
     ]
    },
    {
     "name": "stderr",
     "output_type": "stream",
     "text": [
      "<suds.sax.document.Document object at 0x7f796de12df0>\n",
      "<suds.sax.document.Document object at 0x7f796cc23100>\n",
      "<suds.sax.document.Document object at 0x7f796d0b16d0>\n",
      "<suds.sax.document.Document object at 0x7f796dc90610>\n"
     ]
    },
    {
     "name": "stdout",
     "output_type": "stream",
     "text": [
      "Snotel data fail, SNOTEL:1020_OR_SNTL\n",
      "Snotel data fail, SNOTEL:1023_OR_SNTL\n",
      "Snotel data fail, SNOTEL:1018_OR_SNTL\n",
      "Snotel data fail, SNOTEL:1021_OR_SNTL\n"
     ]
    },
    {
     "name": "stderr",
     "output_type": "stream",
     "text": [
      "<suds.sax.document.Document object at 0x7f794ac80df0>\n",
      "<suds.sax.document.Document object at 0x7f794a22cf10>\n",
      "<suds.sax.document.Document object at 0x7f796d135bb0>\n",
      "<suds.sax.document.Document object at 0x7f79492454f0>\n"
     ]
    },
    {
     "name": "stdout",
     "output_type": "stream",
     "text": [
      "Snotel data fail, SNOTEL:1019_OR_SNTL\n",
      "Snotel data fail, SNOTEL:1022_OR_SNTL\n",
      "Snotel data fail, SNOTEL:1025_OR_SNTL\n",
      "Snotel data fail, SNOTEL:1029_OR_SNTL\n"
     ]
    },
    {
     "name": "stderr",
     "output_type": "stream",
     "text": [
      "<suds.sax.document.Document object at 0x7f796e9c1eb0>\n",
      "<suds.sax.document.Document object at 0x7f796dca3f40>\n",
      "<suds.sax.document.Document object at 0x7f796dcbed00>\n"
     ]
    },
    {
     "name": "stdout",
     "output_type": "stream",
     "text": [
      "Snotel data fail, SNOTEL:1024_OR_SNTL\n",
      "Snotel data fail, SNOTEL:1028_OR_SNTL\n",
      "Snotel data fail, SNOTEL:1027_OR_SNTL\n",
      "Snotel data fail, SNOTEL:1038_ID_SNTL\n"
     ]
    },
    {
     "name": "stderr",
     "output_type": "stream",
     "text": [
      "<suds.sax.document.Document object at 0x7f796dbbc040>\n"
     ]
    },
    {
     "name": "stdout",
     "output_type": "stream",
     "text": [
      "Snotel data fail, SNOTEL:1148_UT_SNTL\n"
     ]
    },
    {
     "name": "stderr",
     "output_type": "stream",
     "text": [
      "<suds.sax.document.Document object at 0x7f796dbf27c0>\n"
     ]
    },
    {
     "name": "stdout",
     "output_type": "stream",
     "text": [
      "Snotel data fail, SNOTEL:1157_WA_SNTL\n"
     ]
    },
    {
     "name": "stderr",
     "output_type": "stream",
     "text": [
      "<suds.sax.document.Document object at 0x7f796db72700>\n",
      "<suds.sax.document.Document object at 0x7f796dc7b8e0>\n",
      "<suds.sax.document.Document object at 0x7f796dc30a90>\n",
      "<suds.sax.document.Document object at 0x7f796ffa2490>\n"
     ]
    },
    {
     "name": "stdout",
     "output_type": "stream",
     "text": [
      "Snotel data fail, SNOTEL:1187_CO_SNTL\n",
      "Snotel data fail, SNOTEL:1205_NV_SNTL\n",
      "Snotel data fail, SNOTEL:1202_NV_SNTL\n",
      "Snotel data fail, SNOTEL:1206_NV_SNTL\n"
     ]
    },
    {
     "name": "stderr",
     "output_type": "stream",
     "text": [
      "<suds.sax.document.Document object at 0x7f796dd1fc40>\n",
      "<suds.sax.document.Document object at 0x7f796db5c700>\n",
      "<suds.sax.document.Document object at 0x7f796db5c070>\n"
     ]
    },
    {
     "name": "stdout",
     "output_type": "stream",
     "text": [
      "Snotel data fail, SNOTEL:1203_NV_SNTL\n",
      "Snotel data fail, SNOTEL:1209_NV_SNTL\n"
     ]
    },
    {
     "name": "stderr",
     "output_type": "stream",
     "text": [
      "<suds.sax.document.Document object at 0x7f796dbd1640>\n",
      "<suds.sax.document.Document object at 0x7f796db12e20>\n",
      "<suds.sax.document.Document object at 0x7f7949987d60>\n",
      "<suds.sax.document.Document object at 0x7f796db07f70>\n"
     ]
    },
    {
     "name": "stdout",
     "output_type": "stream",
     "text": [
      "Snotel data fail, SNOTEL:1213_NV_SNTL\n",
      "Snotel data fail, SNOTEL:1247_UT_SNTL\n",
      "Snotel data fail, SNOTEL:1242_NV_SNTL\n",
      "Snotel data fail, SNOTEL:1243_NV_SNTL\n"
     ]
    },
    {
     "name": "stderr",
     "output_type": "stream",
     "text": [
      "<suds.sax.document.Document object at 0x7f796dd4f100>\n",
      "<suds.sax.document.Document object at 0x7f796dbf2880>\n",
      "<suds.sax.document.Document object at 0x7f796dbc6e80>\n"
     ]
    },
    {
     "name": "stdout",
     "output_type": "stream",
     "text": [
      "Snotel data fail, SNOTEL:1249_UT_SNTL\n",
      "Snotel data fail, SNOTEL:1251_CO_SNTL\n",
      "Snotel data fail, SNOTEL:1248_UT_SNTL\n"
     ]
    },
    {
     "name": "stderr",
     "output_type": "stream",
     "text": [
      "<suds.sax.document.Document object at 0x7f796dbd1880>\n",
      "<suds.sax.document.Document object at 0x7f7949942b50>\n",
      "<suds.sax.document.Document object at 0x7f796dbc6d90>\n"
     ]
    },
    {
     "name": "stdout",
     "output_type": "stream",
     "text": [
      "Snotel data fail, SNOTEL:1244_NV_SNTL\n",
      "Snotel data fail, SNOTEL:1252_CO_SNTL\n",
      "Snotel data fail, SNOTEL:1258_CA_SNTL\n",
      "Snotel data fail, SNOTEL:1254_NM_SNTL\n"
     ]
    },
    {
     "name": "stderr",
     "output_type": "stream",
     "text": [
      "<suds.sax.document.Document object at 0x7f796dbb1cd0>\n",
      "<suds.sax.document.Document object at 0x7f796dbf2f70>\n",
      "<suds.sax.document.Document object at 0x7f796dc64ee0>\n",
      "<suds.sax.document.Document object at 0x7f796db3be80>\n",
      "<suds.sax.document.Document object at 0x7f796dcc49a0>\n",
      "<suds.sax.document.Document object at 0x7f796ffa26d0>\n"
     ]
    },
    {
     "name": "stdout",
     "output_type": "stream",
     "text": [
      "Snotel data fail, SNOTEL:1269_UT_SNTL\n",
      "Snotel data fail, SNOTEL:1256_WA_SNTL\n",
      "Snotel data fail, SNOTEL:1259_WA_SNTL\n",
      "Snotel data fail, SNOTEL:1261_UT_SNTL\n",
      "Snotel data fail, SNOTEL:1257_WA_SNTL\n"
     ]
    },
    {
     "name": "stderr",
     "output_type": "stream",
     "text": [
      "<suds.sax.document.Document object at 0x7f796cd7ba30>\n",
      "<suds.sax.document.Document object at 0x7f794ab25700>\n",
      "<suds.sax.document.Document object at 0x7f796db28b80>\n",
      "<suds.sax.document.Document object at 0x7f796db12f70>\n",
      "<suds.sax.document.Document object at 0x7f796dca3310>\n",
      "<suds.sax.document.Document object at 0x7f796dda3970>\n"
     ]
    },
    {
     "name": "stdout",
     "output_type": "stream",
     "text": [
      "Snotel data fail, SNOTEL:1271_AZ_SNTL\n",
      "Snotel data fail, SNOTEL:1262_NV_SNTL\n",
      "Snotel data fail, SNOTEL:1277_CA_SNTL\n",
      "Snotel data fail, SNOTEL:1272_NV_SNTL\n",
      "Snotel data fail, SNOTEL:1278_UT_SNTL\n",
      "Snotel data fail, SNOTEL:1276_ID_SNTL\n",
      "Snotel data fail, SNOTEL:1263_WA_SNTL\n"
     ]
    },
    {
     "name": "stderr",
     "output_type": "stream",
     "text": [
      "<suds.sax.document.Document object at 0x7f796dc1a730>\n",
      "<suds.sax.document.Document object at 0x7f796dbd5ca0>\n",
      "<suds.sax.document.Document object at 0x7f796ddf5730>\n"
     ]
    },
    {
     "name": "stdout",
     "output_type": "stream",
     "text": [
      "Snotel data fail, SNOTEL:1286_MT_SNTL\n",
      "Snotel data fail, SNOTEL:1280_UT_SNTL\n"
     ]
    },
    {
     "name": "stderr",
     "output_type": "stream",
     "text": [
      "<suds.sax.document.Document object at 0x7f796dc23970>\n",
      "<suds.sax.document.Document object at 0x7f796db3b6d0>\n"
     ]
    },
    {
     "name": "stdout",
     "output_type": "stream",
     "text": [
      "Snotel data fail, SNOTEL:1287_MT_SNTL\n",
      "Snotel data fail, SNOTEL:246_CA_SNTL\n"
     ]
    },
    {
     "name": "stderr",
     "output_type": "stream",
     "text": [
      "<suds.sax.document.Document object at 0x7f796db08f70>\n",
      "<suds.sax.document.Document object at 0x7f796de0fcd0>\n",
      "<suds.sax.document.Document object at 0x7f796dae55b0>\n",
      "<suds.sax.document.Document object at 0x7f796dbbb3a0>\n",
      "<suds.sax.document.Document object at 0x7f796db12cd0>\n"
     ]
    },
    {
     "name": "stdout",
     "output_type": "stream",
     "text": [
      "Snotel data fail, SNOTEL:248_CO_SNTL\n",
      "Snotel data fail, SNOTEL:247_CO_SNTL\n",
      "Snotel data fail, SNOTEL:249_CO_SNTL\n",
      "Snotel data fail, SNOTEL:250_CO_SNTL\n",
      "Snotel data fail, SNOTEL:251_ID_SNTL\n"
     ]
    },
    {
     "name": "stderr",
     "output_type": "stream",
     "text": [
      "<suds.sax.document.Document object at 0x7f796da7d2e0>\n",
      "<suds.sax.document.Document object at 0x7f796dac86a0>\n",
      "<suds.sax.document.Document object at 0x7f796da8cd90>\n"
     ]
    },
    {
     "name": "stdout",
     "output_type": "stream",
     "text": [
      "Snotel data fail, SNOTEL:252_MT_SNTL\n",
      "Snotel data fail, SNOTEL:257_NV_SNTL\n",
      "Snotel data fail, SNOTEL:253_MT_SNTL\n",
      "Snotel data fail, SNOTEL:262_WA_SNTL\n"
     ]
    },
    {
     "name": "stderr",
     "output_type": "stream",
     "text": [
      "<suds.sax.document.Document object at 0x7f796dba9820>\n",
      "<suds.sax.document.Document object at 0x7f796daf0c10>\n",
      "<suds.sax.document.Document object at 0x7f796da9b580>\n",
      "<suds.sax.document.Document object at 0x7f796dabd4c0>\n",
      "<suds.sax.document.Document object at 0x7f796dc34e80>\n"
     ]
    },
    {
     "name": "stdout",
     "output_type": "stream",
     "text": [
      "Snotel data fail, SNOTEL:255_MT_SNTL\n",
      "Snotel data fail, SNOTEL:254_MT_SNTL\n",
      "Snotel data fail, SNOTEL:264_WA_SNTL\n",
      "Snotel data fail, SNOTEL:256_MT_SNTL\n"
     ]
    },
    {
     "name": "stderr",
     "output_type": "stream",
     "text": [
      "<suds.sax.document.Document object at 0x7f796ddcbac0>\n",
      "<suds.sax.document.Document object at 0x7f796da8c610>\n"
     ]
    },
    {
     "name": "stdout",
     "output_type": "stream",
     "text": [
      "Snotel data fail, SNOTEL:259_OR_SNTL\n",
      "Snotel data fail, SNOTEL:267_WY_SNTL\n",
      "Snotel data fail, SNOTEL:258_NV_SNTL\n"
     ]
    },
    {
     "name": "stderr",
     "output_type": "stream",
     "text": [
      "<suds.sax.document.Document object at 0x7f796da98700>\n",
      "<suds.sax.document.Document object at 0x7f796db17460>\n",
      "<suds.sax.document.Document object at 0x7f796db2b100>\n",
      "<suds.sax.document.Document object at 0x7f796da9b400>\n"
     ]
    },
    {
     "name": "stdout",
     "output_type": "stream",
     "text": [
      "Snotel data fail, SNOTEL:266_WY_SNTL\n",
      "Snotel data fail, SNOTEL:269_WY_SNTL\n",
      "Snotel data fail, SNOTEL:263_WA_SNTL\n",
      "Snotel data fail, SNOTEL:261_UT_SNTL\n"
     ]
    },
    {
     "name": "stderr",
     "output_type": "stream",
     "text": [
      "<suds.sax.document.Document object at 0x7f796dabd9d0>\n",
      "<suds.sax.document.Document object at 0x7f796dae5be0>\n",
      "<suds.sax.document.Document object at 0x7f796d98ffa0>\n",
      "<suds.sax.document.Document object at 0x7f796da76940>\n"
     ]
    },
    {
     "name": "stdout",
     "output_type": "stream",
     "text": [
      "Snotel data fail, SNOTEL:268_WY_SNTL\n",
      "Snotel data fail, SNOTEL:372_AZ_SNTL\n",
      "Snotel data fail, SNOTEL:397_WY_SNTL\n",
      "Snotel data fail, SNOTEL:421_WY_SNTL\n"
     ]
    },
    {
     "name": "stderr",
     "output_type": "stream",
     "text": [
      "<suds.sax.document.Document object at 0x7f796d9a3f40>\n",
      "<suds.sax.document.Document object at 0x7f796db5c670>\n"
     ]
    },
    {
     "name": "stdout",
     "output_type": "stream",
     "text": [
      "Snotel data fail, SNOTEL:441_UT_SNTL\n",
      "Snotel data fail, SNOTEL:1236_UT_SNTL\n"
     ]
    },
    {
     "name": "stderr",
     "output_type": "stream",
     "text": [
      "<suds.sax.document.Document object at 0x7f796dbd5760>\n"
     ]
    },
    {
     "name": "stdout",
     "output_type": "stream",
     "text": [
      "Snotel data fail, SNOTEL:549_NV_SNTL\n"
     ]
    },
    {
     "name": "stderr",
     "output_type": "stream",
     "text": [
      "<suds.sax.document.Document object at 0x7f796da939a0>\n",
      "<suds.sax.document.Document object at 0x7f796d9a3f40>\n"
     ]
    },
    {
     "name": "stdout",
     "output_type": "stream",
     "text": [
      "Snotel data fail, SNOTEL:598_WY_SNTL\n",
      "Snotel data fail, SNOTEL:611_SD_SNTL\n"
     ]
    },
    {
     "name": "stderr",
     "output_type": "stream",
     "text": [
      "<suds.sax.document.Document object at 0x7f796d8a19a0>\n"
     ]
    },
    {
     "name": "stdout",
     "output_type": "stream",
     "text": [
      "Snotel data fail, SNOTEL:630_WA_SNTL\n"
     ]
    },
    {
     "name": "stderr",
     "output_type": "stream",
     "text": [
      "<suds.sax.document.Document object at 0x7f796d9216d0>\n"
     ]
    },
    {
     "name": "stdout",
     "output_type": "stream",
     "text": [
      "Snotel data fail, SNOTEL:659_MT_SNTL\n"
     ]
    },
    {
     "name": "stderr",
     "output_type": "stream",
     "text": [
      "<suds.sax.document.Document object at 0x7f796d77f760>\n"
     ]
    },
    {
     "name": "stdout",
     "output_type": "stream",
     "text": [
      "Snotel data fail, SNOTEL:678_NM_SNTL\n"
     ]
    },
    {
     "name": "stderr",
     "output_type": "stream",
     "text": [
      "<suds.sax.document.Document object at 0x7f796d79ff10>\n"
     ]
    },
    {
     "name": "stdout",
     "output_type": "stream",
     "text": [
      "Snotel data fail, SNOTEL:685_CO_SNTL\n"
     ]
    },
    {
     "name": "stderr",
     "output_type": "stream",
     "text": [
      "<suds.sax.document.Document object at 0x7f796d7024c0>\n"
     ]
    },
    {
     "name": "stdout",
     "output_type": "stream",
     "text": [
      "Snotel data fail, SNOTEL:758_MT_SNTL\n"
     ]
    },
    {
     "name": "stderr",
     "output_type": "stream",
     "text": [
      "<suds.sax.document.Document object at 0x7f7949810280>\n",
      "<suds.sax.document.Document object at 0x7f796d74e430>\n"
     ]
    },
    {
     "name": "stdout",
     "output_type": "stream",
     "text": [
      "Snotel data fail, SNOTEL:799_AZ_SNTL\n"
     ]
    },
    {
     "name": "stderr",
     "output_type": "stream",
     "text": [
      "<suds.sax.document.Document object at 0x7f796d821940>\n"
     ]
    },
    {
     "name": "stdout",
     "output_type": "stream",
     "text": [
      "Snotel data fail, SNOTEL:8082_UT_SNTL\n",
      "Snotel data fail, SNOTEL:8011_WY_SNTL\n"
     ]
    },
    {
     "name": "stderr",
     "output_type": "stream",
     "text": [
      "<suds.sax.document.Document object at 0x7f796d7d9520>\n"
     ]
    },
    {
     "name": "stdout",
     "output_type": "stream",
     "text": [
      "Snotel data fail, SNOTEL:851_WY_SNTL\n"
     ]
    },
    {
     "name": "stderr",
     "output_type": "stream",
     "text": [
      "<suds.sax.document.Document object at 0x7f796d90e160>\n",
      "<suds.sax.document.Document object at 0x7f796d84ff40>\n"
     ]
    },
    {
     "name": "stdout",
     "output_type": "stream",
     "text": [
      "Snotel data fail, SNOTEL:976_OR_SNTL\n",
      "Snotel data fail, SNOTEL:991_WA_SNTL\n"
     ]
    },
    {
     "name": "stderr",
     "output_type": "stream",
     "text": [
      "<suds.sax.document.Document object at 0x7f796d850340>\n",
      "<suds.sax.document.Document object at 0x7f796d98f670>\n",
      "<suds.sax.document.Document object at 0x7f796d89d4c0>\n"
     ]
    },
    {
     "name": "stdout",
     "output_type": "stream",
     "text": [
      "Snotel data fail, SNOTEL:994_WA_SNTL\n",
      "Snotel data fail, SNOTEL:996_WA_SNTL\n",
      "Snotel data fail, SNOTEL:995_WA_SNTL\n"
     ]
    },
    {
     "name": "stderr",
     "output_type": "stream",
     "text": [
      "  3%|▎         | 8/239 [04:22<2:14:19, 34.89s/it]"
     ]
    },
    {
     "name": "stdout",
     "output_type": "stream",
     "text": [
      "Updating SWE predictions for  2013-02-26\n",
      "Getting California Data Exchange Center SWE data from sites: \n",
      "CDEC data fail, https://cdec.water.ca.gov/dynamicapp/selectQuery?Stations=SSM&SensorNums=3&dur_code=D&Start=2013-02-25&End=2013-02-26\n",
      "Getting NRCS SNOTEL SWE data from sites: \n"
     ]
    },
    {
     "name": "stderr",
     "output_type": "stream",
     "text": [
      "<suds.sax.document.Document object at 0x7f796f7c45b0>\n",
      "<suds.sax.document.Document object at 0x7f796f779bb0>\n",
      "<suds.sax.document.Document object at 0x7f797c23bd60>\n",
      "<suds.sax.document.Document object at 0x7f797c290940>\n"
     ]
    },
    {
     "name": "stdout",
     "output_type": "stream",
     "text": [
      "Snotel data fail, SNOTEL:1007_OR_SNTL\n",
      "Snotel data fail, SNOTEL:1004_WA_SNTL\n",
      "Snotel data fail, SNOTEL:1019_OR_SNTL\n"
     ]
    },
    {
     "name": "stderr",
     "output_type": "stream",
     "text": [
      "<suds.sax.document.Document object at 0x7f797c2cfc40>\n",
      "<suds.sax.document.Document object at 0x7f797c23b2b0>\n",
      "<suds.sax.document.Document object at 0x7f797c2cfbe0>\n"
     ]
    },
    {
     "name": "stdout",
     "output_type": "stream",
     "text": [
      "Snotel data fail, SNOTEL:1021_OR_SNTL\n",
      "Snotel data fail, SNOTEL:1028_OR_SNTL\n",
      "Snotel data fail, SNOTEL:1018_OR_SNTL\n"
     ]
    },
    {
     "name": "stderr",
     "output_type": "stream",
     "text": [
      "<suds.sax.document.Document object at 0x7f797c2c2550>\n",
      "<suds.sax.document.Document object at 0x7f797c28b7f0>\n",
      "<suds.sax.document.Document object at 0x7f797ca095b0>\n"
     ]
    },
    {
     "name": "stdout",
     "output_type": "stream",
     "text": [
      "Snotel data fail, SNOTEL:1024_OR_SNTL\n",
      "Snotel data fail, SNOTEL:1025_OR_SNTL\n",
      "Snotel data fail, SNOTEL:1023_OR_SNTL\n",
      "Snotel data fail, SNOTEL:1029_OR_SNTL\n"
     ]
    },
    {
     "name": "stderr",
     "output_type": "stream",
     "text": [
      "<suds.sax.document.Document object at 0x7f797c290520>\n",
      "<suds.sax.document.Document object at 0x7f797c2702e0>\n",
      "<suds.sax.document.Document object at 0x7f796f74ea00>\n",
      "<suds.sax.document.Document object at 0x7f797c365610>\n",
      "<suds.sax.document.Document object at 0x7f797c499220>\n"
     ]
    },
    {
     "name": "stdout",
     "output_type": "stream",
     "text": [
      "Snotel data fail, SNOTEL:1020_OR_SNTL\n",
      "Snotel data fail, SNOTEL:1022_OR_SNTL\n",
      "Snotel data fail, SNOTEL:1027_OR_SNTL\n",
      "Snotel data fail, SNOTEL:1038_ID_SNTL\n",
      "Snotel data fail, SNOTEL:1148_UT_SNTL\n"
     ]
    },
    {
     "name": "stderr",
     "output_type": "stream",
     "text": [
      "<suds.sax.document.Document object at 0x7f797c521cd0>\n"
     ]
    },
    {
     "name": "stdout",
     "output_type": "stream",
     "text": [
      "Snotel data fail, SNOTEL:1157_WA_SNTL\n"
     ]
    },
    {
     "name": "stderr",
     "output_type": "stream",
     "text": [
      "<suds.sax.document.Document object at 0x7f797c3b38b0>\n",
      "<suds.sax.document.Document object at 0x7f797c301310>\n",
      "<suds.sax.document.Document object at 0x7f797c573550>\n"
     ]
    },
    {
     "name": "stdout",
     "output_type": "stream",
     "text": [
      "Snotel data fail, SNOTEL:1187_CO_SNTL\n",
      "Snotel data fail, SNOTEL:1202_NV_SNTL\n"
     ]
    },
    {
     "name": "stderr",
     "output_type": "stream",
     "text": [
      "<suds.sax.document.Document object at 0x7f797c573f40>\n",
      "<suds.sax.document.Document object at 0x7f797c579b20>\n",
      "<suds.sax.document.Document object at 0x7f797c5149a0>\n"
     ]
    },
    {
     "name": "stdout",
     "output_type": "stream",
     "text": [
      "Snotel data fail, SNOTEL:1213_NV_SNTL\n",
      "Snotel data fail, SNOTEL:1205_NV_SNTL\n",
      "Snotel data fail, SNOTEL:1206_NV_SNTL\n"
     ]
    },
    {
     "name": "stderr",
     "output_type": "stream",
     "text": [
      "<suds.sax.document.Document object at 0x7f797c2b6790>\n",
      "<suds.sax.document.Document object at 0x7f797c51fac0>\n"
     ]
    },
    {
     "name": "stdout",
     "output_type": "stream",
     "text": [
      "Snotel data fail, SNOTEL:1203_NV_SNTL\n",
      "Snotel data fail, SNOTEL:1209_NV_SNTL\n"
     ]
    },
    {
     "name": "stderr",
     "output_type": "stream",
     "text": [
      "<suds.sax.document.Document object at 0x7f797c424760>\n",
      "<suds.sax.document.Document object at 0x7f797c5204f0>\n",
      "<suds.sax.document.Document object at 0x7f797c2d13d0>\n"
     ]
    },
    {
     "name": "stdout",
     "output_type": "stream",
     "text": [
      "Snotel data fail, SNOTEL:1248_UT_SNTL\n",
      "Snotel data fail, SNOTEL:1243_NV_SNTL\n",
      "Snotel data fail, SNOTEL:1247_UT_SNTL\n"
     ]
    },
    {
     "name": "stderr",
     "output_type": "stream",
     "text": [
      "<suds.sax.document.Document object at 0x7f797c3b37f0>\n",
      "<suds.sax.document.Document object at 0x7f797c579cd0>\n",
      "<suds.sax.document.Document object at 0x7f797c4caa90>\n",
      "<suds.sax.document.Document object at 0x7f797c3310a0>\n",
      "<suds.sax.document.Document object at 0x7f797c301310>\n"
     ]
    },
    {
     "name": "stdout",
     "output_type": "stream",
     "text": [
      "Snotel data fail, SNOTEL:1252_CO_SNTL\n",
      "Snotel data fail, SNOTEL:1249_UT_SNTL\n",
      "Snotel data fail, SNOTEL:1254_NM_SNTL\n",
      "Snotel data fail, SNOTEL:1244_NV_SNTL\n",
      "Snotel data fail, SNOTEL:1236_UT_SNTL\n"
     ]
    },
    {
     "name": "stderr",
     "output_type": "stream",
     "text": [
      "<suds.sax.document.Document object at 0x7f797c643040>\n",
      "<suds.sax.document.Document object at 0x7f797c6c7f70>\n",
      "<suds.sax.document.Document object at 0x7f797c62ffd0>\n"
     ]
    },
    {
     "name": "stdout",
     "output_type": "stream",
     "text": [
      "Snotel data fail, SNOTEL:1242_NV_SNTL\n",
      "Snotel data fail, SNOTEL:1251_CO_SNTL\n",
      "Snotel data fail, SNOTEL:1258_CA_SNTL\n"
     ]
    },
    {
     "name": "stderr",
     "output_type": "stream",
     "text": [
      "<suds.sax.document.Document object at 0x7f797c579610>\n",
      "<suds.sax.document.Document object at 0x7f797c696dc0>\n",
      "<suds.sax.document.Document object at 0x7f797c6779a0>\n"
     ]
    },
    {
     "name": "stdout",
     "output_type": "stream",
     "text": [
      "Snotel data fail, SNOTEL:1261_UT_SNTL\n",
      "Snotel data fail, SNOTEL:1256_WA_SNTL\n",
      "Snotel data fail, SNOTEL:1259_WA_SNTL\n"
     ]
    },
    {
     "name": "stderr",
     "output_type": "stream",
     "text": [
      "<suds.sax.document.Document object at 0x7f797c6776a0>\n",
      "<suds.sax.document.Document object at 0x7f797c53aa30>\n",
      "<suds.sax.document.Document object at 0x7f797c584610>\n",
      "<suds.sax.document.Document object at 0x7f797c62f340>\n"
     ]
    },
    {
     "name": "stdout",
     "output_type": "stream",
     "text": [
      "Snotel data fail, SNOTEL:1263_WA_SNTL\n",
      "Snotel data fail, SNOTEL:1262_NV_SNTL\n",
      "Snotel data fail, SNOTEL:1271_AZ_SNTL\n",
      "Snotel data fail, SNOTEL:1269_UT_SNTL\n"
     ]
    },
    {
     "name": "stderr",
     "output_type": "stream",
     "text": [
      "<suds.sax.document.Document object at 0x7f797c395a60>\n",
      "<suds.sax.document.Document object at 0x7f797c2d1970>\n"
     ]
    },
    {
     "name": "stdout",
     "output_type": "stream",
     "text": [
      "Snotel data fail, SNOTEL:1280_UT_SNTL\n",
      "Snotel data fail, SNOTEL:1276_ID_SNTL\n"
     ]
    },
    {
     "name": "stderr",
     "output_type": "stream",
     "text": [
      "<suds.sax.document.Document object at 0x7f797c4f3b50>\n",
      "<suds.sax.document.Document object at 0x7f797c696250>\n",
      "<suds.sax.document.Document object at 0x7f796c96c9d0>\n",
      "<suds.sax.document.Document object at 0x7f796c9959d0>\n",
      "<suds.sax.document.Document object at 0x7f797c6286a0>\n"
     ]
    },
    {
     "name": "stdout",
     "output_type": "stream",
     "text": [
      "Snotel data fail, SNOTEL:1277_CA_SNTL\n",
      "Snotel data fail, SNOTEL:1278_UT_SNTL\n",
      "Snotel data fail, SNOTEL:1272_NV_SNTL\n",
      "Snotel data fail, SNOTEL:1287_MT_SNTL\n",
      "Snotel data fail, SNOTEL:1286_MT_SNTL\n"
     ]
    },
    {
     "name": "stderr",
     "output_type": "stream",
     "text": [
      "<suds.sax.document.Document object at 0x7f797c2b63a0>\n",
      "<suds.sax.document.Document object at 0x7f797d51a880>\n",
      "<suds.sax.document.Document object at 0x7f797c4128b0>\n"
     ]
    },
    {
     "name": "stdout",
     "output_type": "stream",
     "text": [
      "Snotel data fail, SNOTEL:252_MT_SNTLSnotel data fail, SNOTEL:249_CO_SNTL\n",
      "\n",
      "Snotel data fail, SNOTEL:246_CA_SNTL\n",
      "Snotel data fail, SNOTEL:248_CO_SNTL\n"
     ]
    },
    {
     "name": "stderr",
     "output_type": "stream",
     "text": [
      "<suds.sax.document.Document object at 0x7f797c628d90>\n",
      "<suds.sax.document.Document object at 0x7f797c6b4070>\n",
      "<suds.sax.document.Document object at 0x7f797c720b20>\n",
      "<suds.sax.document.Document object at 0x7f797c6b5910>\n",
      "<suds.sax.document.Document object at 0x7f796c948a90>\n"
     ]
    },
    {
     "name": "stdout",
     "output_type": "stream",
     "text": [
      "Snotel data fail, SNOTEL:251_ID_SNTL\n",
      "Snotel data fail, SNOTEL:250_CO_SNTL\n",
      "Snotel data fail, SNOTEL:255_MT_SNTL\n",
      "Snotel data fail, SNOTEL:253_MT_SNTL\n"
     ]
    },
    {
     "name": "stderr",
     "output_type": "stream",
     "text": [
      "<suds.sax.document.Document object at 0x7f797c72c100>\n",
      "<suds.sax.document.Document object at 0x7f797c2cfe80>\n",
      "<suds.sax.document.Document object at 0x7f797c703910>\n"
     ]
    },
    {
     "name": "stdout",
     "output_type": "stream",
     "text": [
      "Snotel data fail, SNOTEL:247_CO_SNTL\n",
      "Snotel data fail, SNOTEL:259_OR_SNTL\n",
      "Snotel data fail, SNOTEL:258_NV_SNTL\n"
     ]
    },
    {
     "name": "stderr",
     "output_type": "stream",
     "text": [
      "<suds.sax.document.Document object at 0x7f797c290640>\n",
      "<suds.sax.document.Document object at 0x7f797c71fe50>\n"
     ]
    },
    {
     "name": "stdout",
     "output_type": "stream",
     "text": [
      "Snotel data fail, SNOTEL:257_NV_SNTL\n",
      "Snotel data fail, SNOTEL:261_UT_SNTL\n"
     ]
    },
    {
     "name": "stderr",
     "output_type": "stream",
     "text": [
      "<suds.sax.document.Document object at 0x7f796c995610>\n",
      "<suds.sax.document.Document object at 0x7f797c72c550>\n",
      "<suds.sax.document.Document object at 0x7f797c717ee0>\n"
     ]
    },
    {
     "name": "stdout",
     "output_type": "stream",
     "text": [
      "Snotel data fail, SNOTEL:254_MT_SNTL\n",
      "Snotel data fail, SNOTEL:268_WY_SNTL\n",
      "Snotel data fail, SNOTEL:256_MT_SNTL\n"
     ]
    },
    {
     "name": "stderr",
     "output_type": "stream",
     "text": [
      "<suds.sax.document.Document object at 0x7f797c365850>\n",
      "<suds.sax.document.Document object at 0x7f797c9ed220>\n",
      "<suds.sax.document.Document object at 0x7f797c365160>\n",
      "<suds.sax.document.Document object at 0x7f797c7051c0>\n"
     ]
    },
    {
     "name": "stdout",
     "output_type": "stream",
     "text": [
      "Snotel data fail, SNOTEL:263_WA_SNTL\n",
      "Snotel data fail, SNOTEL:262_WA_SNTL\n",
      "Snotel data fail, SNOTEL:264_WA_SNTL\n",
      "Snotel data fail, SNOTEL:266_WY_SNTL\n",
      "Snotel data fail, SNOTEL:267_WY_SNTL\n"
     ]
    },
    {
     "name": "stderr",
     "output_type": "stream",
     "text": [
      "<suds.sax.document.Document object at 0x7f797c638070>\n",
      "<suds.sax.document.Document object at 0x7f797c779c10>\n",
      "<suds.sax.document.Document object at 0x7f797c78ce20>\n"
     ]
    },
    {
     "name": "stdout",
     "output_type": "stream",
     "text": [
      "Snotel data fail, SNOTEL:269_WY_SNTL\n",
      "Snotel data fail, SNOTEL:372_AZ_SNTL\n"
     ]
    },
    {
     "name": "stderr",
     "output_type": "stream",
     "text": [
      "<suds.sax.document.Document object at 0x7f797c8c0cd0>\n",
      "<suds.sax.document.Document object at 0x7f797c573eb0>\n",
      "<suds.sax.document.Document object at 0x7f797c365b20>\n"
     ]
    },
    {
     "name": "stdout",
     "output_type": "stream",
     "text": [
      "Snotel data fail, SNOTEL:397_WY_SNTL\n",
      "Snotel data fail, SNOTEL:421_WY_SNTL\n",
      "Snotel data fail, SNOTEL:441_UT_SNTL\n",
      "Snotel data fail, SNOTEL:1257_WA_SNTL\n"
     ]
    },
    {
     "name": "stderr",
     "output_type": "stream",
     "text": [
      "<suds.sax.document.Document object at 0x7f797c677a90>\n"
     ]
    },
    {
     "name": "stdout",
     "output_type": "stream",
     "text": [
      "Snotel data fail, SNOTEL:549_NV_SNTL\n"
     ]
    },
    {
     "name": "stderr",
     "output_type": "stream",
     "text": [
      "<suds.sax.document.Document object at 0x7f797c961640>\n",
      "<suds.sax.document.Document object at 0x7f797c886c40>\n"
     ]
    },
    {
     "name": "stdout",
     "output_type": "stream",
     "text": [
      "Snotel data fail, SNOTEL:611_SD_SNTL\n",
      "Snotel data fail, SNOTEL:598_WY_SNTL\n"
     ]
    },
    {
     "name": "stderr",
     "output_type": "stream",
     "text": [
      "<suds.sax.document.Document object at 0x7f7948db0580>\n"
     ]
    },
    {
     "name": "stdout",
     "output_type": "stream",
     "text": [
      "Snotel data fail, SNOTEL:630_WA_SNTL\n"
     ]
    },
    {
     "name": "stderr",
     "output_type": "stream",
     "text": [
      "<suds.sax.document.Document object at 0x7f797c937c70>\n"
     ]
    },
    {
     "name": "stdout",
     "output_type": "stream",
     "text": [
      "Snotel data fail, SNOTEL:659_MT_SNTL\n"
     ]
    },
    {
     "name": "stderr",
     "output_type": "stream",
     "text": [
      "<suds.sax.document.Document object at 0x7f7948d1c250>\n",
      "<suds.sax.document.Document object at 0x7f797c999250>\n"
     ]
    },
    {
     "name": "stdout",
     "output_type": "stream",
     "text": [
      "Snotel data fail, SNOTEL:678_NM_SNTL\n",
      "Snotel data fail, SNOTEL:685_CO_SNTL\n"
     ]
    },
    {
     "name": "stderr",
     "output_type": "stream",
     "text": [
      "<suds.sax.document.Document object at 0x7f797cde0910>\n"
     ]
    },
    {
     "name": "stdout",
     "output_type": "stream",
     "text": [
      "Snotel data fail, SNOTEL:758_MT_SNTL\n"
     ]
    },
    {
     "name": "stderr",
     "output_type": "stream",
     "text": [
      "<suds.sax.document.Document object at 0x7f797d952940>\n",
      "<suds.sax.document.Document object at 0x7f797cde0eb0>\n"
     ]
    },
    {
     "name": "stdout",
     "output_type": "stream",
     "text": [
      "Snotel data fail, SNOTEL:799_AZ_SNTL\n",
      "Snotel data fail, SNOTEL:8011_WY_SNTL\n"
     ]
    },
    {
     "name": "stderr",
     "output_type": "stream",
     "text": [
      "<suds.sax.document.Document object at 0x7f797cd388b0>\n"
     ]
    },
    {
     "name": "stdout",
     "output_type": "stream",
     "text": [
      "Snotel data fail, SNOTEL:8082_UT_SNTL\n"
     ]
    },
    {
     "name": "stderr",
     "output_type": "stream",
     "text": [
      "<suds.sax.document.Document object at 0x7f797cc4fe20>\n"
     ]
    },
    {
     "name": "stdout",
     "output_type": "stream",
     "text": [
      "Snotel data fail, SNOTEL:851_WY_SNTL\n"
     ]
    },
    {
     "name": "stderr",
     "output_type": "stream",
     "text": [
      "<suds.sax.document.Document object at 0x7f797cd483a0>\n",
      "<suds.sax.document.Document object at 0x7f797ccaa670>\n",
      "<suds.sax.document.Document object at 0x7f797cb29af0>\n",
      "<suds.sax.document.Document object at 0x7f797cba7df0>\n",
      "<suds.sax.document.Document object at 0x7f77ac052a60>\n"
     ]
    },
    {
     "name": "stdout",
     "output_type": "stream",
     "text": [
      "Snotel data fail, SNOTEL:994_WA_SNTL\n",
      "Snotel data fail, SNOTEL:991_WA_SNTL\n",
      "Snotel data fail, SNOTEL:996_WA_SNTL\n",
      "Snotel data fail, SNOTEL:995_WA_SNTL\n",
      "Snotel data fail, SNOTEL:976_OR_SNTL\n"
     ]
    },
    {
     "name": "stderr",
     "output_type": "stream",
     "text": [
      "  4%|▍         | 9/239 [04:54<2:10:24, 34.02s/it]"
     ]
    },
    {
     "name": "stdout",
     "output_type": "stream",
     "text": [
      "Updating SWE predictions for  2013-03-05\n",
      "Getting California Data Exchange Center SWE data from sites: \n",
      "CDEC data fail, https://cdec.water.ca.gov/dynamicapp/selectQuery?Stations=SSM&SensorNums=3&dur_code=D&Start=2013-03-04&End=2013-03-05\n",
      "Getting NRCS SNOTEL SWE data from sites: \n"
     ]
    },
    {
     "name": "stderr",
     "output_type": "stream",
     "text": [
      "<suds.sax.document.Document object at 0x7f797c91cdf0>\n",
      "<suds.sax.document.Document object at 0x7f797c94bf10>\n",
      "<suds.sax.document.Document object at 0x7f797c84f640>\n",
      "<suds.sax.document.Document object at 0x7f797c91c730>\n"
     ]
    },
    {
     "name": "stdout",
     "output_type": "stream",
     "text": [
      "Snotel data fail, SNOTEL:1007_OR_SNTL\n",
      "Snotel data fail, SNOTEL:1004_WA_SNTL\n",
      "Snotel data fail, SNOTEL:1022_OR_SNTL\n"
     ]
    },
    {
     "name": "stderr",
     "output_type": "stream",
     "text": [
      "<suds.sax.document.Document object at 0x7f797c86be80>\n",
      "<suds.sax.document.Document object at 0x7f797c86de50>\n"
     ]
    },
    {
     "name": "stdout",
     "output_type": "stream",
     "text": [
      "Snotel data fail, SNOTEL:1023_OR_SNTL\n",
      "Snotel data fail, SNOTEL:1027_OR_SNTL\n"
     ]
    },
    {
     "name": "stderr",
     "output_type": "stream",
     "text": [
      "<suds.sax.document.Document object at 0x7f797c858220>\n",
      "<suds.sax.document.Document object at 0x7f797c881130>\n",
      "<suds.sax.document.Document object at 0x7f797c8d58b0>\n",
      "<suds.sax.document.Document object at 0x7f797c8d5760>\n"
     ]
    },
    {
     "name": "stdout",
     "output_type": "stream",
     "text": [
      "Snotel data fail, SNOTEL:1018_OR_SNTL\n",
      "Snotel data fail, SNOTEL:1024_OR_SNTL\n",
      "Snotel data fail, SNOTEL:1025_OR_SNTL\n",
      "Snotel data fail, SNOTEL:1028_OR_SNTL\n"
     ]
    },
    {
     "name": "stderr",
     "output_type": "stream",
     "text": [
      "<suds.sax.document.Document object at 0x7f797c821bb0>\n",
      "<suds.sax.document.Document object at 0x7f797c89d8b0>\n",
      "<suds.sax.document.Document object at 0x7f797c901eb0>\n"
     ]
    },
    {
     "name": "stdout",
     "output_type": "stream",
     "text": [
      "Snotel data fail, SNOTEL:1021_OR_SNTL\n",
      "Snotel data fail, SNOTEL:1029_OR_SNTL\n",
      "Snotel data fail, SNOTEL:1020_OR_SNTL\n"
     ]
    },
    {
     "name": "stderr",
     "output_type": "stream",
     "text": [
      "<suds.sax.document.Document object at 0x7f797c96a700>\n"
     ]
    },
    {
     "name": "stdout",
     "output_type": "stream",
     "text": [
      "Snotel data fail, SNOTEL:1019_OR_SNTL\n",
      "Snotel data fail, SNOTEL:1038_ID_SNTL\n"
     ]
    },
    {
     "name": "stderr",
     "output_type": "stream",
     "text": [
      "<suds.sax.document.Document object at 0x7f797c99d8b0>\n",
      "<suds.sax.document.Document object at 0x7f797c72c640>\n"
     ]
    },
    {
     "name": "stdout",
     "output_type": "stream",
     "text": [
      "Snotel data fail, SNOTEL:1148_UT_SNTL\n",
      "Snotel data fail, SNOTEL:1157_WA_SNTL\n"
     ]
    },
    {
     "name": "stderr",
     "output_type": "stream",
     "text": [
      "<suds.sax.document.Document object at 0x7f797c774310>\n",
      "<suds.sax.document.Document object at 0x7f797c96aac0>\n",
      "<suds.sax.document.Document object at 0x7f797c72c190>\n"
     ]
    },
    {
     "name": "stdout",
     "output_type": "stream",
     "text": [
      "Snotel data fail, SNOTEL:1187_CO_SNTL\n",
      "Snotel data fail, SNOTEL:1203_NV_SNTL\n",
      "Snotel data fail, SNOTEL:1202_NV_SNTL\n"
     ]
    },
    {
     "name": "stderr",
     "output_type": "stream",
     "text": [
      "<suds.sax.document.Document object at 0x7f797c7504c0>\n",
      "<suds.sax.document.Document object at 0x7f797c753e80>\n",
      "<suds.sax.document.Document object at 0x7f797c7c7340>\n",
      "<suds.sax.document.Document object at 0x7f797c7b9d00>\n",
      "<suds.sax.document.Document object at 0x7f797c638220>\n"
     ]
    },
    {
     "name": "stdout",
     "output_type": "stream",
     "text": [
      "Snotel data fail, SNOTEL:1206_NV_SNTL\n",
      "Snotel data fail, SNOTEL:1205_NV_SNTL\n",
      "Snotel data fail, SNOTEL:1209_NV_SNTL\n",
      "Snotel data fail, SNOTEL:1236_UT_SNTL\n"
     ]
    },
    {
     "name": "stderr",
     "output_type": "stream",
     "text": [
      "<suds.sax.document.Document object at 0x7f797c6f4430>\n",
      "<suds.sax.document.Document object at 0x7f797c84f940>\n",
      "<suds.sax.document.Document object at 0x7f797c5b4a90>\n",
      "<suds.sax.document.Document object at 0x7f797c91c3a0>\n"
     ]
    },
    {
     "name": "stdout",
     "output_type": "stream",
     "text": [
      "Snotel data fail, SNOTEL:1213_NV_SNTL\n",
      "Snotel data fail, SNOTEL:1244_NV_SNTL\n",
      "Snotel data fail, SNOTEL:1243_NV_SNTL\n",
      "Snotel data fail, SNOTEL:1242_NV_SNTL\n"
     ]
    },
    {
     "name": "stderr",
     "output_type": "stream",
     "text": [
      "<suds.sax.document.Document object at 0x7f797c696580>\n",
      "<suds.sax.document.Document object at 0x7f797c96a730>\n",
      "<suds.sax.document.Document object at 0x7f797c774c10>\n",
      "<suds.sax.document.Document object at 0x7f797c8de0d0>\n"
     ]
    },
    {
     "name": "stdout",
     "output_type": "stream",
     "text": [
      "Snotel data fail, SNOTEL:1247_UT_SNTL\n",
      "Snotel data fail, SNOTEL:1248_UT_SNTL\n",
      "Snotel data fail, SNOTEL:1249_UT_SNTL\n",
      "Snotel data fail, SNOTEL:1252_CO_SNTL\n",
      "Snotel data fail, SNOTEL:1251_CO_SNTL\n"
     ]
    },
    {
     "name": "stderr",
     "output_type": "stream",
     "text": [
      "<suds.sax.document.Document object at 0x7f797c677d00>\n",
      "<suds.sax.document.Document object at 0x7f797c5732b0>\n",
      "<suds.sax.document.Document object at 0x7f797c8c0be0>\n",
      "<suds.sax.document.Document object at 0x7f797d51ad60>\n",
      "<suds.sax.document.Document object at 0x7f797c5607f0>\n"
     ]
    },
    {
     "name": "stdout",
     "output_type": "stream",
     "text": [
      "Snotel data fail, SNOTEL:1256_WA_SNTL\n",
      "Snotel data fail, SNOTEL:1263_WA_SNTL\n",
      "Snotel data fail, SNOTEL:1259_WA_SNTL\n",
      "Snotel data fail, SNOTEL:1262_NV_SNTL\n"
     ]
    },
    {
     "name": "stderr",
     "output_type": "stream",
     "text": [
      "<suds.sax.document.Document object at 0x7f797c5848e0>\n",
      "<suds.sax.document.Document object at 0x7f797d51a2e0>\n"
     ]
    },
    {
     "name": "stdout",
     "output_type": "stream",
     "text": [
      "Snotel data fail, SNOTEL:1272_NV_SNTLSnotel data fail, SNOTEL:1257_WA_SNTL\n",
      "\n"
     ]
    },
    {
     "name": "stderr",
     "output_type": "stream",
     "text": [
      "<suds.sax.document.Document object at 0x7f797c814c40>\n",
      "<suds.sax.document.Document object at 0x7f797c8218e0>\n",
      "<suds.sax.document.Document object at 0x7f797c94bdf0>\n",
      "<suds.sax.document.Document object at 0x7f797c584bb0>\n",
      "<suds.sax.document.Document object at 0x7f797c6b4e20>\n"
     ]
    },
    {
     "name": "stdout",
     "output_type": "stream",
     "text": [
      "Snotel data fail, SNOTEL:1261_UT_SNTL\n",
      "Snotel data fail, SNOTEL:1258_CA_SNTL\n",
      "Snotel data fail, SNOTEL:1269_UT_SNTL\n",
      "Snotel data fail, SNOTEL:1271_AZ_SNTL\n",
      "Snotel data fail, SNOTEL:1276_ID_SNTL\n"
     ]
    },
    {
     "name": "stderr",
     "output_type": "stream",
     "text": [
      "<suds.sax.document.Document object at 0x7f797c7506a0>\n",
      "<suds.sax.document.Document object at 0x7f797c5b47f0>\n",
      "<suds.sax.document.Document object at 0x7f797c5b4f10>\n",
      "<suds.sax.document.Document object at 0x7f797d51a040>\n"
     ]
    },
    {
     "name": "stdout",
     "output_type": "stream",
     "text": [
      "Snotel data fail, SNOTEL:1280_UT_SNTL\n",
      "Snotel data fail, SNOTEL:1277_CA_SNTL\n",
      "Snotel data fail, SNOTEL:247_CO_SNTL\n",
      "Snotel data fail, SNOTEL:1278_UT_SNTL\n",
      "Snotel data fail, SNOTEL:250_CO_SNTL\n"
     ]
    },
    {
     "name": "stderr",
     "output_type": "stream",
     "text": [
      "<suds.sax.document.Document object at 0x7f797c7c7850>\n",
      "<suds.sax.document.Document object at 0x7f797c6772e0>\n",
      "<suds.sax.document.Document object at 0x7f797c696130>\n"
     ]
    },
    {
     "name": "stdout",
     "output_type": "stream",
     "text": [
      "Snotel data fail, SNOTEL:1286_MT_SNTL\n",
      "Snotel data fail, SNOTEL:1287_MT_SNTL\n",
      "Snotel data fail, SNOTEL:248_CO_SNTL\n"
     ]
    },
    {
     "name": "stderr",
     "output_type": "stream",
     "text": [
      "<suds.sax.document.Document object at 0x7f797c562e50>\n",
      "<suds.sax.document.Document object at 0x7f797c96a3a0>\n",
      "<suds.sax.document.Document object at 0x7f797c521dc0>\n",
      "<suds.sax.document.Document object at 0x7f797c7206d0>\n"
     ]
    },
    {
     "name": "stdout",
     "output_type": "stream",
     "text": [
      "Snotel data fail, SNOTEL:246_CA_SNTL\n",
      "Snotel data fail, SNOTEL:255_MT_SNTL\n",
      "Snotel data fail, SNOTEL:252_MT_SNTL\n"
     ]
    },
    {
     "name": "stderr",
     "output_type": "stream",
     "text": [
      "<suds.sax.document.Document object at 0x7f797c774e50>\n",
      "<suds.sax.document.Document object at 0x7f797c562160>\n",
      "<suds.sax.document.Document object at 0x7f797c514c40>\n"
     ]
    },
    {
     "name": "stdout",
     "output_type": "stream",
     "text": [
      "Snotel data fail, SNOTEL:259_OR_SNTL\n",
      "Snotel data fail, SNOTEL:249_CO_SNTL\n",
      "Snotel data fail, SNOTEL:253_MT_SNTL\n"
     ]
    },
    {
     "name": "stderr",
     "output_type": "stream",
     "text": [
      "<suds.sax.document.Document object at 0x7f797c51f880>\n"
     ]
    },
    {
     "name": "stdout",
     "output_type": "stream",
     "text": [
      "Snotel data fail, SNOTEL:258_NV_SNTL\n",
      "Snotel data fail, SNOTEL:251_ID_SNTL\n"
     ]
    },
    {
     "name": "stderr",
     "output_type": "stream",
     "text": [
      "<suds.sax.document.Document object at 0x7f797c4d2940>\n",
      "<suds.sax.document.Document object at 0x7f797c6969a0>\n",
      "<suds.sax.document.Document object at 0x7f797c703d30>\n",
      "<suds.sax.document.Document object at 0x7f797c49d130>\n"
     ]
    },
    {
     "name": "stdout",
     "output_type": "stream",
     "text": [
      "Snotel data fail, SNOTEL:257_NV_SNTL\n",
      "Snotel data fail, SNOTEL:263_WA_SNTL\n",
      "Snotel data fail, SNOTEL:262_WA_SNTL\n"
     ]
    },
    {
     "name": "stderr",
     "output_type": "stream",
     "text": [
      "<suds.sax.document.Document object at 0x7f797c520670>\n",
      "<suds.sax.document.Document object at 0x7f797c4b34c0>\n",
      "<suds.sax.document.Document object at 0x7f797c3ffdc0>\n"
     ]
    },
    {
     "name": "stdout",
     "output_type": "stream",
     "text": [
      "Snotel data fail, SNOTEL:267_WY_SNTL\n",
      "Snotel data fail, SNOTEL:254_MT_SNTL\n",
      "Snotel data fail, SNOTEL:261_UT_SNTL\n"
     ]
    },
    {
     "name": "stderr",
     "output_type": "stream",
     "text": [
      "<suds.sax.document.Document object at 0x7f797c72cdf0>\n",
      "<suds.sax.document.Document object at 0x7f797c753ac0>\n",
      "<suds.sax.document.Document object at 0x7f797c49d670>\n"
     ]
    },
    {
     "name": "stdout",
     "output_type": "stream",
     "text": [
      "Snotel data fail, SNOTEL:266_WY_SNTL\n",
      "Snotel data fail, SNOTEL:256_MT_SNTL\n",
      "Snotel data fail, SNOTEL:268_WY_SNTL\n"
     ]
    },
    {
     "name": "stderr",
     "output_type": "stream",
     "text": [
      "<suds.sax.document.Document object at 0x7f797c49d3d0>\n"
     ]
    },
    {
     "name": "stdout",
     "output_type": "stream",
     "text": [
      "Snotel data fail, SNOTEL:264_WA_SNTL\n",
      "Snotel data fail, SNOTEL:269_WY_SNTL\n"
     ]
    },
    {
     "name": "stderr",
     "output_type": "stream",
     "text": [
      "<suds.sax.document.Document object at 0x7f797c375e20>\n",
      "<suds.sax.document.Document object at 0x7f797c573cd0>\n"
     ]
    },
    {
     "name": "stdout",
     "output_type": "stream",
     "text": [
      "Snotel data fail, SNOTEL:372_AZ_SNTL\n"
     ]
    },
    {
     "name": "stderr",
     "output_type": "stream",
     "text": [
      "<suds.sax.document.Document object at 0x7f797c5d5280>\n",
      "<suds.sax.document.Document object at 0x7f797c521c10>\n",
      "<suds.sax.document.Document object at 0x7f797c579760>\n"
     ]
    },
    {
     "name": "stdout",
     "output_type": "stream",
     "text": [
      "Snotel data fail, SNOTEL:397_WY_SNTL\n",
      "Snotel data fail, SNOTEL:421_WY_SNTL\n",
      "Snotel data fail, SNOTEL:441_UT_SNTL\n",
      "Snotel data fail, SNOTEL:1254_NM_SNTL\n"
     ]
    },
    {
     "name": "stderr",
     "output_type": "stream",
     "text": [
      "<suds.sax.document.Document object at 0x7f796c99f4f0>\n"
     ]
    },
    {
     "name": "stdout",
     "output_type": "stream",
     "text": [
      "Snotel data fail, SNOTEL:549_NV_SNTL\n"
     ]
    },
    {
     "name": "stderr",
     "output_type": "stream",
     "text": [
      "<suds.sax.document.Document object at 0x7f796d887970>\n"
     ]
    },
    {
     "name": "stdout",
     "output_type": "stream",
     "text": [
      "Snotel data fail, SNOTEL:598_WY_SNTL\n"
     ]
    },
    {
     "name": "stderr",
     "output_type": "stream",
     "text": [
      "<suds.sax.document.Document object at 0x7f796da00310>\n"
     ]
    },
    {
     "name": "stdout",
     "output_type": "stream",
     "text": [
      "Snotel data fail, SNOTEL:611_SD_SNTL\n"
     ]
    },
    {
     "name": "stderr",
     "output_type": "stream",
     "text": [
      "<suds.sax.document.Document object at 0x7f796e983dc0>\n"
     ]
    },
    {
     "name": "stdout",
     "output_type": "stream",
     "text": [
      "Snotel data fail, SNOTEL:630_WA_SNTL\n"
     ]
    },
    {
     "name": "stderr",
     "output_type": "stream",
     "text": [
      "<suds.sax.document.Document object at 0x7f796d821970>\n"
     ]
    },
    {
     "name": "stdout",
     "output_type": "stream",
     "text": [
      "Snotel data fail, SNOTEL:659_MT_SNTL\n"
     ]
    },
    {
     "name": "stderr",
     "output_type": "stream",
     "text": [
      "<suds.sax.document.Document object at 0x7f796c9472b0>\n",
      "<suds.sax.document.Document object at 0x7f796f7c43d0>\n"
     ]
    },
    {
     "name": "stdout",
     "output_type": "stream",
     "text": [
      "Snotel data fail, SNOTEL:678_NM_SNTL\n",
      "Snotel data fail, SNOTEL:685_CO_SNTL\n"
     ]
    },
    {
     "name": "stderr",
     "output_type": "stream",
     "text": [
      "<suds.sax.document.Document object at 0x7f797cc3e1f0>\n"
     ]
    },
    {
     "name": "stdout",
     "output_type": "stream",
     "text": [
      "Snotel data fail, SNOTEL:758_MT_SNTL\n"
     ]
    },
    {
     "name": "stderr",
     "output_type": "stream",
     "text": [
      "<suds.sax.document.Document object at 0x7f797cb1e910>\n",
      "<suds.sax.document.Document object at 0x7f797cf39d00>\n"
     ]
    },
    {
     "name": "stdout",
     "output_type": "stream",
     "text": [
      "Snotel data fail, SNOTEL:799_AZ_SNTL\n",
      "Snotel data fail, SNOTEL:8082_UT_SNTL\n"
     ]
    },
    {
     "name": "stderr",
     "output_type": "stream",
     "text": [
      "<suds.sax.document.Document object at 0x7f797c7c74f0>\n"
     ]
    },
    {
     "name": "stdout",
     "output_type": "stream",
     "text": [
      "Snotel data fail, SNOTEL:8011_WY_SNTL\n"
     ]
    },
    {
     "name": "stderr",
     "output_type": "stream",
     "text": [
      "<suds.sax.document.Document object at 0x7f797cafa340>\n"
     ]
    },
    {
     "name": "stdout",
     "output_type": "stream",
     "text": [
      "Snotel data fail, SNOTEL:851_WY_SNTL\n"
     ]
    },
    {
     "name": "stderr",
     "output_type": "stream",
     "text": [
      "<suds.sax.document.Document object at 0x7f797c5d5130>\n",
      "<suds.sax.document.Document object at 0x7f797cfa5c10>\n"
     ]
    },
    {
     "name": "stdout",
     "output_type": "stream",
     "text": [
      "Snotel data fail, SNOTEL:976_OR_SNTL\n",
      "Snotel data fail, SNOTEL:991_WA_SNTL\n"
     ]
    },
    {
     "name": "stderr",
     "output_type": "stream",
     "text": [
      "<suds.sax.document.Document object at 0x7f797cd5cfa0>\n",
      "<suds.sax.document.Document object at 0x7f797caf3250>\n"
     ]
    },
    {
     "name": "stdout",
     "output_type": "stream",
     "text": [
      "Snotel data fail, SNOTEL:995_WA_SNTL\n"
     ]
    },
    {
     "name": "stderr",
     "output_type": "stream",
     "text": [
      "<suds.sax.document.Document object at 0x7f797cafa460>\n"
     ]
    },
    {
     "name": "stdout",
     "output_type": "stream",
     "text": [
      "Snotel data fail, SNOTEL:994_WA_SNTL\n",
      "Snotel data fail, SNOTEL:996_WA_SNTL\n"
     ]
    },
    {
     "name": "stderr",
     "output_type": "stream",
     "text": [
      "  4%|▍         | 10/239 [05:23<2:03:36, 32.38s/it]"
     ]
    },
    {
     "name": "stdout",
     "output_type": "stream",
     "text": [
      "Updating SWE predictions for  2013-03-12\n",
      "Getting California Data Exchange Center SWE data from sites: \n",
      "CDEC data fail, https://cdec.water.ca.gov/dynamicapp/selectQuery?Stations=SSM&SensorNums=3&dur_code=D&Start=2013-03-11&End=2013-03-12\n",
      "Getting NRCS SNOTEL SWE data from sites: \n"
     ]
    },
    {
     "name": "stderr",
     "output_type": "stream",
     "text": [
      "<suds.sax.document.Document object at 0x7f797c9d59a0>\n",
      "<suds.sax.document.Document object at 0x7f797cf4e130>\n",
      "<suds.sax.document.Document object at 0x7f797cddffd0>\n"
     ]
    },
    {
     "name": "stdout",
     "output_type": "stream",
     "text": [
      "Snotel data fail, SNOTEL:1004_WA_SNTL\n",
      "Snotel data fail, SNOTEL:1020_OR_SNTL\n"
     ]
    },
    {
     "name": "stderr",
     "output_type": "stream",
     "text": [
      "<suds.sax.document.Document object at 0x7f797cafa7c0>\n",
      "<suds.sax.document.Document object at 0x7f797ce062b0>\n",
      "<suds.sax.document.Document object at 0x7f796d891880>\n",
      "<suds.sax.document.Document object at 0x7f796f65cb80>\n"
     ]
    },
    {
     "name": "stdout",
     "output_type": "stream",
     "text": [
      "Snotel data fail, SNOTEL:1018_OR_SNTL\n",
      "Snotel data fail, SNOTEL:1022_OR_SNTL\n",
      "Snotel data fail, SNOTEL:1025_OR_SNTL\n",
      "Snotel data fail, SNOTEL:1019_OR_SNTL\n",
      "Snotel data fail, SNOTEL:1007_OR_SNTL\n"
     ]
    },
    {
     "name": "stderr",
     "output_type": "stream",
     "text": [
      "<suds.sax.document.Document object at 0x7f796d742a60>\n",
      "<suds.sax.document.Document object at 0x7f797cbfc7f0>\n",
      "<suds.sax.document.Document object at 0x7f797cd0b310>\n",
      "<suds.sax.document.Document object at 0x7f796d702580>\n"
     ]
    },
    {
     "name": "stdout",
     "output_type": "stream",
     "text": [
      "Snotel data fail, SNOTEL:1029_OR_SNTL\n",
      "Snotel data fail, SNOTEL:1027_OR_SNTL\n",
      "Snotel data fail, SNOTEL:1023_OR_SNTL\n"
     ]
    },
    {
     "name": "stderr",
     "output_type": "stream",
     "text": [
      "<suds.sax.document.Document object at 0x7f797cf39a90>\n",
      "<suds.sax.document.Document object at 0x7f796d821a30>\n",
      "<suds.sax.document.Document object at 0x7f797cb45190>\n"
     ]
    },
    {
     "name": "stdout",
     "output_type": "stream",
     "text": [
      "Snotel data fail, SNOTEL:1028_OR_SNTL\n",
      "Snotel data fail, SNOTEL:1024_OR_SNTL\n",
      "Snotel data fail, SNOTEL:1021_OR_SNTL\n",
      "Snotel data fail, SNOTEL:1038_ID_SNTL\n"
     ]
    },
    {
     "name": "stderr",
     "output_type": "stream",
     "text": [
      "<suds.sax.document.Document object at 0x7f797cbefaf0>\n"
     ]
    },
    {
     "name": "stdout",
     "output_type": "stream",
     "text": [
      "Snotel data fail, SNOTEL:1148_UT_SNTL\n"
     ]
    },
    {
     "name": "stderr",
     "output_type": "stream",
     "text": [
      "<suds.sax.document.Document object at 0x7f797cd0b4f0>\n"
     ]
    },
    {
     "name": "stdout",
     "output_type": "stream",
     "text": [
      "Snotel data fail, SNOTEL:1157_WA_SNTL\n"
     ]
    },
    {
     "name": "stderr",
     "output_type": "stream",
     "text": [
      "<suds.sax.document.Document object at 0x7f797c301ca0>\n",
      "<suds.sax.document.Document object at 0x7f796f342190>\n"
     ]
    },
    {
     "name": "stdout",
     "output_type": "stream",
     "text": [
      "Snotel data fail, SNOTEL:1187_CO_SNTL\n"
     ]
    },
    {
     "name": "stderr",
     "output_type": "stream",
     "text": [
      "<suds.sax.document.Document object at 0x7f796d821640>\n",
      "<suds.sax.document.Document object at 0x7f797caaa6d0>\n",
      "<suds.sax.document.Document object at 0x7f796dabd760>\n",
      "<suds.sax.document.Document object at 0x7f796d74a520>\n",
      "<suds.sax.document.Document object at 0x7f797cde85e0>\n"
     ]
    },
    {
     "name": "stdout",
     "output_type": "stream",
     "text": [
      "Snotel data fail, SNOTEL:1209_NV_SNTL\n",
      "Snotel data fail, SNOTEL:1203_NV_SNTL\n",
      "Snotel data fail, SNOTEL:1206_NV_SNTL\n",
      "Snotel data fail, SNOTEL:1205_NV_SNTL\n",
      "Snotel data fail, SNOTEL:1213_NV_SNTL\n"
     ]
    },
    {
     "name": "stderr",
     "output_type": "stream",
     "text": [
      "<suds.sax.document.Document object at 0x7f796da34550>\n",
      "<suds.sax.document.Document object at 0x7f797cbeff10>\n",
      "<suds.sax.document.Document object at 0x7f797cd83310>\n",
      "<suds.sax.document.Document object at 0x7f797cde8b20>\n"
     ]
    },
    {
     "name": "stdout",
     "output_type": "stream",
     "text": [
      "Snotel data fail, SNOTEL:1202_NV_SNTL\n",
      "Snotel data fail, SNOTEL:1236_UT_SNTL\n",
      "Snotel data fail, SNOTEL:1247_UT_SNTL\n",
      "Snotel data fail, SNOTEL:1242_NV_SNTL\n"
     ]
    },
    {
     "name": "stderr",
     "output_type": "stream",
     "text": [
      "<suds.sax.document.Document object at 0x7f797c6434f0>\n",
      "<suds.sax.document.Document object at 0x7f796d821760>\n",
      "<suds.sax.document.Document object at 0x7f797ce65bb0>\n",
      "<suds.sax.document.Document object at 0x7f797cb47e20>\n"
     ]
    },
    {
     "name": "stdout",
     "output_type": "stream",
     "text": [
      "Snotel data fail, SNOTEL:1243_NV_SNTL\n",
      "Snotel data fail, SNOTEL:1248_UT_SNTL\n",
      "Snotel data fail, SNOTEL:1244_NV_SNTL\n",
      "Snotel data fail, SNOTEL:1249_UT_SNTL\n"
     ]
    },
    {
     "name": "stderr",
     "output_type": "stream",
     "text": [
      "<suds.sax.document.Document object at 0x7f796dabdfa0>\n",
      "<suds.sax.document.Document object at 0x7f796d90d6d0>\n",
      "<suds.sax.document.Document object at 0x7f796e983af0>\n",
      "<suds.sax.document.Document object at 0x7f796d90d040>\n"
     ]
    },
    {
     "name": "stdout",
     "output_type": "stream",
     "text": [
      "Snotel data fail, SNOTEL:1251_CO_SNTL\n",
      "Snotel data fail, SNOTEL:1257_WA_SNTL\n",
      "Snotel data fail, SNOTEL:1254_NM_SNTL\n",
      "Snotel data fail, SNOTEL:1252_CO_SNTL\n"
     ]
    },
    {
     "name": "stderr",
     "output_type": "stream",
     "text": [
      "<suds.sax.document.Document object at 0x7f797c643df0>\n",
      "<suds.sax.document.Document object at 0x7f796d7420a0>\n"
     ]
    },
    {
     "name": "stdout",
     "output_type": "stream",
     "text": [
      "Snotel data fail, SNOTEL:1256_WA_SNTL\n",
      "Snotel data fail, SNOTEL:1258_CA_SNTL\n",
      "Snotel data fail, SNOTEL:1261_UT_SNTL\n"
     ]
    },
    {
     "name": "stderr",
     "output_type": "stream",
     "text": [
      "<suds.sax.document.Document object at 0x7f796d8e3ca0>\n",
      "<suds.sax.document.Document object at 0x7f796d90e880>\n",
      "<suds.sax.document.Document object at 0x7f797c8f3670>\n",
      "<suds.sax.document.Document object at 0x7f797cc0bb50>\n"
     ]
    },
    {
     "name": "stdout",
     "output_type": "stream",
     "text": [
      "Snotel data fail, SNOTEL:1259_WA_SNTL\n",
      "Snotel data fail, SNOTEL:1262_NV_SNTL\n",
      "Snotel data fail, SNOTEL:1263_WA_SNTL\n"
     ]
    },
    {
     "name": "stderr",
     "output_type": "stream",
     "text": [
      "<suds.sax.document.Document object at 0x7f797ce35100>\n"
     ]
    },
    {
     "name": "stdout",
     "output_type": "stream",
     "text": [
      "Snotel data fail, SNOTEL:1269_UT_SNTL\n",
      "Snotel data fail, SNOTEL:1272_NV_SNTL\n"
     ]
    },
    {
     "name": "stderr",
     "output_type": "stream",
     "text": [
      "<suds.sax.document.Document object at 0x7f797ce1b8b0>\n",
      "<suds.sax.document.Document object at 0x7f797caf3220>\n",
      "<suds.sax.document.Document object at 0x7f796da34280>\n",
      "<suds.sax.document.Document object at 0x7f796d858b20>\n",
      "<suds.sax.document.Document object at 0x7f796f75e7c0>\n"
     ]
    },
    {
     "name": "stdout",
     "output_type": "stream",
     "text": [
      "Snotel data fail, SNOTEL:1271_AZ_SNTL\n",
      "Snotel data fail, SNOTEL:1276_ID_SNTL\n",
      "Snotel data fail, SNOTEL:1277_CA_SNTL\n",
      "Snotel data fail, SNOTEL:1278_UT_SNTL\n"
     ]
    },
    {
     "name": "stderr",
     "output_type": "stream",
     "text": [
      "<suds.sax.document.Document object at 0x7f796f342fd0>\n",
      "<suds.sax.document.Document object at 0x7f797c99c760>\n"
     ]
    },
    {
     "name": "stdout",
     "output_type": "stream",
     "text": [
      "Snotel data fail, SNOTEL:246_CA_SNTL\n",
      "Snotel data fail, SNOTEL:1280_UT_SNTL\n",
      "Snotel data fail, SNOTEL:1286_MT_SNTL\n"
     ]
    },
    {
     "name": "stderr",
     "output_type": "stream",
     "text": [
      "<suds.sax.document.Document object at 0x7f796da34460>\n",
      "<suds.sax.document.Document object at 0x7f797c8f3a30>\n",
      "<suds.sax.document.Document object at 0x7f796c99f2b0>\n",
      "<suds.sax.document.Document object at 0x7f796f76f580>\n",
      "<suds.sax.document.Document object at 0x7f796da00250>\n"
     ]
    },
    {
     "name": "stdout",
     "output_type": "stream",
     "text": [
      "Snotel data fail, SNOTEL:247_CO_SNTL\n",
      "Snotel data fail, SNOTEL:249_CO_SNTL\n",
      "Snotel data fail, SNOTEL:253_MT_SNTL\n",
      "Snotel data fail, SNOTEL:252_MT_SNTL\n",
      "Snotel data fail, SNOTEL:251_ID_SNTL\n"
     ]
    },
    {
     "name": "stderr",
     "output_type": "stream",
     "text": [
      "<suds.sax.document.Document object at 0x7f796c947e20>\n",
      "<suds.sax.document.Document object at 0x7f796c995640>\n",
      "<suds.sax.document.Document object at 0x7f797c23b820>\n",
      "<suds.sax.document.Document object at 0x7f796d742f70>\n"
     ]
    },
    {
     "name": "stdout",
     "output_type": "stream",
     "text": [
      "Snotel data fail, SNOTEL:250_CO_SNTL\n",
      "Snotel data fail, SNOTEL:254_MT_SNTL\n",
      "Snotel data fail, SNOTEL:258_NV_SNTL\n"
     ]
    },
    {
     "name": "stderr",
     "output_type": "stream",
     "text": [
      "<suds.sax.document.Document object at 0x7f796f6ebfa0>\n",
      "<suds.sax.document.Document object at 0x7f796c96c490>\n",
      "<suds.sax.document.Document object at 0x7f797c2cfa00>\n",
      "<suds.sax.document.Document object at 0x7f797cde8280>\n"
     ]
    },
    {
     "name": "stdout",
     "output_type": "stream",
     "text": [
      "Snotel data fail, SNOTEL:248_CO_SNTL\n",
      "Snotel data fail, SNOTEL:1287_MT_SNTL\n",
      "Snotel data fail, SNOTEL:256_MT_SNTL\n",
      "Snotel data fail, SNOTEL:255_MT_SNTL\n",
      "Snotel data fail, SNOTEL:263_WA_SNTL\n"
     ]
    },
    {
     "name": "stderr",
     "output_type": "stream",
     "text": [
      "<suds.sax.document.Document object at 0x7f797c9a0a90>\n",
      "<suds.sax.document.Document object at 0x7f796c96c160>\n",
      "<suds.sax.document.Document object at 0x7f796c96cdf0>\n",
      "<suds.sax.document.Document object at 0x7f797c28bdf0>\n"
     ]
    },
    {
     "name": "stdout",
     "output_type": "stream",
     "text": [
      "Snotel data fail, SNOTEL:257_NV_SNTL\n",
      "Snotel data fail, SNOTEL:261_UT_SNTL\n",
      "Snotel data fail, SNOTEL:268_WY_SNTL\n",
      "Snotel data fail, SNOTEL:259_OR_SNTL\n"
     ]
    },
    {
     "name": "stderr",
     "output_type": "stream",
     "text": [
      "<suds.sax.document.Document object at 0x7f797c2c2640>\n",
      "<suds.sax.document.Document object at 0x7f796d742310>\n",
      "<suds.sax.document.Document object at 0x7f796d90e5b0>\n"
     ]
    },
    {
     "name": "stdout",
     "output_type": "stream",
     "text": [
      "Snotel data fail, SNOTEL:262_WA_SNTL\n",
      "Snotel data fail, SNOTEL:266_WY_SNTL\n"
     ]
    },
    {
     "name": "stderr",
     "output_type": "stream",
     "text": [
      "<suds.sax.document.Document object at 0x7f797c2a2fa0>\n",
      "<suds.sax.document.Document object at 0x7f797c301760>\n"
     ]
    },
    {
     "name": "stdout",
     "output_type": "stream",
     "text": [
      "Snotel data fail, SNOTEL:264_WA_SNTL\n",
      "Snotel data fail, SNOTEL:267_WY_SNTL\n"
     ]
    },
    {
     "name": "stderr",
     "output_type": "stream",
     "text": [
      "<suds.sax.document.Document object at 0x7f797c412a00>\n",
      "<suds.sax.document.Document object at 0x7f796da34190>\n"
     ]
    },
    {
     "name": "stdout",
     "output_type": "stream",
     "text": [
      "Snotel data fail, SNOTEL:269_WY_SNTL\n",
      "Snotel data fail, SNOTEL:372_AZ_SNTL\n",
      "Snotel data fail, SNOTEL:397_WY_SNTL\n"
     ]
    },
    {
     "name": "stderr",
     "output_type": "stream",
     "text": [
      "<suds.sax.document.Document object at 0x7f796d90ebb0>\n",
      "<suds.sax.document.Document object at 0x7f797c560fa0>\n"
     ]
    },
    {
     "name": "stdout",
     "output_type": "stream",
     "text": [
      "Snotel data fail, SNOTEL:421_WY_SNTL\n",
      "Snotel data fail, SNOTEL:441_UT_SNTL\n"
     ]
    },
    {
     "name": "stderr",
     "output_type": "stream",
     "text": [
      "<suds.sax.document.Document object at 0x7f796c995a60>\n"
     ]
    },
    {
     "name": "stdout",
     "output_type": "stream",
     "text": [
      "Snotel data fail, SNOTEL:549_NV_SNTL\n"
     ]
    },
    {
     "name": "stderr",
     "output_type": "stream",
     "text": [
      "<suds.sax.document.Document object at 0x7f797cdf6c70>\n",
      "<suds.sax.document.Document object at 0x7f797c6288e0>\n"
     ]
    },
    {
     "name": "stdout",
     "output_type": "stream",
     "text": [
      "Snotel data fail, SNOTEL:598_WY_SNTL\n",
      "Snotel data fail, SNOTEL:611_SD_SNTL\n"
     ]
    },
    {
     "name": "stderr",
     "output_type": "stream",
     "text": [
      "<suds.sax.document.Document object at 0x7f796f75e3d0>\n"
     ]
    },
    {
     "name": "stdout",
     "output_type": "stream",
     "text": [
      "Snotel data fail, SNOTEL:630_WA_SNTL\n"
     ]
    },
    {
     "name": "stderr",
     "output_type": "stream",
     "text": [
      "<suds.sax.document.Document object at 0x7f796f6a7970>\n",
      "<suds.sax.document.Document object at 0x7f796f4944c0>\n"
     ]
    },
    {
     "name": "stdout",
     "output_type": "stream",
     "text": [
      "Snotel data fail, SNOTEL:659_MT_SNTL\n",
      "Snotel data fail, SNOTEL:678_NM_SNTL\n"
     ]
    },
    {
     "name": "stderr",
     "output_type": "stream",
     "text": [
      "<suds.sax.document.Document object at 0x7f797c51f220>\n"
     ]
    },
    {
     "name": "stdout",
     "output_type": "stream",
     "text": [
      "Snotel data fail, SNOTEL:685_CO_SNTL\n"
     ]
    },
    {
     "name": "stderr",
     "output_type": "stream",
     "text": [
      "<suds.sax.document.Document object at 0x7f797ce208e0>\n"
     ]
    },
    {
     "name": "stdout",
     "output_type": "stream",
     "text": [
      "Snotel data fail, SNOTEL:758_MT_SNTL\n"
     ]
    },
    {
     "name": "stderr",
     "output_type": "stream",
     "text": [
      "<suds.sax.document.Document object at 0x7f797c677190>\n",
      "<suds.sax.document.Document object at 0x7f797c961f10>\n",
      "<suds.sax.document.Document object at 0x7f797c88fe20>\n"
     ]
    },
    {
     "name": "stdout",
     "output_type": "stream",
     "text": [
      "Snotel data fail, SNOTEL:8011_WY_SNTL\n",
      "Snotel data fail, SNOTEL:799_AZ_SNTL\n",
      "Snotel data fail, SNOTEL:8082_UT_SNTL\n"
     ]
    },
    {
     "name": "stderr",
     "output_type": "stream",
     "text": [
      "<suds.sax.document.Document object at 0x7f797c696160>\n"
     ]
    },
    {
     "name": "stdout",
     "output_type": "stream",
     "text": [
      "Snotel data fail, SNOTEL:851_WY_SNTL\n"
     ]
    },
    {
     "name": "stderr",
     "output_type": "stream",
     "text": [
      "<suds.sax.document.Document object at 0x7f797cf76df0>\n",
      "<suds.sax.document.Document object at 0x7f797cc75ee0>\n",
      "<suds.sax.document.Document object at 0x7f7948db05e0>\n",
      "<suds.sax.document.Document object at 0x7f797cd96940>\n"
     ]
    },
    {
     "name": "stdout",
     "output_type": "stream",
     "text": [
      "Snotel data fail, SNOTEL:996_WA_SNTL\n",
      "Snotel data fail, SNOTEL:995_WA_SNTL\n",
      "Snotel data fail, SNOTEL:994_WA_SNTL\n",
      "Snotel data fail, SNOTEL:991_WA_SNTL\n"
     ]
    },
    {
     "name": "stderr",
     "output_type": "stream",
     "text": [
      "<suds.sax.document.Document object at 0x7f797c8e1250>\n",
      "  5%|▍         | 11/239 [05:56<2:03:23, 32.47s/it]"
     ]
    },
    {
     "name": "stdout",
     "output_type": "stream",
     "text": [
      "Snotel data fail, SNOTEL:976_OR_SNTL\n",
      "Updating SWE predictions for  2013-03-19\n",
      "Getting California Data Exchange Center SWE data from sites: \n",
      "CDEC data fail, https://cdec.water.ca.gov/dynamicapp/selectQuery?Stations=SSM&SensorNums=3&dur_code=D&Start=2013-03-18&End=2013-03-19\n",
      "Getting NRCS SNOTEL SWE data from sites: \n"
     ]
    },
    {
     "name": "stderr",
     "output_type": "stream",
     "text": [
      "<suds.sax.document.Document object at 0x7f797cc4f0d0>\n",
      "<suds.sax.document.Document object at 0x7f796f3429a0>\n",
      "<suds.sax.document.Document object at 0x7f797c7c7730>\n",
      "<suds.sax.document.Document object at 0x7f797c73c370>\n",
      "<suds.sax.document.Document object at 0x7f796f3ee280>\n"
     ]
    },
    {
     "name": "stdout",
     "output_type": "stream",
     "text": [
      "Snotel data fail, SNOTEL:1004_WA_SNTL\n",
      "Snotel data fail, SNOTEL:1021_OR_SNTL\n",
      "Snotel data fail, SNOTEL:1018_OR_SNTL\n",
      "Snotel data fail, SNOTEL:1007_OR_SNTL\n"
     ]
    },
    {
     "name": "stderr",
     "output_type": "stream",
     "text": [
      "<suds.sax.document.Document object at 0x7f797cd83490>\n",
      "<suds.sax.document.Document object at 0x7f797c750c40>\n",
      "<suds.sax.document.Document object at 0x7f797c3ecdc0>\n",
      "<suds.sax.document.Document object at 0x7f797ce06f10>\n",
      "<suds.sax.document.Document object at 0x7f796f4754c0>\n"
     ]
    },
    {
     "name": "stdout",
     "output_type": "stream",
     "text": [
      "Snotel data fail, SNOTEL:1019_OR_SNTL\n",
      "Snotel data fail, SNOTEL:1020_OR_SNTL\n",
      "Snotel data fail, SNOTEL:1027_OR_SNTL\n",
      "Snotel data fail, SNOTEL:1024_OR_SNTL\n",
      "Snotel data fail, SNOTEL:1028_OR_SNTL\n"
     ]
    },
    {
     "name": "stderr",
     "output_type": "stream",
     "text": [
      "<suds.sax.document.Document object at 0x7f797cd50910>\n",
      "<suds.sax.document.Document object at 0x7f796d187d90>\n",
      "<suds.sax.document.Document object at 0x7f797cf034f0>\n"
     ]
    },
    {
     "name": "stdout",
     "output_type": "stream",
     "text": [
      "Snotel data fail, SNOTEL:1025_OR_SNTL\n",
      "Snotel data fail, SNOTEL:1029_OR_SNTL\n",
      "Snotel data fail, SNOTEL:1023_OR_SNTL\n"
     ]
    },
    {
     "name": "stderr",
     "output_type": "stream",
     "text": [
      "<suds.sax.document.Document object at 0x7f797cd5c970>\n"
     ]
    },
    {
     "name": "stdout",
     "output_type": "stream",
     "text": [
      "Snotel data fail, SNOTEL:1038_ID_SNTL\n",
      "Snotel data fail, SNOTEL:1022_OR_SNTL\n"
     ]
    },
    {
     "name": "stderr",
     "output_type": "stream",
     "text": [
      "<suds.sax.document.Document object at 0x7f797cd73880>\n",
      "<suds.sax.document.Document object at 0x7f797ce01460>\n"
     ]
    },
    {
     "name": "stdout",
     "output_type": "stream",
     "text": [
      "Snotel data fail, SNOTEL:1148_UT_SNTL\n",
      "Snotel data fail, SNOTEL:1157_WA_SNTL\n"
     ]
    },
    {
     "name": "stderr",
     "output_type": "stream",
     "text": [
      "<suds.sax.document.Document object at 0x7f797cd949a0>\n",
      "<suds.sax.document.Document object at 0x7f797c3d42e0>\n",
      "<suds.sax.document.Document object at 0x7f797c584610>\n",
      "<suds.sax.document.Document object at 0x7f797cd73130>\n"
     ]
    },
    {
     "name": "stdout",
     "output_type": "stream",
     "text": [
      "Snotel data fail, SNOTEL:1187_CO_SNTL\n",
      "Snotel data fail, SNOTEL:1209_NV_SNTL\n",
      "Snotel data fail, SNOTEL:1205_NV_SNTL\n"
     ]
    },
    {
     "name": "stderr",
     "output_type": "stream",
     "text": [
      "<suds.sax.document.Document object at 0x7f797cd73af0>\n",
      "<suds.sax.document.Document object at 0x7f797c863820>\n",
      "<suds.sax.document.Document object at 0x7f797c410280>\n"
     ]
    },
    {
     "name": "stdout",
     "output_type": "stream",
     "text": [
      "Snotel data fail, SNOTEL:1202_NV_SNTL\n",
      "Snotel data fail, SNOTEL:1206_NV_SNTL\n",
      "Snotel data fail, SNOTEL:1203_NV_SNTL\n",
      "Snotel data fail, SNOTEL:1213_NV_SNTL\n"
     ]
    },
    {
     "name": "stderr",
     "output_type": "stream",
     "text": [
      "<suds.sax.document.Document object at 0x7f797cfa4e20>\n",
      "<suds.sax.document.Document object at 0x7f797cd1ea00>\n"
     ]
    },
    {
     "name": "stdout",
     "output_type": "stream",
     "text": [
      "Snotel data fail, SNOTEL:1247_UT_SNTL\n",
      "Snotel data fail, SNOTEL:1236_UT_SNTL\n"
     ]
    },
    {
     "name": "stderr",
     "output_type": "stream",
     "text": [
      "<suds.sax.document.Document object at 0x7f796d891370>\n",
      "<suds.sax.document.Document object at 0x7f797ceadcd0>\n",
      "<suds.sax.document.Document object at 0x7f797cf39a00>\n",
      "<suds.sax.document.Document object at 0x7f797c4236d0>\n"
     ]
    },
    {
     "name": "stdout",
     "output_type": "stream",
     "text": [
      "Snotel data fail, SNOTEL:1243_NV_SNTL\n",
      "Snotel data fail, SNOTEL:1242_NV_SNTL\n",
      "Snotel data fail, SNOTEL:1252_CO_SNTL\n"
     ]
    },
    {
     "name": "stderr",
     "output_type": "stream",
     "text": [
      "<suds.sax.document.Document object at 0x7f797c319430>\n",
      "<suds.sax.document.Document object at 0x7f796d921520>\n",
      "<suds.sax.document.Document object at 0x7f796d994880>\n",
      "<suds.sax.document.Document object at 0x7f797ce29c70>\n"
     ]
    },
    {
     "name": "stdout",
     "output_type": "stream",
     "text": [
      "Snotel data fail, SNOTEL:1244_NV_SNTL\n",
      "Snotel data fail, SNOTEL:1249_UT_SNTL\n",
      "Snotel data fail, SNOTEL:1248_UT_SNTL\n",
      "Snotel data fail, SNOTEL:1254_NM_SNTL\n"
     ]
    },
    {
     "name": "stderr",
     "output_type": "stream",
     "text": [
      "<suds.sax.document.Document object at 0x7f797cae26a0>\n",
      "<suds.sax.document.Document object at 0x7f796d98f3a0>\n"
     ]
    },
    {
     "name": "stdout",
     "output_type": "stream",
     "text": [
      "Snotel data fail, SNOTEL:1258_CA_SNTL\n",
      "Snotel data fail, SNOTEL:1251_CO_SNTL\n"
     ]
    },
    {
     "name": "stderr",
     "output_type": "stream",
     "text": [
      "<suds.sax.document.Document object at 0x7f797cdbba30>\n",
      "<suds.sax.document.Document object at 0x7f797cc75b80>\n",
      "<suds.sax.document.Document object at 0x7f797c863a60>\n",
      "<suds.sax.document.Document object at 0x7f797c8a7a30>\n",
      "<suds.sax.document.Document object at 0x7f797c9a0850>\n",
      "<suds.sax.document.Document object at 0x7f797cd1ef70>\n",
      "<suds.sax.document.Document object at 0x7f797cda4b50>\n"
     ]
    },
    {
     "name": "stdout",
     "output_type": "stream",
     "text": [
      "Snotel data fail, SNOTEL:1262_NV_SNTL\n",
      "Snotel data fail, SNOTEL:1269_UT_SNTL\n",
      "Snotel data fail, SNOTEL:1256_WA_SNTL\n",
      "Snotel data fail, SNOTEL:1261_UT_SNTL\n",
      "Snotel data fail, SNOTEL:1271_AZ_SNTL\n",
      "Snotel data fail, SNOTEL:1257_WA_SNTL\n",
      "Snotel data fail, SNOTEL:1276_ID_SNTL\n",
      "Snotel data fail, SNOTEL:1263_WA_SNTL\n"
     ]
    },
    {
     "name": "stderr",
     "output_type": "stream",
     "text": [
      "<suds.sax.document.Document object at 0x7f797cda4790>\n",
      "<suds.sax.document.Document object at 0x7f797cda4b20>\n",
      "<suds.sax.document.Document object at 0x7f797cfa5040>\n",
      "<suds.sax.document.Document object at 0x7f797cfa8160>\n",
      "<suds.sax.document.Document object at 0x7f797cd1e1c0>\n",
      "<suds.sax.document.Document object at 0x7f796f6a71c0>\n"
     ]
    },
    {
     "name": "stdout",
     "output_type": "stream",
     "text": [
      "Snotel data fail, SNOTEL:1278_UT_SNTL\n",
      "Snotel data fail, SNOTEL:1280_UT_SNTL\n",
      "Snotel data fail, SNOTEL:1277_CA_SNTL\n",
      "Snotel data fail, SNOTEL:247_CO_SNTL\n",
      "Snotel data fail, SNOTEL:1286_MT_SNTL\n"
     ]
    },
    {
     "name": "stderr",
     "output_type": "stream",
     "text": [
      "<suds.sax.document.Document object at 0x7f797cd1eaf0>\n",
      "<suds.sax.document.Document object at 0x7f797c901970>\n",
      "<suds.sax.document.Document object at 0x7f797ce61070>\n",
      "<suds.sax.document.Document object at 0x7f797cb46d60>\n",
      "<suds.sax.document.Document object at 0x7f797ce72760>\n"
     ]
    },
    {
     "name": "stdout",
     "output_type": "stream",
     "text": [
      "Snotel data fail, SNOTEL:1272_NV_SNTL\n",
      "Snotel data fail, SNOTEL:246_CA_SNTL\n",
      "Snotel data fail, SNOTEL:1287_MT_SNTL\n",
      "Snotel data fail, SNOTEL:248_CO_SNTL\n",
      "Snotel data fail, SNOTEL:1259_WA_SNTL\n",
      "Snotel data fail, SNOTEL:253_MT_SNTL\n"
     ]
    },
    {
     "name": "stderr",
     "output_type": "stream",
     "text": [
      "<suds.sax.document.Document object at 0x7f797cd98a60>\n",
      "<suds.sax.document.Document object at 0x7f797ce67280>\n",
      "<suds.sax.document.Document object at 0x7f797cd63d60>\n",
      "<suds.sax.document.Document object at 0x7f7948d92790>\n",
      "<suds.sax.document.Document object at 0x7f797cd67ee0>\n",
      "<suds.sax.document.Document object at 0x7f797cead490>\n"
     ]
    },
    {
     "name": "stdout",
     "output_type": "stream",
     "text": [
      "Snotel data fail, SNOTEL:251_ID_SNTL\n",
      "Snotel data fail, SNOTEL:249_CO_SNTL\n",
      "Snotel data fail, SNOTEL:250_CO_SNTL\n",
      "Snotel data fail, SNOTEL:257_NV_SNTL\n",
      "Snotel data fail, SNOTEL:254_MT_SNTL\n"
     ]
    },
    {
     "name": "stderr",
     "output_type": "stream",
     "text": [
      "<suds.sax.document.Document object at 0x7f797c1fc430>\n",
      "<suds.sax.document.Document object at 0x7f797c584460>\n",
      "<suds.sax.document.Document object at 0x7f797ce67970>\n",
      "<suds.sax.document.Document object at 0x7f797c1fef70>\n",
      "<suds.sax.document.Document object at 0x7f797cd67b50>\n"
     ]
    },
    {
     "name": "stdout",
     "output_type": "stream",
     "text": [
      "Snotel data fail, SNOTEL:252_MT_SNTL\n",
      "Snotel data fail, SNOTEL:261_UT_SNTL\n",
      "Snotel data fail, SNOTEL:255_MT_SNTL\n",
      "Snotel data fail, SNOTEL:259_OR_SNTL\n",
      "Snotel data fail, SNOTEL:256_MT_SNTL\n"
     ]
    },
    {
     "name": "stderr",
     "output_type": "stream",
     "text": [
      "<suds.sax.document.Document object at 0x7f796f5faf70>\n",
      "<suds.sax.document.Document object at 0x7f7948d9d040>\n",
      "<suds.sax.document.Document object at 0x7f797c99d880>\n"
     ]
    },
    {
     "name": "stdout",
     "output_type": "stream",
     "text": [
      "Snotel data fail, SNOTEL:262_WA_SNTL\n",
      "Snotel data fail, SNOTEL:264_WA_SNTL\n",
      "Snotel data fail, SNOTEL:263_WA_SNTL\n",
      "Snotel data fail, SNOTEL:258_NV_SNTL\n"
     ]
    },
    {
     "name": "stderr",
     "output_type": "stream",
     "text": [
      "<suds.sax.document.Document object at 0x7f797cda46d0>\n",
      "<suds.sax.document.Document object at 0x7f797ce14610>\n",
      "<suds.sax.document.Document object at 0x7f796f62dd30>\n",
      "<suds.sax.document.Document object at 0x7f797cf66820>\n",
      "<suds.sax.document.Document object at 0x7f797c92ff40>\n"
     ]
    },
    {
     "name": "stdout",
     "output_type": "stream",
     "text": [
      "Snotel data fail, SNOTEL:267_WY_SNTL\n",
      "Snotel data fail, SNOTEL:268_WY_SNTL\n",
      "Snotel data fail, SNOTEL:269_WY_SNTL\n",
      "Snotel data fail, SNOTEL:266_WY_SNTL\n",
      "Snotel data fail, SNOTEL:372_AZ_SNTL\n"
     ]
    },
    {
     "name": "stderr",
     "output_type": "stream",
     "text": [
      "<suds.sax.document.Document object at 0x7f797ca78f10>\n"
     ]
    }
   ],
   "source": [
    "#getting ASO training dates in situ obs\n",
    "datelist = Alldates\n",
    "Region_list = [ 'N_Sierras', 'S_Sierras_High', 'S_Sierras_Low','Greater_Yellowstone', \n",
    "    'N_Co_Rockies', 'SW_Mont', 'SW_Co_Rockies', 'GBasin', 'N_Wasatch', 'N_Cascade',\n",
    "     'S_Wasatch', 'SW_Mtns', 'E_WA_N_Id_W_Mont', 'S_Wyoming', 'SE_Co_Rockies', \n",
    "     'Sawtooth', 'Ca_Coast', 'E_Or', 'N_Yellowstone', 'S_Cascade', 'Wa_Coast',\n",
    "     'Greater_Glacier', 'Or_Coast'\n",
    "              ]\n",
    "\n",
    "#run the model through all time (data acqusition already completed)\n",
    "model = 'Neural_Network'\n",
    "frequency = 'Daily'\n",
    "threshold = 10\n",
    "fSCA = True\n",
    "SWEDF = pd.DataFrame()\n",
    "\n",
    "for day in tqdm(datelist):\n",
    "    print('Updating SWE predictions for ', day)\n",
    "    #connect interactive script to Wasatch Snow module\n",
    "    Snow = NSM_SCA.NSM_SCA(day, threshold=threshold, Regions = Region_list, modelname = model, frequency = frequency, fSCA =  fSCA)\n",
    "    \n",
    "    #Go get SNOTEL observations - all data currently loaded, set to True to download\n",
    "    Snow.Get_Monitoring_Data_Threaded(getdata = True)\n",
    "\n",
    "    #save to dataframe\n",
    "    SWEDF[day] = Snow.SWE_df[day]"
   ]
  },
  {
   "cell_type": "code",
   "execution_count": null,
   "id": "316ddeff-945f-4d95-b63b-fec0b632e714",
   "metadata": {},
   "outputs": [],
   "source": [
    "SWEDF.to_csv('ground_measures_train_featuresALLDATES.parquet')"
   ]
  },
  {
   "cell_type": "code",
   "execution_count": null,
   "id": "304262ba-3d4a-4b45-b58b-45810ab31481",
   "metadata": {},
   "outputs": [],
   "source": [
    "import boto3\n",
    "from progressbar import ProgressBar\n",
    "from botocore import UNSIGNED\n",
    "from botocore.client import Config\n",
    "import os\n",
    "warnings.filterwarnings(\"ignore\")\n",
    "\n",
    "#load access key\n",
    "HOME = os.path.expanduser('~')\n",
    "KEYPATH = \"SWEML/AWSaccessKeys.csv\"\n",
    "ACCESS = pd.read_csv(f\"{HOME}/{KEYPATH}\")\n",
    "\n",
    "#start session\n",
    "SESSION = boto3.Session(\n",
    "    aws_access_key_id=ACCESS['Access key ID'][0],\n",
    "    aws_secret_access_key=ACCESS['Secret access key'][0],\n",
    ")\n",
    "S3 = SESSION.resource('s3')\n",
    "BUCKET_NAME = 'national-snow-model'\n",
    "BUCKET = S3.Bucket(BUCKET_NAME)"
   ]
  },
  {
   "cell_type": "code",
   "execution_count": null,
   "id": "e5efaee9-5dc0-411c-a68d-60589de3084d",
   "metadata": {},
   "outputs": [],
   "source": [
    "S3.meta.client.upload_file(Filename= 'ground_measures_train_featuresALLDATES.parquet', Bucket=BUCKET_NAME, Key=f\"NSMv2.0/data/ground_measures_train_featuresALLDATES.parquet\")"
   ]
  }
 ],
 "metadata": {
  "kernelspec": {
   "display_name": "SWEML_env",
   "language": "python",
   "name": "sweml_env"
  },
  "language_info": {
   "codemirror_mode": {
    "name": "ipython",
    "version": 3
   },
   "file_extension": ".py",
   "mimetype": "text/x-python",
   "name": "python",
   "nbconvert_exporter": "python",
   "pygments_lexer": "ipython3",
   "version": "3.9.18"
  }
 },
 "nbformat": 4,
 "nbformat_minor": 5
}
