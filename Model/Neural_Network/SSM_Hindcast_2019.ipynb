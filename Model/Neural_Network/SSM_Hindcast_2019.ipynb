{
 "cells": [
  {
   "cell_type": "markdown",
   "id": "03363aa0",
   "metadata": {
    "user_expressions": []
   },
   "source": [
    "<img align = 'center' src=\"../../Images/ML_SWE.jpg\" alt = '.../Images/' width = '1000'/>\n",
    "\n",
    "## Prediction Simulation for Water Year 2019\n",
    "\n",
    "We will be testing and evaluating the performance of the model over the 2019 WY at select locations\n",
    "\n",
    "For example, the operational capacity of the model should begin at the beginning of the water year (WY week 1) with a previous SWE value of 0-in for each 1-km grid.\n",
    "Model evaluation could then assess the forecasting skill on a hold-out dataset of an entire year in which known neighboring values do not control predictions, but rather driving to-date predictions from the predicted previous SWE values. \n",
    "Due to the high model performance, future work will target the assessment of model skill with an operational motivation\n",
    "\n",
    "## Model Training/Testing influence on Model Results.\n",
    "\n",
    "The model training/testing partitioning methodology has a strong influence on model performance and the goal of model evaluation.\n",
    "The objective of the modeling effort was to examine the spatial extrapolation capacity of the model from selected monitoring stations to the overall region, best suited to a 75/25% training/testing split, respectively.\n",
    "While it is critical to address the strong serial correlation in SWE accumulation and melt throughout the season, the high correlation between weeks has the potential to inflate model skill when using a 75/25% training/testing split due to the previous SWE feature being known.\n",
    "An assessment of the operational capacity of the model is different than assessing the ability to extrapolate regional SWE from in-situ monitoring stations.\n",
    "For example, the operational capacity of the model should begin at the beginning of the water year (WY week 1) with a previous SWE value of 0-in for each 1-km grid.\n",
    "Model evaluation could then assess the forecasting skill on a hold-out dataset of an entire year in which known neighboring values do not control predictions, but rather driving to-date predictions from the predicted previous SWE values. \n",
    "Due to the high model performance, future work will target the assessment of model skill with an operational motivation."
   ]
  },
  {
   "cell_type": "code",
   "execution_count": 1,
   "id": "13048ad4",
   "metadata": {
    "tags": []
   },
   "outputs": [
    {
     "name": "stderr",
     "output_type": "stream",
     "text": [
      "2024-03-04 21:06:27.574464: I tensorflow/core/util/util.cc:169] oneDNN custom operations are on. You may see slightly different numerical results due to floating-point round-off errors from different computation orders. To turn them off, set the environment variable `TF_ENABLE_ONEDNN_OPTS=0`.\n",
      "2024-03-04 21:06:27.579136: W tensorflow/stream_executor/platform/default/dso_loader.cc:64] Could not load dynamic library 'libcudart.so.11.0'; dlerror: libcudart.so.11.0: cannot open shared object file: No such file or directory\n",
      "2024-03-04 21:06:27.579157: I tensorflow/stream_executor/cuda/cudart_stub.cc:29] Ignore above cudart dlerror if you do not have a GPU set up on your machine.\n"
     ]
    }
   ],
   "source": [
    "import os\n",
    "import sys\n",
    "sys.path.insert(0, '..') #sys allows for the .ipynb file to connect to the shared folder files\n",
    "from shared_scripts import Hindcast_Initialization, NSM_SCA\n",
    "\n",
    "#Set working directories\n",
    "cwd = os.getcwd()\n",
    "datapath = f\"{os.path.expanduser('~')}/SWEML\" "
   ]
  },
  {
   "cell_type": "markdown",
   "id": "a3972a22-7e39-4575-a738-e3bc545a2a2e",
   "metadata": {},
   "source": [
    "## Bring prediction DFs in\n",
    "The Prediction DFs do not store after a git push and this will save your results, make sure you have the correct model name in the function"
   ]
  },
  {
   "cell_type": "code",
   "execution_count": 2,
   "id": "e80aea1d-de20-4d76-a170-2740096f7813",
   "metadata": {},
   "outputs": [],
   "source": [
    "# frequency = 'Weekly'\n",
    "# Hindcast_Initialization.AWS_to_Hindcast('Neural_Network', frequency)"
   ]
  },
  {
   "cell_type": "markdown",
   "id": "f910ccf5-27b2-46c7-931d-5c4ecb690923",
   "metadata": {},
   "source": [
    "# Initiate Simulation\n",
    "\n",
    "You can run all regions or just ones for development, not that only the regions entered below will work for the Hindcast Evaluator"
   ]
  },
  {
   "cell_type": "code",
   "execution_count": 3,
   "id": "c0062b00",
   "metadata": {
    "tags": []
   },
   "outputs": [
    {
     "name": "stdout",
     "output_type": "stream",
     "text": [
      "Creating files for a historical simulation within  'N_Sierras', 'S_Sierras_High', 'S_Sierras_Low', 'Greater_Yellowstone', 'N_Co_Rockies', 'SW_Mont', 'SW_Co_Rockies', 'GBasin', 'N_Wasatch', 'N_Cascade', 'S_Wasatch', 'SW_Mtns', 'E_WA_N_Id_W_Mont', 'S_Wyoming', 'SE_Co_Rockies', 'Sawtooth', 'Ca_Coast', 'E_Or', 'N_Yellowstone', 'S_Cascade', 'Wa_Coast', 'Greater_Glacier', 'Or_Coast'  regions for water year  2019\n"
     ]
    }
   ],
   "source": [
    "new_year = '2019'\n",
    "threshold = '20.0' #This threshold is standardized for now, to recalculate see Dr. Johnson\n",
    "Region_list = [ 'N_Sierras', 'S_Sierras_High', 'S_Sierras_Low','Greater_Yellowstone', \n",
    "    'N_Co_Rockies', 'SW_Mont', 'SW_Co_Rockies', 'GBasin', 'N_Wasatch', 'N_Cascade',\n",
    "     'S_Wasatch', 'SW_Mtns', 'E_WA_N_Id_W_Mont', 'S_Wyoming', 'SE_Co_Rockies', \n",
    "     'Sawtooth', 'Ca_Coast', 'E_Or', 'N_Yellowstone', 'S_Cascade', 'Wa_Coast',\n",
    "     'Greater_Glacier', 'Or_Coast'\n",
    "              ]\n",
    "\n",
    "frequency = 'Daily' #enter Weekly or Daily\n",
    "\n",
    "\n",
    "\n",
    "datelist = Hindcast_Initialization.Hindcast_Initialization(cwd, datapath, new_year, threshold, Region_list, frequency)"
   ]
  },
  {
   "cell_type": "markdown",
   "id": "a1216932",
   "metadata": {
    "user_expressions": []
   },
   "source": [
    "## Run your SSM in hindcast mode to evaluate operational capacity.\n",
    "\n"
   ]
  },
  {
   "cell_type": "code",
   "execution_count": null,
   "id": "9386868b",
   "metadata": {
    "scrolled": true,
    "tags": []
   },
   "outputs": [
    {
     "name": "stdout",
     "output_type": "stream",
     "text": [
      "Updating SWE predictions for  2018-10-01\n",
      "Getting VIIRS fSCA data and calculating the spatial average NSDI\n",
      "VIIRS fSCA files found locally\n"
     ]
    },
    {
     "name": "stderr",
     "output_type": "stream",
     "text": [
      "100%|██████████| 696/696 [00:00<00:00, 1250.07it/s]\n",
      "100%|██████████| 696/696 [00:00<00:00, 1239.83it/s]\n",
      "100%|██████████| 12/12 [00:00<00:00, 2107.69it/s]\n",
      "100%|██████████| 7/7 [00:00<00:00, 2096.25it/s]\n",
      "100%|██████████| 25/25 [00:00<00:00, 2287.77it/s]\n",
      "100%|██████████| 13/13 [00:00<00:00, 2223.73it/s]\n",
      "100%|██████████| 3349/3349 [00:01<00:00, 2389.39it/s]\n",
      "100%|██████████| 16/16 [00:00<00:00, 2188.95it/s]\n",
      "100%|██████████| 6/6 [00:00<00:00, 2033.44it/s]\n",
      "100%|██████████| 9/9 [00:00<00:00, 2089.84it/s]\n",
      "100%|██████████| 15/15 [00:00<00:00, 2145.94it/s]\n",
      "100%|██████████| 1707/1707 [00:00<00:00, 2436.19it/s]\n",
      "100%|██████████| 5/5 [00:00<00:00, 2004.93it/s]\n",
      "100%|██████████| 1/1 [00:00<00:00, 1248.68it/s]\n",
      "100%|██████████| 6448/6448 [00:02<00:00, 2407.78it/s]\n",
      "100%|██████████| 2458/2458 [00:01<00:00, 2423.18it/s]\n",
      "100%|██████████| 8/8 [00:00<00:00, 2109.02it/s]\n",
      "100%|██████████| 1/1 [00:00<00:00, 1317.72it/s]\n",
      "100%|██████████| 9/9 [00:00<00:00, 2263.66it/s]\n",
      "100%|██████████| 3/3 [00:00<00:00, 1808.41it/s]\n",
      "100%|██████████| 10/10 [00:00<00:00, 2227.81it/s]\n",
      "100%|██████████| 6986/6986 [00:02<00:00, 2402.11it/s]\n",
      "100%|██████████| 12/12 [00:00<00:00, 2083.87it/s]\n",
      "100%|██████████| 3/3 [00:00<00:00, 1852.88it/s]\n"
     ]
    },
    {
     "name": "stdout",
     "output_type": "stream",
     "text": [
      "Regional data QA/QC\n"
     ]
    },
    {
     "name": "stderr",
     "output_type": "stream",
     "text": [
      "100%|██████████| 22/22 [00:01<00:00, 19.49it/s]\n",
      "100%|██████████| 22/22 [00:17<00:00,  1.28it/s]\n"
     ]
    },
    {
     "name": "stdout",
     "output_type": "stream",
     "text": [
      "Calculating mean SCA for each geometry in each region...\n"
     ]
    },
    {
     "name": "stderr",
     "output_type": "stream",
     "text": [
      "100%|██████████| 23/23 [00:27<00:00,  1.18s/it]\n"
     ]
    },
    {
     "name": "stdout",
     "output_type": "stream",
     "text": [
      "Making predictions for:  2018-10-01\n",
      "N_Sierras\n",
      "187/187 [==============================] - 0s 990us/step\n",
      "S_Sierras_High\n",
      "6/6 [==============================] - 0s 1ms/step\n",
      "S_Sierras_Low\n",
      "6/6 [==============================] - 0s 1ms/step\n",
      "Greater_Yellowstone\n",
      "83/83 [==============================] - 0s 1ms/step\n",
      "N_Co_Rockies\n",
      "77/77 [==============================] - 0s 1ms/step\n",
      "SW_Mont\n",
      "1/1 [==============================] - 0s 62ms/step\n",
      "SW_Co_Rockies\n",
      "54/54 [==============================] - 0s 1ms/step\n",
      "GBasin\n",
      "1/1 [==============================] - 0s 67ms/step\n",
      "N_Wasatch\n",
      "1/1 [==============================] - 0s 61ms/step\n",
      "N_Cascade\n",
      "1/1 [==============================] - 0s 64ms/step\n",
      "S_Wasatch\n",
      "1/1 [==============================] - 0s 61ms/step\n",
      "SW_Mtns\n",
      "1/1 [==============================] - 0s 65ms/step\n",
      "E_WA_N_Id_W_Mont\n",
      "1/1 [==============================] - 0s 62ms/step\n",
      "S_Wyoming\n",
      "1/1 [==============================] - 0s 65ms/step\n",
      "SE_Co_Rockies\n",
      "1/1 [==============================] - 0s 66ms/step\n",
      "Sawtooth\n",
      "1/1 [==============================] - 0s 62ms/step\n",
      "Ca_Coast\n",
      "1/1 [==============================] - 0s 63ms/step\n",
      "E_Or\n",
      "1/1 [==============================] - 0s 62ms/step\n",
      "N_Yellowstone\n",
      "1/1 [==============================] - 0s 66ms/step\n",
      "S_Cascade\n",
      "1/1 [==============================] - 0s 68ms/step\n",
      "Wa_Coast\n",
      "1/1 [==============================] - 0s 62ms/step\n",
      "Greater_Glacier\n",
      "1/1 [==============================] - 0s 63ms/step\n",
      "Or_Coast\n",
      "1/1 [==============================] - 0s 63ms/step\n",
      "Updating SWE predictions for  2018-10-02\n",
      "Getting VIIRS fSCA data and calculating the spatial average NSDI\n",
      "VIIRS fSCA files found locally\n"
     ]
    },
    {
     "name": "stderr",
     "output_type": "stream",
     "text": [
      "100%|██████████| 696/696 [00:00<00:00, 1242.23it/s]\n",
      "100%|██████████| 696/696 [00:00<00:00, 1193.40it/s]\n",
      "100%|██████████| 12/12 [00:00<00:00, 2151.66it/s]\n",
      "100%|██████████| 7/7 [00:00<00:00, 1967.18it/s]\n",
      "100%|██████████| 25/25 [00:00<00:00, 2199.52it/s]\n",
      "100%|██████████| 13/13 [00:00<00:00, 2213.17it/s]\n",
      "100%|██████████| 3349/3349 [00:01<00:00, 2370.09it/s]\n",
      "100%|██████████| 16/16 [00:00<00:00, 2303.61it/s]\n",
      "100%|██████████| 6/6 [00:00<00:00, 2170.78it/s]\n",
      "100%|██████████| 9/9 [00:00<00:00, 2333.19it/s]\n",
      "100%|██████████| 15/15 [00:00<00:00, 2336.49it/s]\n",
      "100%|██████████| 1707/1707 [00:00<00:00, 2432.37it/s]\n",
      "100%|██████████| 5/5 [00:00<00:00, 1927.00it/s]\n",
      "100%|██████████| 1/1 [00:00<00:00, 1389.30it/s]\n",
      "100%|██████████| 6448/6448 [00:02<00:00, 2308.73it/s]\n",
      "100%|██████████| 2458/2458 [00:01<00:00, 2370.57it/s]\n",
      "100%|██████████| 8/8 [00:00<00:00, 2228.94it/s]\n",
      "100%|██████████| 1/1 [00:00<00:00, 1369.35it/s]\n",
      "100%|██████████| 9/9 [00:00<00:00, 2226.67it/s]\n",
      "100%|██████████| 3/3 [00:00<00:00, 1918.13it/s]\n",
      "100%|██████████| 10/10 [00:00<00:00, 2267.56it/s]\n",
      "100%|██████████| 6986/6986 [00:02<00:00, 2380.00it/s]\n",
      "100%|██████████| 12/12 [00:00<00:00, 2213.55it/s]\n",
      "100%|██████████| 3/3 [00:00<00:00, 1877.21it/s]\n"
     ]
    },
    {
     "name": "stdout",
     "output_type": "stream",
     "text": [
      "Regional data QA/QC\n"
     ]
    },
    {
     "name": "stderr",
     "output_type": "stream",
     "text": [
      "100%|██████████| 22/22 [00:00<00:00, 25.90it/s]\n",
      "100%|██████████| 22/22 [00:15<00:00,  1.42it/s]\n"
     ]
    },
    {
     "name": "stdout",
     "output_type": "stream",
     "text": [
      "Calculating mean SCA for each geometry in each region...\n"
     ]
    },
    {
     "name": "stderr",
     "output_type": "stream",
     "text": [
      "100%|██████████| 23/23 [00:27<00:00,  1.20s/it]\n"
     ]
    },
    {
     "name": "stdout",
     "output_type": "stream",
     "text": [
      "Making predictions for:  2018-10-02\n",
      "N_Sierras\n",
      "72/72 [==============================] - 0s 1ms/step\n",
      "S_Sierras_High\n",
      "6/6 [==============================] - 0s 2ms/step\n",
      "S_Sierras_Low\n",
      "6/6 [==============================] - 0s 2ms/step\n",
      "Greater_Yellowstone\n",
      "63/63 [==============================] - 0s 1ms/step\n",
      "N_Co_Rockies\n",
      "71/71 [==============================] - 0s 1ms/step\n",
      "SW_Mont\n",
      "1/1 [==============================] - 0s 68ms/step\n",
      "SW_Co_Rockies\n",
      "53/53 [==============================] - 0s 1ms/step\n",
      "GBasin\n",
      "1/1 [==============================] - 0s 70ms/step\n",
      "N_Wasatch\n",
      "1/1 [==============================] - 0s 71ms/step\n",
      "N_Cascade\n",
      "1/1 [==============================] - 0s 72ms/step\n",
      "S_Wasatch\n",
      "1/1 [==============================] - 0s 66ms/step\n",
      "SW_Mtns\n",
      "1/1 [==============================] - 0s 68ms/step\n",
      "E_WA_N_Id_W_Mont\n",
      "1/1 [==============================] - 0s 65ms/step\n",
      "S_Wyoming\n",
      "1/1 [==============================] - 0s 68ms/step\n",
      "SE_Co_Rockies\n",
      "1/1 [==============================] - 0s 68ms/step\n",
      "Sawtooth\n",
      "1/1 [==============================] - 0s 67ms/step\n",
      "Ca_Coast\n",
      "1/1 [==============================] - 0s 65ms/step\n",
      "E_Or\n",
      "1/1 [==============================] - 0s 66ms/step\n",
      "N_Yellowstone\n",
      "1/1 [==============================] - 0s 64ms/step\n",
      "S_Cascade\n",
      "1/1 [==============================] - 0s 68ms/step\n",
      "Wa_Coast\n",
      "1/1 [==============================] - 0s 65ms/step\n",
      "Greater_Glacier\n",
      "1/1 [==============================] - 0s 68ms/step\n",
      "Or_Coast\n",
      "1/1 [==============================] - 0s 65ms/step\n",
      "Updating SWE predictions for  2018-10-03\n",
      "Getting VIIRS fSCA data and calculating the spatial average NSDI\n",
      "VIIRS fSCA files found locally\n"
     ]
    },
    {
     "name": "stderr",
     "output_type": "stream",
     "text": [
      "100%|██████████| 696/696 [00:00<00:00, 1216.22it/s]\n",
      "100%|██████████| 696/696 [00:00<00:00, 1202.91it/s]\n",
      "100%|██████████| 12/12 [00:00<00:00, 2135.86it/s]\n",
      "100%|██████████| 7/7 [00:00<00:00, 2133.27it/s]\n",
      "100%|██████████| 25/25 [00:00<00:00, 2301.93it/s]\n",
      "100%|██████████| 13/13 [00:00<00:00, 2227.46it/s]\n",
      "100%|██████████| 3349/3349 [00:01<00:00, 2367.30it/s]\n",
      "100%|██████████| 16/16 [00:00<00:00, 2170.05it/s]\n",
      "100%|██████████| 6/6 [00:00<00:00, 2152.58it/s]\n",
      "100%|██████████| 9/9 [00:00<00:00, 2256.89it/s]\n",
      "100%|██████████| 15/15 [00:00<00:00, 2218.66it/s]\n",
      "100%|██████████| 1707/1707 [00:00<00:00, 2383.03it/s]\n",
      "100%|██████████| 5/5 [00:00<00:00, 2099.46it/s]\n",
      "100%|██████████| 1/1 [00:00<00:00, 1414.61it/s]\n",
      "100%|██████████| 6448/6448 [00:02<00:00, 2398.92it/s]\n",
      "100%|██████████| 2458/2458 [00:01<00:00, 2335.84it/s]\n",
      "100%|██████████| 8/8 [00:00<00:00, 2051.00it/s]\n",
      "100%|██████████| 1/1 [00:00<00:00, 1028.02it/s]\n",
      "100%|██████████| 9/9 [00:00<00:00, 1940.11it/s]\n",
      "100%|██████████| 3/3 [00:00<00:00, 1390.53it/s]\n",
      "100%|██████████| 10/10 [00:00<00:00, 2022.33it/s]\n",
      "100%|██████████| 6986/6986 [00:02<00:00, 2409.81it/s]\n",
      "100%|██████████| 12/12 [00:00<00:00, 1545.24it/s]\n",
      "100%|██████████| 3/3 [00:00<00:00, 1965.47it/s]\n"
     ]
    },
    {
     "name": "stdout",
     "output_type": "stream",
     "text": [
      "Regional data QA/QC\n"
     ]
    },
    {
     "name": "stderr",
     "output_type": "stream",
     "text": [
      "100%|██████████| 22/22 [00:00<00:00, 25.89it/s]\n",
      "100%|██████████| 22/22 [00:15<00:00,  1.45it/s]\n"
     ]
    },
    {
     "name": "stdout",
     "output_type": "stream",
     "text": [
      "Calculating mean SCA for each geometry in each region...\n"
     ]
    },
    {
     "name": "stderr",
     "output_type": "stream",
     "text": [
      "100%|██████████| 23/23 [00:27<00:00,  1.20s/it]\n"
     ]
    },
    {
     "name": "stdout",
     "output_type": "stream",
     "text": [
      "Making predictions for:  2018-10-03\n",
      "N_Sierras\n",
      "31/31 [==============================] - 0s 1ms/step\n",
      "S_Sierras_High\n",
      "7/7 [==============================] - 0s 2ms/step\n",
      "S_Sierras_Low\n",
      "6/6 [==============================] - 0s 2ms/step\n",
      "Greater_Yellowstone\n",
      "76/76 [==============================] - 0s 1ms/step\n",
      "N_Co_Rockies\n",
      "37/37 [==============================] - 0s 1ms/step\n",
      "SW_Mont\n",
      "1/1 [==============================] - 0s 70ms/step\n",
      "SW_Co_Rockies\n",
      "34/34 [==============================] - 0s 1ms/step\n",
      "GBasin\n",
      "1/1 [==============================] - 0s 71ms/step\n",
      "N_Wasatch\n",
      "1/1 [==============================] - 0s 67ms/step\n",
      "N_Cascade\n",
      "1/1 [==============================] - 0s 74ms/step\n",
      "S_Wasatch\n",
      "1/1 [==============================] - 0s 66ms/step\n",
      "SW_Mtns\n",
      "1/1 [==============================] - 0s 71ms/step\n",
      "E_WA_N_Id_W_Mont\n",
      "1/1 [==============================] - 0s 67ms/step\n",
      "S_Wyoming\n",
      "1/1 [==============================] - 0s 72ms/step\n",
      "SE_Co_Rockies\n",
      "1/1 [==============================] - 0s 73ms/step\n",
      "Sawtooth\n",
      "1/1 [==============================] - 0s 72ms/step\n",
      "Ca_Coast\n",
      "1/1 [==============================] - 0s 65ms/step\n",
      "E_Or\n",
      "1/1 [==============================] - 0s 78ms/step\n",
      "N_Yellowstone\n",
      "1/1 [==============================] - 0s 69ms/step\n",
      "S_Cascade\n",
      "1/1 [==============================] - 0s 72ms/step\n",
      "Wa_Coast\n",
      "1/1 [==============================] - 0s 67ms/step\n",
      "Greater_Glacier\n",
      "1/1 [==============================] - 0s 71ms/step\n",
      "Or_Coast\n",
      "1/1 [==============================] - 0s 68ms/step\n",
      "Updating SWE predictions for  2018-10-04\n",
      "Getting VIIRS fSCA data and calculating the spatial average NSDI\n",
      "VIIRS fSCA files found locally\n"
     ]
    },
    {
     "name": "stderr",
     "output_type": "stream",
     "text": [
      "100%|██████████| 696/696 [00:00<00:00, 1242.96it/s]\n",
      "100%|██████████| 696/696 [00:00<00:00, 1225.72it/s]\n",
      "100%|██████████| 12/12 [00:00<00:00, 2019.00it/s]\n",
      "100%|██████████| 7/7 [00:00<00:00, 2089.84it/s]\n",
      "100%|██████████| 25/25 [00:00<00:00, 2132.99it/s]\n",
      "100%|██████████| 13/13 [00:00<00:00, 2161.41it/s]\n",
      "100%|██████████| 3349/3349 [00:01<00:00, 2376.02it/s]\n",
      "100%|██████████| 16/16 [00:00<00:00, 2232.13it/s]\n",
      "100%|██████████| 6/6 [00:00<00:00, 2056.70it/s]\n",
      "100%|██████████| 9/9 [00:00<00:00, 2178.86it/s]\n",
      "100%|██████████| 15/15 [00:00<00:00, 2201.89it/s]\n",
      "100%|██████████| 1707/1707 [00:00<00:00, 2388.10it/s]\n",
      "100%|██████████| 5/5 [00:00<00:00, 2013.39it/s]\n",
      "100%|██████████| 1/1 [00:00<00:00, 974.97it/s]\n",
      "100%|██████████| 6448/6448 [00:02<00:00, 2394.44it/s]\n",
      "100%|██████████| 2458/2458 [00:01<00:00, 2392.01it/s]\n",
      "100%|██████████| 8/8 [00:00<00:00, 2115.26it/s]\n",
      "100%|██████████| 1/1 [00:00<00:00, 1099.14it/s]\n",
      "100%|██████████| 9/9 [00:00<00:00, 2091.69it/s]\n",
      "100%|██████████| 3/3 [00:00<00:00, 1701.08it/s]\n",
      "100%|██████████| 10/10 [00:00<00:00, 2167.37it/s]\n",
      "100%|██████████| 6986/6986 [00:02<00:00, 2374.96it/s]\n",
      "100%|██████████| 12/12 [00:00<00:00, 2098.55it/s]\n",
      "100%|██████████| 3/3 [00:00<00:00, 1789.89it/s]\n"
     ]
    },
    {
     "name": "stdout",
     "output_type": "stream",
     "text": [
      "Regional data QA/QC\n"
     ]
    },
    {
     "name": "stderr",
     "output_type": "stream",
     "text": [
      "100%|██████████| 22/22 [00:00<00:00, 25.96it/s]\n",
      "100%|██████████| 22/22 [00:15<00:00,  1.39it/s]\n"
     ]
    },
    {
     "name": "stdout",
     "output_type": "stream",
     "text": [
      "Calculating mean SCA for each geometry in each region...\n"
     ]
    },
    {
     "name": "stderr",
     "output_type": "stream",
     "text": [
      "100%|██████████| 23/23 [00:27<00:00,  1.19s/it]\n"
     ]
    },
    {
     "name": "stdout",
     "output_type": "stream",
     "text": [
      "Making predictions for:  2018-10-04\n",
      "N_Sierras\n",
      "73/73 [==============================] - 0s 1ms/step\n",
      "S_Sierras_High\n",
      "9/9 [==============================] - 0s 1ms/step\n",
      "S_Sierras_Low\n",
      "7/7 [==============================] - 0s 1ms/step\n",
      "Greater_Yellowstone\n",
      "47/47 [==============================] - 0s 1ms/step\n",
      "N_Co_Rockies\n",
      "31/31 [==============================] - 0s 1ms/step\n",
      "SW_Mont\n",
      "1/1 [==============================] - 0s 66ms/step\n",
      "SW_Co_Rockies\n",
      "34/34 [==============================] - 0s 1ms/step\n",
      "GBasin\n",
      "1/1 [==============================] - 0s 67ms/step\n",
      "N_Wasatch\n",
      "1/1 [==============================] - 0s 69ms/step\n",
      "N_Cascade\n",
      "1/1 [==============================] - 0s 67ms/step\n",
      "S_Wasatch\n",
      "1/1 [==============================] - 0s 69ms/step\n",
      "SW_Mtns\n",
      "1/1 [==============================] - 0s 65ms/step\n",
      "E_WA_N_Id_W_Mont\n",
      "1/1 [==============================] - 0s 68ms/step\n",
      "S_Wyoming\n",
      "1/1 [==============================] - 0s 68ms/step\n",
      "SE_Co_Rockies\n",
      "1/1 [==============================] - 0s 73ms/step\n",
      "Sawtooth\n",
      "1/1 [==============================] - 0s 73ms/step\n",
      "Ca_Coast\n",
      "1/1 [==============================] - 0s 69ms/step\n",
      "E_Or\n",
      "1/1 [==============================] - 0s 66ms/step\n",
      "N_Yellowstone\n",
      "1/1 [==============================] - 0s 73ms/step\n",
      "S_Cascade\n",
      "1/1 [==============================] - 0s 67ms/step\n",
      "Wa_Coast\n",
      "1/1 [==============================] - 0s 67ms/step\n",
      "Greater_Glacier\n",
      "1/1 [==============================] - 0s 70ms/step\n",
      "Or_Coast\n",
      "No snow in region:  Or_Coast\n",
      "Updating SWE predictions for  2018-10-05\n",
      "Getting VIIRS fSCA data and calculating the spatial average NSDI\n",
      "VIIRS fSCA files found locally\n"
     ]
    },
    {
     "name": "stderr",
     "output_type": "stream",
     "text": [
      "100%|██████████| 696/696 [00:00<00:00, 1218.18it/s]\n",
      "100%|██████████| 696/696 [00:00<00:00, 1216.54it/s]\n",
      "100%|██████████| 12/12 [00:00<00:00, 2151.84it/s]\n",
      "100%|██████████| 7/7 [00:00<00:00, 2186.81it/s]\n",
      "100%|██████████| 25/25 [00:00<00:00, 2316.37it/s]\n",
      "100%|██████████| 13/13 [00:00<00:00, 2158.85it/s]\n",
      "100%|██████████| 3349/3349 [00:01<00:00, 2354.25it/s]\n",
      "100%|██████████| 16/16 [00:00<00:00, 2262.76it/s]\n",
      "100%|██████████| 6/6 [00:00<00:00, 2056.70it/s]\n",
      "100%|██████████| 9/9 [00:00<00:00, 2201.61it/s]\n",
      "100%|██████████| 15/15 [00:00<00:00, 2199.66it/s]\n",
      "100%|██████████| 1707/1707 [00:00<00:00, 2333.09it/s]\n",
      "100%|██████████| 5/5 [00:00<00:00, 2006.46it/s]\n",
      "100%|██████████| 1/1 [00:00<00:00, 1138.83it/s]\n",
      "100%|██████████| 6448/6448 [00:02<00:00, 2320.29it/s]\n",
      "100%|██████████| 2458/2458 [00:01<00:00, 2382.37it/s]\n",
      "100%|██████████| 8/8 [00:00<00:00, 1794.26it/s]\n",
      "100%|██████████| 1/1 [00:00<00:00, 974.97it/s]\n",
      "100%|██████████| 9/9 [00:00<00:00, 1794.48it/s]\n",
      "100%|██████████| 3/3 [00:00<00:00, 1202.04it/s]\n",
      "100%|██████████| 10/10 [00:00<00:00, 1698.86it/s]\n",
      "100%|██████████| 6986/6986 [00:02<00:00, 2393.94it/s]\n",
      "100%|██████████| 12/12 [00:00<00:00, 2159.79it/s]\n",
      "100%|██████████| 3/3 [00:00<00:00, 1836.39it/s]\n"
     ]
    },
    {
     "name": "stdout",
     "output_type": "stream",
     "text": [
      "Regional data QA/QC\n"
     ]
    },
    {
     "name": "stderr",
     "output_type": "stream",
     "text": [
      "100%|██████████| 22/22 [00:00<00:00, 26.27it/s]\n",
      "100%|██████████| 22/22 [00:15<00:00,  1.39it/s]\n"
     ]
    },
    {
     "name": "stdout",
     "output_type": "stream",
     "text": [
      "Calculating mean SCA for each geometry in each region...\n"
     ]
    },
    {
     "name": "stderr",
     "output_type": "stream",
     "text": [
      "100%|██████████| 23/23 [00:27<00:00,  1.20s/it]\n"
     ]
    },
    {
     "name": "stdout",
     "output_type": "stream",
     "text": [
      "Making predictions for:  2018-10-05\n",
      "N_Sierras\n",
      "21/21 [==============================] - 0s 1ms/step\n",
      "S_Sierras_High\n",
      "7/7 [==============================] - 0s 2ms/step\n",
      "S_Sierras_Low\n",
      "4/4 [==============================] - 0s 2ms/step\n",
      "Greater_Yellowstone\n",
      "50/50 [==============================] - 0s 1ms/step\n",
      "N_Co_Rockies\n",
      "24/24 [==============================] - 0s 1ms/step\n",
      "SW_Mont\n",
      "1/1 [==============================] - 0s 72ms/step\n",
      "SW_Co_Rockies\n",
      "6/6 [==============================] - 0s 2ms/step\n",
      "GBasin\n",
      "1/1 [==============================] - 0s 72ms/step\n",
      "N_Wasatch\n",
      "1/1 [==============================] - 0s 71ms/step\n",
      "N_Cascade\n",
      "1/1 [==============================] - 0s 71ms/step\n",
      "S_Wasatch\n",
      "1/1 [==============================] - 0s 67ms/step\n",
      "SW_Mtns\n",
      "1/1 [==============================] - 0s 70ms/step\n",
      "E_WA_N_Id_W_Mont\n",
      "1/1 [==============================] - 0s 65ms/step\n",
      "S_Wyoming\n",
      "1/1 [==============================] - 0s 67ms/step\n",
      "SE_Co_Rockies\n",
      "No snow in region:  SE_Co_Rockies\n",
      "Sawtooth\n",
      "1/1 [==============================] - 0s 67ms/step\n",
      "Ca_Coast\n",
      "1/1 [==============================] - 0s 70ms/step\n",
      "E_Or\n",
      "1/1 [==============================] - 0s 72ms/step\n",
      "N_Yellowstone\n",
      "1/1 [==============================] - 0s 71ms/step\n",
      "S_Cascade\n",
      "1/1 [==============================] - 0s 66ms/step\n",
      "Wa_Coast\n",
      "1/1 [==============================] - 0s 69ms/step\n",
      "Greater_Glacier\n",
      "1/1 [==============================] - 0s 67ms/step\n",
      "Or_Coast\n",
      "No snow in region:  Or_Coast\n",
      "Updating SWE predictions for  2018-10-06\n",
      "Getting VIIRS fSCA data and calculating the spatial average NSDI\n",
      "VIIRS fSCA files found locally\n"
     ]
    },
    {
     "name": "stderr",
     "output_type": "stream",
     "text": [
      "100%|██████████| 696/696 [00:00<00:00, 1243.59it/s]\n",
      "100%|██████████| 696/696 [00:00<00:00, 1222.51it/s]\n",
      "100%|██████████| 12/12 [00:00<00:00, 2151.94it/s]\n",
      "100%|██████████| 7/7 [00:00<00:00, 2141.67it/s]\n",
      "100%|██████████| 25/25 [00:00<00:00, 2284.98it/s]\n",
      "100%|██████████| 13/13 [00:00<00:00, 2136.18it/s]\n",
      "100%|██████████| 3349/3349 [00:01<00:00, 2373.07it/s]\n",
      "100%|██████████| 16/16 [00:00<00:00, 2189.52it/s]\n",
      "100%|██████████| 6/6 [00:00<00:00, 2129.09it/s]\n",
      "100%|██████████| 9/9 [00:00<00:00, 2138.25it/s]\n",
      "100%|██████████| 15/15 [00:00<00:00, 2246.31it/s]\n",
      "100%|██████████| 1707/1707 [00:00<00:00, 2346.73it/s]\n",
      "100%|██████████| 5/5 [00:00<00:00, 2077.62it/s]\n",
      "100%|██████████| 1/1 [00:00<00:00, 1334.49it/s]\n",
      "100%|██████████| 6448/6448 [00:02<00:00, 2394.27it/s]\n",
      "100%|██████████| 2458/2458 [00:01<00:00, 2393.02it/s]\n",
      "100%|██████████| 8/8 [00:00<00:00, 2174.76it/s]\n",
      "100%|██████████| 1/1 [00:00<00:00, 1321.46it/s]\n",
      "100%|██████████| 9/9 [00:00<00:00, 2203.41it/s]\n",
      "100%|██████████| 3/3 [00:00<00:00, 1861.65it/s]\n",
      "100%|██████████| 10/10 [00:00<00:00, 2201.85it/s]\n",
      "100%|██████████| 6986/6986 [00:02<00:00, 2396.83it/s]\n",
      "100%|██████████| 12/12 [00:00<00:00, 2306.15it/s]\n",
      "100%|██████████| 3/3 [00:00<00:00, 1927.23it/s]\n"
     ]
    },
    {
     "name": "stdout",
     "output_type": "stream",
     "text": [
      "Regional data QA/QC\n"
     ]
    },
    {
     "name": "stderr",
     "output_type": "stream",
     "text": [
      "100%|██████████| 22/22 [00:00<00:00, 26.08it/s]\n",
      "100%|██████████| 22/22 [00:15<00:00,  1.42it/s]\n"
     ]
    },
    {
     "name": "stdout",
     "output_type": "stream",
     "text": [
      "Calculating mean SCA for each geometry in each region...\n"
     ]
    },
    {
     "name": "stderr",
     "output_type": "stream",
     "text": [
      "100%|██████████| 23/23 [00:26<00:00,  1.17s/it]\n"
     ]
    },
    {
     "name": "stdout",
     "output_type": "stream",
     "text": [
      "Making predictions for:  2018-10-06\n",
      "N_Sierras\n",
      "19/19 [==============================] - 0s 1ms/step\n",
      "S_Sierras_High\n",
      "6/6 [==============================] - 0s 1ms/step\n",
      "S_Sierras_Low\n",
      "5/5 [==============================] - 0s 2ms/step\n",
      "Greater_Yellowstone\n",
      "76/76 [==============================] - 0s 1ms/step\n",
      "N_Co_Rockies\n",
      "23/23 [==============================] - 0s 1ms/step\n",
      "SW_Mont\n",
      "1/1 [==============================] - 0s 63ms/step\n",
      "SW_Co_Rockies\n",
      "7/7 [==============================] - 0s 1ms/step\n",
      "GBasin\n",
      "1/1 [==============================] - 0s 66ms/step\n",
      "N_Wasatch\n",
      "1/1 [==============================] - 0s 63ms/step\n",
      "N_Cascade\n",
      "1/1 [==============================] - 0s 63ms/step\n",
      "S_Wasatch\n",
      "1/1 [==============================] - 0s 63ms/step\n",
      "SW_Mtns\n",
      "1/1 [==============================] - 0s 62ms/step\n",
      "E_WA_N_Id_W_Mont\n",
      "1/1 [==============================] - 0s 68ms/step\n",
      "S_Wyoming\n",
      "1/1 [==============================] - 0s 62ms/step\n",
      "SE_Co_Rockies\n",
      "No snow in region:  SE_Co_Rockies\n",
      "Sawtooth\n",
      "1/1 [==============================] - 0s 65ms/step\n",
      "Ca_Coast\n",
      "No snow in region:  Ca_Coast\n",
      "E_Or\n",
      "1/1 [==============================] - 0s 63ms/step\n",
      "N_Yellowstone\n",
      "1/1 [==============================] - 0s 80ms/step\n",
      "S_Cascade\n",
      "1/1 [==============================] - 0s 64ms/step\n",
      "Wa_Coast\n",
      "1/1 [==============================] - 0s 63ms/step\n",
      "Greater_Glacier\n",
      "1/1 [==============================] - 0s 62ms/step\n",
      "Or_Coast\n",
      "No snow in region:  Or_Coast\n",
      "Updating SWE predictions for  2018-10-07\n",
      "Getting VIIRS fSCA data and calculating the spatial average NSDI\n",
      "VIIRS fSCA files found locally\n"
     ]
    },
    {
     "name": "stderr",
     "output_type": "stream",
     "text": [
      "100%|██████████| 696/696 [00:00<00:00, 1257.97it/s]\n",
      "100%|██████████| 696/696 [00:00<00:00, 1235.31it/s]\n",
      "100%|██████████| 12/12 [00:00<00:00, 2107.96it/s]\n",
      "100%|██████████| 7/7 [00:00<00:00, 2232.71it/s]\n",
      "100%|██████████| 25/25 [00:00<00:00, 2313.41it/s]\n",
      "100%|██████████| 13/13 [00:00<00:00, 2297.76it/s]\n",
      "100%|██████████| 3349/3349 [00:01<00:00, 2397.57it/s]\n",
      "100%|██████████| 16/16 [00:00<00:00, 2218.18it/s]\n",
      "100%|██████████| 6/6 [00:00<00:00, 2136.50it/s]\n",
      "100%|██████████| 9/9 [00:00<00:00, 2193.04it/s]\n",
      "100%|██████████| 15/15 [00:00<00:00, 2002.76it/s]\n",
      "100%|██████████| 1707/1707 [00:00<00:00, 2379.22it/s]\n",
      "100%|██████████| 5/5 [00:00<00:00, 2116.20it/s]\n",
      "100%|██████████| 1/1 [00:00<00:00, 1465.00it/s]\n",
      "100%|██████████| 6448/6448 [00:02<00:00, 2400.79it/s]\n",
      "100%|██████████| 2458/2458 [00:01<00:00, 2385.74it/s]\n",
      "100%|██████████| 8/8 [00:00<00:00, 2181.83it/s]\n",
      "100%|██████████| 1/1 [00:00<00:00, 1371.58it/s]\n",
      "100%|██████████| 9/9 [00:00<00:00, 2164.49it/s]\n",
      "100%|██████████| 3/3 [00:00<00:00, 1897.59it/s]\n",
      "100%|██████████| 10/10 [00:00<00:00, 2224.74it/s]\n",
      "100%|██████████| 6986/6986 [00:02<00:00, 2368.35it/s]\n",
      "100%|██████████| 12/12 [00:00<00:00, 2238.35it/s]\n",
      "100%|██████████| 3/3 [00:00<00:00, 1918.13it/s]\n"
     ]
    },
    {
     "name": "stdout",
     "output_type": "stream",
     "text": [
      "Regional data QA/QC\n"
     ]
    },
    {
     "name": "stderr",
     "output_type": "stream",
     "text": [
      "100%|██████████| 22/22 [00:00<00:00, 26.58it/s]\n",
      "100%|██████████| 22/22 [00:15<00:00,  1.43it/s]\n"
     ]
    },
    {
     "name": "stdout",
     "output_type": "stream",
     "text": [
      "Calculating mean SCA for each geometry in each region...\n"
     ]
    },
    {
     "name": "stderr",
     "output_type": "stream",
     "text": [
      "100%|██████████| 23/23 [00:27<00:00,  1.20s/it]\n"
     ]
    },
    {
     "name": "stdout",
     "output_type": "stream",
     "text": [
      "Making predictions for:  2018-10-07\n",
      "N_Sierras\n",
      "54/54 [==============================] - 0s 1ms/step\n",
      "S_Sierras_High\n",
      "6/6 [==============================] - 0s 2ms/step\n",
      "S_Sierras_Low\n",
      "3/3 [==============================] - 0s 2ms/step\n",
      "Greater_Yellowstone\n",
      "76/76 [==============================] - 0s 1ms/step\n",
      "N_Co_Rockies\n",
      "20/20 [==============================] - 0s 1ms/step\n",
      "SW_Mont\n",
      "1/1 [==============================] - 0s 75ms/step\n",
      "SW_Co_Rockies\n",
      "7/7 [==============================] - 0s 2ms/step\n",
      "GBasin\n",
      "1/1 [==============================] - 0s 75ms/step\n",
      "N_Wasatch\n",
      "1/1 [==============================] - 0s 71ms/step\n",
      "N_Cascade\n",
      "1/1 [==============================] - 0s 76ms/step\n",
      "S_Wasatch\n",
      "1/1 [==============================] - 0s 73ms/step\n",
      "SW_Mtns\n",
      "1/1 [==============================] - 0s 76ms/step\n",
      "E_WA_N_Id_W_Mont\n",
      "1/1 [==============================] - 0s 71ms/step\n",
      "S_Wyoming\n",
      "1/1 [==============================] - 0s 75ms/step\n",
      "SE_Co_Rockies\n",
      "No snow in region:  SE_Co_Rockies\n",
      "Sawtooth\n",
      "1/1 [==============================] - 0s 71ms/step\n",
      "Ca_Coast\n",
      "1/1 [==============================] - 0s 75ms/step\n",
      "E_Or\n",
      "1/1 [==============================] - 0s 72ms/step\n",
      "N_Yellowstone\n",
      "1/1 [==============================] - 0s 78ms/step\n",
      "S_Cascade\n",
      "1/1 [==============================] - 0s 70ms/step\n",
      "Wa_Coast\n",
      "1/1 [==============================] - 0s 75ms/step\n",
      "Greater_Glacier\n",
      "1/1 [==============================] - 0s 72ms/step\n",
      "Or_Coast\n",
      "No snow in region:  Or_Coast\n",
      "Updating SWE predictions for  2018-10-08\n",
      "Getting VIIRS fSCA data and calculating the spatial average NSDI\n",
      "VIIRS fSCA files found locally\n"
     ]
    },
    {
     "name": "stderr",
     "output_type": "stream",
     "text": [
      "100%|██████████| 696/696 [00:00<00:00, 1253.22it/s]\n",
      "100%|██████████| 696/696 [00:00<00:00, 1223.95it/s]\n",
      "100%|██████████| 12/12 [00:00<00:00, 2066.16it/s]\n",
      "100%|██████████| 7/7 [00:00<00:00, 2024.00it/s]\n",
      "100%|██████████| 25/25 [00:00<00:00, 2076.22it/s]\n",
      "100%|██████████| 13/13 [00:00<00:00, 2151.94it/s]\n",
      "100%|██████████| 3349/3349 [00:01<00:00, 2347.27it/s]\n",
      "100%|██████████| 16/16 [00:00<00:00, 2146.32it/s]\n",
      "100%|██████████| 6/6 [00:00<00:00, 1990.34it/s]\n",
      "100%|██████████| 9/9 [00:00<00:00, 2055.92it/s]\n",
      "100%|██████████| 15/15 [00:00<00:00, 1979.38it/s]\n",
      "100%|██████████| 1707/1707 [00:00<00:00, 2362.68it/s]\n",
      "100%|██████████| 5/5 [00:00<00:00, 1850.32it/s]\n",
      "100%|██████████| 1/1 [00:00<00:00, 1030.54it/s]\n",
      "100%|██████████| 6448/6448 [00:02<00:00, 2344.61it/s]\n",
      "100%|██████████| 2458/2458 [00:01<00:00, 2294.35it/s]\n",
      "100%|██████████| 8/8 [00:00<00:00, 2040.40it/s]\n",
      "100%|██████████| 1/1 [00:00<00:00, 1004.14it/s]\n",
      "100%|██████████| 9/9 [00:00<00:00, 2004.18it/s]\n",
      "100%|██████████| 3/3 [00:00<00:00, 1631.18it/s]\n",
      "100%|██████████| 10/10 [00:00<00:00, 2134.40it/s]\n",
      "100%|██████████| 6986/6986 [00:02<00:00, 2338.42it/s]\n",
      "100%|██████████| 12/12 [00:00<00:00, 2108.66it/s]\n",
      "100%|██████████| 3/3 [00:00<00:00, 1647.41it/s]\n"
     ]
    },
    {
     "name": "stdout",
     "output_type": "stream",
     "text": [
      "Regional data QA/QC\n"
     ]
    },
    {
     "name": "stderr",
     "output_type": "stream",
     "text": [
      "100%|██████████| 22/22 [00:00<00:00, 25.26it/s]\n",
      "100%|██████████| 22/22 [00:16<00:00,  1.33it/s]\n"
     ]
    },
    {
     "name": "stdout",
     "output_type": "stream",
     "text": [
      "Calculating mean SCA for each geometry in each region...\n"
     ]
    },
    {
     "name": "stderr",
     "output_type": "stream",
     "text": [
      "100%|██████████| 23/23 [00:27<00:00,  1.19s/it]\n"
     ]
    },
    {
     "name": "stdout",
     "output_type": "stream",
     "text": [
      "Making predictions for:  2018-10-08\n",
      "N_Sierras\n",
      "5/5 [==============================] - 0s 2ms/step\n",
      "S_Sierras_High\n",
      "3/3 [==============================] - 0s 3ms/step\n",
      "S_Sierras_Low\n",
      "1/1 [==============================] - 0s 67ms/step\n",
      "Greater_Yellowstone\n",
      "50/50 [==============================] - 0s 1ms/step\n",
      "N_Co_Rockies\n",
      "20/20 [==============================] - 0s 1ms/step\n",
      "SW_Mont\n",
      "1/1 [==============================] - 0s 67ms/step\n",
      "SW_Co_Rockies\n",
      "34/34 [==============================] - 0s 1ms/step\n",
      "GBasin\n",
      "1/1 [==============================] - 0s 65ms/step\n",
      "N_Wasatch\n",
      "1/1 [==============================] - 0s 69ms/step\n",
      "N_Cascade\n",
      "1/1 [==============================] - 0s 71ms/step\n",
      "S_Wasatch\n",
      "1/1 [==============================] - 0s 63ms/step\n",
      "SW_Mtns\n",
      "1/1 [==============================] - 0s 65ms/step\n",
      "E_WA_N_Id_W_Mont\n",
      "1/1 [==============================] - 0s 64ms/step\n",
      "S_Wyoming\n",
      "1/1 [==============================] - 0s 66ms/step\n",
      "SE_Co_Rockies\n",
      "No snow in region:  SE_Co_Rockies\n",
      "Sawtooth\n",
      "1/1 [==============================] - 0s 63ms/step\n",
      "Ca_Coast\n",
      "No snow in region:  Ca_Coast\n",
      "E_Or\n",
      "1/1 [==============================] - 0s 66ms/step\n",
      "N_Yellowstone\n",
      "1/1 [==============================] - 0s 66ms/step\n",
      "S_Cascade\n",
      "1/1 [==============================] - 0s 65ms/step\n",
      "Wa_Coast\n",
      "1/1 [==============================] - 0s 64ms/step\n",
      "Greater_Glacier\n",
      "1/1 [==============================] - 0s 65ms/step\n",
      "Or_Coast\n",
      "No snow in region:  Or_Coast\n",
      "Updating SWE predictions for  2018-10-09\n",
      "Getting VIIRS fSCA data and calculating the spatial average NSDI\n",
      "VIIRS fSCA files found locally\n"
     ]
    },
    {
     "name": "stderr",
     "output_type": "stream",
     "text": [
      "100%|██████████| 696/696 [00:00<00:00, 1247.64it/s]\n",
      "100%|██████████| 696/696 [00:00<00:00, 1254.97it/s]\n",
      "100%|██████████| 12/12 [00:00<00:00, 2104.78it/s]\n",
      "100%|██████████| 7/7 [00:00<00:00, 2199.59it/s]\n",
      "100%|██████████| 25/25 [00:00<00:00, 2078.86it/s]\n",
      "100%|██████████| 13/13 [00:00<00:00, 2054.25it/s]\n",
      "100%|██████████| 3349/3349 [00:01<00:00, 2415.38it/s]\n",
      "100%|██████████| 16/16 [00:00<00:00, 2194.46it/s]\n",
      "100%|██████████| 6/6 [00:00<00:00, 2148.54it/s]\n",
      "100%|██████████| 9/9 [00:00<00:00, 2224.83it/s]\n",
      "100%|██████████| 15/15 [00:00<00:00, 2310.66it/s]\n",
      "100%|██████████| 1707/1707 [00:00<00:00, 2405.81it/s]\n",
      "100%|██████████| 5/5 [00:00<00:00, 2066.16it/s]\n",
      "100%|██████████| 1/1 [00:00<00:00, 1437.88it/s]\n",
      "100%|██████████| 6448/6448 [00:02<00:00, 2404.46it/s]\n",
      "100%|██████████| 2458/2458 [00:01<00:00, 2423.44it/s]\n",
      "100%|██████████| 8/8 [00:00<00:00, 2280.60it/s]\n",
      "100%|██████████| 1/1 [00:00<00:00, 1520.78it/s]\n",
      "100%|██████████| 9/9 [00:00<00:00, 2096.80it/s]\n",
      "100%|██████████| 3/3 [00:00<00:00, 1897.02it/s]\n",
      "100%|██████████| 10/10 [00:00<00:00, 2241.74it/s]\n",
      "100%|██████████| 6986/6986 [00:02<00:00, 2408.23it/s]\n",
      "100%|██████████| 12/12 [00:00<00:00, 2238.55it/s]\n",
      "100%|██████████| 3/3 [00:00<00:00, 1862.48it/s]\n"
     ]
    },
    {
     "name": "stdout",
     "output_type": "stream",
     "text": [
      "Regional data QA/QC\n"
     ]
    },
    {
     "name": "stderr",
     "output_type": "stream",
     "text": [
      "100%|██████████| 22/22 [00:00<00:00, 26.60it/s]\n",
      "100%|██████████| 22/22 [00:16<00:00,  1.36it/s]\n"
     ]
    },
    {
     "name": "stdout",
     "output_type": "stream",
     "text": [
      "Calculating mean SCA for each geometry in each region...\n"
     ]
    },
    {
     "name": "stderr",
     "output_type": "stream",
     "text": [
      "100%|██████████| 23/23 [00:27<00:00,  1.19s/it]\n"
     ]
    },
    {
     "name": "stdout",
     "output_type": "stream",
     "text": [
      "Making predictions for:  2018-10-09\n",
      "N_Sierras\n",
      "2/2 [==============================] - 0s 3ms/step\n",
      "S_Sierras_High\n",
      "2/2 [==============================] - 0s 3ms/step\n",
      "S_Sierras_Low\n",
      "1/1 [==============================] - 0s 71ms/step\n",
      "Greater_Yellowstone\n",
      "50/50 [==============================] - 0s 1ms/step\n",
      "N_Co_Rockies\n",
      "20/20 [==============================] - 0s 1ms/step\n",
      "SW_Mont\n",
      "1/1 [==============================] - 0s 66ms/step\n",
      "SW_Co_Rockies\n",
      "8/8 [==============================] - 0s 1ms/step\n",
      "GBasin\n",
      "1/1 [==============================] - 0s 65ms/step\n",
      "N_Wasatch\n",
      "1/1 [==============================] - 0s 68ms/step\n",
      "N_Cascade\n",
      "1/1 [==============================] - 0s 64ms/step\n",
      "S_Wasatch\n",
      "1/1 [==============================] - 0s 67ms/step\n",
      "SW_Mtns\n",
      "1/1 [==============================] - 0s 63ms/step\n",
      "E_WA_N_Id_W_Mont\n",
      "1/1 [==============================] - 0s 70ms/step\n",
      "S_Wyoming\n",
      "1/1 [==============================] - 0s 66ms/step\n",
      "SE_Co_Rockies\n",
      "No snow in region:  SE_Co_Rockies\n",
      "Sawtooth\n",
      "1/1 [==============================] - 0s 66ms/step\n",
      "Ca_Coast\n",
      "No snow in region:  Ca_Coast\n",
      "E_Or\n",
      "1/1 [==============================] - 0s 65ms/step\n",
      "N_Yellowstone\n",
      "1/1 [==============================] - 0s 74ms/step\n",
      "S_Cascade\n",
      "1/1 [==============================] - 0s 65ms/step\n",
      "Wa_Coast\n",
      "No snow in region:  Wa_Coast\n",
      "Greater_Glacier\n",
      "1/1 [==============================] - 0s 68ms/step\n",
      "Or_Coast\n",
      "No snow in region:  Or_Coast\n",
      "Updating SWE predictions for  2018-10-10\n",
      "Getting VIIRS fSCA data and calculating the spatial average NSDI\n",
      "VIIRS fSCA files found locally\n"
     ]
    },
    {
     "name": "stderr",
     "output_type": "stream",
     "text": [
      "100%|██████████| 696/696 [00:00<00:00, 1260.60it/s]\n",
      "100%|██████████| 696/696 [00:00<00:00, 1257.98it/s]\n",
      "100%|██████████| 12/12 [00:00<00:00, 2059.73it/s]\n",
      "100%|██████████| 7/7 [00:00<00:00, 2069.95it/s]\n",
      "100%|██████████| 25/25 [00:00<00:00, 2274.57it/s]\n",
      "100%|██████████| 13/13 [00:00<00:00, 2186.99it/s]\n",
      "100%|██████████| 3349/3349 [00:01<00:00, 2393.19it/s]\n",
      "100%|██████████| 16/16 [00:00<00:00, 2218.84it/s]\n",
      "100%|██████████| 6/6 [00:00<00:00, 2046.33it/s]\n",
      "100%|██████████| 9/9 [00:00<00:00, 2198.14it/s]\n",
      "100%|██████████| 15/15 [00:00<00:00, 2215.22it/s]\n",
      "100%|██████████| 1707/1707 [00:00<00:00, 2393.59it/s]\n",
      "100%|██████████| 5/5 [00:00<00:00, 1983.50it/s]\n",
      "100%|██████████| 1/1 [00:00<00:00, 1354.31it/s]\n",
      "100%|██████████| 6448/6448 [00:02<00:00, 2405.24it/s]\n",
      "100%|██████████| 2458/2458 [00:01<00:00, 2410.13it/s]\n",
      "100%|██████████| 8/8 [00:00<00:00, 2249.71it/s]\n",
      "100%|██████████| 1/1 [00:00<00:00, 1389.76it/s]\n",
      "100%|██████████| 9/9 [00:00<00:00, 2053.68it/s]\n",
      "100%|██████████| 3/3 [00:00<00:00, 720.67it/s]\n",
      "100%|██████████| 10/10 [00:00<00:00, 2238.04it/s]\n",
      "100%|██████████| 6986/6986 [00:02<00:00, 2344.51it/s]\n",
      "100%|██████████| 12/12 [00:00<00:00, 2201.83it/s]\n",
      "100%|██████████| 3/3 [00:00<00:00, 1936.73it/s]\n"
     ]
    },
    {
     "name": "stdout",
     "output_type": "stream",
     "text": [
      "Regional data QA/QC\n"
     ]
    },
    {
     "name": "stderr",
     "output_type": "stream",
     "text": [
      "100%|██████████| 22/22 [00:01<00:00, 19.07it/s]\n",
      "100%|██████████| 22/22 [00:16<00:00,  1.37it/s]\n"
     ]
    },
    {
     "name": "stdout",
     "output_type": "stream",
     "text": [
      "Calculating mean SCA for each geometry in each region...\n"
     ]
    },
    {
     "name": "stderr",
     "output_type": "stream",
     "text": [
      "100%|██████████| 23/23 [00:27<00:00,  1.19s/it]\n"
     ]
    },
    {
     "name": "stdout",
     "output_type": "stream",
     "text": [
      "Making predictions for:  2018-10-10\n",
      "N_Sierras\n",
      "6/6 [==============================] - 0s 2ms/step\n",
      "S_Sierras_High\n",
      "2/2 [==============================] - 0s 3ms/step\n",
      "S_Sierras_Low\n",
      "1/1 [==============================] - 0s 66ms/step\n",
      "Greater_Yellowstone\n",
      "50/50 [==============================] - 0s 1ms/step\n",
      "N_Co_Rockies\n",
      "34/34 [==============================] - 0s 1ms/step\n",
      "SW_Mont\n",
      "1/1 [==============================] - 0s 66ms/step\n",
      "SW_Co_Rockies\n",
      "10/10 [==============================] - 0s 1ms/step\n",
      "GBasin\n",
      "1/1 [==============================] - 0s 67ms/step\n",
      "N_Wasatch\n",
      "1/1 [==============================] - 0s 70ms/step\n",
      "N_Cascade\n",
      "1/1 [==============================] - 0s 66ms/step\n",
      "S_Wasatch\n",
      "1/1 [==============================] - 0s 63ms/step\n",
      "SW_Mtns\n",
      "1/1 [==============================] - 0s 67ms/step\n",
      "E_WA_N_Id_W_Mont\n",
      "1/1 [==============================] - 0s 63ms/step\n",
      "S_Wyoming\n",
      "1/1 [==============================] - 0s 73ms/step\n",
      "SE_Co_Rockies\n",
      "No snow in region:  SE_Co_Rockies\n",
      "Sawtooth\n",
      "1/1 [==============================] - 0s 67ms/step\n",
      "Ca_Coast\n",
      "No snow in region:  Ca_Coast\n",
      "E_Or\n",
      "1/1 [==============================] - 0s 65ms/step\n",
      "N_Yellowstone\n",
      "1/1 [==============================] - 0s 64ms/step\n",
      "S_Cascade\n",
      "1/1 [==============================] - 0s 65ms/step\n",
      "Wa_Coast\n",
      "No snow in region:  Wa_Coast\n",
      "Greater_Glacier\n",
      "1/1 [==============================] - 0s 62ms/step\n",
      "Or_Coast\n",
      "No snow in region:  Or_Coast\n",
      "Updating SWE predictions for  2018-10-11\n",
      "Getting VIIRS fSCA data and calculating the spatial average NSDI\n",
      "VIIRS fSCA files found locally\n"
     ]
    },
    {
     "name": "stderr",
     "output_type": "stream",
     "text": [
      "100%|██████████| 696/696 [00:00<00:00, 1241.20it/s]\n",
      "100%|██████████| 696/696 [00:00<00:00, 1233.04it/s]\n",
      "100%|██████████| 12/12 [00:00<00:00, 2109.10it/s]\n",
      "100%|██████████| 7/7 [00:00<00:00, 2100.30it/s]\n",
      "100%|██████████| 25/25 [00:00<00:00, 2228.59it/s]\n",
      "100%|██████████| 13/13 [00:00<00:00, 2061.55it/s]\n",
      "100%|██████████| 3349/3349 [00:01<00:00, 2396.53it/s]\n",
      "100%|██████████| 16/16 [00:00<00:00, 2282.46it/s]\n",
      "100%|██████████| 6/6 [00:00<00:00, 1980.63it/s]\n",
      "100%|██████████| 9/9 [00:00<00:00, 2162.01it/s]\n",
      "100%|██████████| 15/15 [00:00<00:00, 2233.86it/s]\n",
      "100%|██████████| 1707/1707 [00:00<00:00, 2351.04it/s]\n",
      "100%|██████████| 5/5 [00:00<00:00, 2001.48it/s]\n",
      "100%|██████████| 1/1 [00:00<00:00, 1316.89it/s]\n",
      "100%|██████████| 6448/6448 [00:02<00:00, 2359.03it/s]\n",
      "100%|██████████| 2458/2458 [00:01<00:00, 2297.69it/s]\n",
      "100%|██████████| 8/8 [00:00<00:00, 2117.40it/s]\n",
      "100%|██████████| 1/1 [00:00<00:00, 1268.31it/s]\n",
      "100%|██████████| 9/9 [00:00<00:00, 2198.53it/s]\n",
      "100%|██████████| 3/3 [00:00<00:00, 1863.86it/s]\n",
      "100%|██████████| 10/10 [00:00<00:00, 2038.15it/s]\n",
      "100%|██████████| 6986/6986 [00:02<00:00, 2373.72it/s]\n",
      "100%|██████████| 12/12 [00:00<00:00, 2162.29it/s]\n",
      "100%|██████████| 3/3 [00:00<00:00, 1729.61it/s]\n"
     ]
    },
    {
     "name": "stdout",
     "output_type": "stream",
     "text": [
      "Regional data QA/QC\n"
     ]
    },
    {
     "name": "stderr",
     "output_type": "stream",
     "text": [
      "100%|██████████| 22/22 [00:00<00:00, 25.77it/s]\n",
      "100%|██████████| 22/22 [00:15<00:00,  1.40it/s]\n"
     ]
    },
    {
     "name": "stdout",
     "output_type": "stream",
     "text": [
      "Calculating mean SCA for each geometry in each region...\n"
     ]
    },
    {
     "name": "stderr",
     "output_type": "stream",
     "text": [
      "100%|██████████| 23/23 [00:27<00:00,  1.18s/it]\n"
     ]
    },
    {
     "name": "stdout",
     "output_type": "stream",
     "text": [
      "Making predictions for:  2018-10-11\n",
      "N_Sierras\n",
      "1/1 [==============================] - 0s 70ms/step\n",
      "S_Sierras_High\n",
      "1/1 [==============================] - 0s 75ms/step\n",
      "S_Sierras_Low\n",
      "1/1 [==============================] - 0s 68ms/step\n",
      "Greater_Yellowstone\n",
      "57/57 [==============================] - 0s 1ms/step\n",
      "N_Co_Rockies\n",
      "34/34 [==============================] - 0s 1ms/step\n",
      "SW_Mont\n",
      "1/1 [==============================] - 0s 75ms/step\n",
      "SW_Co_Rockies\n",
      "10/10 [==============================] - 0s 1ms/step\n",
      "GBasin\n",
      "1/1 [==============================] - 0s 68ms/step\n",
      "N_Wasatch\n",
      "1/1 [==============================] - 0s 81ms/step\n",
      "N_Cascade\n",
      "1/1 [==============================] - 0s 67ms/step\n",
      "S_Wasatch\n",
      "1/1 [==============================] - 0s 64ms/step\n",
      "SW_Mtns\n",
      "1/1 [==============================] - 0s 66ms/step\n",
      "E_WA_N_Id_W_Mont\n",
      "1/1 [==============================] - 0s 63ms/step\n",
      "S_Wyoming\n",
      "1/1 [==============================] - 0s 63ms/step\n",
      "SE_Co_Rockies\n",
      "No snow in region:  SE_Co_Rockies\n",
      "Sawtooth\n",
      "1/1 [==============================] - 0s 63ms/step\n",
      "Ca_Coast\n",
      "No snow in region:  Ca_Coast\n",
      "E_Or\n",
      "1/1 [==============================] - 0s 63ms/step\n",
      "N_Yellowstone\n",
      "1/1 [==============================] - 0s 63ms/step\n",
      "S_Cascade\n",
      "1/1 [==============================] - 0s 65ms/step\n",
      "Wa_Coast\n",
      "No snow in region:  Wa_Coast\n",
      "Greater_Glacier\n",
      "1/1 [==============================] - 0s 65ms/step\n",
      "Or_Coast\n",
      "No snow in region:  Or_Coast\n",
      "Updating SWE predictions for  2018-10-12\n",
      "Getting VIIRS fSCA data and calculating the spatial average NSDI\n",
      "VIIRS fSCA files found locally\n"
     ]
    },
    {
     "name": "stderr",
     "output_type": "stream",
     "text": [
      "100%|██████████| 696/696 [00:00<00:00, 1259.61it/s]\n",
      "100%|██████████| 696/696 [00:00<00:00, 1240.55it/s]\n",
      "100%|██████████| 12/12 [00:00<00:00, 2105.13it/s]\n",
      "100%|██████████| 7/7 [00:00<00:00, 2143.39it/s]\n",
      "100%|██████████| 25/25 [00:00<00:00, 2281.94it/s]\n",
      "100%|██████████| 13/13 [00:00<00:00, 2064.52it/s]\n",
      "100%|██████████| 3349/3349 [00:01<00:00, 2353.96it/s]\n",
      "100%|██████████| 16/16 [00:00<00:00, 2273.80it/s]\n",
      "100%|██████████| 6/6 [00:00<00:00, 1967.00it/s]\n",
      "100%|██████████| 9/9 [00:00<00:00, 2139.10it/s]\n",
      "100%|██████████| 15/15 [00:00<00:00, 2173.36it/s]\n",
      "100%|██████████| 1707/1707 [00:00<00:00, 2367.95it/s]\n",
      "100%|██████████| 5/5 [00:00<00:00, 2069.42it/s]\n",
      "100%|██████████| 1/1 [00:00<00:00, 1471.69it/s]\n",
      "100%|██████████| 6448/6448 [00:02<00:00, 2384.72it/s]\n",
      "100%|██████████| 2458/2458 [00:01<00:00, 2366.48it/s]\n",
      "100%|██████████| 8/8 [00:00<00:00, 2218.62it/s]\n",
      "100%|██████████| 1/1 [00:00<00:00, 1409.38it/s]\n",
      "100%|██████████| 9/9 [00:00<00:00, 2279.38it/s]\n",
      "100%|██████████| 3/3 [00:00<00:00, 2005.24it/s]\n",
      "100%|██████████| 10/10 [00:00<00:00, 2295.48it/s]\n",
      "100%|██████████| 6986/6986 [00:02<00:00, 2385.10it/s]\n",
      "100%|██████████| 12/12 [00:00<00:00, 2172.56it/s]\n",
      "100%|██████████| 3/3 [00:00<00:00, 1793.46it/s]\n"
     ]
    },
    {
     "name": "stdout",
     "output_type": "stream",
     "text": [
      "Regional data QA/QC\n"
     ]
    },
    {
     "name": "stderr",
     "output_type": "stream",
     "text": [
      "100%|██████████| 22/22 [00:00<00:00, 25.69it/s]\n",
      "100%|██████████| 22/22 [00:15<00:00,  1.38it/s]\n"
     ]
    },
    {
     "name": "stdout",
     "output_type": "stream",
     "text": [
      "Calculating mean SCA for each geometry in each region...\n"
     ]
    },
    {
     "name": "stderr",
     "output_type": "stream",
     "text": [
      "100%|██████████| 23/23 [00:28<00:00,  1.23s/it]\n"
     ]
    },
    {
     "name": "stdout",
     "output_type": "stream",
     "text": [
      "Making predictions for:  2018-10-12\n",
      "N_Sierras\n",
      "1/1 [==============================] - 0s 74ms/step\n",
      "S_Sierras_High\n",
      "1/1 [==============================] - 0s 68ms/step\n",
      "S_Sierras_Low\n",
      "1/1 [==============================] - 0s 77ms/step\n",
      "Greater_Yellowstone\n",
      "63/63 [==============================] - 0s 1ms/step\n",
      "N_Co_Rockies\n",
      "56/56 [==============================] - 0s 1ms/step\n",
      "SW_Mont\n",
      "1/1 [==============================] - 0s 66ms/step\n",
      "SW_Co_Rockies\n",
      "19/19 [==============================] - 0s 1ms/step\n",
      "GBasin\n",
      "1/1 [==============================] - 0s 69ms/step\n",
      "N_Wasatch\n",
      "1/1 [==============================] - 0s 71ms/step\n",
      "N_Cascade\n",
      "1/1 [==============================] - 0s 72ms/step\n",
      "S_Wasatch\n",
      "1/1 [==============================] - 0s 72ms/step\n",
      "SW_Mtns\n",
      "1/1 [==============================] - 0s 69ms/step\n",
      "E_WA_N_Id_W_Mont\n",
      "1/1 [==============================] - 0s 70ms/step\n",
      "S_Wyoming\n",
      "1/1 [==============================] - 0s 69ms/step\n",
      "SE_Co_Rockies\n",
      "1/1 [==============================] - 0s 71ms/step\n",
      "Sawtooth\n",
      "1/1 [==============================] - 0s 67ms/step\n",
      "Ca_Coast\n",
      "No snow in region:  Ca_Coast\n",
      "E_Or\n",
      "1/1 [==============================] - 0s 70ms/step\n",
      "N_Yellowstone\n",
      "1/1 [==============================] - 0s 66ms/step\n",
      "S_Cascade\n",
      "1/1 [==============================] - 0s 75ms/step\n",
      "Wa_Coast\n",
      "No snow in region:  Wa_Coast\n",
      "Greater_Glacier\n",
      "1/1 [==============================] - 0s 65ms/step\n",
      "Or_Coast\n",
      "No snow in region:  Or_Coast\n",
      "Updating SWE predictions for  2018-10-13\n",
      "Getting VIIRS fSCA data and calculating the spatial average NSDI\n",
      "VIIRS fSCA files found locally\n"
     ]
    },
    {
     "name": "stderr",
     "output_type": "stream",
     "text": [
      "100%|██████████| 696/696 [00:00<00:00, 1232.72it/s]\n",
      "100%|██████████| 696/696 [00:00<00:00, 1234.94it/s]\n",
      "100%|██████████| 12/12 [00:00<00:00, 2118.78it/s]\n",
      "100%|██████████| 7/7 [00:00<00:00, 2088.80it/s]\n",
      "100%|██████████| 25/25 [00:00<00:00, 2168.99it/s]\n",
      "100%|██████████| 13/13 [00:00<00:00, 2106.63it/s]\n",
      "100%|██████████| 3349/3349 [00:01<00:00, 2325.01it/s]\n",
      "100%|██████████| 16/16 [00:00<00:00, 2089.97it/s]\n",
      "100%|██████████| 6/6 [00:00<00:00, 2097.85it/s]\n",
      "100%|██████████| 9/9 [00:00<00:00, 2116.08it/s]\n",
      "100%|██████████| 15/15 [00:00<00:00, 2212.11it/s]\n",
      "100%|██████████| 1707/1707 [00:00<00:00, 2352.80it/s]\n",
      "100%|██████████| 5/5 [00:00<00:00, 1947.94it/s]\n",
      "100%|██████████| 1/1 [00:00<00:00, 1333.22it/s]\n",
      "100%|██████████| 6448/6448 [00:02<00:00, 2319.12it/s]\n",
      "100%|██████████| 2458/2458 [00:01<00:00, 2322.58it/s]\n",
      "100%|██████████| 8/8 [00:00<00:00, 2117.80it/s]\n",
      "100%|██████████| 1/1 [00:00<00:00, 1328.57it/s]\n",
      "100%|██████████| 9/9 [00:00<00:00, 2199.43it/s]\n",
      "100%|██████████| 3/3 [00:00<00:00, 1780.26it/s]\n",
      "100%|██████████| 10/10 [00:00<00:00, 2184.76it/s]\n",
      "100%|██████████| 6986/6986 [00:03<00:00, 2320.18it/s]\n",
      "100%|██████████| 12/12 [00:00<00:00, 2115.75it/s]\n",
      "100%|██████████| 3/3 [00:00<00:00, 1822.03it/s]\n"
     ]
    },
    {
     "name": "stdout",
     "output_type": "stream",
     "text": [
      "Regional data QA/QC\n"
     ]
    },
    {
     "name": "stderr",
     "output_type": "stream",
     "text": [
      "100%|██████████| 22/22 [00:00<00:00, 26.15it/s]\n",
      "100%|██████████| 22/22 [00:15<00:00,  1.40it/s]\n"
     ]
    },
    {
     "name": "stdout",
     "output_type": "stream",
     "text": [
      "Calculating mean SCA for each geometry in each region...\n"
     ]
    },
    {
     "name": "stderr",
     "output_type": "stream",
     "text": [
      "100%|██████████| 23/23 [00:27<00:00,  1.20s/it]\n"
     ]
    },
    {
     "name": "stdout",
     "output_type": "stream",
     "text": [
      "Making predictions for:  2018-10-13\n",
      "N_Sierras\n",
      "1/1 [==============================] - 0s 78ms/step\n",
      "S_Sierras_High\n",
      "1/1 [==============================] - 0s 79ms/step\n",
      "S_Sierras_Low\n",
      "No snow in region:  S_Sierras_Low\n",
      "Greater_Yellowstone\n",
      "87/87 [==============================] - 0s 1ms/step\n",
      "N_Co_Rockies\n",
      "51/51 [==============================] - 0s 1ms/step\n",
      "SW_Mont\n",
      "1/1 [==============================] - 0s 68ms/step\n",
      "SW_Co_Rockies\n",
      "46/46 [==============================] - 0s 1ms/step\n",
      "GBasin\n",
      "1/1 [==============================] - 0s 67ms/step\n",
      "N_Wasatch\n",
      "1/1 [==============================] - 0s 71ms/step\n",
      "N_Cascade\n",
      "1/1 [==============================] - 0s 67ms/step\n",
      "S_Wasatch\n",
      "1/1 [==============================] - 0s 74ms/step\n",
      "SW_Mtns\n",
      "1/1 [==============================] - 0s 67ms/step\n",
      "E_WA_N_Id_W_Mont\n",
      "1/1 [==============================] - 0s 72ms/step\n",
      "S_Wyoming\n",
      "1/1 [==============================] - 0s 66ms/step\n",
      "SE_Co_Rockies\n",
      "1/1 [==============================] - 0s 74ms/step\n",
      "Sawtooth\n",
      "1/1 [==============================] - 0s 66ms/step\n",
      "Ca_Coast\n",
      "No snow in region:  Ca_Coast\n",
      "E_Or\n",
      "No snow in region:  E_Or\n",
      "N_Yellowstone\n",
      "1/1 [==============================] - 0s 71ms/step\n",
      "S_Cascade\n",
      "1/1 [==============================] - 0s 68ms/step\n",
      "Wa_Coast\n",
      "No snow in region:  Wa_Coast\n",
      "Greater_Glacier\n",
      "1/1 [==============================] - 0s 71ms/step\n",
      "Or_Coast\n",
      "No snow in region:  Or_Coast\n",
      "Updating SWE predictions for  2018-10-14\n",
      "Getting VIIRS fSCA data and calculating the spatial average NSDI\n",
      "VIIRS fSCA files found locally\n"
     ]
    },
    {
     "name": "stderr",
     "output_type": "stream",
     "text": [
      "100%|██████████| 696/696 [00:00<00:00, 1237.62it/s]\n",
      "100%|██████████| 696/696 [00:00<00:00, 1241.71it/s]\n",
      "100%|██████████| 12/12 [00:00<00:00, 2107.25it/s]\n",
      "100%|██████████| 7/7 [00:00<00:00, 2143.54it/s]\n",
      "100%|██████████| 25/25 [00:00<00:00, 2281.35it/s]\n",
      "100%|██████████| 13/13 [00:00<00:00, 2163.47it/s]\n",
      "100%|██████████| 3349/3349 [00:01<00:00, 2335.64it/s]\n",
      "100%|██████████| 16/16 [00:00<00:00, 2211.89it/s]\n",
      "100%|██████████| 6/6 [00:00<00:00, 2084.99it/s]\n",
      "100%|██████████| 9/9 [00:00<00:00, 2141.65it/s]\n",
      "100%|██████████| 15/15 [00:00<00:00, 2195.66it/s]\n",
      "100%|██████████| 1707/1707 [00:00<00:00, 2387.01it/s]\n",
      "100%|██████████| 5/5 [00:00<00:00, 1955.02it/s]\n",
      "100%|██████████| 1/1 [00:00<00:00, 1136.36it/s]\n",
      "100%|██████████| 6448/6448 [00:02<00:00, 2330.50it/s]\n",
      "100%|██████████| 2458/2458 [00:01<00:00, 2324.75it/s]\n",
      "100%|██████████| 8/8 [00:00<00:00, 2011.42it/s]\n",
      "100%|██████████| 1/1 [00:00<00:00, 1236.89it/s]\n",
      "100%|██████████| 9/9 [00:00<00:00, 1958.94it/s]\n",
      "100%|██████████| 3/3 [00:00<00:00, 1646.12it/s]\n",
      "100%|██████████| 10/10 [00:00<00:00, 2162.01it/s]\n",
      "100%|██████████| 6986/6986 [00:02<00:00, 2331.88it/s]\n",
      "100%|██████████| 12/12 [00:00<00:00, 2095.14it/s]\n",
      "100%|██████████| 3/3 [00:00<00:00, 1496.36it/s]\n"
     ]
    },
    {
     "name": "stdout",
     "output_type": "stream",
     "text": [
      "Regional data QA/QC\n"
     ]
    },
    {
     "name": "stderr",
     "output_type": "stream",
     "text": [
      "100%|██████████| 22/22 [00:00<00:00, 25.27it/s]\n",
      "100%|██████████| 22/22 [00:15<00:00,  1.39it/s]\n"
     ]
    },
    {
     "name": "stdout",
     "output_type": "stream",
     "text": [
      "Calculating mean SCA for each geometry in each region...\n"
     ]
    },
    {
     "name": "stderr",
     "output_type": "stream",
     "text": [
      "100%|██████████| 23/23 [00:27<00:00,  1.19s/it]\n"
     ]
    },
    {
     "name": "stdout",
     "output_type": "stream",
     "text": [
      "Making predictions for:  2018-10-14\n",
      "N_Sierras\n",
      "5/5 [==============================] - 0s 2ms/step\n",
      "S_Sierras_High\n",
      "1/1 [==============================] - 0s 68ms/step\n",
      "S_Sierras_Low\n",
      "No snow in region:  S_Sierras_Low\n",
      "Greater_Yellowstone\n",
      "97/97 [==============================] - 0s 1ms/step\n",
      "N_Co_Rockies\n",
      "52/52 [==============================] - 0s 1ms/step\n",
      "SW_Mont\n",
      "1/1 [==============================] - 0s 71ms/step\n",
      "SW_Co_Rockies\n",
      "46/46 [==============================] - 0s 1ms/step\n",
      "GBasin\n",
      "1/1 [==============================] - 0s 71ms/step\n",
      "N_Wasatch\n",
      "1/1 [==============================] - 0s 68ms/step\n",
      "N_Cascade\n",
      "1/1 [==============================] - 0s 71ms/step\n",
      "S_Wasatch\n",
      "1/1 [==============================] - 0s 67ms/step\n",
      "SW_Mtns\n",
      "1/1 [==============================] - 0s 71ms/step\n",
      "E_WA_N_Id_W_Mont\n",
      "1/1 [==============================] - 0s 67ms/step\n",
      "S_Wyoming\n",
      "1/1 [==============================] - 0s 71ms/step\n",
      "SE_Co_Rockies\n",
      "1/1 [==============================] - 0s 67ms/step\n",
      "Sawtooth\n",
      "1/1 [==============================] - 0s 73ms/step\n",
      "Ca_Coast\n",
      "No snow in region:  Ca_Coast\n",
      "E_Or\n",
      "1/1 [==============================] - 0s 69ms/step\n",
      "N_Yellowstone\n",
      "1/1 [==============================] - 0s 73ms/step\n",
      "S_Cascade\n",
      "1/1 [==============================] - 0s 69ms/step\n",
      "Wa_Coast\n",
      "No snow in region:  Wa_Coast\n",
      "Greater_Glacier\n",
      "1/1 [==============================] - 0s 72ms/step\n",
      "Or_Coast\n",
      "No snow in region:  Or_Coast\n",
      "Updating SWE predictions for  2018-10-15\n",
      "Getting VIIRS fSCA data and calculating the spatial average NSDI\n",
      "VIIRS fSCA files found locally\n"
     ]
    },
    {
     "name": "stderr",
     "output_type": "stream",
     "text": [
      "100%|██████████| 696/696 [00:00<00:00, 1229.65it/s]\n",
      "100%|██████████| 696/696 [00:00<00:00, 1217.70it/s]\n",
      "100%|██████████| 12/12 [00:00<00:00, 2140.22it/s]\n",
      "100%|██████████| 7/7 [00:00<00:00, 2125.24it/s]\n",
      "100%|██████████| 25/25 [00:00<00:00, 2201.23it/s]\n",
      "100%|██████████| 13/13 [00:00<00:00, 2105.74it/s]\n",
      "100%|██████████| 3349/3349 [00:01<00:00, 2344.17it/s]\n",
      "100%|██████████| 16/16 [00:00<00:00, 2142.82it/s]\n",
      "100%|██████████| 6/6 [00:00<00:00, 2041.85it/s]\n",
      "100%|██████████| 9/9 [00:00<00:00, 2209.08it/s]\n",
      "100%|██████████| 15/15 [00:00<00:00, 2234.66it/s]\n",
      "100%|██████████| 1707/1707 [00:00<00:00, 2364.34it/s]\n",
      "100%|██████████| 5/5 [00:00<00:00, 1987.63it/s]\n",
      "100%|██████████| 1/1 [00:00<00:00, 1281.88it/s]\n",
      "100%|██████████| 6448/6448 [00:02<00:00, 2347.60it/s]\n",
      "100%|██████████| 2458/2458 [00:01<00:00, 2378.34it/s]\n",
      "100%|██████████| 8/8 [00:00<00:00, 2090.10it/s]\n",
      "100%|██████████| 1/1 [00:00<00:00, 1263.73it/s]\n",
      "100%|██████████| 9/9 [00:00<00:00, 2183.90it/s]\n",
      "100%|██████████| 3/3 [00:00<00:00, 1621.09it/s]\n",
      "100%|██████████| 10/10 [00:00<00:00, 2052.51it/s]\n",
      "100%|██████████| 6986/6986 [00:02<00:00, 2348.37it/s]\n",
      "100%|██████████| 12/12 [00:00<00:00, 1448.43it/s]\n",
      "100%|██████████| 3/3 [00:00<00:00, 1119.68it/s]\n"
     ]
    },
    {
     "name": "stdout",
     "output_type": "stream",
     "text": [
      "Regional data QA/QC\n"
     ]
    },
    {
     "name": "stderr",
     "output_type": "stream",
     "text": [
      "100%|██████████| 22/22 [00:00<00:00, 24.68it/s]\n",
      "100%|██████████| 22/22 [00:15<00:00,  1.40it/s]\n"
     ]
    },
    {
     "name": "stdout",
     "output_type": "stream",
     "text": [
      "Calculating mean SCA for each geometry in each region...\n"
     ]
    },
    {
     "name": "stderr",
     "output_type": "stream",
     "text": [
      "100%|██████████| 23/23 [00:27<00:00,  1.22s/it]\n"
     ]
    },
    {
     "name": "stdout",
     "output_type": "stream",
     "text": [
      "Making predictions for:  2018-10-15\n",
      "N_Sierras\n",
      "5/5 [==============================] - 0s 2ms/step\n",
      "S_Sierras_High\n",
      "1/1 [==============================] - 0s 81ms/step\n",
      "S_Sierras_Low\n",
      "No snow in region:  S_Sierras_Low\n",
      "Greater_Yellowstone\n",
      "83/83 [==============================] - 0s 1ms/step\n",
      "N_Co_Rockies\n",
      "48/48 [==============================] - 0s 1ms/step\n",
      "SW_Mont\n",
      "1/1 [==============================] - 0s 68ms/step\n",
      "SW_Co_Rockies\n",
      "19/19 [==============================] - 0s 1ms/step\n",
      "GBasin\n",
      "1/1 [==============================] - 0s 68ms/step\n",
      "N_Wasatch\n",
      "1/1 [==============================] - 0s 74ms/step\n",
      "N_Cascade\n",
      "1/1 [==============================] - 0s 68ms/step\n",
      "S_Wasatch\n",
      "1/1 [==============================] - 0s 75ms/step\n",
      "SW_Mtns\n",
      "1/1 [==============================] - 0s 66ms/step\n",
      "E_WA_N_Id_W_Mont\n",
      "1/1 [==============================] - 0s 78ms/step\n",
      "S_Wyoming\n",
      "1/1 [==============================] - 0s 75ms/step\n",
      "SE_Co_Rockies\n",
      "1/1 [==============================] - 0s 76ms/step\n",
      "Sawtooth\n",
      "1/1 [==============================] - 0s 71ms/step\n",
      "Ca_Coast\n",
      "No snow in region:  Ca_Coast\n",
      "E_Or\n",
      "1/1 [==============================] - 0s 74ms/step\n",
      "N_Yellowstone\n",
      "1/1 [==============================] - 0s 67ms/step\n",
      "S_Cascade\n",
      "1/1 [==============================] - 0s 72ms/step\n",
      "Wa_Coast\n",
      "No snow in region:  Wa_Coast\n",
      "Greater_Glacier\n",
      "1/1 [==============================] - 0s 73ms/step\n",
      "Or_Coast\n",
      "No snow in region:  Or_Coast\n",
      "Updating SWE predictions for  2018-10-16\n",
      "Getting VIIRS fSCA data and calculating the spatial average NSDI\n",
      "VIIRS fSCA files found locally\n"
     ]
    },
    {
     "name": "stderr",
     "output_type": "stream",
     "text": [
      "100%|██████████| 696/696 [00:00<00:00, 1222.50it/s]\n",
      "100%|██████████| 696/696 [00:00<00:00, 1225.51it/s]\n",
      "100%|██████████| 12/12 [00:00<00:00, 2003.33it/s]\n",
      "100%|██████████| 7/7 [00:00<00:00, 1989.17it/s]\n",
      "100%|██████████| 25/25 [00:00<00:00, 2193.72it/s]\n",
      "100%|██████████| 13/13 [00:00<00:00, 2073.70it/s]\n",
      "100%|██████████| 3349/3349 [00:01<00:00, 2341.62it/s]\n",
      "100%|██████████| 16/16 [00:00<00:00, 2200.80it/s]\n",
      "100%|██████████| 6/6 [00:00<00:00, 2014.23it/s]\n",
      "100%|██████████| 9/9 [00:00<00:00, 2116.44it/s]\n",
      "100%|██████████| 15/15 [00:00<00:00, 1977.57it/s]\n",
      "100%|██████████| 1707/1707 [00:00<00:00, 2338.34it/s]\n",
      "100%|██████████| 5/5 [00:00<00:00, 1890.86it/s]\n",
      "100%|██████████| 1/1 [00:00<00:00, 1181.49it/s]\n",
      "100%|██████████| 6448/6448 [00:02<00:00, 2377.86it/s]\n",
      "100%|██████████| 2458/2458 [00:01<00:00, 2282.21it/s]\n",
      "100%|██████████| 8/8 [00:00<00:00, 2009.61it/s]\n",
      "100%|██████████| 1/1 [00:00<00:00, 1246.45it/s]\n",
      "100%|██████████| 9/9 [00:00<00:00, 2126.57it/s]\n",
      "100%|██████████| 3/3 [00:00<00:00, 1432.81it/s]\n",
      "100%|██████████| 10/10 [00:00<00:00, 2193.90it/s]\n",
      "100%|██████████| 6986/6986 [00:02<00:00, 2374.26it/s]\n",
      "100%|██████████| 12/12 [00:00<00:00, 2179.33it/s]\n",
      "100%|██████████| 3/3 [00:00<00:00, 1866.62it/s]\n"
     ]
    },
    {
     "name": "stdout",
     "output_type": "stream",
     "text": [
      "Regional data QA/QC\n"
     ]
    },
    {
     "name": "stderr",
     "output_type": "stream",
     "text": [
      "100%|██████████| 22/22 [00:00<00:00, 25.94it/s]\n",
      "100%|██████████| 22/22 [00:15<00:00,  1.41it/s]\n"
     ]
    },
    {
     "name": "stdout",
     "output_type": "stream",
     "text": [
      "Calculating mean SCA for each geometry in each region...\n"
     ]
    },
    {
     "name": "stderr",
     "output_type": "stream",
     "text": [
      "100%|██████████| 23/23 [00:27<00:00,  1.18s/it]\n"
     ]
    },
    {
     "name": "stdout",
     "output_type": "stream",
     "text": [
      "Making predictions for:  2018-10-16\n",
      "N_Sierras\n",
      "6/6 [==============================] - 0s 2ms/step\n",
      "S_Sierras_High\n",
      "1/1 [==============================] - 0s 70ms/step\n",
      "S_Sierras_Low\n",
      "No snow in region:  S_Sierras_Low\n",
      "Greater_Yellowstone\n",
      "67/67 [==============================] - 0s 1ms/step\n",
      "N_Co_Rockies\n",
      "45/45 [==============================] - 0s 1ms/step\n",
      "SW_Mont\n",
      "1/1 [==============================] - 0s 66ms/step\n",
      "SW_Co_Rockies\n",
      "46/46 [==============================] - 0s 1ms/step\n",
      "GBasin\n",
      "1/1 [==============================] - 0s 67ms/step\n",
      "N_Wasatch\n",
      "1/1 [==============================] - 0s 65ms/step\n",
      "N_Cascade\n",
      "1/1 [==============================] - 0s 67ms/step\n",
      "S_Wasatch\n",
      "1/1 [==============================] - 0s 64ms/step\n",
      "SW_Mtns\n",
      "1/1 [==============================] - 0s 66ms/step\n",
      "E_WA_N_Id_W_Mont\n",
      "1/1 [==============================] - 0s 64ms/step\n",
      "S_Wyoming\n",
      "1/1 [==============================] - 0s 68ms/step\n",
      "SE_Co_Rockies\n",
      "1/1 [==============================] - 0s 66ms/step\n",
      "Sawtooth\n",
      "1/1 [==============================] - 0s 70ms/step\n",
      "Ca_Coast\n",
      "No snow in region:  Ca_Coast\n",
      "E_Or\n",
      "1/1 [==============================] - 0s 66ms/step\n",
      "N_Yellowstone\n",
      "1/1 [==============================] - 0s 71ms/step\n",
      "S_Cascade\n",
      "1/1 [==============================] - 0s 66ms/step\n",
      "Wa_Coast\n",
      "No snow in region:  Wa_Coast\n",
      "Greater_Glacier\n",
      "1/1 [==============================] - 0s 69ms/step\n",
      "Or_Coast\n",
      "No snow in region:  Or_Coast\n",
      "Updating SWE predictions for  2018-10-17\n",
      "Getting VIIRS fSCA data and calculating the spatial average NSDI\n",
      "VIIRS fSCA files found locally\n"
     ]
    },
    {
     "name": "stderr",
     "output_type": "stream",
     "text": [
      "100%|██████████| 696/696 [00:00<00:00, 1251.41it/s]\n",
      "100%|██████████| 696/696 [00:00<00:00, 1242.82it/s]\n",
      "100%|██████████| 12/12 [00:00<00:00, 2015.04it/s]\n",
      "100%|██████████| 7/7 [00:00<00:00, 2113.61it/s]\n",
      "100%|██████████| 25/25 [00:00<00:00, 2303.65it/s]\n",
      "100%|██████████| 13/13 [00:00<00:00, 2103.54it/s]\n",
      "100%|██████████| 3349/3349 [00:01<00:00, 2378.22it/s]\n",
      "100%|██████████| 16/16 [00:00<00:00, 2187.38it/s]\n",
      "100%|██████████| 6/6 [00:00<00:00, 2167.97it/s]\n",
      "100%|██████████| 9/9 [00:00<00:00, 2028.63it/s]\n",
      "100%|██████████| 15/15 [00:00<00:00, 2226.12it/s]\n",
      "100%|██████████| 1707/1707 [00:00<00:00, 2371.74it/s]\n",
      "100%|██████████| 5/5 [00:00<00:00, 1990.65it/s]\n",
      "100%|██████████| 1/1 [00:00<00:00, 1364.45it/s]\n",
      "100%|██████████| 6448/6448 [00:02<00:00, 2224.88it/s]\n",
      "100%|██████████| 2458/2458 [00:01<00:00, 2346.33it/s]\n",
      "100%|██████████| 8/8 [00:00<00:00, 2201.59it/s]\n",
      "100%|██████████| 1/1 [00:00<00:00, 1370.69it/s]\n",
      "100%|██████████| 9/9 [00:00<00:00, 2205.21it/s]\n",
      "100%|██████████| 3/3 [00:00<00:00, 1881.13it/s]\n",
      "100%|██████████| 10/10 [00:00<00:00, 2045.30it/s]\n",
      "100%|██████████| 6986/6986 [00:02<00:00, 2358.61it/s]\n",
      "100%|██████████| 12/12 [00:00<00:00, 2189.28it/s]\n",
      "100%|██████████| 3/3 [00:00<00:00, 1781.27it/s]\n"
     ]
    },
    {
     "name": "stdout",
     "output_type": "stream",
     "text": [
      "Regional data QA/QC\n"
     ]
    },
    {
     "name": "stderr",
     "output_type": "stream",
     "text": [
      "100%|██████████| 22/22 [00:00<00:00, 26.97it/s]\n",
      "100%|██████████| 22/22 [00:15<00:00,  1.39it/s]\n"
     ]
    },
    {
     "name": "stdout",
     "output_type": "stream",
     "text": [
      "Calculating mean SCA for each geometry in each region...\n"
     ]
    },
    {
     "name": "stderr",
     "output_type": "stream",
     "text": [
      "100%|██████████| 23/23 [00:27<00:00,  1.18s/it]\n"
     ]
    },
    {
     "name": "stdout",
     "output_type": "stream",
     "text": [
      "Making predictions for:  2018-10-17\n",
      "N_Sierras\n",
      "1/1 [==============================] - 0s 69ms/step\n",
      "S_Sierras_High\n",
      "1/1 [==============================] - 0s 66ms/step\n",
      "S_Sierras_Low\n",
      "No snow in region:  S_Sierras_Low\n",
      "Greater_Yellowstone\n",
      "83/83 [==============================] - 0s 1ms/step\n",
      "N_Co_Rockies\n",
      "46/46 [==============================] - 0s 1ms/step\n",
      "SW_Mont\n",
      "1/1 [==============================] - 0s 65ms/step\n",
      "SW_Co_Rockies\n",
      "46/46 [==============================] - 0s 1ms/step\n",
      "GBasin\n",
      "1/1 [==============================] - 0s 62ms/step\n",
      "N_Wasatch\n",
      "1/1 [==============================] - 0s 62ms/step\n",
      "N_Cascade\n",
      "1/1 [==============================] - 0s 62ms/step\n",
      "S_Wasatch\n",
      "1/1 [==============================] - 0s 64ms/step\n",
      "SW_Mtns\n",
      "1/1 [==============================] - 0s 62ms/step\n",
      "E_WA_N_Id_W_Mont\n",
      "1/1 [==============================] - 0s 61ms/step\n",
      "S_Wyoming\n",
      "1/1 [==============================] - 0s 64ms/step\n",
      "SE_Co_Rockies\n",
      "1/1 [==============================] - 0s 62ms/step\n",
      "Sawtooth\n",
      "1/1 [==============================] - 0s 66ms/step\n",
      "Ca_Coast\n",
      "No snow in region:  Ca_Coast\n",
      "E_Or\n",
      "1/1 [==============================] - 0s 60ms/step\n",
      "N_Yellowstone\n",
      "1/1 [==============================] - 0s 64ms/step\n",
      "S_Cascade\n",
      "1/1 [==============================] - 0s 61ms/step\n",
      "Wa_Coast\n",
      "No snow in region:  Wa_Coast\n",
      "Greater_Glacier\n",
      "1/1 [==============================] - 0s 63ms/step\n",
      "Or_Coast\n",
      "No snow in region:  Or_Coast\n",
      "Updating SWE predictions for  2018-10-18\n",
      "Getting VIIRS fSCA data and calculating the spatial average NSDI\n",
      "VIIRS fSCA files found locally\n"
     ]
    },
    {
     "name": "stderr",
     "output_type": "stream",
     "text": [
      "100%|██████████| 696/696 [00:00<00:00, 1265.80it/s]\n",
      "100%|██████████| 696/696 [00:00<00:00, 1267.67it/s]\n",
      "100%|██████████| 12/12 [00:00<00:00, 2105.75it/s]\n",
      "100%|██████████| 7/7 [00:00<00:00, 1984.46it/s]\n",
      "100%|██████████| 25/25 [00:00<00:00, 2264.99it/s]\n",
      "100%|██████████| 13/13 [00:00<00:00, 2310.32it/s]\n",
      "100%|██████████| 3349/3349 [00:01<00:00, 2412.18it/s]\n",
      "100%|██████████| 16/16 [00:00<00:00, 2304.56it/s]\n",
      "100%|██████████| 6/6 [00:00<00:00, 2119.05it/s]\n",
      "100%|██████████| 9/9 [00:00<00:00, 2176.22it/s]\n",
      "100%|██████████| 15/15 [00:00<00:00, 2313.29it/s]\n",
      "100%|██████████| 1707/1707 [00:00<00:00, 2401.70it/s]\n",
      "100%|██████████| 5/5 [00:00<00:00, 2037.26it/s]\n",
      "100%|██████████| 1/1 [00:00<00:00, 1477.39it/s]\n",
      "100%|██████████| 6448/6448 [00:02<00:00, 2411.73it/s]\n",
      "100%|██████████| 2458/2458 [00:01<00:00, 2398.18it/s]\n",
      "100%|██████████| 8/8 [00:00<00:00, 2211.46it/s]\n",
      "100%|██████████| 1/1 [00:00<00:00, 1375.18it/s]\n",
      "100%|██████████| 9/9 [00:00<00:00, 2242.41it/s]\n",
      "100%|██████████| 3/3 [00:00<00:00, 1882.82it/s]\n",
      "100%|██████████| 10/10 [00:00<00:00, 2302.79it/s]\n",
      "100%|██████████| 6986/6986 [00:02<00:00, 2393.07it/s]\n",
      "100%|██████████| 12/12 [00:00<00:00, 2151.02it/s]\n",
      "100%|██████████| 3/3 [00:00<00:00, 1962.09it/s]\n"
     ]
    },
    {
     "name": "stdout",
     "output_type": "stream",
     "text": [
      "Regional data QA/QC\n"
     ]
    },
    {
     "name": "stderr",
     "output_type": "stream",
     "text": [
      "100%|██████████| 22/22 [00:00<00:00, 25.76it/s]\n",
      "100%|██████████| 22/22 [00:16<00:00,  1.34it/s]\n"
     ]
    },
    {
     "name": "stdout",
     "output_type": "stream",
     "text": [
      "Calculating mean SCA for each geometry in each region...\n"
     ]
    },
    {
     "name": "stderr",
     "output_type": "stream",
     "text": [
      "100%|██████████| 23/23 [00:27<00:00,  1.20s/it]\n"
     ]
    },
    {
     "name": "stdout",
     "output_type": "stream",
     "text": [
      "Making predictions for:  2018-10-18\n",
      "N_Sierras\n",
      "54/54 [==============================] - 0s 1ms/step\n",
      "S_Sierras_High\n",
      "1/1 [==============================] - 0s 73ms/step\n",
      "S_Sierras_Low\n",
      "No snow in region:  S_Sierras_Low\n",
      "Greater_Yellowstone\n",
      "63/63 [==============================] - 0s 1ms/step\n",
      "N_Co_Rockies\n",
      "44/44 [==============================] - 0s 1ms/step\n",
      "SW_Mont\n",
      "1/1 [==============================] - 0s 68ms/step\n",
      "SW_Co_Rockies\n",
      "23/23 [==============================] - 0s 1ms/step\n",
      "GBasin\n",
      "1/1 [==============================] - 0s 70ms/step\n",
      "N_Wasatch\n",
      "1/1 [==============================] - 0s 72ms/step\n",
      "N_Cascade\n",
      "1/1 [==============================] - 0s 70ms/step\n",
      "S_Wasatch\n",
      "1/1 [==============================] - 0s 73ms/step\n",
      "SW_Mtns\n",
      "1/1 [==============================] - 0s 70ms/step\n",
      "E_WA_N_Id_W_Mont\n",
      "1/1 [==============================] - 0s 71ms/step\n",
      "S_Wyoming\n",
      "1/1 [==============================] - 0s 71ms/step\n",
      "SE_Co_Rockies\n",
      "No snow in region:  SE_Co_Rockies\n",
      "Sawtooth\n",
      "1/1 [==============================] - 0s 71ms/step\n",
      "Ca_Coast\n",
      "1/1 [==============================] - 0s 72ms/step\n",
      "E_Or\n",
      "1/1 [==============================] - 0s 76ms/step\n",
      "N_Yellowstone\n",
      "1/1 [==============================] - 0s 80ms/step\n",
      "S_Cascade\n",
      "1/1 [==============================] - 0s 76ms/step\n",
      "Wa_Coast\n",
      "No snow in region:  Wa_Coast\n",
      "Greater_Glacier\n",
      "1/1 [==============================] - 0s 70ms/step\n",
      "Or_Coast\n",
      "No snow in region:  Or_Coast\n",
      "Updating SWE predictions for  2018-10-19\n",
      "Getting VIIRS fSCA data and calculating the spatial average NSDI\n",
      "VIIRS fSCA files found locally\n"
     ]
    },
    {
     "name": "stderr",
     "output_type": "stream",
     "text": [
      "100%|██████████| 696/696 [00:00<00:00, 1240.50it/s]\n",
      "100%|██████████| 696/696 [00:00<00:00, 1226.13it/s]\n",
      "100%|██████████| 12/12 [00:00<00:00, 2091.84it/s]\n",
      "100%|██████████| 7/7 [00:00<00:00, 2073.46it/s]\n",
      "100%|██████████| 25/25 [00:00<00:00, 2237.20it/s]\n",
      "100%|██████████| 13/13 [00:00<00:00, 2129.17it/s]\n",
      "100%|██████████| 3349/3349 [00:01<00:00, 2374.69it/s]\n",
      "100%|██████████| 16/16 [00:00<00:00, 2278.27it/s]\n",
      "100%|██████████| 6/6 [00:00<00:00, 2027.70it/s]\n",
      "100%|██████████| 9/9 [00:00<00:00, 2008.34it/s]\n",
      "100%|██████████| 15/15 [00:00<00:00, 2141.19it/s]\n",
      "100%|██████████| 1707/1707 [00:00<00:00, 2309.31it/s]\n",
      "100%|██████████| 5/5 [00:00<00:00, 1991.22it/s]\n",
      "100%|██████████| 1/1 [00:00<00:00, 1237.62it/s]\n",
      "100%|██████████| 6448/6448 [00:02<00:00, 2346.17it/s]\n",
      "100%|██████████| 2458/2458 [00:01<00:00, 2392.77it/s]\n",
      "100%|██████████| 8/8 [00:00<00:00, 2166.20it/s]\n",
      "100%|██████████| 1/1 [00:00<00:00, 1287.39it/s]\n",
      "100%|██████████| 9/9 [00:00<00:00, 2207.92it/s]\n",
      "100%|██████████| 3/3 [00:00<00:00, 1789.12it/s]\n",
      "100%|██████████| 10/10 [00:00<00:00, 2263.64it/s]\n",
      "100%|██████████| 6986/6986 [00:03<00:00, 2310.58it/s]\n",
      "100%|██████████| 12/12 [00:00<00:00, 2013.51it/s]\n",
      "100%|██████████| 3/3 [00:00<00:00, 1769.50it/s]\n"
     ]
    },
    {
     "name": "stdout",
     "output_type": "stream",
     "text": [
      "Regional data QA/QC\n"
     ]
    },
    {
     "name": "stderr",
     "output_type": "stream",
     "text": [
      "100%|██████████| 22/22 [00:00<00:00, 26.25it/s]\n",
      "100%|██████████| 22/22 [00:16<00:00,  1.34it/s]\n"
     ]
    },
    {
     "name": "stdout",
     "output_type": "stream",
     "text": [
      "Calculating mean SCA for each geometry in each region...\n"
     ]
    },
    {
     "name": "stderr",
     "output_type": "stream",
     "text": [
      "100%|██████████| 23/23 [00:27<00:00,  1.20s/it]\n"
     ]
    },
    {
     "name": "stdout",
     "output_type": "stream",
     "text": [
      "Making predictions for:  2018-10-19\n",
      "N_Sierras\n",
      "5/5 [==============================] - 0s 2ms/step\n",
      "S_Sierras_High\n",
      "1/1 [==============================] - 0s 76ms/step\n",
      "S_Sierras_Low\n",
      "No snow in region:  S_Sierras_Low\n",
      "Greater_Yellowstone\n",
      "60/60 [==============================] - 0s 1ms/step\n",
      "N_Co_Rockies\n",
      "39/39 [==============================] - 0s 1ms/step\n",
      "SW_Mont\n",
      "1/1 [==============================] - 0s 68ms/step\n",
      "SW_Co_Rockies\n",
      "47/47 [==============================] - 0s 1ms/step\n",
      "GBasin\n",
      "1/1 [==============================] - 0s 67ms/step\n",
      "N_Wasatch\n",
      "1/1 [==============================] - 0s 71ms/step\n",
      "N_Cascade\n",
      "1/1 [==============================] - 0s 67ms/step\n",
      "S_Wasatch\n",
      "1/1 [==============================] - 0s 71ms/step\n",
      "SW_Mtns\n",
      "1/1 [==============================] - 0s 72ms/step\n",
      "E_WA_N_Id_W_Mont\n",
      "1/1 [==============================] - 0s 70ms/step\n",
      "S_Wyoming\n",
      "1/1 [==============================] - 0s 66ms/step\n",
      "SE_Co_Rockies\n",
      "No snow in region:  SE_Co_Rockies\n",
      "Sawtooth\n",
      "1/1 [==============================] - 0s 77ms/step\n",
      "Ca_Coast\n",
      "No snow in region:  Ca_Coast\n",
      "E_Or\n",
      "1/1 [==============================] - 0s 68ms/step\n",
      "N_Yellowstone\n",
      "1/1 [==============================] - 0s 71ms/step\n",
      "S_Cascade\n",
      "1/1 [==============================] - 0s 66ms/step\n",
      "Wa_Coast\n",
      "No snow in region:  Wa_Coast\n",
      "Greater_Glacier\n",
      "1/1 [==============================] - 0s 71ms/step\n",
      "Or_Coast\n",
      "No snow in region:  Or_Coast\n",
      "Updating SWE predictions for  2018-10-20\n",
      "Getting VIIRS fSCA data and calculating the spatial average NSDI\n",
      "VIIRS fSCA files found locally\n"
     ]
    },
    {
     "name": "stderr",
     "output_type": "stream",
     "text": [
      "100%|██████████| 696/696 [00:00<00:00, 1232.08it/s]\n",
      "100%|██████████| 696/696 [00:00<00:00, 1220.11it/s]\n",
      "100%|██████████| 12/12 [00:00<00:00, 2017.87it/s]\n",
      "100%|██████████| 7/7 [00:00<00:00, 2118.03it/s]\n",
      "100%|██████████| 25/25 [00:00<00:00, 2253.45it/s]\n",
      "100%|██████████| 13/13 [00:00<00:00, 2096.59it/s]\n",
      "100%|██████████| 3349/3349 [00:01<00:00, 2354.11it/s]\n",
      "100%|██████████| 16/16 [00:00<00:00, 2214.74it/s]\n",
      "100%|██████████| 6/6 [00:00<00:00, 2037.22it/s]\n",
      "100%|██████████| 9/9 [00:00<00:00, 2056.26it/s]\n",
      "100%|██████████| 15/15 [00:00<00:00, 2017.59it/s]\n",
      "100%|██████████| 1707/1707 [00:00<00:00, 2337.33it/s]\n",
      "100%|██████████| 5/5 [00:00<00:00, 1893.93it/s]\n",
      "100%|██████████| 1/1 [00:00<00:00, 1235.07it/s]\n",
      "100%|██████████| 6448/6448 [00:02<00:00, 2293.50it/s]\n",
      "100%|██████████| 2458/2458 [00:01<00:00, 2399.01it/s]\n",
      "100%|██████████| 8/8 [00:00<00:00, 2246.10it/s]\n",
      "100%|██████████| 1/1 [00:00<00:00, 1399.03it/s]\n",
      "100%|██████████| 9/9 [00:00<00:00, 2161.64it/s]\n",
      "100%|██████████| 3/3 [00:00<00:00, 1833.44it/s]\n",
      "100%|██████████| 10/10 [00:00<00:00, 2224.03it/s]\n",
      "100%|██████████| 6986/6986 [00:02<00:00, 2363.63it/s]\n",
      "100%|██████████| 12/12 [00:00<00:00, 2187.57it/s]\n",
      "100%|██████████| 3/3 [00:00<00:00, 1732.71it/s]\n"
     ]
    },
    {
     "name": "stdout",
     "output_type": "stream",
     "text": [
      "Regional data QA/QC\n"
     ]
    },
    {
     "name": "stderr",
     "output_type": "stream",
     "text": [
      "100%|██████████| 22/22 [00:00<00:00, 25.38it/s]\n",
      "100%|██████████| 22/22 [00:16<00:00,  1.34it/s]\n"
     ]
    },
    {
     "name": "stdout",
     "output_type": "stream",
     "text": [
      "Calculating mean SCA for each geometry in each region...\n"
     ]
    },
    {
     "name": "stderr",
     "output_type": "stream",
     "text": [
      "100%|██████████| 23/23 [00:27<00:00,  1.19s/it]\n"
     ]
    },
    {
     "name": "stdout",
     "output_type": "stream",
     "text": [
      "Making predictions for:  2018-10-20\n",
      "N_Sierras\n",
      "54/54 [==============================] - 0s 1ms/step\n",
      "S_Sierras_High\n",
      "1/1 [==============================] - 0s 67ms/step\n",
      "S_Sierras_Low\n",
      "No snow in region:  S_Sierras_Low\n",
      "Greater_Yellowstone\n",
      "54/54 [==============================] - 0s 1ms/step\n",
      "N_Co_Rockies\n",
      "30/30 [==============================] - 0s 1ms/step\n",
      "SW_Mont\n",
      "1/1 [==============================] - 0s 67ms/step\n",
      "SW_Co_Rockies\n",
      "45/45 [==============================] - 0s 1ms/step\n",
      "GBasin\n",
      "1/1 [==============================] - 0s 66ms/step\n",
      "N_Wasatch\n",
      "1/1 [==============================] - 0s 64ms/step\n",
      "N_Cascade\n",
      "1/1 [==============================] - 0s 64ms/step\n",
      "S_Wasatch\n",
      "1/1 [==============================] - 0s 66ms/step\n",
      "SW_Mtns\n",
      "1/1 [==============================] - 0s 68ms/step\n",
      "E_WA_N_Id_W_Mont\n",
      "1/1 [==============================] - 0s 64ms/step\n",
      "S_Wyoming\n",
      "1/1 [==============================] - 0s 67ms/step\n",
      "SE_Co_Rockies\n",
      "No snow in region:  SE_Co_Rockies\n",
      "Sawtooth\n",
      "1/1 [==============================] - 0s 65ms/step\n",
      "Ca_Coast\n",
      "1/1 [==============================] - 0s 64ms/step\n",
      "E_Or\n",
      "1/1 [==============================] - 0s 67ms/step\n",
      "N_Yellowstone\n",
      "1/1 [==============================] - 0s 71ms/step\n",
      "S_Cascade\n",
      "1/1 [==============================] - 0s 68ms/step\n",
      "Wa_Coast\n",
      "No snow in region:  Wa_Coast\n",
      "Greater_Glacier\n",
      "No snow in region:  Greater_Glacier\n",
      "Or_Coast\n",
      "No snow in region:  Or_Coast\n",
      "Updating SWE predictions for  2018-10-21\n",
      "Getting VIIRS fSCA data and calculating the spatial average NSDI\n",
      "VIIRS fSCA files found locally\n"
     ]
    },
    {
     "name": "stderr",
     "output_type": "stream",
     "text": [
      "100%|██████████| 696/696 [00:00<00:00, 1249.07it/s]\n",
      "100%|██████████| 696/696 [00:00<00:00, 1243.81it/s]\n",
      "100%|██████████| 12/12 [00:00<00:00, 2084.13it/s]\n",
      "100%|██████████| 7/7 [00:00<00:00, 2167.60it/s]\n",
      "100%|██████████| 25/25 [00:00<00:00, 2293.07it/s]\n",
      "100%|██████████| 13/13 [00:00<00:00, 2152.03it/s]\n",
      "100%|██████████| 3349/3349 [00:01<00:00, 2387.85it/s]\n",
      "100%|██████████| 16/16 [00:00<00:00, 2241.59it/s]\n",
      "100%|██████████| 6/6 [00:00<00:00, 2055.36it/s]\n",
      "100%|██████████| 9/9 [00:00<00:00, 2222.34it/s]\n",
      "100%|██████████| 15/15 [00:00<00:00, 2242.70it/s]\n",
      "100%|██████████| 1707/1707 [00:00<00:00, 2301.42it/s]\n",
      "100%|██████████| 5/5 [00:00<00:00, 1955.57it/s]\n",
      "100%|██████████| 1/1 [00:00<00:00, 1375.18it/s]\n",
      "100%|██████████| 6448/6448 [00:02<00:00, 2403.31it/s]\n",
      "100%|██████████| 2458/2458 [00:01<00:00, 2417.37it/s]\n",
      "100%|██████████| 8/8 [00:00<00:00, 2117.40it/s]\n",
      "100%|██████████| 1/1 [00:00<00:00, 1328.99it/s]\n",
      "100%|██████████| 9/9 [00:00<00:00, 2002.05it/s]\n",
      "100%|██████████| 3/3 [00:00<00:00, 1662.65it/s]\n",
      "100%|██████████| 10/10 [00:00<00:00, 2128.01it/s]\n",
      "100%|██████████| 6986/6986 [00:02<00:00, 2385.22it/s]\n",
      "100%|██████████| 12/12 [00:00<00:00, 2165.17it/s]\n",
      "100%|██████████| 3/3 [00:00<00:00, 1906.21it/s]\n"
     ]
    },
    {
     "name": "stdout",
     "output_type": "stream",
     "text": [
      "Regional data QA/QC\n"
     ]
    },
    {
     "name": "stderr",
     "output_type": "stream",
     "text": [
      "100%|██████████| 22/22 [00:01<00:00, 18.70it/s]\n",
      "100%|██████████| 22/22 [00:16<00:00,  1.34it/s]\n"
     ]
    },
    {
     "name": "stdout",
     "output_type": "stream",
     "text": [
      "Calculating mean SCA for each geometry in each region...\n"
     ]
    },
    {
     "name": "stderr",
     "output_type": "stream",
     "text": [
      "100%|██████████| 23/23 [00:27<00:00,  1.20s/it]\n"
     ]
    },
    {
     "name": "stdout",
     "output_type": "stream",
     "text": [
      "Making predictions for:  2018-10-21\n",
      "N_Sierras\n",
      "1/1 [==============================] - 0s 75ms/step\n",
      "S_Sierras_High\n",
      "1/1 [==============================] - 0s 81ms/step\n",
      "S_Sierras_Low\n",
      "No snow in region:  S_Sierras_Low\n",
      "Greater_Yellowstone\n",
      "75/75 [==============================] - 0s 1ms/step\n",
      "N_Co_Rockies\n",
      "27/27 [==============================] - 0s 1ms/step\n",
      "SW_Mont\n",
      "1/1 [==============================] - 0s 68ms/step\n",
      "SW_Co_Rockies\n",
      "44/44 [==============================] - 0s 1ms/step\n",
      "GBasin\n",
      "1/1 [==============================] - 0s 65ms/step\n",
      "N_Wasatch\n",
      "1/1 [==============================] - 0s 71ms/step\n",
      "N_Cascade\n",
      "1/1 [==============================] - 0s 68ms/step\n",
      "S_Wasatch\n",
      "1/1 [==============================] - 0s 71ms/step\n",
      "SW_Mtns\n",
      "1/1 [==============================] - 0s 66ms/step\n",
      "E_WA_N_Id_W_Mont\n",
      "1/1 [==============================] - 0s 71ms/step\n",
      "S_Wyoming\n",
      "1/1 [==============================] - 0s 65ms/step\n",
      "SE_Co_Rockies\n",
      "No snow in region:  SE_Co_Rockies\n",
      "Sawtooth\n",
      "1/1 [==============================] - 0s 79ms/step\n",
      "Ca_Coast\n",
      "No snow in region:  Ca_Coast\n",
      "E_Or\n",
      "No snow in region:  E_Or\n",
      "N_Yellowstone\n",
      "1/1 [==============================] - 0s 66ms/step\n",
      "S_Cascade\n",
      "1/1 [==============================] - 0s 73ms/step\n",
      "Wa_Coast\n",
      "No snow in region:  Wa_Coast\n",
      "Greater_Glacier\n",
      "1/1 [==============================] - 0s 65ms/step\n",
      "Or_Coast\n",
      "No snow in region:  Or_Coast\n",
      "Updating SWE predictions for  2018-10-22\n",
      "Getting VIIRS fSCA data and calculating the spatial average NSDI\n",
      "VIIRS fSCA files found locally\n"
     ]
    },
    {
     "name": "stderr",
     "output_type": "stream",
     "text": [
      "100%|██████████| 696/696 [00:00<00:00, 1236.26it/s]\n",
      "100%|██████████| 696/696 [00:00<00:00, 1240.59it/s]\n",
      "100%|██████████| 12/12 [00:00<00:00, 1969.77it/s]\n",
      "100%|██████████| 7/7 [00:00<00:00, 2016.22it/s]\n",
      "100%|██████████| 25/25 [00:00<00:00, 2207.62it/s]\n",
      "100%|██████████| 13/13 [00:00<00:00, 2182.43it/s]\n",
      "100%|██████████| 3349/3349 [00:01<00:00, 2366.43it/s]\n",
      "100%|██████████| 16/16 [00:00<00:00, 2186.24it/s]\n",
      "100%|██████████| 6/6 [00:00<00:00, 2035.91it/s]\n",
      "100%|██████████| 9/9 [00:00<00:00, 2132.09it/s]\n",
      "100%|██████████| 15/15 [00:00<00:00, 2183.62it/s]\n",
      "100%|██████████| 1707/1707 [00:00<00:00, 2388.50it/s]\n",
      "100%|██████████| 5/5 [00:00<00:00, 1872.46it/s]\n",
      "100%|██████████| 1/1 [00:00<00:00, 1036.14it/s]\n",
      "100%|██████████| 6448/6448 [00:02<00:00, 2324.95it/s]\n",
      "100%|██████████| 2458/2458 [00:01<00:00, 2299.58it/s]\n",
      "100%|██████████| 8/8 [00:00<00:00, 2042.76it/s]\n",
      "100%|██████████| 1/1 [00:00<00:00, 1076.84it/s]\n",
      "100%|██████████| 9/9 [00:00<00:00, 1993.60it/s]\n",
      "100%|██████████| 3/3 [00:00<00:00, 1611.33it/s]\n",
      "100%|██████████| 10/10 [00:00<00:00, 2036.76it/s]\n",
      "100%|██████████| 6986/6986 [00:02<00:00, 2361.99it/s]\n",
      "100%|██████████| 12/12 [00:00<00:00, 1963.93it/s]\n",
      "100%|██████████| 3/3 [00:00<00:00, 1658.26it/s]\n"
     ]
    },
    {
     "name": "stdout",
     "output_type": "stream",
     "text": [
      "Regional data QA/QC\n"
     ]
    },
    {
     "name": "stderr",
     "output_type": "stream",
     "text": [
      "100%|██████████| 22/22 [00:00<00:00, 25.59it/s]\n",
      "100%|██████████| 22/22 [00:16<00:00,  1.36it/s]\n"
     ]
    },
    {
     "name": "stdout",
     "output_type": "stream",
     "text": [
      "Calculating mean SCA for each geometry in each region...\n"
     ]
    },
    {
     "name": "stderr",
     "output_type": "stream",
     "text": [
      "100%|██████████| 23/23 [00:27<00:00,  1.19s/it]\n"
     ]
    },
    {
     "name": "stdout",
     "output_type": "stream",
     "text": [
      "Making predictions for:  2018-10-22\n",
      "N_Sierras\n",
      "6/6 [==============================] - 0s 1ms/step\n",
      "S_Sierras_High\n",
      "1/1 [==============================] - 0s 68ms/step\n",
      "S_Sierras_Low\n",
      "1/1 [==============================] - 0s 70ms/step\n",
      "Greater_Yellowstone\n",
      "55/55 [==============================] - 0s 1ms/step\n",
      "N_Co_Rockies\n",
      "28/28 [==============================] - 0s 1ms/step\n",
      "SW_Mont\n",
      "1/1 [==============================] - 0s 72ms/step\n",
      "SW_Co_Rockies\n",
      "20/20 [==============================] - 0s 1ms/step\n",
      "GBasin\n",
      "1/1 [==============================] - 0s 69ms/step\n",
      "N_Wasatch\n",
      "1/1 [==============================] - 0s 66ms/step\n",
      "N_Cascade\n",
      "1/1 [==============================] - 0s 69ms/step\n",
      "S_Wasatch\n",
      "1/1 [==============================] - 0s 65ms/step\n",
      "SW_Mtns\n",
      "1/1 [==============================] - 0s 68ms/step\n",
      "E_WA_N_Id_W_Mont\n",
      "1/1 [==============================] - 0s 64ms/step\n",
      "S_Wyoming\n",
      "1/1 [==============================] - 0s 69ms/step\n",
      "SE_Co_Rockies\n",
      "No snow in region:  SE_Co_Rockies\n",
      "Sawtooth\n",
      "1/1 [==============================] - 0s 65ms/step\n",
      "Ca_Coast\n",
      "No snow in region:  Ca_Coast\n",
      "E_Or\n",
      "1/1 [==============================] - 0s 71ms/step\n",
      "N_Yellowstone\n",
      "No snow in region:  N_Yellowstone\n",
      "S_Cascade\n",
      "1/1 [==============================] - 0s 64ms/step\n",
      "Wa_Coast\n",
      "No snow in region:  Wa_Coast\n",
      "Greater_Glacier\n",
      "No snow in region:  Greater_Glacier\n",
      "Or_Coast\n",
      "No snow in region:  Or_Coast\n",
      "Updating SWE predictions for  2018-10-23\n",
      "Getting VIIRS fSCA data and calculating the spatial average NSDI\n",
      "VIIRS fSCA files found locally\n"
     ]
    },
    {
     "name": "stderr",
     "output_type": "stream",
     "text": [
      "100%|██████████| 696/696 [00:00<00:00, 1251.57it/s]\n",
      "100%|██████████| 696/696 [00:00<00:00, 1252.48it/s]\n",
      "100%|██████████| 12/12 [00:00<00:00, 2094.10it/s]\n",
      "100%|██████████| 7/7 [00:00<00:00, 2229.15it/s]\n",
      "100%|██████████| 25/25 [00:00<00:00, 2261.86it/s]\n",
      "100%|██████████| 13/13 [00:00<00:00, 2164.33it/s]\n",
      "100%|██████████| 3349/3349 [00:01<00:00, 2407.48it/s]\n",
      "100%|██████████| 16/16 [00:00<00:00, 2032.19it/s]\n",
      "100%|██████████| 6/6 [00:00<00:00, 1966.39it/s]\n",
      "100%|██████████| 9/9 [00:00<00:00, 2130.41it/s]\n",
      "100%|██████████| 15/15 [00:00<00:00, 2212.26it/s]\n",
      "100%|██████████| 1707/1707 [00:00<00:00, 2383.89it/s]\n",
      "100%|██████████| 5/5 [00:00<00:00, 1996.91it/s]\n",
      "100%|██████████| 1/1 [00:00<00:00, 1270.23it/s]\n",
      "100%|██████████| 6448/6448 [00:02<00:00, 2350.11it/s]\n",
      "100%|██████████| 2458/2458 [00:01<00:00, 2384.74it/s]\n",
      "100%|██████████| 8/8 [00:00<00:00, 2183.82it/s]\n",
      "100%|██████████| 1/1 [00:00<00:00, 1367.11it/s]\n",
      "100%|██████████| 9/9 [00:00<00:00, 2232.73it/s]\n",
      "100%|██████████| 3/3 [00:00<00:00, 1916.96it/s]\n",
      "100%|██████████| 10/10 [00:00<00:00, 2192.53it/s]\n",
      "100%|██████████| 6986/6986 [00:02<00:00, 2378.57it/s]\n",
      "100%|██████████| 12/12 [00:00<00:00, 2224.31it/s]\n",
      "100%|██████████| 3/3 [00:00<00:00, 2033.44it/s]\n"
     ]
    },
    {
     "name": "stdout",
     "output_type": "stream",
     "text": [
      "Regional data QA/QC\n"
     ]
    },
    {
     "name": "stderr",
     "output_type": "stream",
     "text": [
      "100%|██████████| 22/22 [00:00<00:00, 26.06it/s]\n",
      "100%|██████████| 22/22 [00:16<00:00,  1.37it/s]\n"
     ]
    },
    {
     "name": "stdout",
     "output_type": "stream",
     "text": [
      "Calculating mean SCA for each geometry in each region...\n"
     ]
    },
    {
     "name": "stderr",
     "output_type": "stream",
     "text": [
      "100%|██████████| 23/23 [00:27<00:00,  1.18s/it]\n"
     ]
    },
    {
     "name": "stdout",
     "output_type": "stream",
     "text": [
      "Making predictions for:  2018-10-23\n",
      "N_Sierras\n",
      "3/3 [==============================] - 0s 2ms/step\n",
      "S_Sierras_High\n",
      "1/1 [==============================] - 0s 67ms/step\n",
      "S_Sierras_Low\n",
      "1/1 [==============================] - 0s 62ms/step\n",
      "Greater_Yellowstone\n",
      "55/55 [==============================] - 0s 1ms/step\n",
      "N_Co_Rockies\n",
      "28/28 [==============================] - 0s 1ms/step\n",
      "SW_Mont\n",
      "1/1 [==============================] - 0s 68ms/step\n",
      "SW_Co_Rockies\n",
      "20/20 [==============================] - 0s 1ms/step\n",
      "GBasin\n",
      "1/1 [==============================] - 0s 65ms/step\n",
      "N_Wasatch\n",
      "1/1 [==============================] - 0s 62ms/step\n",
      "N_Cascade\n",
      "1/1 [==============================] - 0s 63ms/step\n",
      "S_Wasatch\n",
      "1/1 [==============================] - 0s 61ms/step\n",
      "SW_Mtns\n",
      "1/1 [==============================] - 0s 62ms/step\n",
      "E_WA_N_Id_W_Mont\n",
      "1/1 [==============================] - 0s 60ms/step\n",
      "S_Wyoming\n",
      "1/1 [==============================] - 0s 67ms/step\n",
      "SE_Co_Rockies\n",
      "No snow in region:  SE_Co_Rockies\n",
      "Sawtooth\n",
      "1/1 [==============================] - 0s 67ms/step\n",
      "Ca_Coast\n",
      "No snow in region:  Ca_Coast\n",
      "E_Or\n",
      "1/1 [==============================] - 0s 62ms/step\n",
      "N_Yellowstone\n",
      "No snow in region:  N_Yellowstone\n",
      "S_Cascade\n",
      "1/1 [==============================] - 0s 60ms/step\n",
      "Wa_Coast\n",
      "No snow in region:  Wa_Coast\n",
      "Greater_Glacier\n",
      "No snow in region:  Greater_Glacier\n",
      "Or_Coast\n",
      "No snow in region:  Or_Coast\n",
      "Updating SWE predictions for  2018-10-24\n",
      "Getting VIIRS fSCA data and calculating the spatial average NSDI\n",
      "VIIRS fSCA files found locally\n"
     ]
    },
    {
     "name": "stderr",
     "output_type": "stream",
     "text": [
      "100%|██████████| 696/696 [00:00<00:00, 1259.71it/s]\n",
      "100%|██████████| 696/696 [00:00<00:00, 1242.61it/s]\n",
      "100%|██████████| 12/12 [00:00<00:00, 2244.54it/s]\n",
      "100%|██████████| 7/7 [00:00<00:00, 2249.99it/s]\n",
      "100%|██████████| 25/25 [00:00<00:00, 2334.06it/s]\n",
      "100%|██████████| 13/13 [00:00<00:00, 2241.01it/s]\n",
      "100%|██████████| 3349/3349 [00:01<00:00, 2382.54it/s]\n",
      "100%|██████████| 16/16 [00:00<00:00, 2330.33it/s]\n",
      "100%|██████████| 6/6 [00:00<00:00, 2216.08it/s]\n",
      "100%|██████████| 9/9 [00:00<00:00, 2278.00it/s]\n",
      "100%|██████████| 15/15 [00:00<00:00, 2355.12it/s]\n",
      "100%|██████████| 1707/1707 [00:00<00:00, 2352.27it/s]\n",
      "100%|██████████| 5/5 [00:00<00:00, 2160.90it/s]\n",
      "100%|██████████| 1/1 [00:00<00:00, 1595.40it/s]\n",
      "100%|██████████| 6448/6448 [00:02<00:00, 2390.38it/s]\n",
      "100%|██████████| 2458/2458 [00:01<00:00, 2420.31it/s]\n",
      "100%|██████████| 8/8 [00:00<00:00, 2275.80it/s]\n",
      "100%|██████████| 1/1 [00:00<00:00, 1472.20it/s]\n",
      "100%|██████████| 9/9 [00:00<00:00, 2322.14it/s]\n",
      "100%|██████████| 3/3 [00:00<00:00, 2097.85it/s]\n",
      "100%|██████████| 10/10 [00:00<00:00, 2185.90it/s]\n",
      "100%|██████████| 6986/6986 [00:02<00:00, 2400.81it/s]\n",
      "100%|██████████| 12/12 [00:00<00:00, 2314.21it/s]\n",
      "100%|██████████| 3/3 [00:00<00:00, 2066.50it/s]\n"
     ]
    },
    {
     "name": "stdout",
     "output_type": "stream",
     "text": [
      "Regional data QA/QC\n"
     ]
    },
    {
     "name": "stderr",
     "output_type": "stream",
     "text": [
      "100%|██████████| 22/22 [00:00<00:00, 26.23it/s]\n",
      "100%|██████████| 22/22 [00:15<00:00,  1.46it/s]\n"
     ]
    },
    {
     "name": "stdout",
     "output_type": "stream",
     "text": [
      "Calculating mean SCA for each geometry in each region...\n"
     ]
    },
    {
     "name": "stderr",
     "output_type": "stream",
     "text": [
      "100%|██████████| 23/23 [00:26<00:00,  1.17s/it]\n"
     ]
    },
    {
     "name": "stdout",
     "output_type": "stream",
     "text": [
      "Making predictions for:  2018-10-24\n",
      "N_Sierras\n",
      "2/2 [==============================] - 0s 3ms/step\n",
      "S_Sierras_High\n",
      "1/1 [==============================] - 0s 67ms/step\n",
      "S_Sierras_Low\n",
      "No snow in region:  S_Sierras_Low\n",
      "Greater_Yellowstone\n",
      "54/54 [==============================] - 0s 1ms/step\n",
      "N_Co_Rockies\n",
      "28/28 [==============================] - 0s 1ms/step\n",
      "SW_Mont\n",
      "1/1 [==============================] - 0s 72ms/step\n",
      "SW_Co_Rockies\n",
      "21/21 [==============================] - 0s 1ms/step\n",
      "GBasin\n",
      "1/1 [==============================] - 0s 66ms/step\n",
      "N_Wasatch\n",
      "1/1 [==============================] - 0s 63ms/step\n",
      "N_Cascade\n",
      "1/1 [==============================] - 0s 64ms/step\n",
      "S_Wasatch\n",
      "1/1 [==============================] - 0s 62ms/step\n",
      "SW_Mtns\n",
      "1/1 [==============================] - 0s 64ms/step\n",
      "E_WA_N_Id_W_Mont\n",
      "1/1 [==============================] - 0s 67ms/step\n",
      "S_Wyoming\n",
      "1/1 [==============================] - 0s 64ms/step\n",
      "SE_Co_Rockies\n",
      "No snow in region:  SE_Co_Rockies\n",
      "Sawtooth\n",
      "1/1 [==============================] - 0s 64ms/step\n",
      "Ca_Coast\n",
      "No snow in region:  Ca_Coast\n",
      "E_Or\n",
      "1/1 [==============================] - 0s 63ms/step\n",
      "N_Yellowstone\n",
      "No snow in region:  N_Yellowstone\n",
      "S_Cascade\n",
      "1/1 [==============================] - 0s 64ms/step\n",
      "Wa_Coast\n",
      "No snow in region:  Wa_Coast\n",
      "Greater_Glacier\n",
      "No snow in region:  Greater_Glacier\n",
      "Or_Coast\n",
      "No snow in region:  Or_Coast\n",
      "Updating SWE predictions for  2018-10-25\n",
      "Getting VIIRS fSCA data and calculating the spatial average NSDI\n",
      "VIIRS fSCA files found locally\n"
     ]
    },
    {
     "name": "stderr",
     "output_type": "stream",
     "text": [
      "100%|██████████| 696/696 [00:00<00:00, 1252.45it/s]\n",
      "100%|██████████| 696/696 [00:00<00:00, 1248.16it/s]\n",
      "100%|██████████| 12/12 [00:00<00:00, 2205.01it/s]\n",
      "100%|██████████| 7/7 [00:00<00:00, 2201.57it/s]\n",
      "100%|██████████| 25/25 [00:00<00:00, 2303.55it/s]\n",
      "100%|██████████| 13/13 [00:00<00:00, 2200.93it/s]\n",
      "100%|██████████| 3349/3349 [00:01<00:00, 2378.64it/s]\n",
      "100%|██████████| 16/16 [00:00<00:00, 2061.78it/s]\n",
      "100%|██████████| 6/6 [00:00<00:00, 2061.93it/s]\n",
      "100%|██████████| 9/9 [00:00<00:00, 2195.97it/s]\n",
      "100%|██████████| 15/15 [00:00<00:00, 2112.64it/s]\n",
      "100%|██████████| 1707/1707 [00:00<00:00, 2355.09it/s]\n",
      "100%|██████████| 5/5 [00:00<00:00, 2004.35it/s]\n",
      "100%|██████████| 1/1 [00:00<00:00, 1378.80it/s]\n",
      "100%|██████████| 6448/6448 [00:02<00:00, 2385.21it/s]\n",
      "100%|██████████| 2458/2458 [00:01<00:00, 2409.62it/s]\n",
      "100%|██████████| 8/8 [00:00<00:00, 2255.76it/s]\n",
      "100%|██████████| 1/1 [00:00<00:00, 1526.87it/s]\n",
      "100%|██████████| 9/9 [00:00<00:00, 2187.19it/s]\n",
      "100%|██████████| 3/3 [00:00<00:00, 1848.25it/s]\n",
      "100%|██████████| 10/10 [00:00<00:00, 2233.03it/s]\n",
      "100%|██████████| 6986/6986 [00:02<00:00, 2404.32it/s]\n",
      "100%|██████████| 12/12 [00:00<00:00, 2260.78it/s]\n",
      "100%|██████████| 3/3 [00:00<00:00, 1880.01it/s]\n"
     ]
    },
    {
     "name": "stdout",
     "output_type": "stream",
     "text": [
      "Regional data QA/QC\n"
     ]
    },
    {
     "name": "stderr",
     "output_type": "stream",
     "text": [
      "100%|██████████| 22/22 [00:00<00:00, 26.09it/s]\n",
      "100%|██████████| 22/22 [00:15<00:00,  1.43it/s]\n"
     ]
    },
    {
     "name": "stdout",
     "output_type": "stream",
     "text": [
      "Calculating mean SCA for each geometry in each region...\n"
     ]
    },
    {
     "name": "stderr",
     "output_type": "stream",
     "text": [
      "100%|██████████| 23/23 [00:27<00:00,  1.21s/it]\n"
     ]
    },
    {
     "name": "stdout",
     "output_type": "stream",
     "text": [
      "Making predictions for:  2018-10-25\n",
      "N_Sierras\n",
      "54/54 [==============================] - 0s 1ms/step\n",
      "S_Sierras_High\n",
      "1/1 [==============================] - 0s 66ms/step\n",
      "S_Sierras_Low\n",
      "1/1 [==============================] - 0s 69ms/step\n",
      "Greater_Yellowstone\n",
      "76/76 [==============================] - 0s 1ms/step\n",
      "N_Co_Rockies\n",
      "28/28 [==============================] - 0s 1ms/step\n",
      "SW_Mont\n",
      "1/1 [==============================] - 0s 65ms/step\n",
      "SW_Co_Rockies\n",
      "46/46 [==============================] - 0s 1ms/step\n",
      "GBasin\n",
      "1/1 [==============================] - 0s 64ms/step\n",
      "N_Wasatch\n",
      "1/1 [==============================] - 0s 66ms/step\n",
      "N_Cascade\n",
      "1/1 [==============================] - 0s 63ms/step\n",
      "S_Wasatch\n",
      "1/1 [==============================] - 0s 66ms/step\n",
      "SW_Mtns\n",
      "1/1 [==============================] - 0s 64ms/step\n",
      "E_WA_N_Id_W_Mont\n",
      "1/1 [==============================] - 0s 68ms/step\n",
      "S_Wyoming\n",
      "1/1 [==============================] - 0s 63ms/step\n",
      "SE_Co_Rockies\n",
      "No snow in region:  SE_Co_Rockies\n",
      "Sawtooth\n",
      "1/1 [==============================] - 0s 71ms/step\n",
      "Ca_Coast\n",
      "1/1 [==============================] - 0s 64ms/step\n",
      "E_Or\n",
      "No snow in region:  E_Or\n",
      "N_Yellowstone\n",
      "1/1 [==============================] - 0s 68ms/step\n",
      "S_Cascade\n",
      "1/1 [==============================] - 0s 64ms/step\n",
      "Wa_Coast\n",
      "No snow in region:  Wa_Coast\n",
      "Greater_Glacier\n",
      "1/1 [==============================] - 0s 66ms/step\n",
      "Or_Coast\n",
      "No snow in region:  Or_Coast\n",
      "Updating SWE predictions for  2018-10-26\n",
      "Getting VIIRS fSCA data and calculating the spatial average NSDI\n",
      "VIIRS fSCA files found locally\n"
     ]
    },
    {
     "name": "stderr",
     "output_type": "stream",
     "text": [
      "100%|██████████| 696/696 [00:00<00:00, 1248.57it/s]\n",
      "100%|██████████| 696/696 [00:00<00:00, 1246.77it/s]\n",
      "100%|██████████| 12/12 [00:00<00:00, 2187.38it/s]\n",
      "100%|██████████| 7/7 [00:00<00:00, 2121.09it/s]\n",
      "100%|██████████| 25/25 [00:00<00:00, 2282.39it/s]\n",
      "100%|██████████| 13/13 [00:00<00:00, 2240.09it/s]\n",
      "100%|██████████| 3349/3349 [00:01<00:00, 2361.95it/s]\n",
      "100%|██████████| 16/16 [00:00<00:00, 2120.68it/s]\n",
      "100%|██████████| 6/6 [00:00<00:00, 2101.71it/s]\n",
      "100%|██████████| 9/9 [00:00<00:00, 2164.24it/s]\n",
      "100%|██████████| 15/15 [00:00<00:00, 2283.57it/s]\n",
      "100%|██████████| 1707/1707 [00:00<00:00, 2347.00it/s]\n",
      "100%|██████████| 5/5 [00:00<00:00, 2060.48it/s]\n",
      "100%|██████████| 1/1 [00:00<00:00, 1335.77it/s]\n",
      "100%|██████████| 6448/6448 [00:02<00:00, 2365.33it/s]\n",
      "100%|██████████| 2458/2458 [00:01<00:00, 2371.56it/s]\n",
      "100%|██████████| 8/8 [00:00<00:00, 2226.13it/s]\n",
      "100%|██████████| 1/1 [00:00<00:00, 1463.47it/s]\n",
      "100%|██████████| 9/9 [00:00<00:00, 2177.35it/s]\n",
      "100%|██████████| 3/3 [00:00<00:00, 1970.70it/s]\n",
      "100%|██████████| 10/10 [00:00<00:00, 2289.72it/s]\n",
      "100%|██████████| 6986/6986 [00:02<00:00, 2369.65it/s]\n",
      "100%|██████████| 12/12 [00:00<00:00, 2109.72it/s]\n",
      "100%|██████████| 3/3 [00:00<00:00, 1944.21it/s]\n"
     ]
    },
    {
     "name": "stdout",
     "output_type": "stream",
     "text": [
      "Regional data QA/QC\n"
     ]
    },
    {
     "name": "stderr",
     "output_type": "stream",
     "text": [
      "100%|██████████| 22/22 [00:00<00:00, 25.79it/s]\n",
      "100%|██████████| 22/22 [00:15<00:00,  1.44it/s]\n"
     ]
    },
    {
     "name": "stdout",
     "output_type": "stream",
     "text": [
      "Calculating mean SCA for each geometry in each region...\n"
     ]
    },
    {
     "name": "stderr",
     "output_type": "stream",
     "text": [
      "100%|██████████| 23/23 [00:27<00:00,  1.18s/it]\n"
     ]
    },
    {
     "name": "stdout",
     "output_type": "stream",
     "text": [
      "Making predictions for:  2018-10-26\n",
      "N_Sierras\n",
      "54/54 [==============================] - 0s 1ms/step\n",
      "S_Sierras_High\n",
      "1/1 [==============================] - 0s 63ms/step\n",
      "S_Sierras_Low\n",
      "No snow in region:  S_Sierras_Low\n",
      "Greater_Yellowstone\n",
      "75/75 [==============================] - 0s 1ms/step\n",
      "N_Co_Rockies\n",
      "26/26 [==============================] - 0s 1ms/step\n",
      "SW_Mont\n",
      "1/1 [==============================] - 0s 65ms/step\n",
      "SW_Co_Rockies\n",
      "43/43 [==============================] - 0s 1ms/step\n",
      "GBasin\n",
      "1/1 [==============================] - 0s 65ms/step\n",
      "N_Wasatch\n",
      "1/1 [==============================] - 0s 64ms/step\n",
      "N_Cascade\n",
      "1/1 [==============================] - 0s 65ms/step\n",
      "S_Wasatch\n",
      "1/1 [==============================] - 0s 63ms/step\n",
      "SW_Mtns\n",
      "1/1 [==============================] - 0s 65ms/step\n",
      "E_WA_N_Id_W_Mont\n",
      "1/1 [==============================] - 0s 63ms/step\n",
      "S_Wyoming\n",
      "1/1 [==============================] - 0s 64ms/step\n",
      "SE_Co_Rockies\n",
      "No snow in region:  SE_Co_Rockies\n",
      "Sawtooth\n",
      "1/1 [==============================] - 0s 62ms/step\n",
      "Ca_Coast\n",
      "1/1 [==============================] - 0s 66ms/step\n",
      "E_Or\n",
      "No snow in region:  E_Or\n",
      "N_Yellowstone\n",
      "1/1 [==============================] - 0s 65ms/step\n",
      "S_Cascade\n",
      "1/1 [==============================] - 0s 66ms/step\n",
      "Wa_Coast\n",
      "No snow in region:  Wa_Coast\n",
      "Greater_Glacier\n",
      "1/1 [==============================] - 0s 83ms/step\n",
      "Or_Coast\n",
      "No snow in region:  Or_Coast\n",
      "Updating SWE predictions for  2018-10-27\n",
      "Getting VIIRS fSCA data and calculating the spatial average NSDI\n",
      "VIIRS fSCA files found locally\n"
     ]
    },
    {
     "name": "stderr",
     "output_type": "stream",
     "text": [
      "100%|██████████| 696/696 [00:00<00:00, 1259.81it/s]\n",
      "100%|██████████| 696/696 [00:00<00:00, 1236.75it/s]\n",
      "100%|██████████| 12/12 [00:00<00:00, 2157.75it/s]\n",
      "100%|██████████| 7/7 [00:00<00:00, 2143.86it/s]\n",
      "100%|██████████| 25/25 [00:00<00:00, 2295.33it/s]\n",
      "100%|██████████| 13/13 [00:00<00:00, 2225.46it/s]\n",
      "100%|██████████| 3349/3349 [00:01<00:00, 2384.36it/s]\n",
      "100%|██████████| 16/16 [00:00<00:00, 2193.03it/s]\n",
      "100%|██████████| 6/6 [00:00<00:00, 2126.93it/s]\n",
      "100%|██████████| 9/9 [00:00<00:00, 2229.83it/s]\n",
      "100%|██████████| 15/15 [00:00<00:00, 2280.34it/s]\n",
      "100%|██████████| 1707/1707 [00:00<00:00, 2385.37it/s]\n",
      "100%|██████████| 5/5 [00:00<00:00, 2062.50it/s]\n",
      "100%|██████████| 1/1 [00:00<00:00, 1136.98it/s]\n",
      "100%|██████████| 6448/6448 [00:02<00:00, 2385.09it/s]\n",
      "100%|██████████| 2458/2458 [00:01<00:00, 2407.74it/s]\n",
      "100%|██████████| 8/8 [00:00<00:00, 2149.68it/s]\n",
      "100%|██████████| 1/1 [00:00<00:00, 1333.22it/s]\n",
      "100%|██████████| 9/9 [00:00<00:00, 2175.85it/s]\n",
      "100%|██████████| 3/3 [00:00<00:00, 1870.79it/s]\n",
      "100%|██████████| 10/10 [00:00<00:00, 2257.92it/s]\n",
      "100%|██████████| 6986/6986 [00:02<00:00, 2373.12it/s]\n",
      "100%|██████████| 12/12 [00:00<00:00, 2153.23it/s]\n",
      "100%|██████████| 3/3 [00:00<00:00, 1857.26it/s]\n"
     ]
    },
    {
     "name": "stdout",
     "output_type": "stream",
     "text": [
      "Regional data QA/QC\n"
     ]
    },
    {
     "name": "stderr",
     "output_type": "stream",
     "text": [
      "100%|██████████| 22/22 [00:00<00:00, 26.10it/s]\n",
      "100%|██████████| 22/22 [00:15<00:00,  1.43it/s]\n"
     ]
    },
    {
     "name": "stdout",
     "output_type": "stream",
     "text": [
      "Calculating mean SCA for each geometry in each region...\n"
     ]
    },
    {
     "name": "stderr",
     "output_type": "stream",
     "text": [
      "100%|██████████| 23/23 [00:27<00:00,  1.19s/it]\n"
     ]
    },
    {
     "name": "stdout",
     "output_type": "stream",
     "text": [
      "Making predictions for:  2018-10-27\n",
      "N_Sierras\n",
      "54/54 [==============================] - 0s 1ms/step\n",
      "S_Sierras_High\n",
      "1/1 [==============================] - 0s 75ms/step\n",
      "S_Sierras_Low\n",
      "No snow in region:  S_Sierras_Low\n",
      "Greater_Yellowstone\n",
      "75/75 [==============================] - 0s 1ms/step\n",
      "N_Co_Rockies\n",
      "24/24 [==============================] - 0s 1ms/step\n",
      "SW_Mont\n",
      "1/1 [==============================] - 0s 66ms/step\n",
      "SW_Co_Rockies\n",
      "44/44 [==============================] - 0s 1ms/step\n",
      "GBasin\n",
      "1/1 [==============================] - 0s 64ms/step\n",
      "N_Wasatch\n",
      "1/1 [==============================] - 0s 79ms/step\n",
      "N_Cascade\n",
      "1/1 [==============================] - 0s 64ms/step\n",
      "S_Wasatch\n",
      "1/1 [==============================] - 0s 69ms/step\n",
      "SW_Mtns\n",
      "1/1 [==============================] - 0s 63ms/step\n",
      "E_WA_N_Id_W_Mont\n",
      "1/1 [==============================] - 0s 69ms/step\n",
      "S_Wyoming\n",
      "1/1 [==============================] - 0s 65ms/step\n",
      "SE_Co_Rockies\n",
      "No snow in region:  SE_Co_Rockies\n",
      "Sawtooth\n",
      "1/1 [==============================] - 0s 69ms/step\n",
      "Ca_Coast\n",
      "1/1 [==============================] - 0s 64ms/step\n",
      "E_Or\n",
      "No snow in region:  E_Or\n",
      "N_Yellowstone\n",
      "1/1 [==============================] - 0s 70ms/step\n",
      "S_Cascade\n",
      "1/1 [==============================] - 0s 63ms/step\n",
      "Wa_Coast\n",
      "No snow in region:  Wa_Coast\n",
      "Greater_Glacier\n",
      "1/1 [==============================] - 0s 70ms/step\n",
      "Or_Coast\n",
      "No snow in region:  Or_Coast\n",
      "Updating SWE predictions for  2018-10-28\n",
      "Getting VIIRS fSCA data and calculating the spatial average NSDI\n",
      "VIIRS fSCA files found locally\n"
     ]
    },
    {
     "name": "stderr",
     "output_type": "stream",
     "text": [
      "100%|██████████| 696/696 [00:00<00:00, 1231.18it/s]\n",
      "100%|██████████| 696/696 [00:00<00:00, 1230.65it/s]\n",
      "100%|██████████| 12/12 [00:00<00:00, 1990.02it/s]\n",
      "100%|██████████| 7/7 [00:00<00:00, 2240.89it/s]\n",
      "100%|██████████| 25/25 [00:00<00:00, 2266.46it/s]\n",
      "100%|██████████| 13/13 [00:00<00:00, 2240.55it/s]\n",
      "100%|██████████| 3349/3349 [00:01<00:00, 2395.05it/s]\n",
      "100%|██████████| 16/16 [00:00<00:00, 2233.39it/s]\n",
      "100%|██████████| 6/6 [00:00<00:00, 2099.25it/s]\n",
      "100%|██████████| 9/9 [00:00<00:00, 2216.60it/s]\n",
      "100%|██████████| 15/15 [00:00<00:00, 2213.20it/s]\n",
      "100%|██████████| 1707/1707 [00:00<00:00, 2379.57it/s]\n",
      "100%|██████████| 5/5 [00:00<00:00, 1889.84it/s]\n",
      "100%|██████████| 1/1 [00:00<00:00, 1218.92it/s]\n",
      "100%|██████████| 6448/6448 [00:02<00:00, 2390.44it/s]\n",
      "100%|██████████| 2458/2458 [00:01<00:00, 2350.43it/s]\n",
      "100%|██████████| 8/8 [00:00<00:00, 1989.00it/s]\n",
      "100%|██████████| 1/1 [00:00<00:00, 1082.40it/s]\n",
      "100%|██████████| 9/9 [00:00<00:00, 2100.19it/s]\n",
      "100%|██████████| 3/3 [00:00<00:00, 1603.53it/s]\n",
      "100%|██████████| 10/10 [00:00<00:00, 2120.69it/s]\n",
      "100%|██████████| 6986/6986 [00:02<00:00, 2338.59it/s]\n",
      "100%|██████████| 12/12 [00:00<00:00, 2174.34it/s]\n",
      "100%|██████████| 3/3 [00:00<00:00, 1797.82it/s]\n"
     ]
    },
    {
     "name": "stdout",
     "output_type": "stream",
     "text": [
      "Regional data QA/QC\n"
     ]
    },
    {
     "name": "stderr",
     "output_type": "stream",
     "text": [
      "100%|██████████| 22/22 [00:00<00:00, 25.73it/s]\n",
      "100%|██████████| 22/22 [00:15<00:00,  1.39it/s]\n"
     ]
    },
    {
     "name": "stdout",
     "output_type": "stream",
     "text": [
      "Calculating mean SCA for each geometry in each region...\n"
     ]
    },
    {
     "name": "stderr",
     "output_type": "stream",
     "text": [
      "100%|██████████| 23/23 [00:28<00:00,  1.23s/it]\n"
     ]
    },
    {
     "name": "stdout",
     "output_type": "stream",
     "text": [
      "Making predictions for:  2018-10-28\n",
      "N_Sierras\n",
      "55/55 [==============================] - 0s 1ms/step\n",
      "S_Sierras_High\n",
      "1/1 [==============================] - 0s 68ms/step\n",
      "S_Sierras_Low\n",
      "No snow in region:  S_Sierras_Low\n",
      "Greater_Yellowstone\n",
      "75/75 [==============================] - 0s 1ms/step\n",
      "N_Co_Rockies\n",
      "25/25 [==============================] - 0s 1ms/step\n",
      "SW_Mont\n",
      "1/1 [==============================] - 0s 72ms/step\n",
      "SW_Co_Rockies\n",
      "17/17 [==============================] - 0s 1ms/step\n",
      "GBasin\n",
      "1/1 [==============================] - 0s 69ms/step\n",
      "N_Wasatch\n",
      "1/1 [==============================] - 0s 67ms/step\n",
      "N_Cascade\n",
      "1/1 [==============================] - 0s 69ms/step\n",
      "S_Wasatch\n",
      "1/1 [==============================] - 0s 69ms/step\n",
      "SW_Mtns\n",
      "1/1 [==============================] - 0s 69ms/step\n",
      "E_WA_N_Id_W_Mont\n",
      "1/1 [==============================] - 0s 72ms/step\n",
      "S_Wyoming\n",
      "1/1 [==============================] - 0s 70ms/step\n",
      "SE_Co_Rockies\n",
      "No snow in region:  SE_Co_Rockies\n",
      "Sawtooth\n",
      "1/1 [==============================] - 0s 68ms/step\n",
      "Ca_Coast\n",
      "1/1 [==============================] - 0s 70ms/step\n",
      "E_Or\n",
      "No snow in region:  E_Or\n",
      "N_Yellowstone\n",
      "1/1 [==============================] - 0s 65ms/step\n",
      "S_Cascade\n",
      "1/1 [==============================] - 0s 70ms/step\n",
      "Wa_Coast\n",
      "No snow in region:  Wa_Coast\n",
      "Greater_Glacier\n",
      "1/1 [==============================] - 0s 67ms/step\n",
      "Or_Coast\n",
      "No snow in region:  Or_Coast\n",
      "Updating SWE predictions for  2018-10-29\n",
      "Getting VIIRS fSCA data and calculating the spatial average NSDI\n",
      "VIIRS fSCA files found locally\n"
     ]
    },
    {
     "name": "stderr",
     "output_type": "stream",
     "text": [
      "100%|██████████| 696/696 [00:00<00:00, 1225.22it/s]\n",
      "100%|██████████| 696/696 [00:00<00:00, 1180.20it/s]\n",
      "100%|██████████| 12/12 [00:00<00:00, 1854.31it/s]\n",
      "100%|██████████| 7/7 [00:00<00:00, 1933.88it/s]\n",
      "100%|██████████| 25/25 [00:00<00:00, 2109.17it/s]\n",
      "100%|██████████| 13/13 [00:00<00:00, 1969.87it/s]\n",
      "100%|██████████| 3349/3349 [00:01<00:00, 2347.97it/s]\n",
      "100%|██████████| 16/16 [00:00<00:00, 1768.86it/s]\n",
      "100%|██████████| 6/6 [00:00<00:00, 1894.16it/s]\n",
      "100%|██████████| 9/9 [00:00<00:00, 2080.28it/s]\n",
      "100%|██████████| 15/15 [00:00<00:00, 2169.84it/s]\n",
      "100%|██████████| 1707/1707 [00:00<00:00, 2299.19it/s]\n",
      "100%|██████████| 5/5 [00:00<00:00, 1917.83it/s]\n",
      "100%|██████████| 1/1 [00:00<00:00, 1142.86it/s]\n",
      "100%|██████████| 6448/6448 [00:02<00:00, 2342.25it/s]\n",
      "100%|██████████| 2458/2458 [00:01<00:00, 2335.55it/s]\n",
      "100%|██████████| 8/8 [00:00<00:00, 2095.06it/s]\n",
      "100%|██████████| 1/1 [00:00<00:00, 1221.40it/s]\n",
      "100%|██████████| 9/9 [00:00<00:00, 2121.19it/s]\n",
      "100%|██████████| 3/3 [00:00<00:00, 1751.28it/s]\n",
      "100%|██████████| 10/10 [00:00<00:00, 2174.34it/s]\n",
      "100%|██████████| 6986/6986 [00:02<00:00, 2352.65it/s]\n",
      "100%|██████████| 12/12 [00:00<00:00, 2110.61it/s]\n",
      "100%|██████████| 3/3 [00:00<00:00, 1768.01it/s]\n"
     ]
    },
    {
     "name": "stdout",
     "output_type": "stream",
     "text": [
      "Regional data QA/QC\n"
     ]
    },
    {
     "name": "stderr",
     "output_type": "stream",
     "text": [
      "100%|██████████| 22/22 [00:00<00:00, 25.57it/s]\n",
      "100%|██████████| 22/22 [00:15<00:00,  1.40it/s]\n"
     ]
    },
    {
     "name": "stdout",
     "output_type": "stream",
     "text": [
      "Calculating mean SCA for each geometry in each region...\n"
     ]
    },
    {
     "name": "stderr",
     "output_type": "stream",
     "text": [
      "100%|██████████| 23/23 [00:26<00:00,  1.17s/it]\n"
     ]
    },
    {
     "name": "stdout",
     "output_type": "stream",
     "text": [
      "Making predictions for:  2018-10-29\n",
      "N_Sierras\n",
      "56/56 [==============================] - 0s 1ms/step\n",
      "S_Sierras_High\n",
      "1/1 [==============================] - 0s 68ms/step\n",
      "S_Sierras_Low\n",
      "1/1 [==============================] - 0s 63ms/step\n",
      "Greater_Yellowstone\n",
      "75/75 [==============================] - 0s 1ms/step\n",
      "N_Co_Rockies\n",
      "24/24 [==============================] - 0s 1ms/step\n",
      "SW_Mont\n",
      "1/1 [==============================] - 0s 71ms/step\n",
      "SW_Co_Rockies\n",
      "43/43 [==============================] - 0s 1ms/step\n",
      "GBasin\n",
      "1/1 [==============================] - 0s 70ms/step\n",
      "N_Wasatch\n",
      "1/1 [==============================] - 0s 64ms/step\n",
      "N_Cascade\n",
      "1/1 [==============================] - 0s 70ms/step\n",
      "S_Wasatch\n",
      "1/1 [==============================] - 0s 65ms/step\n",
      "SW_Mtns\n",
      "1/1 [==============================] - 0s 75ms/step\n",
      "E_WA_N_Id_W_Mont\n",
      "1/1 [==============================] - 0s 65ms/step\n",
      "S_Wyoming\n",
      "1/1 [==============================] - 0s 70ms/step\n",
      "SE_Co_Rockies\n",
      "No snow in region:  SE_Co_Rockies\n",
      "Sawtooth\n",
      "1/1 [==============================] - 0s 66ms/step\n",
      "Ca_Coast\n",
      "1/1 [==============================] - 0s 72ms/step\n",
      "E_Or\n",
      "1/1 [==============================] - 0s 68ms/step\n",
      "N_Yellowstone\n",
      "1/1 [==============================] - 0s 72ms/step\n",
      "S_Cascade\n",
      "1/1 [==============================] - 0s 65ms/step\n",
      "Wa_Coast\n",
      "No snow in region:  Wa_Coast\n",
      "Greater_Glacier\n",
      "1/1 [==============================] - 0s 72ms/step\n",
      "Or_Coast\n",
      "No snow in region:  Or_Coast\n",
      "Updating SWE predictions for  2018-10-30\n",
      "Getting VIIRS fSCA data and calculating the spatial average NSDI\n",
      "VIIRS fSCA files found locally\n"
     ]
    },
    {
     "name": "stderr",
     "output_type": "stream",
     "text": [
      "100%|██████████| 696/696 [00:00<00:00, 1204.90it/s]\n",
      "100%|██████████| 696/696 [00:00<00:00, 1217.35it/s]\n",
      "100%|██████████| 12/12 [00:00<00:00, 1777.62it/s]\n",
      "100%|██████████| 7/7 [00:00<00:00, 1516.85it/s]\n",
      "100%|██████████| 25/25 [00:00<00:00, 2061.41it/s]\n",
      "100%|██████████| 13/13 [00:00<00:00, 1895.63it/s]\n",
      "100%|██████████| 3349/3349 [00:01<00:00, 2334.46it/s]\n",
      "100%|██████████| 16/16 [00:00<00:00, 1960.59it/s]\n",
      "100%|██████████| 6/6 [00:00<00:00, 1691.59it/s]\n",
      "100%|██████████| 9/9 [00:00<00:00, 1632.31it/s]\n",
      "100%|██████████| 15/15 [00:00<00:00, 1918.77it/s]\n",
      "100%|██████████| 1707/1707 [00:00<00:00, 2323.05it/s]\n",
      "100%|██████████| 5/5 [00:00<00:00, 1252.93it/s]\n",
      "100%|██████████| 1/1 [00:00<00:00, 913.19it/s]\n",
      "100%|██████████| 6448/6448 [00:02<00:00, 2333.69it/s]\n",
      "100%|██████████| 2458/2458 [00:01<00:00, 2389.66it/s]\n",
      "100%|██████████| 8/8 [00:00<00:00, 2173.92it/s]\n",
      "100%|██████████| 1/1 [00:00<00:00, 1404.66it/s]\n",
      "100%|██████████| 9/9 [00:00<00:00, 2245.75it/s]\n",
      "100%|██████████| 3/3 [00:00<00:00, 1930.19it/s]\n",
      "100%|██████████| 10/10 [00:00<00:00, 2246.31it/s]\n",
      "100%|██████████| 6986/6986 [00:03<00:00, 2323.94it/s]\n",
      "100%|██████████| 12/12 [00:00<00:00, 2261.99it/s]\n",
      "100%|██████████| 3/3 [00:00<00:00, 1966.08it/s]\n"
     ]
    },
    {
     "name": "stdout",
     "output_type": "stream",
     "text": [
      "Regional data QA/QC\n"
     ]
    },
    {
     "name": "stderr",
     "output_type": "stream",
     "text": [
      "100%|██████████| 22/22 [00:00<00:00, 26.24it/s]\n",
      "100%|██████████| 22/22 [00:16<00:00,  1.34it/s]\n"
     ]
    },
    {
     "name": "stdout",
     "output_type": "stream",
     "text": [
      "Calculating mean SCA for each geometry in each region...\n"
     ]
    },
    {
     "name": "stderr",
     "output_type": "stream",
     "text": [
      "100%|██████████| 23/23 [00:27<00:00,  1.21s/it]\n"
     ]
    },
    {
     "name": "stdout",
     "output_type": "stream",
     "text": [
      "Making predictions for:  2018-10-30\n",
      "N_Sierras\n",
      "1/1 [==============================] - 0s 80ms/step\n",
      "S_Sierras_High\n",
      "1/1 [==============================] - 0s 70ms/step\n",
      "S_Sierras_Low\n",
      "No snow in region:  S_Sierras_Low\n",
      "Greater_Yellowstone\n",
      "76/76 [==============================] - 0s 1ms/step\n",
      "N_Co_Rockies\n",
      "24/24 [==============================] - 0s 1ms/step\n",
      "SW_Mont\n",
      "1/1 [==============================] - 0s 71ms/step\n",
      "SW_Co_Rockies\n",
      "43/43 [==============================] - 0s 1ms/step\n",
      "GBasin\n",
      "1/1 [==============================] - 0s 74ms/step\n",
      "N_Wasatch\n",
      "1/1 [==============================] - 0s 67ms/step\n",
      "N_Cascade\n",
      "1/1 [==============================] - 0s 70ms/step\n",
      "S_Wasatch\n",
      "1/1 [==============================] - 0s 69ms/step\n",
      "SW_Mtns\n",
      "1/1 [==============================] - 0s 71ms/step\n",
      "E_WA_N_Id_W_Mont\n",
      "1/1 [==============================] - 0s 65ms/step\n",
      "S_Wyoming\n",
      "1/1 [==============================] - 0s 69ms/step\n",
      "SE_Co_Rockies\n",
      "No snow in region:  SE_Co_Rockies\n",
      "Sawtooth\n",
      "1/1 [==============================] - 0s 66ms/step\n",
      "Ca_Coast\n",
      "No snow in region:  Ca_Coast\n",
      "E_Or\n",
      "1/1 [==============================] - 0s 69ms/step\n",
      "N_Yellowstone\n",
      "1/1 [==============================] - 0s 68ms/step\n",
      "S_Cascade\n",
      "1/1 [==============================] - 0s 69ms/step\n",
      "Wa_Coast\n",
      "No snow in region:  Wa_Coast\n",
      "Greater_Glacier\n",
      "1/1 [==============================] - 0s 65ms/step\n",
      "Or_Coast\n",
      "No snow in region:  Or_Coast\n",
      "Updating SWE predictions for  2018-10-31\n",
      "Getting VIIRS fSCA data and calculating the spatial average NSDI\n",
      "VIIRS fSCA files found locally\n"
     ]
    },
    {
     "name": "stderr",
     "output_type": "stream",
     "text": [
      "100%|██████████| 696/696 [00:00<00:00, 1235.21it/s]\n",
      "100%|██████████| 696/696 [00:00<00:00, 1246.56it/s]\n",
      "100%|██████████| 12/12 [00:00<00:00, 2146.34it/s]\n",
      "100%|██████████| 7/7 [00:00<00:00, 2134.20it/s]\n",
      "100%|██████████| 25/25 [00:00<00:00, 2273.38it/s]\n",
      "100%|██████████| 13/13 [00:00<00:00, 2208.42it/s]\n",
      "100%|██████████| 3349/3349 [00:01<00:00, 2389.10it/s]\n",
      "100%|██████████| 16/16 [00:00<00:00, 2235.84it/s]\n",
      "100%|██████████| 6/6 [00:00<00:00, 2075.02it/s]\n",
      "100%|██████████| 9/9 [00:00<00:00, 2184.03it/s]\n",
      "100%|██████████| 15/15 [00:00<00:00, 2251.45it/s]\n",
      "100%|██████████| 1707/1707 [00:00<00:00, 2318.67it/s]\n",
      "100%|██████████| 5/5 [00:00<00:00, 1982.75it/s]\n",
      "100%|██████████| 1/1 [00:00<00:00, 1358.70it/s]\n",
      "100%|██████████| 6448/6448 [00:02<00:00, 2383.94it/s]\n",
      "100%|██████████| 2458/2458 [00:01<00:00, 2343.64it/s]\n",
      "100%|██████████| 8/8 [00:00<00:00, 2161.04it/s]\n",
      "100%|██████████| 1/1 [00:00<00:00, 1215.74it/s]\n",
      "100%|██████████| 9/9 [00:00<00:00, 2129.21it/s]\n",
      "100%|██████████| 3/3 [00:00<00:00, 1696.04it/s]\n",
      "100%|██████████| 10/10 [00:00<00:00, 1989.71it/s]\n",
      "100%|██████████| 6986/6986 [00:02<00:00, 2365.15it/s]\n",
      "100%|██████████| 12/12 [00:00<00:00, 2050.67it/s]\n",
      "100%|██████████| 3/3 [00:00<00:00, 1201.35it/s]\n"
     ]
    },
    {
     "name": "stdout",
     "output_type": "stream",
     "text": [
      "Regional data QA/QC\n"
     ]
    },
    {
     "name": "stderr",
     "output_type": "stream",
     "text": [
      "100%|██████████| 22/22 [00:00<00:00, 25.52it/s]\n",
      "100%|██████████| 22/22 [00:16<00:00,  1.32it/s]\n"
     ]
    },
    {
     "name": "stdout",
     "output_type": "stream",
     "text": [
      "Calculating mean SCA for each geometry in each region...\n"
     ]
    },
    {
     "name": "stderr",
     "output_type": "stream",
     "text": [
      "100%|██████████| 23/23 [00:27<00:00,  1.19s/it]\n"
     ]
    },
    {
     "name": "stdout",
     "output_type": "stream",
     "text": [
      "Making predictions for:  2018-10-31\n",
      "N_Sierras\n",
      "54/54 [==============================] - 0s 1ms/step\n",
      "S_Sierras_High\n",
      "1/1 [==============================] - 0s 67ms/step\n",
      "S_Sierras_Low\n",
      "1/1 [==============================] - 0s 73ms/step\n",
      "Greater_Yellowstone\n",
      "76/76 [==============================] - 0s 1ms/step\n",
      "N_Co_Rockies\n",
      "44/44 [==============================] - 0s 1ms/step\n",
      "SW_Mont\n",
      "1/1 [==============================] - 0s 68ms/step\n",
      "SW_Co_Rockies\n",
      "45/45 [==============================] - 0s 1ms/step\n",
      "GBasin\n",
      "1/1 [==============================] - 0s 67ms/step\n",
      "N_Wasatch\n",
      "1/1 [==============================] - 0s 70ms/step\n",
      "N_Cascade\n",
      "1/1 [==============================] - 0s 69ms/step\n",
      "S_Wasatch\n",
      "1/1 [==============================] - 0s 71ms/step\n",
      "SW_Mtns\n",
      "1/1 [==============================] - 0s 69ms/step\n",
      "E_WA_N_Id_W_Mont\n",
      "1/1 [==============================] - 0s 72ms/step\n",
      "S_Wyoming\n",
      "1/1 [==============================] - 0s 67ms/step\n",
      "SE_Co_Rockies\n",
      "No snow in region:  SE_Co_Rockies\n",
      "Sawtooth\n",
      "1/1 [==============================] - 0s 70ms/step\n",
      "Ca_Coast\n",
      "1/1 [==============================] - 0s 74ms/step\n",
      "E_Or\n",
      "1/1 [==============================] - 0s 71ms/step\n",
      "N_Yellowstone\n",
      "1/1 [==============================] - 0s 68ms/step\n",
      "S_Cascade\n",
      "1/1 [==============================] - 0s 72ms/step\n",
      "Wa_Coast\n",
      "No snow in region:  Wa_Coast\n",
      "Greater_Glacier\n",
      "1/1 [==============================] - 0s 67ms/step\n",
      "Or_Coast\n",
      "No snow in region:  Or_Coast\n",
      "Updating SWE predictions for  2018-11-01\n",
      "Getting VIIRS fSCA data and calculating the spatial average NSDI\n",
      "VIIRS fSCA files found locally\n"
     ]
    },
    {
     "name": "stderr",
     "output_type": "stream",
     "text": [
      "100%|██████████| 696/696 [00:00<00:00, 1228.23it/s]\n",
      "100%|██████████| 696/696 [00:00<00:00, 1230.34it/s]\n",
      "100%|██████████| 12/12 [00:00<00:00, 1939.41it/s]\n",
      "100%|██████████| 7/7 [00:00<00:00, 1980.98it/s]\n",
      "100%|██████████| 25/25 [00:00<00:00, 2111.09it/s]\n",
      "100%|██████████| 13/13 [00:00<00:00, 1847.77it/s]\n",
      "100%|██████████| 3349/3349 [00:01<00:00, 2292.85it/s]\n",
      "100%|██████████| 16/16 [00:00<00:00, 2174.27it/s]\n",
      "100%|██████████| 6/6 [00:00<00:00, 2031.47it/s]\n",
      "100%|██████████| 9/9 [00:00<00:00, 2182.13it/s]\n",
      "100%|██████████| 15/15 [00:00<00:00, 2127.43it/s]\n",
      "100%|██████████| 1707/1707 [00:00<00:00, 2369.65it/s]\n",
      "100%|██████████| 5/5 [00:00<00:00, 2029.96it/s]\n",
      "100%|██████████| 1/1 [00:00<00:00, 1201.46it/s]\n",
      "100%|██████████| 6448/6448 [00:02<00:00, 2340.68it/s]\n",
      "100%|██████████| 2458/2458 [00:01<00:00, 2373.27it/s]\n",
      "100%|██████████| 8/8 [00:00<00:00, 2187.52it/s]\n",
      "100%|██████████| 1/1 [00:00<00:00, 1365.33it/s]\n",
      "100%|██████████| 9/9 [00:00<00:00, 2184.53it/s]\n",
      "100%|██████████| 3/3 [00:00<00:00, 1862.48it/s]\n",
      "100%|██████████| 10/10 [00:00<00:00, 2213.59it/s]\n",
      "100%|██████████| 6986/6986 [00:02<00:00, 2352.23it/s]\n",
      "100%|██████████| 12/12 [00:00<00:00, 2183.49it/s]\n",
      "100%|██████████| 3/3 [00:00<00:00, 1773.99it/s]\n"
     ]
    },
    {
     "name": "stdout",
     "output_type": "stream",
     "text": [
      "Regional data QA/QC\n"
     ]
    },
    {
     "name": "stderr",
     "output_type": "stream",
     "text": [
      "100%|██████████| 22/22 [00:00<00:00, 25.75it/s]\n",
      "100%|██████████| 22/22 [00:16<00:00,  1.34it/s]\n"
     ]
    },
    {
     "name": "stdout",
     "output_type": "stream",
     "text": [
      "Calculating mean SCA for each geometry in each region...\n"
     ]
    },
    {
     "name": "stderr",
     "output_type": "stream",
     "text": [
      "100%|██████████| 23/23 [00:27<00:00,  1.20s/it]\n"
     ]
    },
    {
     "name": "stdout",
     "output_type": "stream",
     "text": [
      "Making predictions for:  2018-11-01\n",
      "N_Sierras\n",
      "55/55 [==============================] - 0s 1ms/step\n",
      "S_Sierras_High\n",
      "1/1 [==============================] - 0s 70ms/step\n",
      "S_Sierras_Low\n",
      "1/1 [==============================] - 0s 67ms/step\n",
      "Greater_Yellowstone\n",
      "76/76 [==============================] - 0s 1ms/step\n",
      "N_Co_Rockies\n",
      "48/48 [==============================] - 0s 1ms/step\n",
      "SW_Mont\n",
      "1/1 [==============================] - 0s 71ms/step\n",
      "SW_Co_Rockies\n",
      "21/21 [==============================] - 0s 1ms/step\n",
      "GBasin\n",
      "1/1 [==============================] - 0s 79ms/step\n",
      "N_Wasatch\n",
      "1/1 [==============================] - 0s 69ms/step\n",
      "N_Cascade\n",
      "1/1 [==============================] - 0s 74ms/step\n",
      "S_Wasatch\n",
      "1/1 [==============================] - 0s 68ms/step\n",
      "SW_Mtns\n",
      "1/1 [==============================] - 0s 71ms/step\n",
      "E_WA_N_Id_W_Mont\n",
      "1/1 [==============================] - 0s 72ms/step\n",
      "S_Wyoming\n",
      "1/1 [==============================] - 0s 71ms/step\n",
      "SE_Co_Rockies\n",
      "1/1 [==============================] - 0s 68ms/step\n",
      "Sawtooth\n",
      "1/1 [==============================] - 0s 79ms/step\n",
      "Ca_Coast\n",
      "1/1 [==============================] - 0s 66ms/step\n",
      "E_Or\n",
      "1/1 [==============================] - 0s 72ms/step\n",
      "N_Yellowstone\n",
      "1/1 [==============================] - 0s 68ms/step\n",
      "S_Cascade\n",
      "1/1 [==============================] - 0s 72ms/step\n",
      "Wa_Coast\n",
      "No snow in region:  Wa_Coast\n",
      "Greater_Glacier\n",
      "1/1 [==============================] - 0s 70ms/step\n",
      "Or_Coast\n",
      "No snow in region:  Or_Coast\n",
      "Updating SWE predictions for  2018-11-02\n",
      "Getting VIIRS fSCA data and calculating the spatial average NSDI\n",
      "VIIRS fSCA files found locally\n"
     ]
    },
    {
     "name": "stderr",
     "output_type": "stream",
     "text": [
      "100%|██████████| 696/696 [00:00<00:00, 1212.54it/s]\n",
      "100%|██████████| 696/696 [00:00<00:00, 1221.52it/s]\n",
      "100%|██████████| 12/12 [00:00<00:00, 1971.78it/s]\n",
      "100%|██████████| 7/7 [00:00<00:00, 1808.11it/s]\n",
      "100%|██████████| 25/25 [00:00<00:00, 2139.82it/s]\n",
      "100%|██████████| 13/13 [00:00<00:00, 2123.95it/s]\n",
      "100%|██████████| 3349/3349 [00:01<00:00, 2321.76it/s]\n",
      "100%|██████████| 16/16 [00:00<00:00, 2081.35it/s]\n",
      "100%|██████████| 6/6 [00:00<00:00, 1897.30it/s]\n",
      "100%|██████████| 9/9 [00:00<00:00, 2072.17it/s]\n",
      "100%|██████████| 15/15 [00:00<00:00, 2131.76it/s]\n",
      "100%|██████████| 1707/1707 [00:00<00:00, 2357.06it/s]\n",
      "100%|██████████| 5/5 [00:00<00:00, 1840.74it/s]\n",
      "100%|██████████| 1/1 [00:00<00:00, 1036.14it/s]\n",
      "100%|██████████| 6448/6448 [00:02<00:00, 2328.16it/s]\n",
      "100%|██████████| 2458/2458 [00:01<00:00, 2270.77it/s]\n",
      "100%|██████████| 8/8 [00:00<00:00, 1938.11it/s]\n",
      "100%|██████████| 1/1 [00:00<00:00, 1056.77it/s]\n",
      "100%|██████████| 9/9 [00:00<00:00, 2098.08it/s]\n",
      "100%|██████████| 3/3 [00:00<00:00, 1599.25it/s]\n",
      "100%|██████████| 10/10 [00:00<00:00, 2054.22it/s]\n",
      "100%|██████████| 6986/6986 [00:03<00:00, 2325.88it/s]\n",
      "100%|██████████| 12/12 [00:00<00:00, 2116.20it/s]\n",
      "100%|██████████| 3/3 [00:00<00:00, 1692.62it/s]\n"
     ]
    },
    {
     "name": "stdout",
     "output_type": "stream",
     "text": [
      "Regional data QA/QC\n"
     ]
    },
    {
     "name": "stderr",
     "output_type": "stream",
     "text": [
      "100%|██████████| 22/22 [00:00<00:00, 25.82it/s]\n",
      "100%|██████████| 22/22 [00:16<00:00,  1.31it/s]\n"
     ]
    },
    {
     "name": "stdout",
     "output_type": "stream",
     "text": [
      "Calculating mean SCA for each geometry in each region...\n"
     ]
    },
    {
     "name": "stderr",
     "output_type": "stream",
     "text": [
      "100%|██████████| 23/23 [00:27<00:00,  1.21s/it]\n"
     ]
    },
    {
     "name": "stdout",
     "output_type": "stream",
     "text": [
      "Making predictions for:  2018-11-02\n",
      "N_Sierras\n",
      "54/54 [==============================] - 0s 1ms/step\n",
      "S_Sierras_High\n",
      "1/1 [==============================] - 0s 66ms/step\n",
      "S_Sierras_Low\n",
      "1/1 [==============================] - 0s 69ms/step\n",
      "Greater_Yellowstone\n",
      "54/54 [==============================] - 0s 1ms/step\n",
      "N_Co_Rockies\n",
      "51/51 [==============================] - 0s 1ms/step\n",
      "SW_Mont\n",
      "1/1 [==============================] - 0s 66ms/step\n",
      "SW_Co_Rockies\n",
      "20/20 [==============================] - 0s 1ms/step\n",
      "GBasin\n",
      "1/1 [==============================] - 0s 68ms/step\n",
      "N_Wasatch\n",
      "1/1 [==============================] - 0s 70ms/step\n",
      "N_Cascade\n",
      "1/1 [==============================] - 0s 65ms/step\n",
      "S_Wasatch\n",
      "1/1 [==============================] - 0s 69ms/step\n",
      "SW_Mtns\n",
      "1/1 [==============================] - 0s 65ms/step\n",
      "E_WA_N_Id_W_Mont\n",
      "1/1 [==============================] - 0s 74ms/step\n",
      "S_Wyoming\n",
      "1/1 [==============================] - 0s 67ms/step\n",
      "SE_Co_Rockies\n",
      "1/1 [==============================] - 0s 68ms/step\n",
      "Sawtooth\n",
      "1/1 [==============================] - 0s 65ms/step\n",
      "Ca_Coast\n",
      "1/1 [==============================] - 0s 66ms/step\n",
      "E_Or\n",
      "1/1 [==============================] - 0s 64ms/step\n",
      "N_Yellowstone\n",
      "1/1 [==============================] - 0s 68ms/step\n",
      "S_Cascade\n",
      "1/1 [==============================] - 0s 65ms/step\n",
      "Wa_Coast\n",
      "No snow in region:  Wa_Coast\n",
      "Greater_Glacier\n",
      "No snow in region:  Greater_Glacier\n",
      "Or_Coast\n",
      "No snow in region:  Or_Coast\n",
      "Updating SWE predictions for  2018-11-03\n",
      "Getting VIIRS fSCA data and calculating the spatial average NSDI\n",
      "VIIRS fSCA files found locally\n"
     ]
    },
    {
     "name": "stderr",
     "output_type": "stream",
     "text": [
      "100%|██████████| 696/696 [00:00<00:00, 1249.55it/s]\n",
      "100%|██████████| 696/696 [00:00<00:00, 1188.01it/s]\n",
      "100%|██████████| 12/12 [00:00<00:00, 2039.54it/s]\n",
      "100%|██████████| 7/7 [00:00<00:00, 2001.92it/s]\n",
      "100%|██████████| 25/25 [00:00<00:00, 2209.30it/s]\n",
      "100%|██████████| 13/13 [00:00<00:00, 2167.86it/s]\n",
      "100%|██████████| 3349/3349 [00:01<00:00, 2326.36it/s]\n",
      "100%|██████████| 16/16 [00:00<00:00, 2194.82it/s]\n",
      "100%|██████████| 6/6 [00:00<00:00, 1516.56it/s]\n",
      "100%|██████████| 9/9 [00:00<00:00, 2180.50it/s]\n",
      "100%|██████████| 15/15 [00:00<00:00, 2203.43it/s]\n",
      "100%|██████████| 1707/1707 [00:00<00:00, 2364.06it/s]\n",
      "100%|██████████| 5/5 [00:00<00:00, 2011.66it/s]\n",
      "100%|██████████| 1/1 [00:00<00:00, 1199.40it/s]\n",
      "100%|██████████| 6448/6448 [00:02<00:00, 2354.09it/s]\n",
      "100%|██████████| 2458/2458 [00:01<00:00, 2362.67it/s]\n",
      "100%|██████████| 8/8 [00:00<00:00, 2047.38it/s]\n",
      "100%|██████████| 1/1 [00:00<00:00, 1130.24it/s]\n",
      "100%|██████████| 9/9 [00:00<00:00, 2088.10it/s]\n",
      "100%|██████████| 3/3 [00:00<00:00, 1679.29it/s]\n",
      "100%|██████████| 10/10 [00:00<00:00, 2094.95it/s]\n",
      "100%|██████████| 6986/6986 [00:02<00:00, 2344.38it/s]\n",
      "100%|██████████| 12/12 [00:00<00:00, 2207.92it/s]\n",
      "100%|██████████| 3/3 [00:00<00:00, 1805.55it/s]\n"
     ]
    },
    {
     "name": "stdout",
     "output_type": "stream",
     "text": [
      "Regional data QA/QC\n"
     ]
    },
    {
     "name": "stderr",
     "output_type": "stream",
     "text": [
      "100%|██████████| 22/22 [00:01<00:00, 18.97it/s]\n",
      "100%|██████████| 22/22 [00:16<00:00,  1.33it/s]\n"
     ]
    },
    {
     "name": "stdout",
     "output_type": "stream",
     "text": [
      "Calculating mean SCA for each geometry in each region...\n"
     ]
    },
    {
     "name": "stderr",
     "output_type": "stream",
     "text": [
      "100%|██████████| 23/23 [00:27<00:00,  1.19s/it]\n"
     ]
    },
    {
     "name": "stdout",
     "output_type": "stream",
     "text": [
      "Making predictions for:  2018-11-03\n",
      "N_Sierras\n",
      "54/54 [==============================] - 0s 1ms/step\n",
      "S_Sierras_High\n",
      "1/1 [==============================] - 0s 69ms/step\n",
      "S_Sierras_Low\n",
      "1/1 [==============================] - 0s 67ms/step\n",
      "Greater_Yellowstone\n",
      "54/54 [==============================] - 0s 1ms/step\n",
      "N_Co_Rockies\n",
      "54/54 [==============================] - 0s 1ms/step\n",
      "SW_Mont\n",
      "1/1 [==============================] - 0s 73ms/step\n",
      "SW_Co_Rockies\n",
      "45/45 [==============================] - 0s 1ms/step\n",
      "GBasin\n",
      "1/1 [==============================] - 0s 74ms/step\n",
      "N_Wasatch\n",
      "1/1 [==============================] - 0s 73ms/step\n",
      "N_Cascade\n",
      "1/1 [==============================] - 0s 67ms/step\n",
      "S_Wasatch\n",
      "1/1 [==============================] - 0s 68ms/step\n",
      "SW_Mtns\n",
      "1/1 [==============================] - 0s 67ms/step\n",
      "E_WA_N_Id_W_Mont\n",
      "1/1 [==============================] - 0s 66ms/step\n",
      "S_Wyoming\n",
      "1/1 [==============================] - 0s 66ms/step\n",
      "SE_Co_Rockies\n",
      "1/1 [==============================] - 0s 71ms/step\n",
      "Sawtooth\n",
      "1/1 [==============================] - 0s 68ms/step\n",
      "Ca_Coast\n",
      "1/1 [==============================] - 0s 64ms/step\n",
      "E_Or\n",
      "1/1 [==============================] - 0s 68ms/step\n",
      "N_Yellowstone\n",
      "1/1 [==============================] - 0s 65ms/step\n",
      "S_Cascade\n",
      "1/1 [==============================] - 0s 67ms/step\n",
      "Wa_Coast\n",
      "No snow in region:  Wa_Coast\n",
      "Greater_Glacier\n",
      "No snow in region:  Greater_Glacier\n",
      "Or_Coast\n",
      "No snow in region:  Or_Coast\n",
      "Updating SWE predictions for  2018-11-04\n",
      "Getting VIIRS fSCA data and calculating the spatial average NSDI\n",
      "VIIRS fSCA files found locally\n"
     ]
    },
    {
     "name": "stderr",
     "output_type": "stream",
     "text": [
      "100%|██████████| 696/696 [00:00<00:00, 1228.77it/s]\n",
      "100%|██████████| 696/696 [00:00<00:00, 1228.20it/s]\n",
      "100%|██████████| 12/12 [00:00<00:00, 1984.61it/s]\n",
      "100%|██████████| 7/7 [00:00<00:00, 2088.95it/s]\n",
      "100%|██████████| 25/25 [00:00<00:00, 2235.15it/s]\n",
      "100%|██████████| 13/13 [00:00<00:00, 2183.57it/s]\n",
      "100%|██████████| 3349/3349 [00:01<00:00, 2352.52it/s]\n",
      "100%|██████████| 16/16 [00:00<00:00, 2142.68it/s]\n",
      "100%|██████████| 6/6 [00:00<00:00, 2025.58it/s]\n",
      "100%|██████████| 9/9 [00:00<00:00, 2184.41it/s]\n",
      "100%|██████████| 15/15 [00:00<00:00, 2072.90it/s]\n",
      "100%|██████████| 1707/1707 [00:00<00:00, 2381.40it/s]\n",
      "100%|██████████| 5/5 [00:00<00:00, 2118.12it/s]\n",
      "100%|██████████| 1/1 [00:00<00:00, 1424.21it/s]\n",
      "100%|██████████| 6448/6448 [00:02<00:00, 2392.52it/s]\n",
      "100%|██████████| 2458/2458 [00:01<00:00, 2379.58it/s]\n",
      "100%|██████████| 8/8 [00:00<00:00, 2107.56it/s]\n",
      "100%|██████████| 1/1 [00:00<00:00, 1197.69it/s]\n",
      "100%|██████████| 9/9 [00:00<00:00, 2188.84it/s]\n",
      "100%|██████████| 3/3 [00:00<00:00, 1960.57it/s]\n",
      "100%|██████████| 10/10 [00:00<00:00, 2139.73it/s]\n",
      "100%|██████████| 6986/6986 [00:02<00:00, 2360.11it/s]\n",
      "100%|██████████| 12/12 [00:00<00:00, 2171.43it/s]\n",
      "100%|██████████| 3/3 [00:00<00:00, 1848.53it/s]\n"
     ]
    },
    {
     "name": "stdout",
     "output_type": "stream",
     "text": [
      "Regional data QA/QC\n"
     ]
    },
    {
     "name": "stderr",
     "output_type": "stream",
     "text": [
      "100%|██████████| 22/22 [00:00<00:00, 25.62it/s]\n",
      "100%|██████████| 22/22 [00:15<00:00,  1.38it/s]\n"
     ]
    },
    {
     "name": "stdout",
     "output_type": "stream",
     "text": [
      "Calculating mean SCA for each geometry in each region...\n"
     ]
    },
    {
     "name": "stderr",
     "output_type": "stream",
     "text": [
      "100%|██████████| 23/23 [00:27<00:00,  1.18s/it]\n"
     ]
    },
    {
     "name": "stdout",
     "output_type": "stream",
     "text": [
      "Making predictions for:  2018-11-04\n",
      "N_Sierras\n",
      "6/6 [==============================] - 0s 1ms/step\n",
      "S_Sierras_High\n",
      "1/1 [==============================] - 0s 70ms/step\n",
      "S_Sierras_Low\n",
      "1/1 [==============================] - 0s 76ms/step\n",
      "Greater_Yellowstone\n",
      "56/56 [==============================] - 0s 1ms/step\n",
      "N_Co_Rockies\n",
      "54/54 [==============================] - 0s 1ms/step\n",
      "SW_Mont\n",
      "1/1 [==============================] - 0s 63ms/step\n",
      "SW_Co_Rockies\n",
      "20/20 [==============================] - 0s 1ms/step\n",
      "GBasin\n",
      "1/1 [==============================] - 0s 65ms/step\n",
      "N_Wasatch\n",
      "1/1 [==============================] - 0s 70ms/step\n",
      "N_Cascade\n",
      "1/1 [==============================] - 0s 63ms/step\n",
      "S_Wasatch\n",
      "1/1 [==============================] - 0s 69ms/step\n",
      "SW_Mtns\n",
      "1/1 [==============================] - 0s 68ms/step\n",
      "E_WA_N_Id_W_Mont\n",
      "1/1 [==============================] - 0s 76ms/step\n",
      "S_Wyoming\n",
      "1/1 [==============================] - 0s 65ms/step\n",
      "SE_Co_Rockies\n",
      "1/1 [==============================] - 0s 67ms/step\n",
      "Sawtooth\n",
      "1/1 [==============================] - 0s 66ms/step\n",
      "Ca_Coast\n",
      "No snow in region:  Ca_Coast\n",
      "E_Or\n",
      "1/1 [==============================] - 0s 65ms/step\n",
      "N_Yellowstone\n",
      "1/1 [==============================] - 0s 64ms/step\n",
      "S_Cascade\n",
      "1/1 [==============================] - 0s 65ms/step\n",
      "Wa_Coast\n",
      "No snow in region:  Wa_Coast\n",
      "Greater_Glacier\n",
      "No snow in region:  Greater_Glacier\n",
      "Or_Coast\n",
      "No snow in region:  Or_Coast\n",
      "Updating SWE predictions for  2018-11-05\n",
      "Getting VIIRS fSCA data and calculating the spatial average NSDI\n",
      "VIIRS fSCA files found locally\n"
     ]
    },
    {
     "name": "stderr",
     "output_type": "stream",
     "text": [
      "100%|██████████| 696/696 [00:00<00:00, 1247.52it/s]\n",
      "100%|██████████| 696/696 [00:00<00:00, 1232.78it/s]\n",
      "100%|██████████| 12/12 [00:00<00:00, 2132.88it/s]\n",
      "100%|██████████| 7/7 [00:00<00:00, 2180.80it/s]\n",
      "100%|██████████| 25/25 [00:00<00:00, 2278.87it/s]\n",
      "100%|██████████| 13/13 [00:00<00:00, 2256.78it/s]\n",
      "100%|██████████| 3349/3349 [00:01<00:00, 2380.71it/s]\n",
      "100%|██████████| 16/16 [00:00<00:00, 2292.67it/s]\n",
      "100%|██████████| 6/6 [00:00<00:00, 2112.29it/s]\n",
      "100%|██████████| 9/9 [00:00<00:00, 2261.62it/s]\n",
      "100%|██████████| 15/15 [00:00<00:00, 2251.85it/s]\n",
      "100%|██████████| 1707/1707 [00:00<00:00, 2335.97it/s]\n",
      "100%|██████████| 5/5 [00:00<00:00, 1940.19it/s]\n",
      "100%|██████████| 1/1 [00:00<00:00, 1416.99it/s]\n",
      "100%|██████████| 6448/6448 [00:02<00:00, 2364.19it/s]\n",
      "100%|██████████| 2458/2458 [00:01<00:00, 2407.16it/s]\n",
      "100%|██████████| 8/8 [00:00<00:00, 2038.67it/s]\n",
      "100%|██████████| 1/1 [00:00<00:00, 1355.19it/s]\n",
      "100%|██████████| 9/9 [00:00<00:00, 2189.98it/s]\n",
      "100%|██████████| 3/3 [00:00<00:00, 1786.08it/s]\n",
      "100%|██████████| 10/10 [00:00<00:00, 2019.60it/s]\n",
      "100%|██████████| 6986/6986 [00:02<00:00, 2351.02it/s]\n",
      "100%|██████████| 12/12 [00:00<00:00, 2170.68it/s]\n",
      "100%|██████████| 3/3 [00:00<00:00, 1876.65it/s]\n"
     ]
    },
    {
     "name": "stdout",
     "output_type": "stream",
     "text": [
      "Regional data QA/QC\n"
     ]
    },
    {
     "name": "stderr",
     "output_type": "stream",
     "text": [
      "100%|██████████| 22/22 [00:00<00:00, 25.88it/s]\n",
      "100%|██████████| 22/22 [00:15<00:00,  1.41it/s]\n"
     ]
    },
    {
     "name": "stdout",
     "output_type": "stream",
     "text": [
      "Calculating mean SCA for each geometry in each region...\n"
     ]
    },
    {
     "name": "stderr",
     "output_type": "stream",
     "text": [
      "100%|██████████| 23/23 [00:27<00:00,  1.20s/it]\n"
     ]
    },
    {
     "name": "stdout",
     "output_type": "stream",
     "text": [
      "Making predictions for:  2018-11-05\n",
      "N_Sierras\n",
      "1/1 [==============================] - 0s 73ms/step\n",
      "S_Sierras_High\n",
      "1/1 [==============================] - 0s 80ms/step\n",
      "S_Sierras_Low\n",
      "1/1 [==============================] - 0s 67ms/step\n",
      "Greater_Yellowstone\n",
      "56/56 [==============================] - 0s 1ms/step\n",
      "N_Co_Rockies\n",
      "57/57 [==============================] - 0s 1ms/step\n",
      "SW_Mont\n",
      "1/1 [==============================] - 0s 71ms/step\n",
      "SW_Co_Rockies\n",
      "16/16 [==============================] - 0s 1ms/step\n",
      "GBasin\n",
      "1/1 [==============================] - 0s 77ms/step\n",
      "N_Wasatch\n",
      "1/1 [==============================] - 0s 66ms/step\n",
      "N_Cascade\n",
      "1/1 [==============================] - 0s 72ms/step\n",
      "S_Wasatch\n",
      "1/1 [==============================] - 0s 66ms/step\n",
      "SW_Mtns\n",
      "1/1 [==============================] - 0s 72ms/step\n",
      "E_WA_N_Id_W_Mont\n",
      "1/1 [==============================] - 0s 68ms/step\n",
      "S_Wyoming\n",
      "1/1 [==============================] - 0s 76ms/step\n",
      "SE_Co_Rockies\n",
      "1/1 [==============================] - 0s 64ms/step\n",
      "Sawtooth\n",
      "1/1 [==============================] - 0s 71ms/step\n",
      "Ca_Coast\n",
      "No snow in region:  Ca_Coast\n",
      "E_Or\n",
      "1/1 [==============================] - 0s 65ms/step\n",
      "N_Yellowstone\n",
      "1/1 [==============================] - 0s 71ms/step\n",
      "S_Cascade\n",
      "1/1 [==============================] - 0s 64ms/step\n",
      "Wa_Coast\n",
      "No snow in region:  Wa_Coast\n",
      "Greater_Glacier\n",
      "No snow in region:  Greater_Glacier\n",
      "Or_Coast\n",
      "No snow in region:  Or_Coast\n",
      "Updating SWE predictions for  2018-11-06\n",
      "Getting VIIRS fSCA data and calculating the spatial average NSDI\n",
      "VIIRS fSCA files found locally\n"
     ]
    },
    {
     "name": "stderr",
     "output_type": "stream",
     "text": [
      "100%|██████████| 696/696 [00:00<00:00, 1229.62it/s]\n",
      "100%|██████████| 696/696 [00:00<00:00, 1210.55it/s]\n",
      "100%|██████████| 12/12 [00:00<00:00, 2063.03it/s]\n",
      "100%|██████████| 7/7 [00:00<00:00, 2066.89it/s]\n",
      "100%|██████████| 25/25 [00:00<00:00, 2279.56it/s]\n",
      "100%|██████████| 13/13 [00:00<00:00, 2205.39it/s]\n",
      "100%|██████████| 3349/3349 [00:01<00:00, 2366.83it/s]\n",
      "100%|██████████| 16/16 [00:00<00:00, 2166.13it/s]\n",
      "100%|██████████| 6/6 [00:00<00:00, 2076.05it/s]\n",
      "100%|██████████| 9/9 [00:00<00:00, 2146.64it/s]\n",
      "100%|██████████| 15/15 [00:00<00:00, 2234.82it/s]\n",
      "100%|██████████| 1707/1707 [00:00<00:00, 2333.89it/s]\n",
      "100%|██████████| 5/5 [00:00<00:00, 1909.97it/s]\n",
      "100%|██████████| 1/1 [00:00<00:00, 1364.89it/s]\n",
      "100%|██████████| 6448/6448 [00:02<00:00, 2376.88it/s]\n",
      "100%|██████████| 2458/2458 [00:01<00:00, 2358.08it/s]\n",
      "100%|██████████| 8/8 [00:00<00:00, 2214.81it/s]\n",
      "100%|██████████| 1/1 [00:00<00:00, 1480.52it/s]\n",
      "100%|██████████| 9/9 [00:00<00:00, 2218.43it/s]\n",
      "100%|██████████| 3/3 [00:00<00:00, 1892.17it/s]\n",
      "100%|██████████| 10/10 [00:00<00:00, 2261.45it/s]\n",
      "100%|██████████| 6986/6986 [00:02<00:00, 2382.15it/s]\n",
      "100%|██████████| 12/12 [00:00<00:00, 2132.61it/s]\n",
      "100%|██████████| 3/3 [00:00<00:00, 1934.64it/s]\n"
     ]
    },
    {
     "name": "stdout",
     "output_type": "stream",
     "text": [
      "Regional data QA/QC\n"
     ]
    },
    {
     "name": "stderr",
     "output_type": "stream",
     "text": [
      "100%|██████████| 22/22 [00:00<00:00, 25.59it/s]\n",
      "100%|██████████| 22/22 [00:15<00:00,  1.44it/s]\n"
     ]
    },
    {
     "name": "stdout",
     "output_type": "stream",
     "text": [
      "Calculating mean SCA for each geometry in each region...\n"
     ]
    },
    {
     "name": "stderr",
     "output_type": "stream",
     "text": [
      "100%|██████████| 23/23 [00:27<00:00,  1.19s/it]\n"
     ]
    },
    {
     "name": "stdout",
     "output_type": "stream",
     "text": [
      "Making predictions for:  2018-11-06\n",
      "N_Sierras\n",
      "3/3 [==============================] - 0s 2ms/step\n",
      "S_Sierras_High\n",
      "1/1 [==============================] - 0s 75ms/step\n",
      "S_Sierras_Low\n",
      "1/1 [==============================] - 0s 70ms/step\n",
      "Greater_Yellowstone\n",
      "86/86 [==============================] - 0s 1ms/step\n",
      "N_Co_Rockies\n",
      "61/61 [==============================] - 0s 1ms/step\n",
      "SW_Mont\n",
      "1/1 [==============================] - 0s 67ms/step\n",
      "SW_Co_Rockies\n",
      "44/44 [==============================] - 0s 1ms/step\n",
      "GBasin\n",
      "1/1 [==============================] - 0s 66ms/step\n",
      "N_Wasatch\n",
      "1/1 [==============================] - 0s 74ms/step\n",
      "N_Cascade\n",
      "1/1 [==============================] - 0s 67ms/step\n",
      "S_Wasatch\n",
      "1/1 [==============================] - 0s 73ms/step\n",
      "SW_Mtns\n",
      "1/1 [==============================] - 0s 66ms/step\n",
      "E_WA_N_Id_W_Mont\n",
      "1/1 [==============================] - 0s 73ms/step\n",
      "S_Wyoming\n",
      "1/1 [==============================] - 0s 65ms/step\n",
      "SE_Co_Rockies\n",
      "1/1 [==============================] - 0s 75ms/step\n",
      "Sawtooth\n",
      "1/1 [==============================] - 0s 67ms/step\n",
      "Ca_Coast\n",
      "No snow in region:  Ca_Coast\n",
      "E_Or\n",
      "1/1 [==============================] - 0s 73ms/step\n",
      "N_Yellowstone\n",
      "1/1 [==============================] - 0s 68ms/step\n",
      "S_Cascade\n",
      "1/1 [==============================] - 0s 75ms/step\n",
      "Wa_Coast\n",
      "No snow in region:  Wa_Coast\n",
      "Greater_Glacier\n",
      "1/1 [==============================] - 0s 69ms/step\n",
      "Or_Coast\n",
      "No snow in region:  Or_Coast\n",
      "Updating SWE predictions for  2018-11-07\n",
      "Getting VIIRS fSCA data and calculating the spatial average NSDI\n",
      "VIIRS fSCA files found locally\n"
     ]
    },
    {
     "name": "stderr",
     "output_type": "stream",
     "text": [
      "100%|██████████| 696/696 [00:00<00:00, 1186.02it/s]\n",
      "100%|██████████| 696/696 [00:00<00:00, 1166.03it/s]\n",
      "100%|██████████| 12/12 [00:00<00:00, 1969.23it/s]\n",
      "100%|██████████| 7/7 [00:00<00:00, 2105.73it/s]\n",
      "100%|██████████| 25/25 [00:00<00:00, 2199.84it/s]\n",
      "100%|██████████| 13/13 [00:00<00:00, 2004.04it/s]\n",
      "100%|██████████| 3349/3349 [00:01<00:00, 2367.00it/s]\n",
      "100%|██████████| 16/16 [00:00<00:00, 2117.60it/s]\n",
      "100%|██████████| 6/6 [00:00<00:00, 2041.02it/s]\n",
      "100%|██████████| 9/9 [00:00<00:00, 2152.89it/s]\n",
      "100%|██████████| 15/15 [00:00<00:00, 1989.46it/s]\n",
      "100%|██████████| 1707/1707 [00:00<00:00, 2301.16it/s]\n",
      "100%|██████████| 5/5 [00:00<00:00, 1789.68it/s]\n",
      "100%|██████████| 1/1 [00:00<00:00, 1252.03it/s]\n",
      "100%|██████████| 6448/6448 [00:02<00:00, 2350.76it/s]\n",
      "100%|██████████| 2458/2458 [00:01<00:00, 2168.48it/s]\n",
      "100%|██████████| 8/8 [00:00<00:00, 1954.70it/s]\n",
      "100%|██████████| 1/1 [00:00<00:00, 1073.26it/s]\n",
      "100%|██████████| 9/9 [00:00<00:00, 1586.55it/s]\n",
      "100%|██████████| 3/3 [00:00<00:00, 1421.00it/s]\n",
      "100%|██████████| 10/10 [00:00<00:00, 1725.27it/s]\n",
      "100%|██████████| 6986/6986 [00:03<00:00, 2283.36it/s]\n",
      "100%|██████████| 12/12 [00:00<00:00, 1950.23it/s]\n",
      "100%|██████████| 3/3 [00:00<00:00, 1658.92it/s]\n"
     ]
    },
    {
     "name": "stdout",
     "output_type": "stream",
     "text": [
      "Regional data QA/QC\n"
     ]
    },
    {
     "name": "stderr",
     "output_type": "stream",
     "text": [
      "100%|██████████| 22/22 [00:00<00:00, 25.32it/s]\n",
      "100%|██████████| 22/22 [00:15<00:00,  1.38it/s]\n"
     ]
    },
    {
     "name": "stdout",
     "output_type": "stream",
     "text": [
      "Calculating mean SCA for each geometry in each region...\n"
     ]
    },
    {
     "name": "stderr",
     "output_type": "stream",
     "text": [
      "100%|██████████| 23/23 [00:28<00:00,  1.23s/it]\n"
     ]
    },
    {
     "name": "stdout",
     "output_type": "stream",
     "text": [
      "Making predictions for:  2018-11-07\n",
      "N_Sierras\n",
      "54/54 [==============================] - 0s 1ms/step\n",
      "S_Sierras_High\n",
      "1/1 [==============================] - 0s 68ms/step\n",
      "S_Sierras_Low\n",
      "1/1 [==============================] - 0s 73ms/step\n",
      "Greater_Yellowstone\n",
      "90/90 [==============================] - 0s 1ms/step\n",
      "N_Co_Rockies\n",
      "69/69 [==============================] - 0s 1ms/step\n",
      "SW_Mont\n",
      "1/1 [==============================] - 0s 67ms/step\n",
      "SW_Co_Rockies\n",
      "44/44 [==============================] - 0s 1ms/step\n",
      "GBasin\n",
      "1/1 [==============================] - 0s 67ms/step\n",
      "N_Wasatch\n",
      "1/1 [==============================] - 0s 70ms/step\n",
      "N_Cascade\n",
      "1/1 [==============================] - 0s 70ms/step\n",
      "S_Wasatch\n",
      "1/1 [==============================] - 0s 72ms/step\n",
      "SW_Mtns\n",
      "1/1 [==============================] - 0s 66ms/step\n",
      "E_WA_N_Id_W_Mont\n",
      "1/1 [==============================] - 0s 70ms/step\n",
      "S_Wyoming\n",
      "1/1 [==============================] - 0s 68ms/step\n",
      "SE_Co_Rockies\n",
      "1/1 [==============================] - 0s 70ms/step\n",
      "Sawtooth\n",
      "1/1 [==============================] - 0s 66ms/step\n",
      "Ca_Coast\n",
      "1/1 [==============================] - 0s 71ms/step\n",
      "E_Or\n",
      "1/1 [==============================] - 0s 71ms/step\n",
      "N_Yellowstone\n",
      "1/1 [==============================] - 0s 75ms/step\n",
      "S_Cascade\n",
      "1/1 [==============================] - 0s 66ms/step\n",
      "Wa_Coast\n",
      "1/1 [==============================] - 0s 69ms/step\n",
      "Greater_Glacier\n",
      "1/1 [==============================] - 0s 66ms/step\n",
      "Or_Coast\n",
      "No snow in region:  Or_Coast\n",
      "Updating SWE predictions for  2018-11-08\n",
      "Getting VIIRS fSCA data and calculating the spatial average NSDI\n",
      "VIIRS fSCA files found locally\n"
     ]
    },
    {
     "name": "stderr",
     "output_type": "stream",
     "text": [
      "100%|██████████| 696/696 [00:00<00:00, 1239.87it/s]\n",
      "100%|██████████| 696/696 [00:00<00:00, 1223.40it/s]\n",
      "100%|██████████| 12/12 [00:00<00:00, 2031.14it/s]\n",
      "100%|██████████| 7/7 [00:00<00:00, 2015.80it/s]\n",
      "100%|██████████| 25/25 [00:00<00:00, 2218.55it/s]\n",
      "100%|██████████| 13/13 [00:00<00:00, 2095.62it/s]\n",
      "100%|██████████| 3349/3349 [00:01<00:00, 2357.31it/s]\n",
      "100%|██████████| 16/16 [00:00<00:00, 2197.84it/s]\n",
      "100%|██████████| 6/6 [00:00<00:00, 2030.81it/s]\n",
      "100%|██████████| 9/9 [00:00<00:00, 2184.28it/s]\n",
      "100%|██████████| 15/15 [00:00<00:00, 2264.91it/s]\n",
      "100%|██████████| 1707/1707 [00:00<00:00, 2375.34it/s]\n",
      "100%|██████████| 5/5 [00:00<00:00, 1920.47it/s]\n",
      "100%|██████████| 1/1 [00:00<00:00, 960.67it/s]\n",
      "100%|██████████| 6448/6448 [00:02<00:00, 2360.75it/s]\n",
      "100%|██████████| 2458/2458 [00:01<00:00, 2359.58it/s]\n",
      "100%|██████████| 8/8 [00:00<00:00, 2168.86it/s]\n",
      "100%|██████████| 1/1 [00:00<00:00, 1167.68it/s]\n",
      "100%|██████████| 9/9 [00:00<00:00, 1813.19it/s]\n",
      "100%|██████████| 3/3 [00:00<00:00, 1728.66it/s]\n",
      "100%|██████████| 10/10 [00:00<00:00, 2210.20it/s]\n",
      "100%|██████████| 6986/6986 [00:02<00:00, 2389.38it/s]\n",
      "100%|██████████| 12/12 [00:00<00:00, 2145.52it/s]\n",
      "100%|██████████| 3/3 [00:00<00:00, 1633.08it/s]\n"
     ]
    },
    {
     "name": "stdout",
     "output_type": "stream",
     "text": [
      "Regional data QA/QC\n"
     ]
    },
    {
     "name": "stderr",
     "output_type": "stream",
     "text": [
      "100%|██████████| 22/22 [00:00<00:00, 25.47it/s]\n",
      "100%|██████████| 22/22 [00:16<00:00,  1.37it/s]\n"
     ]
    },
    {
     "name": "stdout",
     "output_type": "stream",
     "text": [
      "Calculating mean SCA for each geometry in each region...\n"
     ]
    },
    {
     "name": "stderr",
     "output_type": "stream",
     "text": [
      "100%|██████████| 23/23 [00:27<00:00,  1.19s/it]\n"
     ]
    },
    {
     "name": "stdout",
     "output_type": "stream",
     "text": [
      "Making predictions for:  2018-11-08\n",
      "N_Sierras\n",
      "54/54 [==============================] - 0s 1ms/step\n",
      "S_Sierras_High\n",
      "1/1 [==============================] - 0s 72ms/step\n",
      "S_Sierras_Low\n",
      "1/1 [==============================] - 0s 70ms/step\n",
      "Greater_Yellowstone\n",
      "63/63 [==============================] - 0s 1ms/step\n",
      "N_Co_Rockies\n",
      "71/71 [==============================] - 0s 1ms/step\n",
      "SW_Mont\n",
      "1/1 [==============================] - 0s 66ms/step\n",
      "SW_Co_Rockies\n",
      "44/44 [==============================] - 0s 1ms/step\n",
      "GBasin\n",
      "1/1 [==============================] - 0s 66ms/step\n",
      "N_Wasatch\n",
      "1/1 [==============================] - 0s 64ms/step\n",
      "N_Cascade\n",
      "1/1 [==============================] - 0s 67ms/step\n",
      "S_Wasatch\n",
      "1/1 [==============================] - 0s 66ms/step\n",
      "SW_Mtns\n",
      "1/1 [==============================] - 0s 67ms/step\n",
      "E_WA_N_Id_W_Mont\n",
      "1/1 [==============================] - 0s 66ms/step\n",
      "S_Wyoming\n",
      "1/1 [==============================] - 0s 66ms/step\n",
      "SE_Co_Rockies\n",
      "1/1 [==============================] - 0s 63ms/step\n",
      "Sawtooth\n",
      "1/1 [==============================] - 0s 66ms/step\n",
      "Ca_Coast\n",
      "1/1 [==============================] - 0s 64ms/step\n",
      "E_Or\n",
      "1/1 [==============================] - 0s 65ms/step\n",
      "N_Yellowstone\n",
      "1/1 [==============================] - 0s 67ms/step\n",
      "S_Cascade\n",
      "1/1 [==============================] - 0s 76ms/step\n",
      "Wa_Coast\n",
      "No snow in region:  Wa_Coast\n",
      "Greater_Glacier\n",
      "No snow in region:  Greater_Glacier\n",
      "Or_Coast\n",
      "No snow in region:  Or_Coast\n",
      "Updating SWE predictions for  2018-11-09\n",
      "Getting VIIRS fSCA data and calculating the spatial average NSDI\n",
      "VIIRS fSCA files found locally\n"
     ]
    },
    {
     "name": "stderr",
     "output_type": "stream",
     "text": [
      "100%|██████████| 696/696 [00:00<00:00, 1254.95it/s]\n",
      "100%|██████████| 696/696 [00:00<00:00, 1259.05it/s]\n",
      "100%|██████████| 12/12 [00:00<00:00, 2199.71it/s]\n",
      "100%|██████████| 7/7 [00:00<00:00, 2141.36it/s]\n",
      "100%|██████████| 25/25 [00:00<00:00, 2298.40it/s]\n",
      "100%|██████████| 13/13 [00:00<00:00, 2164.50it/s]\n",
      "100%|██████████| 3349/3349 [00:01<00:00, 2421.31it/s]\n",
      "100%|██████████| 16/16 [00:00<00:00, 2209.56it/s]\n",
      "100%|██████████| 6/6 [00:00<00:00, 2126.21it/s]\n",
      "100%|██████████| 9/9 [00:00<00:00, 2144.08it/s]\n",
      "100%|██████████| 15/15 [00:00<00:00, 2276.63it/s]\n",
      "100%|██████████| 1707/1707 [00:00<00:00, 2415.99it/s]\n",
      "100%|██████████| 5/5 [00:00<00:00, 2101.99it/s]\n",
      "100%|██████████| 1/1 [00:00<00:00, 1406.07it/s]\n",
      "100%|██████████| 6448/6448 [00:02<00:00, 2434.78it/s]\n",
      "100%|██████████| 2458/2458 [00:01<00:00, 2411.85it/s]\n",
      "100%|██████████| 8/8 [00:00<00:00, 2132.47it/s]\n",
      "100%|██████████| 1/1 [00:00<00:00, 1340.03it/s]\n",
      "100%|██████████| 9/9 [00:00<00:00, 2207.53it/s]\n",
      "100%|██████████| 3/3 [00:00<00:00, 1944.51it/s]\n",
      "100%|██████████| 10/10 [00:00<00:00, 2303.04it/s]\n",
      "100%|██████████| 6986/6986 [00:02<00:00, 2395.38it/s]\n",
      "100%|██████████| 12/12 [00:00<00:00, 2251.87it/s]\n",
      "100%|██████████| 3/3 [00:00<00:00, 1998.87it/s]\n"
     ]
    },
    {
     "name": "stdout",
     "output_type": "stream",
     "text": [
      "Regional data QA/QC\n"
     ]
    },
    {
     "name": "stderr",
     "output_type": "stream",
     "text": [
      "100%|██████████| 22/22 [00:00<00:00, 25.88it/s]\n",
      "100%|██████████| 22/22 [00:16<00:00,  1.33it/s]\n"
     ]
    },
    {
     "name": "stdout",
     "output_type": "stream",
     "text": [
      "Calculating mean SCA for each geometry in each region...\n"
     ]
    },
    {
     "name": "stderr",
     "output_type": "stream",
     "text": [
      "100%|██████████| 23/23 [00:27<00:00,  1.19s/it]\n"
     ]
    },
    {
     "name": "stdout",
     "output_type": "stream",
     "text": [
      "Making predictions for:  2018-11-09\n",
      "N_Sierras\n",
      "5/5 [==============================] - 0s 2ms/step\n",
      "S_Sierras_High\n",
      "1/1 [==============================] - 0s 74ms/step\n",
      "S_Sierras_Low\n",
      "1/1 [==============================] - 0s 66ms/step\n",
      "Greater_Yellowstone\n",
      "61/61 [==============================] - 0s 1ms/step\n",
      "N_Co_Rockies\n",
      "71/71 [==============================] - 0s 1ms/step\n",
      "SW_Mont\n",
      "1/1 [==============================] - 0s 75ms/step\n",
      "SW_Co_Rockies\n",
      "18/18 [==============================] - 0s 1ms/step\n",
      "GBasin\n",
      "1/1 [==============================] - 0s 71ms/step\n",
      "N_Wasatch\n",
      "1/1 [==============================] - 0s 66ms/step\n",
      "N_Cascade\n",
      "1/1 [==============================] - 0s 73ms/step\n",
      "S_Wasatch\n",
      "1/1 [==============================] - 0s 65ms/step\n",
      "SW_Mtns\n",
      "1/1 [==============================] - 0s 78ms/step\n",
      "E_WA_N_Id_W_Mont\n",
      "1/1 [==============================] - 0s 65ms/step\n",
      "S_Wyoming\n",
      "1/1 [==============================] - 0s 75ms/step\n",
      "SE_Co_Rockies\n",
      "1/1 [==============================] - 0s 67ms/step\n",
      "Sawtooth\n",
      "1/1 [==============================] - 0s 73ms/step\n",
      "Ca_Coast\n",
      "No snow in region:  Ca_Coast\n",
      "E_Or\n",
      "1/1 [==============================] - 0s 64ms/step\n",
      "N_Yellowstone\n",
      "1/1 [==============================] - 0s 71ms/step\n",
      "S_Cascade\n",
      "1/1 [==============================] - 0s 64ms/step\n",
      "Wa_Coast\n",
      "No snow in region:  Wa_Coast\n",
      "Greater_Glacier\n",
      "No snow in region:  Greater_Glacier\n",
      "Or_Coast\n",
      "No snow in region:  Or_Coast\n",
      "Updating SWE predictions for  2018-11-10\n",
      "Getting VIIRS fSCA data and calculating the spatial average NSDI\n",
      "VIIRS fSCA files found locally\n"
     ]
    },
    {
     "name": "stderr",
     "output_type": "stream",
     "text": [
      "100%|██████████| 696/696 [00:00<00:00, 1214.12it/s]\n",
      "100%|██████████| 696/696 [00:00<00:00, 1235.70it/s]\n",
      "100%|██████████| 12/12 [00:00<00:00, 1998.95it/s]\n",
      "100%|██████████| 7/7 [00:00<00:00, 1987.69it/s]\n",
      "100%|██████████| 25/25 [00:00<00:00, 2177.73it/s]\n",
      "100%|██████████| 13/13 [00:00<00:00, 2180.25it/s]\n",
      "100%|██████████| 3349/3349 [00:01<00:00, 2321.73it/s]\n",
      "100%|██████████| 16/16 [00:00<00:00, 2187.60it/s]\n",
      "100%|██████████| 6/6 [00:00<00:00, 1955.08it/s]\n",
      "100%|██████████| 9/9 [00:00<00:00, 2095.17it/s]\n",
      "100%|██████████| 15/15 [00:00<00:00, 2167.60it/s]\n",
      "100%|██████████| 1707/1707 [00:00<00:00, 2339.91it/s]\n",
      "100%|██████████| 5/5 [00:00<00:00, 1957.21it/s]\n",
      "100%|██████████| 1/1 [00:00<00:00, 1107.26it/s]\n",
      "100%|██████████| 6448/6448 [00:02<00:00, 2346.58it/s]\n",
      "100%|██████████| 2458/2458 [00:01<00:00, 2367.96it/s]\n",
      "100%|██████████| 8/8 [00:00<00:00, 2155.62it/s]\n",
      "100%|██████████| 1/1 [00:00<00:00, 1353.44it/s]\n",
      "100%|██████████| 9/9 [00:00<00:00, 2181.25it/s]\n",
      "100%|██████████| 3/3 [00:00<00:00, 1841.22it/s]\n",
      "100%|██████████| 10/10 [00:00<00:00, 2266.46it/s]\n",
      "100%|██████████| 6986/6986 [00:02<00:00, 2337.58it/s]\n",
      "100%|██████████| 12/12 [00:00<00:00, 2070.92it/s]\n",
      "100%|██████████| 3/3 [00:00<00:00, 1565.23it/s]\n"
     ]
    },
    {
     "name": "stdout",
     "output_type": "stream",
     "text": [
      "Regional data QA/QC\n"
     ]
    },
    {
     "name": "stderr",
     "output_type": "stream",
     "text": [
      "100%|██████████| 22/22 [00:00<00:00, 25.65it/s]\n",
      "100%|██████████| 22/22 [00:16<00:00,  1.33it/s]\n"
     ]
    },
    {
     "name": "stdout",
     "output_type": "stream",
     "text": [
      "Calculating mean SCA for each geometry in each region...\n"
     ]
    },
    {
     "name": "stderr",
     "output_type": "stream",
     "text": [
      "100%|██████████| 23/23 [00:26<00:00,  1.17s/it]\n"
     ]
    },
    {
     "name": "stdout",
     "output_type": "stream",
     "text": [
      "Making predictions for:  2018-11-10\n",
      "N_Sierras\n",
      "55/55 [==============================] - 0s 1ms/step\n",
      "S_Sierras_High\n",
      "1/1 [==============================] - 0s 67ms/step\n",
      "S_Sierras_Low\n",
      "2/2 [==============================] - 0s 3ms/step\n",
      "Greater_Yellowstone\n",
      "60/60 [==============================] - 0s 1ms/step\n",
      "N_Co_Rockies\n",
      "70/70 [==============================] - 0s 1ms/step\n",
      "SW_Mont\n",
      "1/1 [==============================] - 0s 64ms/step\n",
      "SW_Co_Rockies\n",
      "42/42 [==============================] - 0s 1ms/step\n",
      "GBasin\n",
      "1/1 [==============================] - 0s 64ms/step\n",
      "N_Wasatch\n",
      "1/1 [==============================] - 0s 63ms/step\n",
      "N_Cascade\n",
      "1/1 [==============================] - 0s 63ms/step\n",
      "S_Wasatch\n",
      "1/1 [==============================] - 0s 60ms/step\n",
      "SW_Mtns\n",
      "1/1 [==============================] - 0s 62ms/step\n",
      "E_WA_N_Id_W_Mont\n",
      "1/1 [==============================] - 0s 61ms/step\n",
      "S_Wyoming\n",
      "1/1 [==============================] - 0s 71ms/step\n",
      "SE_Co_Rockies\n",
      "1/1 [==============================] - 0s 61ms/step\n",
      "Sawtooth\n",
      "1/1 [==============================] - 0s 62ms/step\n",
      "Ca_Coast\n",
      "1/1 [==============================] - 0s 60ms/step\n",
      "E_Or\n",
      "1/1 [==============================] - 0s 61ms/step\n",
      "N_Yellowstone\n",
      "1/1 [==============================] - 0s 61ms/step\n",
      "S_Cascade\n",
      "1/1 [==============================] - 0s 62ms/step\n",
      "Wa_Coast\n",
      "No snow in region:  Wa_Coast\n",
      "Greater_Glacier\n",
      "1/1 [==============================] - 0s 60ms/step\n",
      "Or_Coast\n",
      "No snow in region:  Or_Coast\n",
      "Updating SWE predictions for  2018-11-11\n",
      "Getting VIIRS fSCA data and calculating the spatial average NSDI\n",
      "VIIRS fSCA files found locally\n"
     ]
    },
    {
     "name": "stderr",
     "output_type": "stream",
     "text": [
      "100%|██████████| 696/696 [00:00<00:00, 1253.24it/s]\n",
      "100%|██████████| 696/696 [00:00<00:00, 1260.56it/s]\n",
      "100%|██████████| 12/12 [00:00<00:00, 2135.77it/s]\n",
      "100%|██████████| 7/7 [00:00<00:00, 2244.31it/s]\n",
      "100%|██████████| 25/25 [00:00<00:00, 2379.88it/s]\n",
      "100%|██████████| 13/13 [00:00<00:00, 2334.06it/s]\n",
      "100%|██████████| 3349/3349 [00:01<00:00, 2425.36it/s]\n",
      "100%|██████████| 16/16 [00:00<00:00, 2325.81it/s]\n",
      "100%|██████████| 6/6 [00:00<00:00, 2147.25it/s]\n",
      "100%|██████████| 9/9 [00:00<00:00, 2221.30it/s]\n",
      "100%|██████████| 15/15 [00:00<00:00, 2312.61it/s]\n",
      "100%|██████████| 1707/1707 [00:00<00:00, 2421.65it/s]\n",
      "100%|██████████| 5/5 [00:00<00:00, 2067.99it/s]\n",
      "100%|██████████| 1/1 [00:00<00:00, 1432.97it/s]\n",
      "100%|██████████| 6448/6448 [00:02<00:00, 2422.74it/s]\n",
      "100%|██████████| 2458/2458 [00:01<00:00, 2443.33it/s]\n",
      "100%|██████████| 8/8 [00:00<00:00, 2211.89it/s]\n",
      "100%|██████████| 1/1 [00:00<00:00, 1471.69it/s]\n",
      "100%|██████████| 9/9 [00:00<00:00, 2324.43it/s]\n",
      "100%|██████████| 3/3 [00:00<00:00, 1947.22it/s]\n",
      "100%|██████████| 10/10 [00:00<00:00, 2298.12it/s]\n",
      "100%|██████████| 6986/6986 [00:02<00:00, 2421.92it/s]\n",
      "100%|██████████| 12/12 [00:00<00:00, 2212.96it/s]\n",
      "100%|██████████| 3/3 [00:00<00:00, 2018.43it/s]\n"
     ]
    },
    {
     "name": "stdout",
     "output_type": "stream",
     "text": [
      "Regional data QA/QC\n"
     ]
    },
    {
     "name": "stderr",
     "output_type": "stream",
     "text": [
      "100%|██████████| 22/22 [00:01<00:00, 19.46it/s]\n",
      "100%|██████████| 22/22 [00:15<00:00,  1.40it/s]\n"
     ]
    },
    {
     "name": "stdout",
     "output_type": "stream",
     "text": [
      "Calculating mean SCA for each geometry in each region...\n"
     ]
    },
    {
     "name": "stderr",
     "output_type": "stream",
     "text": [
      "100%|██████████| 23/23 [00:26<00:00,  1.17s/it]\n"
     ]
    },
    {
     "name": "stdout",
     "output_type": "stream",
     "text": [
      "Making predictions for:  2018-11-11\n",
      "N_Sierras\n",
      "54/54 [==============================] - 0s 1ms/step\n",
      "S_Sierras_High\n",
      "1/1 [==============================] - 0s 67ms/step\n",
      "S_Sierras_Low\n",
      "2/2 [==============================] - 0s 3ms/step\n",
      "Greater_Yellowstone\n",
      "84/84 [==============================] - 0s 1ms/step\n",
      "N_Co_Rockies\n",
      "71/71 [==============================] - 0s 1ms/step\n",
      "SW_Mont\n",
      "1/1 [==============================] - 0s 70ms/step\n",
      "SW_Co_Rockies\n",
      "16/16 [==============================] - 0s 1ms/step\n",
      "GBasin\n",
      "1/1 [==============================] - 0s 69ms/step\n",
      "N_Wasatch\n",
      "1/1 [==============================] - 0s 63ms/step\n",
      "N_Cascade\n",
      "1/1 [==============================] - 0s 68ms/step\n",
      "S_Wasatch\n",
      "1/1 [==============================] - 0s 62ms/step\n",
      "SW_Mtns\n",
      "1/1 [==============================] - 0s 68ms/step\n",
      "E_WA_N_Id_W_Mont\n",
      "1/1 [==============================] - 0s 64ms/step\n",
      "S_Wyoming\n",
      "1/1 [==============================] - 0s 66ms/step\n",
      "SE_Co_Rockies\n",
      "1/1 [==============================] - 0s 64ms/step\n",
      "Sawtooth\n",
      "1/1 [==============================] - 0s 68ms/step\n",
      "Ca_Coast\n",
      "1/1 [==============================] - 0s 64ms/step\n",
      "E_Or\n",
      "1/1 [==============================] - 0s 69ms/step\n",
      "N_Yellowstone\n",
      "1/1 [==============================] - 0s 63ms/step\n",
      "S_Cascade\n",
      "1/1 [==============================] - 0s 69ms/step\n",
      "Wa_Coast\n",
      "No snow in region:  Wa_Coast\n",
      "Greater_Glacier\n",
      "1/1 [==============================] - 0s 63ms/step\n",
      "Or_Coast\n",
      "No snow in region:  Or_Coast\n",
      "Updating SWE predictions for  2018-11-12\n",
      "Getting VIIRS fSCA data and calculating the spatial average NSDI\n",
      "VIIRS fSCA files found locally\n"
     ]
    },
    {
     "name": "stderr",
     "output_type": "stream",
     "text": [
      "100%|██████████| 696/696 [00:00<00:00, 1247.68it/s]\n",
      "100%|██████████| 696/696 [00:00<00:00, 1233.82it/s]\n",
      "100%|██████████| 12/12 [00:00<00:00, 2187.19it/s]\n",
      "100%|██████████| 7/7 [00:00<00:00, 2136.06it/s]\n",
      "100%|██████████| 25/25 [00:00<00:00, 2375.46it/s]\n",
      "100%|██████████| 13/13 [00:00<00:00, 2179.90it/s]\n",
      "100%|██████████| 3349/3349 [00:01<00:00, 2384.40it/s]\n",
      "100%|██████████| 16/16 [00:00<00:00, 2126.12it/s]\n",
      "100%|██████████| 6/6 [00:00<00:00, 2045.50it/s]\n",
      "100%|██████████| 9/9 [00:00<00:00, 2142.02it/s]\n",
      "100%|██████████| 15/15 [00:00<00:00, 2144.33it/s]\n",
      "100%|██████████| 1707/1707 [00:00<00:00, 2385.43it/s]\n",
      "100%|██████████| 5/5 [00:00<00:00, 2085.06it/s]\n",
      "100%|██████████| 1/1 [00:00<00:00, 1215.74it/s]\n",
      "100%|██████████| 6448/6448 [00:02<00:00, 2387.27it/s]\n",
      "100%|██████████| 2458/2458 [00:01<00:00, 2389.57it/s]\n",
      "100%|██████████| 8/8 [00:00<00:00, 2139.68it/s]\n",
      "100%|██████████| 1/1 [00:00<00:00, 1438.87it/s]\n",
      "100%|██████████| 9/9 [00:00<00:00, 2232.20it/s]\n",
      "100%|██████████| 3/3 [00:00<00:00, 1959.04it/s]\n",
      "100%|██████████| 10/10 [00:00<00:00, 2289.97it/s]\n",
      "100%|██████████| 6986/6986 [00:02<00:00, 2369.03it/s]\n",
      "100%|██████████| 12/12 [00:00<00:00, 2247.25it/s]\n",
      "100%|██████████| 3/3 [00:00<00:00, 1947.52it/s]\n"
     ]
    },
    {
     "name": "stdout",
     "output_type": "stream",
     "text": [
      "Regional data QA/QC\n"
     ]
    },
    {
     "name": "stderr",
     "output_type": "stream",
     "text": [
      "100%|██████████| 22/22 [00:01<00:00, 19.89it/s]\n",
      "100%|██████████| 22/22 [00:16<00:00,  1.37it/s]\n"
     ]
    },
    {
     "name": "stdout",
     "output_type": "stream",
     "text": [
      "Calculating mean SCA for each geometry in each region...\n"
     ]
    },
    {
     "name": "stderr",
     "output_type": "stream",
     "text": [
      "100%|██████████| 23/23 [00:27<00:00,  1.18s/it]\n"
     ]
    },
    {
     "name": "stdout",
     "output_type": "stream",
     "text": [
      "Making predictions for:  2018-11-12\n",
      "N_Sierras\n",
      "1/1 [==============================] - 0s 77ms/step\n",
      "S_Sierras_High\n",
      "2/2 [==============================] - 0s 3ms/step\n",
      "S_Sierras_Low\n",
      "9/9 [==============================] - 0s 1ms/step\n",
      "Greater_Yellowstone\n",
      "101/101 [==============================] - 0s 1ms/step\n",
      "N_Co_Rockies\n",
      "74/74 [==============================] - 0s 1ms/step\n",
      "SW_Mont\n",
      "1/1 [==============================] - 0s 63ms/step\n",
      "SW_Co_Rockies\n",
      "45/45 [==============================] - 0s 1ms/step\n",
      "GBasin\n",
      "1/1 [==============================] - 0s 63ms/step\n",
      "N_Wasatch\n",
      "1/1 [==============================] - 0s 64ms/step\n",
      "N_Cascade\n",
      "1/1 [==============================] - 0s 66ms/step\n",
      "S_Wasatch\n",
      "1/1 [==============================] - 0s 68ms/step\n",
      "SW_Mtns\n",
      "1/1 [==============================] - 0s 63ms/step\n",
      "E_WA_N_Id_W_Mont\n",
      "1/1 [==============================] - 0s 67ms/step\n",
      "S_Wyoming\n",
      "1/1 [==============================] - 0s 64ms/step\n",
      "SE_Co_Rockies\n",
      "1/1 [==============================] - 0s 66ms/step\n",
      "Sawtooth\n",
      "1/1 [==============================] - 0s 63ms/step\n",
      "Ca_Coast\n",
      "1/1 [==============================] - 0s 67ms/step\n",
      "E_Or\n",
      "1/1 [==============================] - 0s 65ms/step\n",
      "N_Yellowstone\n",
      "1/1 [==============================] - 0s 66ms/step\n",
      "S_Cascade\n",
      "1/1 [==============================] - 0s 64ms/step\n",
      "Wa_Coast\n",
      "No snow in region:  Wa_Coast\n",
      "Greater_Glacier\n",
      "1/1 [==============================] - 0s 67ms/step\n",
      "Or_Coast\n",
      "No snow in region:  Or_Coast\n",
      "Updating SWE predictions for  2018-11-13\n",
      "Getting VIIRS fSCA data and calculating the spatial average NSDI\n",
      "VIIRS fSCA files found locally\n"
     ]
    },
    {
     "name": "stderr",
     "output_type": "stream",
     "text": [
      "100%|██████████| 696/696 [00:00<00:00, 1172.99it/s]\n",
      "100%|██████████| 696/696 [00:00<00:00, 1192.29it/s]\n",
      "100%|██████████| 12/12 [00:00<00:00, 2052.01it/s]\n",
      "100%|██████████| 7/7 [00:00<00:00, 2072.58it/s]\n",
      "100%|██████████| 25/25 [00:00<00:00, 2203.08it/s]\n",
      "100%|██████████| 13/13 [00:00<00:00, 2189.45it/s]\n",
      "100%|██████████| 3349/3349 [00:01<00:00, 2383.36it/s]\n",
      "100%|██████████| 16/16 [00:00<00:00, 2050.57it/s]\n",
      "100%|██████████| 6/6 [00:00<00:00, 1932.56it/s]\n",
      "100%|██████████| 9/9 [00:00<00:00, 2044.45it/s]\n",
      "100%|██████████| 15/15 [00:00<00:00, 2121.62it/s]\n",
      "100%|██████████| 1707/1707 [00:00<00:00, 2359.04it/s]\n",
      "100%|██████████| 5/5 [00:00<00:00, 1946.49it/s]\n",
      "100%|██████████| 1/1 [00:00<00:00, 1188.52it/s]\n",
      "100%|██████████| 6448/6448 [00:02<00:00, 2334.34it/s]\n",
      "100%|██████████| 2458/2458 [00:01<00:00, 2354.91it/s]\n",
      "100%|██████████| 8/8 [00:00<00:00, 2124.24it/s]\n",
      "100%|██████████| 1/1 [00:00<00:00, 1380.61it/s]\n",
      "100%|██████████| 9/9 [00:00<00:00, 2160.16it/s]\n",
      "100%|██████████| 3/3 [00:00<00:00, 1686.49it/s]\n",
      "100%|██████████| 10/10 [00:00<00:00, 2210.44it/s]\n",
      "100%|██████████| 6986/6986 [00:02<00:00, 2350.46it/s]\n",
      "100%|██████████| 12/12 [00:00<00:00, 2128.37it/s]\n",
      "100%|██████████| 3/3 [00:00<00:00, 1912.30it/s]\n"
     ]
    },
    {
     "name": "stdout",
     "output_type": "stream",
     "text": [
      "Regional data QA/QC\n"
     ]
    },
    {
     "name": "stderr",
     "output_type": "stream",
     "text": [
      "100%|██████████| 22/22 [00:00<00:00, 25.12it/s]\n",
      "100%|██████████| 22/22 [00:16<00:00,  1.34it/s]\n"
     ]
    },
    {
     "name": "stdout",
     "output_type": "stream",
     "text": [
      "Calculating mean SCA for each geometry in each region...\n"
     ]
    },
    {
     "name": "stderr",
     "output_type": "stream",
     "text": [
      "100%|██████████| 23/23 [00:27<00:00,  1.20s/it]\n"
     ]
    },
    {
     "name": "stdout",
     "output_type": "stream",
     "text": [
      "Making predictions for:  2018-11-13\n",
      "N_Sierras\n",
      "54/54 [==============================] - 0s 1ms/step\n",
      "S_Sierras_High\n",
      "2/2 [==============================] - 0s 3ms/step\n",
      "S_Sierras_Low\n",
      "9/9 [==============================] - 0s 1ms/step\n",
      "Greater_Yellowstone\n",
      "102/102 [==============================] - 0s 1ms/step\n",
      "N_Co_Rockies\n",
      "76/76 [==============================] - 0s 1ms/step\n",
      "SW_Mont\n",
      "1/1 [==============================] - 0s 67ms/step\n",
      "SW_Co_Rockies\n",
      "19/19 [==============================] - 0s 1ms/step\n",
      "GBasin\n",
      "1/1 [==============================] - 0s 66ms/step\n",
      "N_Wasatch\n",
      "1/1 [==============================] - 0s 67ms/step\n",
      "N_Cascade\n",
      "1/1 [==============================] - 0s 63ms/step\n",
      "S_Wasatch\n",
      "1/1 [==============================] - 0s 64ms/step\n",
      "SW_Mtns\n",
      "1/1 [==============================] - 0s 70ms/step\n",
      "E_WA_N_Id_W_Mont\n",
      "1/1 [==============================] - 0s 63ms/step\n",
      "S_Wyoming\n",
      "1/1 [==============================] - 0s 68ms/step\n",
      "SE_Co_Rockies\n",
      "1/1 [==============================] - 0s 62ms/step\n",
      "Sawtooth\n",
      "1/1 [==============================] - 0s 69ms/step\n",
      "Ca_Coast\n",
      "1/1 [==============================] - 0s 63ms/step\n",
      "E_Or\n",
      "1/1 [==============================] - 0s 68ms/step\n",
      "N_Yellowstone\n",
      "1/1 [==============================] - 0s 62ms/step\n",
      "S_Cascade\n",
      "1/1 [==============================] - 0s 68ms/step\n",
      "Wa_Coast\n",
      "No snow in region:  Wa_Coast\n",
      "Greater_Glacier\n",
      "1/1 [==============================] - 0s 62ms/step\n",
      "Or_Coast\n",
      "1/1 [==============================] - 0s 70ms/step\n",
      "Updating SWE predictions for  2018-11-14\n",
      "Getting VIIRS fSCA data and calculating the spatial average NSDI\n",
      "VIIRS fSCA files found locally\n"
     ]
    },
    {
     "name": "stderr",
     "output_type": "stream",
     "text": [
      "100%|██████████| 696/696 [00:00<00:00, 1181.83it/s]\n",
      "100%|██████████| 696/696 [00:00<00:00, 1255.40it/s]\n",
      "100%|██████████| 12/12 [00:00<00:00, 2238.85it/s]\n",
      "100%|██████████| 7/7 [00:00<00:00, 2244.14it/s]\n",
      "100%|██████████| 25/25 [00:00<00:00, 2301.83it/s]\n",
      "100%|██████████| 13/13 [00:00<00:00, 2268.80it/s]\n",
      "100%|██████████| 3349/3349 [00:01<00:00, 2419.39it/s]\n",
      "100%|██████████| 16/16 [00:00<00:00, 2375.62it/s]\n",
      "100%|██████████| 6/6 [00:00<00:00, 2237.76it/s]\n",
      "100%|██████████| 9/9 [00:00<00:00, 2264.20it/s]\n",
      "100%|██████████| 15/15 [00:00<00:00, 2336.75it/s]\n",
      "100%|██████████| 1707/1707 [00:00<00:00, 2407.51it/s]\n",
      "100%|██████████| 5/5 [00:00<00:00, 2159.79it/s]\n",
      "100%|██████████| 1/1 [00:00<00:00, 1462.96it/s]\n",
      "100%|██████████| 6448/6448 [00:02<00:00, 2406.47it/s]\n",
      "100%|██████████| 2458/2458 [00:01<00:00, 2421.66it/s]\n",
      "100%|██████████| 8/8 [00:00<00:00, 2152.17it/s]\n",
      "100%|██████████| 1/1 [00:00<00:00, 1479.99it/s]\n",
      "100%|██████████| 9/9 [00:00<00:00, 2321.86it/s]\n",
      "100%|██████████| 3/3 [00:00<00:00, 2013.91it/s]\n",
      "100%|██████████| 10/10 [00:00<00:00, 2327.32it/s]\n",
      "100%|██████████| 6986/6986 [00:02<00:00, 2421.07it/s]\n",
      "100%|██████████| 12/12 [00:00<00:00, 2224.60it/s]\n",
      "100%|██████████| 3/3 [00:00<00:00, 1911.72it/s]\n"
     ]
    },
    {
     "name": "stdout",
     "output_type": "stream",
     "text": [
      "Regional data QA/QC\n"
     ]
    },
    {
     "name": "stderr",
     "output_type": "stream",
     "text": [
      "100%|██████████| 22/22 [00:00<00:00, 26.32it/s]\n",
      "100%|██████████| 22/22 [00:15<00:00,  1.42it/s]\n"
     ]
    },
    {
     "name": "stdout",
     "output_type": "stream",
     "text": [
      "Calculating mean SCA for each geometry in each region...\n"
     ]
    },
    {
     "name": "stderr",
     "output_type": "stream",
     "text": [
      "100%|██████████| 23/23 [00:27<00:00,  1.18s/it]\n"
     ]
    },
    {
     "name": "stdout",
     "output_type": "stream",
     "text": [
      "Making predictions for:  2018-11-14\n",
      "N_Sierras\n",
      "2/2 [==============================] - 0s 3ms/step\n",
      "S_Sierras_High\n",
      "1/1 [==============================] - 0s 63ms/step\n",
      "S_Sierras_Low\n",
      "2/2 [==============================] - 0s 3ms/step\n",
      "Greater_Yellowstone\n",
      "98/98 [==============================] - 0s 1ms/step\n",
      "N_Co_Rockies\n",
      "73/73 [==============================] - 0s 1ms/step\n",
      "SW_Mont\n",
      "1/1 [==============================] - 0s 64ms/step\n",
      "SW_Co_Rockies\n",
      "18/18 [==============================] - 0s 1ms/step\n",
      "GBasin\n",
      "1/1 [==============================] - 0s 65ms/step\n",
      "N_Wasatch\n",
      "1/1 [==============================] - 0s 73ms/step\n",
      "N_Cascade\n",
      "1/1 [==============================] - 0s 64ms/step\n",
      "S_Wasatch\n",
      "1/1 [==============================] - 0s 66ms/step\n",
      "SW_Mtns\n",
      "1/1 [==============================] - 0s 64ms/step\n",
      "E_WA_N_Id_W_Mont\n",
      "1/1 [==============================] - 0s 65ms/step\n",
      "S_Wyoming\n",
      "1/1 [==============================] - 0s 65ms/step\n",
      "SE_Co_Rockies\n",
      "1/1 [==============================] - 0s 64ms/step\n",
      "Sawtooth\n",
      "1/1 [==============================] - 0s 66ms/step\n",
      "Ca_Coast\n",
      "No snow in region:  Ca_Coast\n",
      "E_Or\n",
      "No snow in region:  E_Or\n",
      "N_Yellowstone\n",
      "1/1 [==============================] - 0s 67ms/step\n",
      "S_Cascade\n",
      "1/1 [==============================] - 0s 63ms/step\n",
      "Wa_Coast\n",
      "No snow in region:  Wa_Coast\n",
      "Greater_Glacier\n",
      "1/1 [==============================] - 0s 65ms/step\n",
      "Or_Coast\n",
      "No snow in region:  Or_Coast\n",
      "Updating SWE predictions for  2018-11-15\n",
      "Getting VIIRS fSCA data and calculating the spatial average NSDI\n",
      "VIIRS fSCA files found locally\n"
     ]
    },
    {
     "name": "stderr",
     "output_type": "stream",
     "text": [
      "100%|██████████| 696/696 [00:00<00:00, 1255.71it/s]\n",
      "100%|██████████| 696/696 [00:00<00:00, 1257.75it/s]\n",
      "100%|██████████| 12/12 [00:00<00:00, 2162.94it/s]\n",
      "100%|██████████| 7/7 [00:00<00:00, 2124.47it/s]\n",
      "100%|██████████| 25/25 [00:00<00:00, 2218.03it/s]\n",
      "100%|██████████| 13/13 [00:00<00:00, 2238.06it/s]\n",
      "100%|██████████| 3349/3349 [00:01<00:00, 2363.92it/s]\n",
      "100%|██████████| 16/16 [00:00<00:00, 2157.22it/s]\n",
      "100%|██████████| 6/6 [00:00<00:00, 2074.51it/s]\n",
      "100%|██████████| 9/9 [00:00<00:00, 2084.53it/s]\n",
      "100%|██████████| 15/15 [00:00<00:00, 2146.60it/s]\n",
      "100%|██████████| 1707/1707 [00:00<00:00, 2334.24it/s]\n",
      "100%|██████████| 5/5 [00:00<00:00, 2080.71it/s]\n",
      "100%|██████████| 1/1 [00:00<00:00, 1486.81it/s]\n",
      "100%|██████████| 6448/6448 [00:02<00:00, 2348.28it/s]\n",
      "100%|██████████| 2458/2458 [00:01<00:00, 2392.59it/s]\n",
      "100%|██████████| 8/8 [00:00<00:00, 2171.11it/s]\n",
      "100%|██████████| 1/1 [00:00<00:00, 1313.59it/s]\n",
      "100%|██████████| 9/9 [00:00<00:00, 2215.56it/s]\n",
      "100%|██████████| 3/3 [00:00<00:00, 1773.49it/s]\n",
      "100%|██████████| 10/10 [00:00<00:00, 2206.72it/s]\n",
      "100%|██████████| 6986/6986 [00:02<00:00, 2340.45it/s]\n",
      "100%|██████████| 12/12 [00:00<00:00, 2157.66it/s]\n",
      "100%|██████████| 3/3 [00:00<00:00, 1567.57it/s]\n"
     ]
    },
    {
     "name": "stdout",
     "output_type": "stream",
     "text": [
      "Regional data QA/QC\n"
     ]
    },
    {
     "name": "stderr",
     "output_type": "stream",
     "text": [
      "100%|██████████| 22/22 [00:00<00:00, 26.01it/s]\n",
      "100%|██████████| 22/22 [00:15<00:00,  1.42it/s]\n"
     ]
    },
    {
     "name": "stdout",
     "output_type": "stream",
     "text": [
      "Calculating mean SCA for each geometry in each region...\n"
     ]
    },
    {
     "name": "stderr",
     "output_type": "stream",
     "text": [
      "100%|██████████| 23/23 [00:27<00:00,  1.19s/it]\n"
     ]
    },
    {
     "name": "stdout",
     "output_type": "stream",
     "text": [
      "Making predictions for:  2018-11-15\n",
      "N_Sierras\n",
      "6/6 [==============================] - 0s 2ms/step\n",
      "S_Sierras_High\n",
      "1/1 [==============================] - 0s 63ms/step\n",
      "S_Sierras_Low\n",
      "3/3 [==============================] - 0s 2ms/step\n",
      "Greater_Yellowstone\n",
      "81/81 [==============================] - 0s 1ms/step\n",
      "N_Co_Rockies\n",
      "70/70 [==============================] - 0s 1ms/step\n",
      "SW_Mont\n",
      "1/1 [==============================] - 0s 61ms/step\n",
      "SW_Co_Rockies\n",
      "17/17 [==============================] - 0s 1ms/step\n",
      "GBasin\n",
      "1/1 [==============================] - 0s 65ms/step\n",
      "N_Wasatch\n",
      "1/1 [==============================] - 0s 65ms/step\n",
      "N_Cascade\n",
      "1/1 [==============================] - 0s 64ms/step\n",
      "S_Wasatch\n",
      "1/1 [==============================] - 0s 65ms/step\n",
      "SW_Mtns\n",
      "1/1 [==============================] - 0s 63ms/step\n",
      "E_WA_N_Id_W_Mont\n",
      "1/1 [==============================] - 0s 65ms/step\n",
      "S_Wyoming\n",
      "1/1 [==============================] - 0s 62ms/step\n",
      "SE_Co_Rockies\n",
      "1/1 [==============================] - 0s 66ms/step\n",
      "Sawtooth\n",
      "1/1 [==============================] - 0s 64ms/step\n",
      "Ca_Coast\n",
      "No snow in region:  Ca_Coast\n",
      "E_Or\n",
      "1/1 [==============================] - 0s 67ms/step\n",
      "N_Yellowstone\n",
      "1/1 [==============================] - 0s 63ms/step\n",
      "S_Cascade\n",
      "1/1 [==============================] - 0s 66ms/step\n",
      "Wa_Coast\n",
      "No snow in region:  Wa_Coast\n",
      "Greater_Glacier\n",
      "1/1 [==============================] - 0s 64ms/step\n",
      "Or_Coast\n",
      "No snow in region:  Or_Coast\n",
      "Updating SWE predictions for  2018-11-16\n",
      "Getting VIIRS fSCA data and calculating the spatial average NSDI\n",
      "VIIRS fSCA files found locally\n"
     ]
    },
    {
     "name": "stderr",
     "output_type": "stream",
     "text": [
      "100%|██████████| 696/696 [00:00<00:00, 1234.86it/s]\n",
      "100%|██████████| 696/696 [00:00<00:00, 1157.04it/s]\n",
      "100%|██████████| 12/12 [00:00<00:00, 1888.40it/s]\n",
      "100%|██████████| 7/7 [00:00<00:00, 2018.02it/s]\n",
      "100%|██████████| 25/25 [00:00<00:00, 2158.32it/s]\n",
      "100%|██████████| 13/13 [00:00<00:00, 2069.85it/s]\n",
      "100%|██████████| 3349/3349 [00:01<00:00, 2357.09it/s]\n",
      "100%|██████████| 16/16 [00:00<00:00, 2235.40it/s]\n",
      "100%|██████████| 6/6 [00:00<00:00, 2105.05it/s]\n",
      "100%|██████████| 9/9 [00:00<00:00, 2218.56it/s]\n",
      "100%|██████████| 15/15 [00:00<00:00, 2235.53it/s]\n",
      "100%|██████████| 1707/1707 [00:00<00:00, 2430.75it/s]\n",
      "100%|██████████| 5/5 [00:00<00:00, 2028.39it/s]\n",
      "100%|██████████| 1/1 [00:00<00:00, 1456.86it/s]\n",
      "100%|██████████| 6448/6448 [00:02<00:00, 2397.93it/s]\n",
      "100%|██████████| 2458/2458 [00:01<00:00, 2371.73it/s]\n",
      "100%|██████████| 8/8 [00:00<00:00, 2194.10it/s]\n",
      "100%|██████████| 1/1 [00:00<00:00, 1397.17it/s]\n",
      "100%|██████████| 9/9 [00:00<00:00, 2283.10it/s]\n",
      "100%|██████████| 3/3 [00:00<00:00, 1972.55it/s]\n",
      "100%|██████████| 10/10 [00:00<00:00, 2318.19it/s]\n",
      "100%|██████████| 6986/6986 [00:02<00:00, 2414.35it/s]\n",
      "100%|██████████| 12/12 [00:00<00:00, 2154.05it/s]\n",
      "100%|██████████| 3/3 [00:00<00:00, 1903.04it/s]\n"
     ]
    },
    {
     "name": "stdout",
     "output_type": "stream",
     "text": [
      "Regional data QA/QC\n"
     ]
    },
    {
     "name": "stderr",
     "output_type": "stream",
     "text": [
      "100%|██████████| 22/22 [00:00<00:00, 26.02it/s]\n",
      "100%|██████████| 22/22 [00:15<00:00,  1.40it/s]\n"
     ]
    },
    {
     "name": "stdout",
     "output_type": "stream",
     "text": [
      "Calculating mean SCA for each geometry in each region...\n"
     ]
    },
    {
     "name": "stderr",
     "output_type": "stream",
     "text": [
      "100%|██████████| 23/23 [00:28<00:00,  1.22s/it]\n"
     ]
    },
    {
     "name": "stdout",
     "output_type": "stream",
     "text": [
      "Making predictions for:  2018-11-16\n",
      "N_Sierras\n",
      "6/6 [==============================] - 0s 2ms/step\n",
      "S_Sierras_High\n",
      "1/1 [==============================] - 0s 74ms/step\n",
      "S_Sierras_Low\n",
      "3/3 [==============================] - 0s 2ms/step\n",
      "Greater_Yellowstone\n",
      "79/79 [==============================] - 0s 1ms/step\n",
      "N_Co_Rockies\n",
      "59/59 [==============================] - 0s 1ms/step\n",
      "SW_Mont\n",
      "1/1 [==============================] - 0s 73ms/step\n",
      "SW_Co_Rockies\n",
      "15/15 [==============================] - 0s 1ms/step\n",
      "GBasin\n",
      "1/1 [==============================] - 0s 74ms/step\n",
      "N_Wasatch\n",
      "1/1 [==============================] - 0s 68ms/step\n",
      "N_Cascade\n",
      "1/1 [==============================] - 0s 75ms/step\n",
      "S_Wasatch\n",
      "1/1 [==============================] - 0s 66ms/step\n",
      "SW_Mtns\n",
      "1/1 [==============================] - 0s 77ms/step\n",
      "E_WA_N_Id_W_Mont\n",
      "1/1 [==============================] - 0s 74ms/step\n",
      "S_Wyoming\n",
      "1/1 [==============================] - 0s 74ms/step\n",
      "SE_Co_Rockies\n",
      "1/1 [==============================] - 0s 68ms/step\n",
      "Sawtooth\n",
      "1/1 [==============================] - 0s 74ms/step\n",
      "Ca_Coast\n",
      "1/1 [==============================] - 0s 70ms/step\n",
      "E_Or\n",
      "1/1 [==============================] - 0s 73ms/step\n",
      "N_Yellowstone\n",
      "1/1 [==============================] - 0s 67ms/step\n",
      "S_Cascade\n",
      "1/1 [==============================] - 0s 75ms/step\n",
      "Wa_Coast\n",
      "No snow in region:  Wa_Coast\n",
      "Greater_Glacier\n",
      "1/1 [==============================] - 0s 68ms/step\n",
      "Or_Coast\n",
      "No snow in region:  Or_Coast\n",
      "Updating SWE predictions for  2018-11-17\n",
      "Getting VIIRS fSCA data and calculating the spatial average NSDI\n",
      "VIIRS fSCA files found locally\n"
     ]
    },
    {
     "name": "stderr",
     "output_type": "stream",
     "text": [
      "100%|██████████| 696/696 [00:00<00:00, 1222.54it/s]\n",
      "100%|██████████| 696/696 [00:00<00:00, 1211.10it/s]\n",
      "100%|██████████| 12/12 [00:00<00:00, 1990.49it/s]\n",
      "100%|██████████| 7/7 [00:00<00:00, 1976.31it/s]\n",
      "100%|██████████| 25/25 [00:00<00:00, 2229.02it/s]\n",
      "100%|██████████| 13/13 [00:00<00:00, 2001.83it/s]\n",
      "100%|██████████| 3349/3349 [00:01<00:00, 2299.44it/s]\n",
      "100%|██████████| 16/16 [00:00<00:00, 2137.02it/s]\n",
      "100%|██████████| 6/6 [00:00<00:00, 1979.53it/s]\n",
      "100%|██████████| 9/9 [00:00<00:00, 2084.30it/s]\n",
      "100%|██████████| 15/15 [00:00<00:00, 2132.48it/s]\n",
      "100%|██████████| 1707/1707 [00:00<00:00, 2378.34it/s]\n",
      "100%|██████████| 5/5 [00:00<00:00, 1848.36it/s]\n",
      "100%|██████████| 1/1 [00:00<00:00, 1120.57it/s]\n",
      "100%|██████████| 6448/6448 [00:02<00:00, 2361.61it/s]\n",
      "100%|██████████| 2458/2458 [00:01<00:00, 2353.41it/s]\n",
      "100%|██████████| 8/8 [00:00<00:00, 2068.71it/s]\n",
      "100%|██████████| 1/1 [00:00<00:00, 1179.83it/s]\n",
      "100%|██████████| 9/9 [00:00<00:00, 2024.06it/s]\n",
      "100%|██████████| 3/3 [00:00<00:00, 1719.45it/s]\n",
      "100%|██████████| 10/10 [00:00<00:00, 2173.33it/s]\n",
      "100%|██████████| 6986/6986 [00:02<00:00, 2361.95it/s]\n",
      "100%|██████████| 12/12 [00:00<00:00, 2106.46it/s]\n",
      "100%|██████████| 3/3 [00:00<00:00, 1666.61it/s]\n"
     ]
    },
    {
     "name": "stdout",
     "output_type": "stream",
     "text": [
      "Regional data QA/QC\n"
     ]
    },
    {
     "name": "stderr",
     "output_type": "stream",
     "text": [
      "100%|██████████| 22/22 [00:00<00:00, 25.22it/s]\n",
      "100%|██████████| 22/22 [00:16<00:00,  1.37it/s]\n"
     ]
    },
    {
     "name": "stdout",
     "output_type": "stream",
     "text": [
      "Calculating mean SCA for each geometry in each region...\n"
     ]
    },
    {
     "name": "stderr",
     "output_type": "stream",
     "text": [
      "100%|██████████| 23/23 [00:27<00:00,  1.20s/it]\n"
     ]
    },
    {
     "name": "stdout",
     "output_type": "stream",
     "text": [
      "Making predictions for:  2018-11-17\n",
      "N_Sierras\n",
      "24/24 [==============================] - 0s 1ms/step\n",
      "S_Sierras_High\n",
      "1/1 [==============================] - 0s 64ms/step\n",
      "S_Sierras_Low\n",
      "3/3 [==============================] - 0s 2ms/step\n",
      "Greater_Yellowstone\n",
      "84/84 [==============================] - 0s 1ms/step\n",
      "N_Co_Rockies\n",
      "62/62 [==============================] - 0s 1ms/step\n",
      "SW_Mont\n",
      "1/1 [==============================] - 0s 65ms/step\n",
      "SW_Co_Rockies\n",
      "15/15 [==============================] - 0s 1ms/step\n",
      "GBasin\n",
      "1/1 [==============================] - 0s 66ms/step\n",
      "N_Wasatch\n",
      "1/1 [==============================] - 0s 70ms/step\n",
      "N_Cascade\n",
      "1/1 [==============================] - 0s 64ms/step\n",
      "S_Wasatch\n",
      "1/1 [==============================] - 0s 69ms/step\n",
      "SW_Mtns\n",
      "1/1 [==============================] - 0s 65ms/step\n",
      "E_WA_N_Id_W_Mont\n",
      "1/1 [==============================] - 0s 73ms/step\n",
      "S_Wyoming\n",
      "1/1 [==============================] - 0s 66ms/step\n",
      "SE_Co_Rockies\n",
      "1/1 [==============================] - 0s 68ms/step\n",
      "Sawtooth\n",
      "1/1 [==============================] - 0s 65ms/step\n",
      "Ca_Coast\n",
      "No snow in region:  Ca_Coast\n",
      "E_Or\n",
      "1/1 [==============================] - 0s 77ms/step\n",
      "N_Yellowstone\n",
      "1/1 [==============================] - 0s 67ms/step\n",
      "S_Cascade\n",
      "1/1 [==============================] - 0s 69ms/step\n",
      "Wa_Coast\n",
      "No snow in region:  Wa_Coast\n",
      "Greater_Glacier\n",
      "1/1 [==============================] - 0s 69ms/step\n",
      "Or_Coast\n",
      "No snow in region:  Or_Coast\n",
      "Updating SWE predictions for  2018-11-18\n",
      "Getting VIIRS fSCA data and calculating the spatial average NSDI\n",
      "VIIRS fSCA files found locally\n"
     ]
    },
    {
     "name": "stderr",
     "output_type": "stream",
     "text": [
      "100%|██████████| 696/696 [00:00<00:00, 1247.28it/s]\n",
      "100%|██████████| 696/696 [00:00<00:00, 1242.14it/s]\n",
      "100%|██████████| 12/12 [00:00<00:00, 2087.67it/s]\n",
      "100%|██████████| 7/7 [00:00<00:00, 2006.57it/s]\n",
      "100%|██████████| 25/25 [00:00<00:00, 2200.44it/s]\n",
      "100%|██████████| 13/13 [00:00<00:00, 2206.81it/s]\n",
      "100%|██████████| 3349/3349 [00:01<00:00, 2399.30it/s]\n",
      "100%|██████████| 16/16 [00:00<00:00, 2280.75it/s]\n",
      "100%|██████████| 6/6 [00:00<00:00, 2088.10it/s]\n",
      "100%|██████████| 9/9 [00:00<00:00, 2163.75it/s]\n",
      "100%|██████████| 15/15 [00:00<00:00, 2246.87it/s]\n",
      "100%|██████████| 1707/1707 [00:00<00:00, 2375.79it/s]\n",
      "100%|██████████| 5/5 [00:00<00:00, 2013.01it/s]\n",
      "100%|██████████| 1/1 [00:00<00:00, 1436.90it/s]\n",
      "100%|██████████| 6448/6448 [00:02<00:00, 2407.98it/s]\n",
      "100%|██████████| 2458/2458 [00:01<00:00, 2388.26it/s]\n",
      "100%|██████████| 8/8 [00:00<00:00, 2220.82it/s]\n",
      "100%|██████████| 1/1 [00:00<00:00, 1394.85it/s]\n",
      "100%|██████████| 9/9 [00:00<00:00, 2223.39it/s]\n",
      "100%|██████████| 3/3 [00:00<00:00, 1909.68it/s]\n",
      "100%|██████████| 10/10 [00:00<00:00, 2251.01it/s]\n",
      "100%|██████████| 6986/6986 [00:02<00:00, 2358.98it/s]\n",
      "100%|██████████| 12/12 [00:00<00:00, 2288.22it/s]\n",
      "100%|██████████| 3/3 [00:00<00:00, 1907.66it/s]\n"
     ]
    },
    {
     "name": "stdout",
     "output_type": "stream",
     "text": [
      "Regional data QA/QC\n"
     ]
    },
    {
     "name": "stderr",
     "output_type": "stream",
     "text": [
      "100%|██████████| 22/22 [00:00<00:00, 25.13it/s]\n",
      "100%|██████████| 22/22 [00:15<00:00,  1.39it/s]\n"
     ]
    },
    {
     "name": "stdout",
     "output_type": "stream",
     "text": [
      "Calculating mean SCA for each geometry in each region...\n"
     ]
    },
    {
     "name": "stderr",
     "output_type": "stream",
     "text": [
      "100%|██████████| 23/23 [00:27<00:00,  1.19s/it]\n"
     ]
    },
    {
     "name": "stdout",
     "output_type": "stream",
     "text": [
      "Making predictions for:  2018-11-18\n",
      "N_Sierras\n",
      "2/2 [==============================] - 0s 3ms/step\n",
      "S_Sierras_High\n",
      "4/4 [==============================] - 0s 2ms/step\n",
      "S_Sierras_Low\n",
      "11/11 [==============================] - 0s 1ms/step\n",
      "Greater_Yellowstone\n",
      "91/91 [==============================] - 0s 1ms/step\n",
      "N_Co_Rockies\n",
      "69/69 [==============================] - 0s 1ms/step\n",
      "SW_Mont\n",
      "1/1 [==============================] - 0s 67ms/step\n",
      "SW_Co_Rockies\n",
      "16/16 [==============================] - 0s 1ms/step\n",
      "GBasin\n",
      "1/1 [==============================] - 0s 66ms/step\n",
      "N_Wasatch\n",
      "1/1 [==============================] - 0s 75ms/step\n",
      "N_Cascade\n",
      "1/1 [==============================] - 0s 65ms/step\n",
      "S_Wasatch\n",
      "1/1 [==============================] - 0s 71ms/step\n",
      "SW_Mtns\n",
      "1/1 [==============================] - 0s 65ms/step\n",
      "E_WA_N_Id_W_Mont\n",
      "1/1 [==============================] - 0s 71ms/step\n",
      "S_Wyoming\n",
      "1/1 [==============================] - 0s 65ms/step\n",
      "SE_Co_Rockies\n",
      "1/1 [==============================] - 0s 71ms/step\n",
      "Sawtooth\n",
      "1/1 [==============================] - 0s 66ms/step\n",
      "Ca_Coast\n",
      "No snow in region:  Ca_Coast\n",
      "E_Or\n",
      "1/1 [==============================] - 0s 74ms/step\n",
      "N_Yellowstone\n",
      "1/1 [==============================] - 0s 65ms/step\n",
      "S_Cascade\n",
      "1/1 [==============================] - 0s 70ms/step\n",
      "Wa_Coast\n",
      "No snow in region:  Wa_Coast\n",
      "Greater_Glacier\n",
      "1/1 [==============================] - 0s 67ms/step\n",
      "Or_Coast\n",
      "No snow in region:  Or_Coast\n",
      "Updating SWE predictions for  2018-11-19\n",
      "Getting VIIRS fSCA data and calculating the spatial average NSDI\n",
      "VIIRS fSCA files found locally\n"
     ]
    },
    {
     "name": "stderr",
     "output_type": "stream",
     "text": [
      "100%|██████████| 696/696 [00:00<00:00, 1205.41it/s]\n",
      "100%|██████████| 696/696 [00:00<00:00, 1213.60it/s]\n",
      "100%|██████████| 12/12 [00:00<00:00, 1753.65it/s]\n",
      "100%|██████████| 7/7 [00:00<00:00, 1846.78it/s]\n",
      "100%|██████████| 25/25 [00:00<00:00, 2244.86it/s]\n",
      "100%|██████████| 13/13 [00:00<00:00, 2012.70it/s]\n",
      "100%|██████████| 3349/3349 [00:01<00:00, 2324.89it/s]\n",
      "100%|██████████| 16/16 [00:00<00:00, 2204.05it/s]\n",
      "100%|██████████| 6/6 [00:00<00:00, 1799.74it/s]\n",
      "100%|██████████| 9/9 [00:00<00:00, 2077.87it/s]\n",
      "100%|██████████| 15/15 [00:00<00:00, 1994.38it/s]\n",
      "100%|██████████| 1707/1707 [00:00<00:00, 2277.27it/s]\n",
      "100%|██████████| 5/5 [00:00<00:00, 1469.21it/s]\n",
      "100%|██████████| 1/1 [00:00<00:00, 818.72it/s]\n",
      "100%|██████████| 6448/6448 [00:02<00:00, 2365.76it/s]\n",
      "100%|██████████| 2458/2458 [00:01<00:00, 2337.04it/s]\n",
      "100%|██████████| 8/8 [00:00<00:00, 2036.44it/s]\n",
      "100%|██████████| 1/1 [00:00<00:00, 1259.93it/s]\n",
      "100%|██████████| 9/9 [00:00<00:00, 2068.99it/s]\n",
      "100%|██████████| 3/3 [00:00<00:00, 1766.52it/s]\n",
      "100%|██████████| 10/10 [00:00<00:00, 2116.09it/s]\n",
      "100%|██████████| 6986/6986 [00:02<00:00, 2361.73it/s]\n",
      "100%|██████████| 12/12 [00:00<00:00, 2191.86it/s]\n",
      "100%|██████████| 3/3 [00:00<00:00, 1780.77it/s]\n"
     ]
    },
    {
     "name": "stdout",
     "output_type": "stream",
     "text": [
      "Regional data QA/QC\n"
     ]
    },
    {
     "name": "stderr",
     "output_type": "stream",
     "text": [
      "100%|██████████| 22/22 [00:00<00:00, 25.61it/s]\n",
      "100%|██████████| 22/22 [00:16<00:00,  1.36it/s]\n"
     ]
    },
    {
     "name": "stdout",
     "output_type": "stream",
     "text": [
      "Calculating mean SCA for each geometry in each region...\n"
     ]
    },
    {
     "name": "stderr",
     "output_type": "stream",
     "text": [
      "100%|██████████| 23/23 [00:27<00:00,  1.18s/it]\n"
     ]
    },
    {
     "name": "stdout",
     "output_type": "stream",
     "text": [
      "Making predictions for:  2018-11-19\n",
      "N_Sierras\n",
      "3/3 [==============================] - 0s 2ms/step\n",
      "S_Sierras_High\n",
      "3/3 [==============================] - 0s 2ms/step\n",
      "S_Sierras_Low\n",
      "11/11 [==============================] - 0s 1ms/step\n",
      "Greater_Yellowstone\n",
      "105/105 [==============================] - 0s 1ms/step\n",
      "N_Co_Rockies\n",
      "68/68 [==============================] - 0s 1ms/step\n",
      "SW_Mont\n",
      "1/1 [==============================] - 0s 64ms/step\n",
      "SW_Co_Rockies\n",
      "15/15 [==============================] - 0s 1ms/step\n",
      "GBasin\n",
      "1/1 [==============================] - 0s 66ms/step\n",
      "N_Wasatch\n",
      "1/1 [==============================] - 0s 73ms/step\n",
      "N_Cascade\n",
      "1/1 [==============================] - 0s 64ms/step\n",
      "S_Wasatch\n",
      "1/1 [==============================] - 0s 71ms/step\n",
      "SW_Mtns\n",
      "1/1 [==============================] - 0s 64ms/step\n",
      "E_WA_N_Id_W_Mont\n",
      "1/1 [==============================] - 0s 69ms/step\n",
      "S_Wyoming\n",
      "1/1 [==============================] - 0s 64ms/step\n",
      "SE_Co_Rockies\n",
      "1/1 [==============================] - 0s 71ms/step\n",
      "Sawtooth\n",
      "1/1 [==============================] - 0s 63ms/step\n",
      "Ca_Coast\n",
      "No snow in region:  Ca_Coast\n",
      "E_Or\n",
      "No snow in region:  E_Or\n",
      "N_Yellowstone\n",
      "1/1 [==============================] - 0s 71ms/step\n",
      "S_Cascade\n",
      "1/1 [==============================] - 0s 64ms/step\n",
      "Wa_Coast\n",
      "No snow in region:  Wa_Coast\n",
      "Greater_Glacier\n",
      "1/1 [==============================] - 0s 72ms/step\n",
      "Or_Coast\n",
      "No snow in region:  Or_Coast\n",
      "Updating SWE predictions for  2018-11-20\n",
      "Getting VIIRS fSCA data and calculating the spatial average NSDI\n",
      "VIIRS fSCA files found locally\n"
     ]
    },
    {
     "name": "stderr",
     "output_type": "stream",
     "text": [
      "100%|██████████| 696/696 [00:00<00:00, 1249.96it/s]\n",
      "100%|██████████| 696/696 [00:00<00:00, 1252.13it/s]\n",
      "100%|██████████| 12/12 [00:00<00:00, 2245.85it/s]\n",
      "100%|██████████| 7/7 [00:00<00:00, 2167.76it/s]\n",
      "100%|██████████| 25/25 [00:00<00:00, 2341.09it/s]\n",
      "100%|██████████| 13/13 [00:00<00:00, 2325.10it/s]\n",
      "100%|██████████| 3349/3349 [00:01<00:00, 2381.15it/s]\n",
      "100%|██████████| 16/16 [00:00<00:00, 2314.90it/s]\n",
      "100%|██████████| 6/6 [00:00<00:00, 2064.13it/s]\n",
      "100%|██████████| 9/9 [00:00<00:00, 2318.72it/s]\n",
      "100%|██████████| 15/15 [00:00<00:00, 2337.18it/s]\n",
      "100%|██████████| 1707/1707 [00:00<00:00, 2386.47it/s]\n",
      "100%|██████████| 5/5 [00:00<00:00, 2172.99it/s]\n",
      "100%|██████████| 1/1 [00:00<00:00, 1512.55it/s]\n",
      "100%|██████████| 6448/6448 [00:02<00:00, 2393.29it/s]\n",
      "100%|██████████| 2458/2458 [00:01<00:00, 2244.02it/s]\n",
      "100%|██████████| 8/8 [00:00<00:00, 2244.29it/s]\n",
      "100%|██████████| 1/1 [00:00<00:00, 1339.61it/s]\n",
      "100%|██████████| 9/9 [00:00<00:00, 2272.10it/s]\n",
      "100%|██████████| 3/3 [00:00<00:00, 1973.79it/s]\n",
      "100%|██████████| 10/10 [00:00<00:00, 2310.91it/s]\n",
      "100%|██████████| 6986/6986 [00:02<00:00, 2395.33it/s]\n",
      "100%|██████████| 12/12 [00:00<00:00, 2089.23it/s]\n",
      "100%|██████████| 3/3 [00:00<00:00, 1807.63it/s]\n"
     ]
    },
    {
     "name": "stdout",
     "output_type": "stream",
     "text": [
      "Regional data QA/QC\n"
     ]
    },
    {
     "name": "stderr",
     "output_type": "stream",
     "text": [
      "100%|██████████| 22/22 [00:00<00:00, 26.23it/s]\n",
      "100%|██████████| 22/22 [00:16<00:00,  1.34it/s]\n"
     ]
    },
    {
     "name": "stdout",
     "output_type": "stream",
     "text": [
      "Calculating mean SCA for each geometry in each region...\n"
     ]
    },
    {
     "name": "stderr",
     "output_type": "stream",
     "text": [
      "100%|██████████| 23/23 [00:27<00:00,  1.18s/it]\n"
     ]
    },
    {
     "name": "stdout",
     "output_type": "stream",
     "text": [
      "Making predictions for:  2018-11-20\n",
      "N_Sierras\n",
      "55/55 [==============================] - 0s 1ms/step\n",
      "S_Sierras_High\n",
      "1/1 [==============================] - 0s 68ms/step\n",
      "S_Sierras_Low\n",
      "4/4 [==============================] - 0s 2ms/step\n",
      "Greater_Yellowstone\n",
      "104/104 [==============================] - 0s 1ms/step\n",
      "N_Co_Rockies\n",
      "64/64 [==============================] - 0s 1ms/step\n",
      "SW_Mont\n",
      "1/1 [==============================] - 0s 67ms/step\n",
      "SW_Co_Rockies\n",
      "43/43 [==============================] - 0s 1ms/step\n",
      "GBasin\n",
      "1/1 [==============================] - 0s 66ms/step\n",
      "N_Wasatch\n",
      "1/1 [==============================] - 0s 70ms/step\n",
      "N_Cascade\n",
      "1/1 [==============================] - 0s 64ms/step\n",
      "S_Wasatch\n",
      "1/1 [==============================] - 0s 72ms/step\n",
      "SW_Mtns\n",
      "1/1 [==============================] - 0s 74ms/step\n",
      "E_WA_N_Id_W_Mont\n",
      "1/1 [==============================] - 0s 70ms/step\n",
      "S_Wyoming\n",
      "1/1 [==============================] - 0s 66ms/step\n",
      "SE_Co_Rockies\n",
      "1/1 [==============================] - 0s 70ms/step\n",
      "Sawtooth\n",
      "1/1 [==============================] - 0s 64ms/step\n",
      "Ca_Coast\n",
      "1/1 [==============================] - 0s 70ms/step\n",
      "E_Or\n",
      "No snow in region:  E_Or\n",
      "N_Yellowstone\n",
      "1/1 [==============================] - 0s 65ms/step\n",
      "S_Cascade\n",
      "1/1 [==============================] - 0s 70ms/step\n",
      "Wa_Coast\n",
      "No snow in region:  Wa_Coast\n",
      "Greater_Glacier\n",
      "1/1 [==============================] - 0s 66ms/step\n",
      "Or_Coast\n",
      "No snow in region:  Or_Coast\n",
      "Updating SWE predictions for  2018-11-21\n",
      "Getting VIIRS fSCA data and calculating the spatial average NSDI\n",
      "VIIRS fSCA files found locally\n"
     ]
    },
    {
     "name": "stderr",
     "output_type": "stream",
     "text": [
      "100%|██████████| 696/696 [00:00<00:00, 1231.52it/s]\n",
      "100%|██████████| 696/696 [00:00<00:00, 1230.49it/s]\n",
      "100%|██████████| 12/12 [00:00<00:00, 1934.05it/s]\n",
      "100%|██████████| 7/7 [00:00<00:00, 2096.55it/s]\n",
      "100%|██████████| 25/25 [00:00<00:00, 1937.97it/s]\n",
      "100%|██████████| 13/13 [00:00<00:00, 2084.41it/s]\n",
      "100%|██████████| 3349/3349 [00:01<00:00, 2389.41it/s]\n",
      "100%|██████████| 16/16 [00:00<00:00, 2210.15it/s]\n",
      "100%|██████████| 6/6 [00:00<00:00, 2083.09it/s]\n",
      "100%|██████████| 9/9 [00:00<00:00, 2269.10it/s]\n",
      "100%|██████████| 15/15 [00:00<00:00, 2204.51it/s]\n",
      "100%|██████████| 1707/1707 [00:00<00:00, 2373.38it/s]\n",
      "100%|██████████| 5/5 [00:00<00:00, 2063.52it/s]\n",
      "100%|██████████| 1/1 [00:00<00:00, 1480.52it/s]\n",
      "100%|██████████| 6448/6448 [00:02<00:00, 2357.22it/s]\n",
      "100%|██████████| 2458/2458 [00:01<00:00, 2369.71it/s]\n",
      "100%|██████████| 8/8 [00:00<00:00, 2232.35it/s]\n",
      "100%|██████████| 1/1 [00:00<00:00, 1216.45it/s]\n",
      "100%|██████████| 9/9 [00:00<00:00, 2173.34it/s]\n",
      "100%|██████████| 3/3 [00:00<00:00, 1881.13it/s]\n",
      "100%|██████████| 10/10 [00:00<00:00, 2201.50it/s]\n",
      "100%|██████████| 6986/6986 [00:02<00:00, 2363.29it/s]\n",
      "100%|██████████| 12/12 [00:00<00:00, 2272.21it/s]\n",
      "100%|██████████| 3/3 [00:00<00:00, 1780.01it/s]\n"
     ]
    },
    {
     "name": "stdout",
     "output_type": "stream",
     "text": [
      "Regional data QA/QC\n"
     ]
    },
    {
     "name": "stderr",
     "output_type": "stream",
     "text": [
      "100%|██████████| 22/22 [00:00<00:00, 25.79it/s]\n",
      "100%|██████████| 22/22 [00:16<00:00,  1.32it/s]\n"
     ]
    },
    {
     "name": "stdout",
     "output_type": "stream",
     "text": [
      "Calculating mean SCA for each geometry in each region...\n"
     ]
    },
    {
     "name": "stderr",
     "output_type": "stream",
     "text": [
      "100%|██████████| 23/23 [00:28<00:00,  1.22s/it]\n"
     ]
    },
    {
     "name": "stdout",
     "output_type": "stream",
     "text": [
      "Making predictions for:  2018-11-21\n",
      "N_Sierras\n",
      "5/5 [==============================] - 0s 2ms/step\n",
      "S_Sierras_High\n",
      "3/3 [==============================] - 0s 2ms/step\n",
      "S_Sierras_Low\n",
      "4/4 [==============================] - 0s 2ms/step\n",
      "Greater_Yellowstone\n",
      "93/93 [==============================] - 0s 1ms/step\n",
      "N_Co_Rockies\n",
      "52/52 [==============================] - 0s 1ms/step\n",
      "SW_Mont\n",
      "1/1 [==============================] - 0s 70ms/step\n",
      "SW_Co_Rockies\n",
      "13/13 [==============================] - 0s 1ms/step\n",
      "GBasin\n",
      "1/1 [==============================] - 0s 71ms/step\n",
      "N_Wasatch\n",
      "1/1 [==============================] - 0s 70ms/step\n",
      "N_Cascade\n",
      "1/1 [==============================] - 0s 71ms/step\n",
      "S_Wasatch\n",
      "No snow in region:  S_Wasatch\n",
      "SW_Mtns\n",
      "1/1 [==============================] - 0s 71ms/step\n",
      "E_WA_N_Id_W_Mont\n",
      "1/1 [==============================] - 0s 72ms/step\n",
      "S_Wyoming\n",
      "1/1 [==============================] - 0s 70ms/step\n",
      "SE_Co_Rockies\n",
      "1/1 [==============================] - 0s 72ms/step\n",
      "Sawtooth\n",
      "1/1 [==============================] - 0s 69ms/step\n",
      "Ca_Coast\n",
      "No snow in region:  Ca_Coast\n",
      "E_Or\n",
      "1/1 [==============================] - 0s 73ms/step\n",
      "N_Yellowstone\n",
      "1/1 [==============================] - 0s 71ms/step\n",
      "S_Cascade\n",
      "1/1 [==============================] - 0s 73ms/step\n",
      "Wa_Coast\n",
      "No snow in region:  Wa_Coast\n",
      "Greater_Glacier\n",
      "1/1 [==============================] - 0s 74ms/step\n",
      "Or_Coast\n",
      "No snow in region:  Or_Coast\n",
      "Updating SWE predictions for  2018-11-22\n",
      "Getting VIIRS fSCA data and calculating the spatial average NSDI\n",
      "VIIRS fSCA files found locally\n"
     ]
    },
    {
     "name": "stderr",
     "output_type": "stream",
     "text": [
      "100%|██████████| 696/696 [00:00<00:00, 1234.62it/s]\n",
      "100%|██████████| 696/696 [00:00<00:00, 1171.44it/s]\n",
      "100%|██████████| 12/12 [00:00<00:00, 1928.05it/s]\n",
      "100%|██████████| 7/7 [00:00<00:00, 1594.62it/s]\n",
      "100%|██████████| 25/25 [00:00<00:00, 1964.32it/s]\n",
      "100%|██████████| 13/13 [00:00<00:00, 1635.30it/s]\n",
      "100%|██████████| 3349/3349 [00:01<00:00, 2305.58it/s]\n",
      "100%|██████████| 16/16 [00:00<00:00, 2111.20it/s]\n",
      "100%|██████████| 6/6 [00:00<00:00, 1792.31it/s]\n",
      "100%|██████████| 9/9 [00:00<00:00, 1986.57it/s]\n",
      "100%|██████████| 15/15 [00:00<00:00, 2089.77it/s]\n",
      "100%|██████████| 1707/1707 [00:00<00:00, 2323.74it/s]\n",
      "100%|██████████| 5/5 [00:00<00:00, 1802.45it/s]\n",
      "100%|██████████| 1/1 [00:00<00:00, 876.74it/s]\n",
      "100%|██████████| 6448/6448 [00:02<00:00, 2339.79it/s]\n",
      "100%|██████████| 2458/2458 [00:01<00:00, 2366.99it/s]\n",
      "100%|██████████| 8/8 [00:00<00:00, 2149.13it/s]\n",
      "100%|██████████| 1/1 [00:00<00:00, 1188.86it/s]\n",
      "100%|██████████| 9/9 [00:00<00:00, 2178.86it/s]\n",
      "100%|██████████| 3/3 [00:00<00:00, 1789.63it/s]\n",
      "100%|██████████| 10/10 [00:00<00:00, 2152.14it/s]\n",
      "100%|██████████| 6986/6986 [00:02<00:00, 2371.19it/s]\n",
      "100%|██████████| 12/12 [00:00<00:00, 2068.20it/s]\n",
      "100%|██████████| 3/3 [00:00<00:00, 1759.36it/s]\n"
     ]
    },
    {
     "name": "stdout",
     "output_type": "stream",
     "text": [
      "Regional data QA/QC\n"
     ]
    },
    {
     "name": "stderr",
     "output_type": "stream",
     "text": [
      "100%|██████████| 22/22 [00:00<00:00, 24.55it/s]\n",
      "100%|██████████| 22/22 [00:16<00:00,  1.32it/s]\n"
     ]
    },
    {
     "name": "stdout",
     "output_type": "stream",
     "text": [
      "Calculating mean SCA for each geometry in each region...\n"
     ]
    },
    {
     "name": "stderr",
     "output_type": "stream",
     "text": [
      "100%|██████████| 23/23 [00:27<00:00,  1.21s/it]\n"
     ]
    },
    {
     "name": "stdout",
     "output_type": "stream",
     "text": [
      "Making predictions for:  2018-11-22\n",
      "N_Sierras\n",
      "10/10 [==============================] - 0s 1ms/step\n",
      "S_Sierras_High\n",
      "19/19 [==============================] - 0s 1ms/step\n",
      "S_Sierras_Low\n",
      "23/23 [==============================] - 0s 1ms/step\n",
      "Greater_Yellowstone\n",
      "96/96 [==============================] - 0s 1ms/step\n",
      "N_Co_Rockies\n",
      "53/53 [==============================] - 0s 1ms/step\n",
      "SW_Mont\n",
      "1/1 [==============================] - 0s 71ms/step\n",
      "SW_Co_Rockies\n",
      "13/13 [==============================] - 0s 1ms/step\n",
      "GBasin\n",
      "1/1 [==============================] - 0s 76ms/step\n",
      "N_Wasatch\n",
      "1/1 [==============================] - 0s 75ms/step\n",
      "N_Cascade\n",
      "1/1 [==============================] - 0s 71ms/step\n",
      "S_Wasatch\n",
      "1/1 [==============================] - 0s 63ms/step\n",
      "SW_Mtns\n",
      "1/1 [==============================] - 0s 74ms/step\n",
      "E_WA_N_Id_W_Mont\n",
      "1/1 [==============================] - 0s 65ms/step\n",
      "S_Wyoming\n",
      "1/1 [==============================] - 0s 70ms/step\n",
      "SE_Co_Rockies\n",
      "1/1 [==============================] - 0s 64ms/step\n",
      "Sawtooth\n",
      "1/1 [==============================] - 0s 70ms/step\n",
      "Ca_Coast\n",
      "No snow in region:  Ca_Coast\n",
      "E_Or\n",
      "1/1 [==============================] - 0s 65ms/step\n",
      "N_Yellowstone\n",
      "1/1 [==============================] - 0s 71ms/step\n",
      "S_Cascade\n",
      "1/1 [==============================] - 0s 64ms/step\n",
      "Wa_Coast\n",
      "No snow in region:  Wa_Coast\n",
      "Greater_Glacier\n",
      "1/1 [==============================] - 0s 73ms/step\n",
      "Or_Coast\n",
      "No snow in region:  Or_Coast\n",
      "Updating SWE predictions for  2018-11-23\n",
      "Getting VIIRS fSCA data and calculating the spatial average NSDI\n",
      "VIIRS fSCA files found locally\n"
     ]
    },
    {
     "name": "stderr",
     "output_type": "stream",
     "text": [
      "100%|██████████| 696/696 [00:00<00:00, 1233.85it/s]\n",
      "100%|██████████| 696/696 [00:00<00:00, 1244.57it/s]\n",
      "100%|██████████| 12/12 [00:00<00:00, 2157.75it/s]\n",
      "100%|██████████| 7/7 [00:00<00:00, 2188.12it/s]\n",
      "100%|██████████| 25/25 [00:00<00:00, 2236.82it/s]\n",
      "100%|██████████| 13/13 [00:00<00:00, 2114.72it/s]\n",
      "100%|██████████| 3349/3349 [00:01<00:00, 2374.74it/s]\n",
      "100%|██████████| 16/16 [00:00<00:00, 2287.05it/s]\n",
      "100%|██████████| 6/6 [00:00<00:00, 2109.28it/s]\n",
      "100%|██████████| 9/9 [00:00<00:00, 2191.51it/s]\n",
      "100%|██████████| 15/15 [00:00<00:00, 2210.63it/s]\n",
      "100%|██████████| 1707/1707 [00:00<00:00, 2377.88it/s]\n",
      "100%|██████████| 5/5 [00:00<00:00, 2015.91it/s]\n",
      "100%|██████████| 1/1 [00:00<00:00, 1430.04it/s]\n",
      "100%|██████████| 6448/6448 [00:02<00:00, 2409.11it/s]\n",
      "100%|██████████| 2458/2458 [00:01<00:00, 2409.32it/s]\n",
      "100%|██████████| 8/8 [00:00<00:00, 2129.36it/s]\n",
      "100%|██████████| 1/1 [00:00<00:00, 1331.53it/s]\n",
      "100%|██████████| 9/9 [00:00<00:00, 2170.59it/s]\n",
      "100%|██████████| 3/3 [00:00<00:00, 1906.50it/s]\n",
      "100%|██████████| 10/10 [00:00<00:00, 2258.77it/s]\n",
      "100%|██████████| 6986/6986 [00:02<00:00, 2393.77it/s]\n",
      "100%|██████████| 12/12 [00:00<00:00, 2196.93it/s]\n",
      "100%|██████████| 3/3 [00:00<00:00, 1754.20it/s]\n"
     ]
    },
    {
     "name": "stdout",
     "output_type": "stream",
     "text": [
      "Regional data QA/QC\n"
     ]
    },
    {
     "name": "stderr",
     "output_type": "stream",
     "text": [
      "100%|██████████| 22/22 [00:01<00:00, 18.91it/s]\n",
      "100%|██████████| 22/22 [00:16<00:00,  1.33it/s]\n"
     ]
    },
    {
     "name": "stdout",
     "output_type": "stream",
     "text": [
      "Calculating mean SCA for each geometry in each region...\n"
     ]
    },
    {
     "name": "stderr",
     "output_type": "stream",
     "text": [
      "100%|██████████| 23/23 [00:27<00:00,  1.19s/it]\n"
     ]
    },
    {
     "name": "stdout",
     "output_type": "stream",
     "text": [
      "Making predictions for:  2018-11-23\n",
      "N_Sierras\n",
      "68/68 [==============================] - 0s 1ms/step\n",
      "S_Sierras_High\n",
      "25/25 [==============================] - 0s 1ms/step\n",
      "S_Sierras_Low\n",
      "25/25 [==============================] - 0s 1ms/step\n",
      "Greater_Yellowstone\n",
      "102/102 [==============================] - 0s 1ms/step\n",
      "N_Co_Rockies\n",
      "58/58 [==============================] - 0s 1ms/step\n",
      "SW_Mont\n",
      "1/1 [==============================] - 0s 70ms/step\n",
      "SW_Co_Rockies\n",
      "40/40 [==============================] - 0s 1ms/step\n",
      "GBasin\n",
      "1/1 [==============================] - 0s 69ms/step\n",
      "N_Wasatch\n",
      "1/1 [==============================] - 0s 68ms/step\n",
      "N_Cascade\n",
      "1/1 [==============================] - 0s 64ms/step\n",
      "S_Wasatch\n",
      "1/1 [==============================] - 0s 73ms/step\n",
      "SW_Mtns\n",
      "1/1 [==============================] - 0s 66ms/step\n",
      "E_WA_N_Id_W_Mont\n",
      "1/1 [==============================] - 0s 67ms/step\n",
      "S_Wyoming\n",
      "1/1 [==============================] - 0s 62ms/step\n",
      "SE_Co_Rockies\n",
      "1/1 [==============================] - 0s 68ms/step\n",
      "Sawtooth\n",
      "1/1 [==============================] - 0s 62ms/step\n",
      "Ca_Coast\n",
      "1/1 [==============================] - 0s 67ms/step\n",
      "E_Or\n",
      "1/1 [==============================] - 0s 60ms/step\n",
      "N_Yellowstone\n",
      "1/1 [==============================] - 0s 70ms/step\n",
      "S_Cascade\n",
      "1/1 [==============================] - 0s 62ms/step\n",
      "Wa_Coast\n",
      "No snow in region:  Wa_Coast\n",
      "Greater_Glacier\n",
      "1/1 [==============================] - 0s 69ms/step\n",
      "Or_Coast\n",
      "No snow in region:  Or_Coast\n",
      "Updating SWE predictions for  2018-11-24\n",
      "Getting VIIRS fSCA data and calculating the spatial average NSDI\n",
      "VIIRS fSCA files found locally\n"
     ]
    },
    {
     "name": "stderr",
     "output_type": "stream",
     "text": [
      "100%|██████████| 696/696 [00:00<00:00, 1249.18it/s]\n",
      "100%|██████████| 696/696 [00:00<00:00, 1244.64it/s]\n",
      "100%|██████████| 12/12 [00:00<00:00, 2198.66it/s]\n",
      "100%|██████████| 7/7 [00:00<00:00, 2217.20it/s]\n",
      "100%|██████████| 25/25 [00:00<00:00, 2358.15it/s]\n",
      "100%|██████████| 13/13 [00:00<00:00, 2311.21it/s]\n",
      "100%|██████████| 3349/3349 [00:01<00:00, 2357.59it/s]\n",
      "100%|██████████| 16/16 [00:00<00:00, 2290.64it/s]\n",
      "100%|██████████| 6/6 [00:00<00:00, 2161.83it/s]\n",
      "100%|██████████| 9/9 [00:00<00:00, 2249.76it/s]\n",
      "100%|██████████| 15/15 [00:00<00:00, 2231.65it/s]\n",
      "100%|██████████| 1707/1707 [00:00<00:00, 2391.24it/s]\n",
      "100%|██████████| 5/5 [00:00<00:00, 2139.30it/s]\n",
      "100%|██████████| 1/1 [00:00<00:00, 1610.10it/s]\n",
      "100%|██████████| 6448/6448 [00:02<00:00, 2410.21it/s]\n",
      "100%|██████████| 2458/2458 [00:01<00:00, 2378.15it/s]\n",
      "100%|██████████| 8/8 [00:00<00:00, 1649.68it/s]\n",
      "100%|██████████| 1/1 [00:00<00:00, 1028.77it/s]\n",
      "100%|██████████| 9/9 [00:00<00:00, 2112.29it/s]\n",
      "100%|██████████| 3/3 [00:00<00:00, 1544.48it/s]\n",
      "100%|██████████| 10/10 [00:00<00:00, 2016.20it/s]\n",
      "100%|██████████| 6986/6986 [00:02<00:00, 2369.32it/s]\n",
      "100%|██████████| 12/12 [00:00<00:00, 2178.58it/s]\n",
      "100%|██████████| 3/3 [00:00<00:00, 1433.62it/s]\n"
     ]
    },
    {
     "name": "stdout",
     "output_type": "stream",
     "text": [
      "Regional data QA/QC\n"
     ]
    },
    {
     "name": "stderr",
     "output_type": "stream",
     "text": [
      "100%|██████████| 22/22 [00:00<00:00, 26.26it/s]\n",
      "100%|██████████| 22/22 [00:15<00:00,  1.39it/s]\n"
     ]
    },
    {
     "name": "stdout",
     "output_type": "stream",
     "text": [
      "Calculating mean SCA for each geometry in each region...\n"
     ]
    },
    {
     "name": "stderr",
     "output_type": "stream",
     "text": [
      "100%|██████████| 23/23 [00:27<00:00,  1.18s/it]\n"
     ]
    },
    {
     "name": "stdout",
     "output_type": "stream",
     "text": [
      "Making predictions for:  2018-11-24\n",
      "N_Sierras\n",
      "72/72 [==============================] - 0s 1ms/step\n",
      "S_Sierras_High\n",
      "56/56 [==============================] - 0s 1ms/step\n",
      "S_Sierras_Low\n",
      "31/31 [==============================] - 0s 1ms/step\n",
      "Greater_Yellowstone\n",
      "102/102 [==============================] - 0s 1ms/step\n",
      "N_Co_Rockies\n",
      "60/60 [==============================] - 0s 1ms/step\n",
      "SW_Mont\n",
      "1/1 [==============================] - 0s 72ms/step\n",
      "SW_Co_Rockies\n",
      "51/51 [==============================] - 0s 1ms/step\n",
      "GBasin\n",
      "1/1 [==============================] - 0s 69ms/step\n",
      "N_Wasatch\n",
      "1/1 [==============================] - 0s 68ms/step\n",
      "N_Cascade\n",
      "1/1 [==============================] - 0s 72ms/step\n",
      "S_Wasatch\n",
      "1/1 [==============================] - 0s 63ms/step\n",
      "SW_Mtns\n",
      "1/1 [==============================] - 0s 67ms/step\n",
      "E_WA_N_Id_W_Mont\n",
      "1/1 [==============================] - 0s 71ms/step\n",
      "S_Wyoming\n",
      "1/1 [==============================] - 0s 64ms/step\n",
      "SE_Co_Rockies\n",
      "1/1 [==============================] - 0s 62ms/step\n",
      "Sawtooth\n",
      "1/1 [==============================] - 0s 63ms/step\n",
      "Ca_Coast\n",
      "1/1 [==============================] - 0s 66ms/step\n",
      "E_Or\n",
      "1/1 [==============================] - 0s 64ms/step\n",
      "N_Yellowstone\n",
      "1/1 [==============================] - 0s 63ms/step\n",
      "S_Cascade\n",
      "1/1 [==============================] - 0s 64ms/step\n",
      "Wa_Coast\n",
      "No snow in region:  Wa_Coast\n",
      "Greater_Glacier\n",
      "1/1 [==============================] - 0s 61ms/step\n",
      "Or_Coast\n",
      "No snow in region:  Or_Coast\n",
      "Updating SWE predictions for  2018-11-25\n",
      "Getting VIIRS fSCA data and calculating the spatial average NSDI\n",
      "VIIRS fSCA files found locally\n"
     ]
    },
    {
     "name": "stderr",
     "output_type": "stream",
     "text": [
      "100%|██████████| 696/696 [00:00<00:00, 1255.85it/s]\n",
      "100%|██████████| 696/696 [00:00<00:00, 1252.01it/s]\n",
      "100%|██████████| 12/12 [00:00<00:00, 2147.44it/s]\n",
      "100%|██████████| 7/7 [00:00<00:00, 2200.08it/s]\n",
      "100%|██████████| 25/25 [00:00<00:00, 2267.24it/s]\n",
      "100%|██████████| 13/13 [00:00<00:00, 2174.17it/s]\n",
      "100%|██████████| 3349/3349 [00:01<00:00, 2401.06it/s]\n",
      "100%|██████████| 16/16 [00:00<00:00, 2310.27it/s]\n",
      "100%|██████████| 6/6 [00:00<00:00, 2164.06it/s]\n",
      "100%|██████████| 9/9 [00:00<00:00, 2259.73it/s]\n",
      "100%|██████████| 15/15 [00:00<00:00, 2203.28it/s]\n",
      "100%|██████████| 1707/1707 [00:00<00:00, 2419.78it/s]\n",
      "100%|██████████| 5/5 [00:00<00:00, 2158.01it/s]\n",
      "100%|██████████| 1/1 [00:00<00:00, 1512.01it/s]\n",
      "100%|██████████| 6448/6448 [00:02<00:00, 2430.21it/s]\n",
      "100%|██████████| 2458/2458 [00:01<00:00, 2433.54it/s]\n",
      "100%|██████████| 8/8 [00:00<00:00, 2240.70it/s]\n",
      "100%|██████████| 1/1 [00:00<00:00, 1457.37it/s]\n",
      "100%|██████████| 9/9 [00:00<00:00, 2231.67it/s]\n",
      "100%|██████████| 3/3 [00:00<00:00, 1957.82it/s]\n",
      "100%|██████████| 10/10 [00:00<00:00, 2269.15it/s]\n",
      "100%|██████████| 6986/6986 [00:02<00:00, 2361.06it/s]\n",
      "100%|██████████| 12/12 [00:00<00:00, 2183.21it/s]\n",
      "100%|██████████| 3/3 [00:00<00:00, 1839.34it/s]\n"
     ]
    },
    {
     "name": "stdout",
     "output_type": "stream",
     "text": [
      "Regional data QA/QC\n"
     ]
    },
    {
     "name": "stderr",
     "output_type": "stream",
     "text": [
      "100%|██████████| 22/22 [00:00<00:00, 25.83it/s]\n",
      "100%|██████████| 22/22 [00:15<00:00,  1.40it/s]\n"
     ]
    },
    {
     "name": "stdout",
     "output_type": "stream",
     "text": [
      "Calculating mean SCA for each geometry in each region...\n"
     ]
    },
    {
     "name": "stderr",
     "output_type": "stream",
     "text": [
      "100%|██████████| 23/23 [00:27<00:00,  1.20s/it]\n"
     ]
    },
    {
     "name": "stdout",
     "output_type": "stream",
     "text": [
      "Making predictions for:  2018-11-25\n",
      "N_Sierras\n",
      "83/83 [==============================] - 0s 1ms/step\n",
      "S_Sierras_High\n",
      "64/64 [==============================] - 0s 1ms/step\n",
      "S_Sierras_Low\n",
      "26/26 [==============================] - 0s 1ms/step\n",
      "Greater_Yellowstone\n",
      "99/99 [==============================] - 0s 1ms/step\n",
      "N_Co_Rockies\n",
      "68/68 [==============================] - 0s 1ms/step\n",
      "SW_Mont\n",
      "1/1 [==============================] - 0s 67ms/step\n",
      "SW_Co_Rockies\n",
      "31/31 [==============================] - 0s 1ms/step\n",
      "GBasin\n",
      "1/1 [==============================] - 0s 67ms/step\n",
      "N_Wasatch\n",
      "1/1 [==============================] - 0s 69ms/step\n",
      "N_Cascade\n",
      "1/1 [==============================] - 0s 66ms/step\n",
      "S_Wasatch\n",
      "1/1 [==============================] - 0s 70ms/step\n",
      "SW_Mtns\n",
      "1/1 [==============================] - 0s 65ms/step\n",
      "E_WA_N_Id_W_Mont\n",
      "1/1 [==============================] - 0s 69ms/step\n",
      "S_Wyoming\n",
      "1/1 [==============================] - 0s 67ms/step\n",
      "SE_Co_Rockies\n",
      "1/1 [==============================] - 0s 69ms/step\n",
      "Sawtooth\n",
      "1/1 [==============================] - 0s 66ms/step\n",
      "Ca_Coast\n",
      "1/1 [==============================] - 0s 75ms/step\n",
      "E_Or\n",
      "1/1 [==============================] - 0s 67ms/step\n",
      "N_Yellowstone\n",
      "1/1 [==============================] - 0s 69ms/step\n",
      "S_Cascade\n",
      "1/1 [==============================] - 0s 68ms/step\n",
      "Wa_Coast\n",
      "No snow in region:  Wa_Coast\n",
      "Greater_Glacier\n",
      "1/1 [==============================] - 0s 70ms/step\n",
      "Or_Coast\n",
      "No snow in region:  Or_Coast\n",
      "Updating SWE predictions for  2018-11-26\n",
      "Getting VIIRS fSCA data and calculating the spatial average NSDI\n",
      "VIIRS fSCA files found locally\n"
     ]
    },
    {
     "name": "stderr",
     "output_type": "stream",
     "text": [
      "100%|██████████| 696/696 [00:00<00:00, 1257.50it/s]\n",
      "100%|██████████| 696/696 [00:00<00:00, 1233.19it/s]\n",
      "100%|██████████| 12/12 [00:00<00:00, 1787.73it/s]\n",
      "100%|██████████| 7/7 [00:00<00:00, 2042.87it/s]\n",
      "100%|██████████| 25/25 [00:00<00:00, 2202.29it/s]\n",
      "100%|██████████| 13/13 [00:00<00:00, 2156.11it/s]\n",
      "100%|██████████| 3349/3349 [00:01<00:00, 2373.70it/s]\n",
      "100%|██████████| 16/16 [00:00<00:00, 2156.52it/s]\n",
      "100%|██████████| 6/6 [00:00<00:00, 1952.20it/s]\n",
      "100%|██████████| 9/9 [00:00<00:00, 2031.91it/s]\n",
      "100%|██████████| 15/15 [00:00<00:00, 2127.14it/s]\n",
      "100%|██████████| 1707/1707 [00:00<00:00, 2312.64it/s]\n",
      "100%|██████████| 5/5 [00:00<00:00, 1818.87it/s]\n",
      "100%|██████████| 1/1 [00:00<00:00, 1126.90it/s]\n",
      "100%|██████████| 6448/6448 [00:02<00:00, 2290.37it/s]\n",
      "100%|██████████| 2458/2458 [00:01<00:00, 2353.73it/s]\n",
      "100%|██████████| 8/8 [00:00<00:00, 2044.51it/s]\n",
      "100%|██████████| 1/1 [00:00<00:00, 1348.22it/s]\n",
      "100%|██████████| 9/9 [00:00<00:00, 2088.10it/s]\n",
      "100%|██████████| 3/3 [00:00<00:00, 1867.46it/s]\n",
      "100%|██████████| 10/10 [00:00<00:00, 2150.26it/s]\n",
      "100%|██████████| 6986/6986 [00:02<00:00, 2356.29it/s]\n",
      "100%|██████████| 12/12 [00:00<00:00, 2208.59it/s]\n",
      "100%|██████████| 3/3 [00:00<00:00, 1771.49it/s]\n"
     ]
    },
    {
     "name": "stdout",
     "output_type": "stream",
     "text": [
      "Regional data QA/QC\n"
     ]
    },
    {
     "name": "stderr",
     "output_type": "stream",
     "text": [
      "100%|██████████| 22/22 [00:00<00:00, 25.59it/s]\n",
      "100%|██████████| 22/22 [00:15<00:00,  1.40it/s]\n"
     ]
    },
    {
     "name": "stdout",
     "output_type": "stream",
     "text": [
      "Calculating mean SCA for each geometry in each region...\n"
     ]
    },
    {
     "name": "stderr",
     "output_type": "stream",
     "text": [
      "100%|██████████| 23/23 [00:27<00:00,  1.22s/it]\n"
     ]
    },
    {
     "name": "stdout",
     "output_type": "stream",
     "text": [
      "Making predictions for:  2018-11-26\n",
      "N_Sierras\n",
      "84/84 [==============================] - 0s 1ms/step\n",
      "S_Sierras_High\n",
      "69/69 [==============================] - 0s 1ms/step\n",
      "S_Sierras_Low\n",
      "27/27 [==============================] - 0s 1ms/step\n",
      "Greater_Yellowstone\n",
      "105/105 [==============================] - 0s 1ms/step\n",
      "N_Co_Rockies\n",
      "74/74 [==============================] - 0s 1ms/step\n",
      "SW_Mont\n",
      "1/1 [==============================] - 0s 72ms/step\n",
      "SW_Co_Rockies\n",
      "45/45 [==============================] - 0s 1ms/step\n",
      "GBasin\n",
      "1/1 [==============================] - 0s 71ms/step\n",
      "N_Wasatch\n",
      "1/1 [==============================] - 0s 66ms/step\n",
      "N_Cascade\n",
      "1/1 [==============================] - 0s 71ms/step\n",
      "S_Wasatch\n",
      "1/1 [==============================] - 0s 65ms/step\n",
      "SW_Mtns\n",
      "1/1 [==============================] - 0s 71ms/step\n",
      "E_WA_N_Id_W_Mont\n",
      "1/1 [==============================] - 0s 66ms/step\n",
      "S_Wyoming\n",
      "1/1 [==============================] - 0s 73ms/step\n",
      "SE_Co_Rockies\n",
      "1/1 [==============================] - 0s 65ms/step\n",
      "Sawtooth\n",
      "1/1 [==============================] - 0s 70ms/step\n",
      "Ca_Coast\n",
      "1/1 [==============================] - 0s 64ms/step\n",
      "E_Or\n",
      "1/1 [==============================] - 0s 73ms/step\n",
      "N_Yellowstone\n",
      "1/1 [==============================] - 0s 64ms/step\n",
      "S_Cascade\n",
      "1/1 [==============================] - 0s 71ms/step\n",
      "Wa_Coast\n",
      "No snow in region:  Wa_Coast\n",
      "Greater_Glacier\n",
      "1/1 [==============================] - 0s 64ms/step\n",
      "Or_Coast\n",
      "No snow in region:  Or_Coast\n",
      "Updating SWE predictions for  2018-11-27\n",
      "Getting VIIRS fSCA data and calculating the spatial average NSDI\n",
      "VIIRS fSCA files found locally\n"
     ]
    },
    {
     "name": "stderr",
     "output_type": "stream",
     "text": [
      "100%|██████████| 696/696 [00:00<00:00, 1231.94it/s]\n",
      "100%|██████████| 696/696 [00:00<00:00, 1238.67it/s]\n",
      "100%|██████████| 12/12 [00:00<00:00, 2070.15it/s]\n",
      "100%|██████████| 7/7 [00:00<00:00, 1988.90it/s]\n",
      "100%|██████████| 25/25 [00:00<00:00, 2215.27it/s]\n",
      "100%|██████████| 13/13 [00:00<00:00, 2231.10it/s]\n",
      "100%|██████████| 3349/3349 [00:01<00:00, 2370.65it/s]\n",
      "100%|██████████| 16/16 [00:00<00:00, 2194.10it/s]\n",
      "100%|██████████| 6/6 [00:00<00:00, 1999.83it/s]\n",
      "100%|██████████| 9/9 [00:00<00:00, 2127.05it/s]\n",
      "100%|██████████| 15/15 [00:00<00:00, 2135.88it/s]\n",
      "100%|██████████| 1707/1707 [00:00<00:00, 2321.97it/s]\n",
      "100%|██████████| 5/5 [00:00<00:00, 1972.68it/s]\n",
      "100%|██████████| 1/1 [00:00<00:00, 1286.60it/s]\n",
      "100%|██████████| 6448/6448 [00:02<00:00, 2374.68it/s]\n",
      "100%|██████████| 2458/2458 [00:01<00:00, 2380.58it/s]\n",
      "100%|██████████| 8/8 [00:00<00:00, 2028.56it/s]\n",
      "100%|██████████| 1/1 [00:00<00:00, 1054.64it/s]\n",
      "100%|██████████| 9/9 [00:00<00:00, 2029.39it/s]\n",
      "100%|██████████| 3/3 [00:00<00:00, 1843.38it/s]\n",
      "100%|██████████| 10/10 [00:00<00:00, 2165.70it/s]\n",
      "100%|██████████| 6986/6986 [00:02<00:00, 2377.93it/s]\n",
      "100%|██████████| 12/12 [00:00<00:00, 2117.09it/s]\n",
      "100%|██████████| 3/3 [00:00<00:00, 1629.70it/s]\n"
     ]
    },
    {
     "name": "stdout",
     "output_type": "stream",
     "text": [
      "Regional data QA/QC\n"
     ]
    },
    {
     "name": "stderr",
     "output_type": "stream",
     "text": [
      "100%|██████████| 22/22 [00:00<00:00, 25.98it/s]\n",
      "100%|██████████| 22/22 [00:15<00:00,  1.40it/s]\n"
     ]
    },
    {
     "name": "stdout",
     "output_type": "stream",
     "text": [
      "Calculating mean SCA for each geometry in each region...\n"
     ]
    },
    {
     "name": "stderr",
     "output_type": "stream",
     "text": [
      "100%|██████████| 23/23 [00:27<00:00,  1.20s/it]\n"
     ]
    },
    {
     "name": "stdout",
     "output_type": "stream",
     "text": [
      "Making predictions for:  2018-11-27\n",
      "N_Sierras\n",
      "43/43 [==============================] - 0s 1ms/step\n",
      "S_Sierras_High\n",
      "70/70 [==============================] - 0s 1ms/step\n",
      "S_Sierras_Low\n",
      "27/27 [==============================] - 0s 1ms/step\n",
      "Greater_Yellowstone\n",
      "92/92 [==============================] - 0s 1ms/step\n",
      "N_Co_Rockies\n",
      "73/73 [==============================] - 0s 1ms/step\n",
      "SW_Mont\n",
      "1/1 [==============================] - 0s 73ms/step\n",
      "SW_Co_Rockies\n",
      "45/45 [==============================] - 0s 1ms/step\n",
      "GBasin\n",
      "1/1 [==============================] - 0s 74ms/step\n",
      "N_Wasatch\n",
      "1/1 [==============================] - 0s 83ms/step\n",
      "N_Cascade\n",
      "1/1 [==============================] - 0s 75ms/step\n",
      "S_Wasatch\n",
      "1/1 [==============================] - 0s 72ms/step\n",
      "SW_Mtns\n",
      "1/1 [==============================] - 0s 87ms/step\n",
      "E_WA_N_Id_W_Mont\n",
      "1/1 [==============================] - 0s 68ms/step\n",
      "S_Wyoming\n",
      "1/1 [==============================] - 0s 72ms/step\n",
      "SE_Co_Rockies\n",
      "1/1 [==============================] - 0s 66ms/step\n",
      "Sawtooth\n",
      "1/1 [==============================] - 0s 73ms/step\n",
      "Ca_Coast\n",
      "1/1 [==============================] - 0s 66ms/step\n",
      "E_Or\n",
      "1/1 [==============================] - 0s 70ms/step\n",
      "N_Yellowstone\n",
      "1/1 [==============================] - 0s 67ms/step\n",
      "S_Cascade\n",
      "1/1 [==============================] - 0s 70ms/step\n",
      "Wa_Coast\n",
      "1/1 [==============================] - 0s 67ms/step\n",
      "Greater_Glacier\n",
      "1/1 [==============================] - 0s 72ms/step\n",
      "Or_Coast\n",
      "1/1 [==============================] - 0s 72ms/step\n",
      "Updating SWE predictions for  2018-11-28\n",
      "Getting VIIRS fSCA data and calculating the spatial average NSDI\n",
      "VIIRS fSCA files found locally\n"
     ]
    },
    {
     "name": "stderr",
     "output_type": "stream",
     "text": [
      "100%|██████████| 696/696 [00:00<00:00, 1199.85it/s]\n",
      "100%|██████████| 696/696 [00:00<00:00, 1220.17it/s]\n",
      "100%|██████████| 12/12 [00:00<00:00, 2035.08it/s]\n",
      "100%|██████████| 7/7 [00:00<00:00, 1932.48it/s]\n",
      "100%|██████████| 25/25 [00:00<00:00, 2096.48it/s]\n",
      "100%|██████████| 13/13 [00:00<00:00, 1927.39it/s]\n",
      "100%|██████████| 3349/3349 [00:01<00:00, 2359.13it/s]\n",
      "100%|██████████| 16/16 [00:00<00:00, 2170.33it/s]\n",
      "100%|██████████| 6/6 [00:00<00:00, 1881.13it/s]\n",
      "100%|██████████| 9/9 [00:00<00:00, 2117.86it/s]\n",
      "100%|██████████| 15/15 [00:00<00:00, 2043.41it/s]\n",
      "100%|██████████| 1707/1707 [00:00<00:00, 2372.06it/s]\n",
      "100%|██████████| 5/5 [00:00<00:00, 1968.23it/s]\n",
      "100%|██████████| 1/1 [00:00<00:00, 1263.73it/s]\n",
      "100%|██████████| 6448/6448 [00:02<00:00, 2330.28it/s]\n",
      "100%|██████████| 2458/2458 [00:01<00:00, 2369.25it/s]\n",
      "100%|██████████| 8/8 [00:00<00:00, 2094.53it/s]\n",
      "100%|██████████| 1/1 [00:00<00:00, 1290.95it/s]\n",
      "100%|██████████| 9/9 [00:00<00:00, 2118.22it/s]\n",
      "100%|██████████| 3/3 [00:00<00:00, 1807.37it/s]\n",
      "100%|██████████| 10/10 [00:00<00:00, 2120.26it/s]\n",
      "100%|██████████| 6986/6986 [00:02<00:00, 2361.36it/s]\n",
      "100%|██████████| 12/12 [00:00<00:00, 2023.38it/s]\n",
      "100%|██████████| 3/3 [00:00<00:00, 1714.29it/s]\n"
     ]
    },
    {
     "name": "stdout",
     "output_type": "stream",
     "text": [
      "Regional data QA/QC\n"
     ]
    },
    {
     "name": "stderr",
     "output_type": "stream",
     "text": [
      "100%|██████████| 22/22 [00:00<00:00, 25.45it/s]\n",
      "100%|██████████| 22/22 [00:15<00:00,  1.39it/s]\n"
     ]
    },
    {
     "name": "stdout",
     "output_type": "stream",
     "text": [
      "Calculating mean SCA for each geometry in each region...\n"
     ]
    },
    {
     "name": "stderr",
     "output_type": "stream",
     "text": [
      "100%|██████████| 23/23 [00:27<00:00,  1.21s/it]\n"
     ]
    },
    {
     "name": "stdout",
     "output_type": "stream",
     "text": [
      "Making predictions for:  2018-11-28\n",
      "N_Sierras\n",
      "87/87 [==============================] - 0s 1ms/step\n",
      "S_Sierras_High\n",
      "70/70 [==============================] - 0s 1ms/step\n",
      "S_Sierras_Low\n",
      "27/27 [==============================] - 0s 1ms/step\n",
      "Greater_Yellowstone\n",
      "105/105 [==============================] - 0s 1ms/step\n",
      "N_Co_Rockies\n",
      "73/73 [==============================] - 0s 1ms/step\n",
      "SW_Mont\n",
      "1/1 [==============================] - 0s 67ms/step\n",
      "SW_Co_Rockies\n",
      "24/24 [==============================] - 0s 1ms/step\n",
      "GBasin\n",
      "1/1 [==============================] - 0s 69ms/step\n",
      "N_Wasatch\n",
      "1/1 [==============================] - 0s 72ms/step\n",
      "N_Cascade\n",
      "1/1 [==============================] - 0s 67ms/step\n",
      "S_Wasatch\n",
      "1/1 [==============================] - 0s 70ms/step\n",
      "SW_Mtns\n",
      "1/1 [==============================] - 0s 67ms/step\n",
      "E_WA_N_Id_W_Mont\n",
      "1/1 [==============================] - 0s 73ms/step\n",
      "S_Wyoming\n",
      "1/1 [==============================] - 0s 68ms/step\n",
      "SE_Co_Rockies\n",
      "1/1 [==============================] - 0s 70ms/step\n",
      "Sawtooth\n",
      "1/1 [==============================] - 0s 70ms/step\n",
      "Ca_Coast\n",
      "1/1 [==============================] - 0s 69ms/step\n",
      "E_Or\n",
      "1/1 [==============================] - 0s 67ms/step\n",
      "N_Yellowstone\n",
      "1/1 [==============================] - 0s 70ms/step\n",
      "S_Cascade\n",
      "1/1 [==============================] - 0s 66ms/step\n",
      "Wa_Coast\n",
      "1/1 [==============================] - 0s 69ms/step\n",
      "Greater_Glacier\n",
      "1/1 [==============================] - 0s 67ms/step\n",
      "Or_Coast\n",
      "1/1 [==============================] - 0s 69ms/step\n",
      "Updating SWE predictions for  2018-11-29\n",
      "Getting VIIRS fSCA data and calculating the spatial average NSDI\n",
      "VIIRS fSCA files found locally\n"
     ]
    },
    {
     "name": "stderr",
     "output_type": "stream",
     "text": [
      "100%|██████████| 696/696 [00:00<00:00, 1242.93it/s]\n",
      "100%|██████████| 696/696 [00:00<00:00, 1220.41it/s]\n",
      "100%|██████████| 12/12 [00:00<00:00, 2088.71it/s]\n",
      "100%|██████████| 7/7 [00:00<00:00, 2106.78it/s]\n",
      "100%|██████████| 25/25 [00:00<00:00, 2185.13it/s]\n",
      "100%|██████████| 13/13 [00:00<00:00, 2128.67it/s]\n",
      "100%|██████████| 3349/3349 [00:01<00:00, 2354.58it/s]\n",
      "100%|██████████| 16/16 [00:00<00:00, 2017.95it/s]\n",
      "100%|██████████| 6/6 [00:00<00:00, 2084.99it/s]\n",
      "100%|██████████| 9/9 [00:00<00:00, 2178.36it/s]\n",
      "100%|██████████| 15/15 [00:00<00:00, 2199.81it/s]\n",
      "100%|██████████| 1707/1707 [00:00<00:00, 2353.49it/s]\n",
      "100%|██████████| 5/5 [00:00<00:00, 1949.57it/s]\n",
      "100%|██████████| 1/1 [00:00<00:00, 1270.23it/s]\n",
      "100%|██████████| 6448/6448 [00:02<00:00, 2373.16it/s]\n",
      "100%|██████████| 2458/2458 [00:01<00:00, 2374.87it/s]\n",
      "100%|██████████| 8/8 [00:00<00:00, 2117.40it/s]\n",
      "100%|██████████| 1/1 [00:00<00:00, 1216.09it/s]\n",
      "100%|██████████| 9/9 [00:00<00:00, 2136.44it/s]\n",
      "100%|██████████| 3/3 [00:00<00:00, 1804.52it/s]\n",
      "100%|██████████| 10/10 [00:00<00:00, 2153.13it/s]\n",
      "100%|██████████| 6986/6986 [00:02<00:00, 2366.04it/s]\n",
      "100%|██████████| 12/12 [00:00<00:00, 2185.96it/s]\n",
      "100%|██████████| 3/3 [00:00<00:00, 1832.11it/s]\n"
     ]
    },
    {
     "name": "stdout",
     "output_type": "stream",
     "text": [
      "Regional data QA/QC\n"
     ]
    },
    {
     "name": "stderr",
     "output_type": "stream",
     "text": [
      "100%|██████████| 22/22 [00:00<00:00, 26.17it/s]\n",
      "100%|██████████| 22/22 [00:15<00:00,  1.40it/s]\n"
     ]
    },
    {
     "name": "stdout",
     "output_type": "stream",
     "text": [
      "Calculating mean SCA for each geometry in each region...\n"
     ]
    },
    {
     "name": "stderr",
     "output_type": "stream",
     "text": [
      "100%|██████████| 23/23 [00:27<00:00,  1.18s/it]\n"
     ]
    },
    {
     "name": "stdout",
     "output_type": "stream",
     "text": [
      "Making predictions for:  2018-11-29\n",
      "N_Sierras\n",
      "90/90 [==============================] - 0s 1ms/step\n",
      "S_Sierras_High\n",
      "70/70 [==============================] - 0s 1ms/step\n",
      "S_Sierras_Low\n",
      "27/27 [==============================] - 0s 1ms/step\n",
      "Greater_Yellowstone\n",
      "105/105 [==============================] - 0s 1ms/step\n",
      "N_Co_Rockies\n",
      "73/73 [==============================] - 0s 1ms/step\n",
      "SW_Mont\n",
      "1/1 [==============================] - 0s 68ms/step\n",
      "SW_Co_Rockies\n",
      "25/25 [==============================] - 0s 1ms/step\n",
      "GBasin\n",
      "1/1 [==============================] - 0s 66ms/step\n",
      "N_Wasatch\n",
      "1/1 [==============================] - 0s 63ms/step\n",
      "N_Cascade\n",
      "1/1 [==============================] - 0s 67ms/step\n",
      "S_Wasatch\n",
      "1/1 [==============================] - 0s 63ms/step\n",
      "SW_Mtns\n",
      "1/1 [==============================] - 0s 67ms/step\n",
      "E_WA_N_Id_W_Mont\n",
      "1/1 [==============================] - 0s 65ms/step\n",
      "S_Wyoming\n",
      "1/1 [==============================] - 0s 90ms/step\n",
      "SE_Co_Rockies\n",
      "1/1 [==============================] - 0s 62ms/step\n",
      "Sawtooth\n",
      "1/1 [==============================] - 0s 66ms/step\n",
      "Ca_Coast\n",
      "1/1 [==============================] - 0s 63ms/step\n",
      "E_Or\n",
      "1/1 [==============================] - 0s 65ms/step\n",
      "N_Yellowstone\n",
      "1/1 [==============================] - 0s 66ms/step\n",
      "S_Cascade\n",
      "1/1 [==============================] - 0s 66ms/step\n",
      "Wa_Coast\n",
      "1/1 [==============================] - 0s 63ms/step\n",
      "Greater_Glacier\n",
      "1/1 [==============================] - 0s 65ms/step\n",
      "Or_Coast\n",
      "1/1 [==============================] - 0s 63ms/step\n",
      "Updating SWE predictions for  2018-11-30\n",
      "Getting VIIRS fSCA data and calculating the spatial average NSDI\n",
      "VIIRS fSCA files found locally\n"
     ]
    },
    {
     "name": "stderr",
     "output_type": "stream",
     "text": [
      "100%|██████████| 696/696 [00:00<00:00, 1245.07it/s]\n",
      "100%|██████████| 696/696 [00:00<00:00, 1216.78it/s]\n",
      "100%|██████████| 12/12 [00:00<00:00, 2220.19it/s]\n",
      "100%|██████████| 7/7 [00:00<00:00, 2247.58it/s]\n",
      "100%|██████████| 25/25 [00:00<00:00, 2343.66it/s]\n",
      "100%|██████████| 13/13 [00:00<00:00, 2264.93it/s]\n",
      "100%|██████████| 3349/3349 [00:01<00:00, 2411.91it/s]\n",
      "100%|██████████| 16/16 [00:00<00:00, 2318.50it/s]\n",
      "100%|██████████| 6/6 [00:00<00:00, 2085.85it/s]\n",
      "100%|██████████| 9/9 [00:00<00:00, 2221.82it/s]\n",
      "100%|██████████| 15/15 [00:00<00:00, 2268.34it/s]\n",
      "100%|██████████| 1707/1707 [00:00<00:00, 2434.35it/s]\n",
      "100%|██████████| 5/5 [00:00<00:00, 2166.26it/s]\n",
      "100%|██████████| 1/1 [00:00<00:00, 1523.54it/s]\n",
      "100%|██████████| 6448/6448 [00:02<00:00, 2448.73it/s]\n",
      "100%|██████████| 2458/2458 [00:01<00:00, 2428.70it/s]\n",
      "100%|██████████| 8/8 [00:00<00:00, 2281.99it/s]\n",
      "100%|██████████| 1/1 [00:00<00:00, 1548.86it/s]\n",
      "100%|██████████| 9/9 [00:00<00:00, 2325.43it/s]\n",
      "100%|██████████| 3/3 [00:00<00:00, 2061.08it/s]\n",
      "100%|██████████| 10/10 [00:00<00:00, 2339.27it/s]\n",
      "100%|██████████| 6986/6986 [00:02<00:00, 2426.37it/s]\n",
      "100%|██████████| 12/12 [00:00<00:00, 2404.42it/s]\n",
      "100%|██████████| 3/3 [00:00<00:00, 2068.54it/s]\n"
     ]
    },
    {
     "name": "stdout",
     "output_type": "stream",
     "text": [
      "Regional data QA/QC\n"
     ]
    },
    {
     "name": "stderr",
     "output_type": "stream",
     "text": [
      "100%|██████████| 22/22 [00:00<00:00, 26.60it/s]\n",
      "100%|██████████| 22/22 [00:15<00:00,  1.43it/s]\n"
     ]
    },
    {
     "name": "stdout",
     "output_type": "stream",
     "text": [
      "Calculating mean SCA for each geometry in each region...\n"
     ]
    },
    {
     "name": "stderr",
     "output_type": "stream",
     "text": [
      "100%|██████████| 23/23 [00:27<00:00,  1.18s/it]\n"
     ]
    },
    {
     "name": "stdout",
     "output_type": "stream",
     "text": [
      "Making predictions for:  2018-11-30\n",
      "N_Sierras\n",
      "65/65 [==============================] - 0s 1ms/step\n",
      "S_Sierras_High\n",
      "72/72 [==============================] - 0s 1ms/step\n",
      "S_Sierras_Low\n",
      "43/43 [==============================] - 0s 1ms/step\n",
      "Greater_Yellowstone\n",
      "105/105 [==============================] - 0s 1ms/step\n",
      "N_Co_Rockies\n",
      "73/73 [==============================] - 0s 1ms/step\n",
      "SW_Mont\n",
      "1/1 [==============================] - 0s 76ms/step\n",
      "SW_Co_Rockies\n",
      "46/46 [==============================] - 0s 1ms/step\n",
      "GBasin\n",
      "1/1 [==============================] - 0s 71ms/step\n",
      "N_Wasatch\n",
      "1/1 [==============================] - 0s 65ms/step\n",
      "N_Cascade\n",
      "1/1 [==============================] - 0s 70ms/step\n",
      "S_Wasatch\n",
      "1/1 [==============================] - 0s 71ms/step\n",
      "SW_Mtns\n",
      "1/1 [==============================] - 0s 80ms/step\n",
      "E_WA_N_Id_W_Mont\n",
      "1/1 [==============================] - 0s 81ms/step\n",
      "S_Wyoming\n",
      "1/1 [==============================] - 0s 80ms/step\n",
      "SE_Co_Rockies\n",
      "1/1 [==============================] - 0s 83ms/step\n",
      "Sawtooth\n",
      "1/1 [==============================] - 0s 70ms/step\n",
      "Ca_Coast\n",
      "1/1 [==============================] - 0s 66ms/step\n",
      "E_Or\n",
      "1/1 [==============================] - 0s 70ms/step\n",
      "N_Yellowstone\n",
      "1/1 [==============================] - 0s 65ms/step\n",
      "S_Cascade\n",
      "1/1 [==============================] - 0s 68ms/step\n",
      "Wa_Coast\n",
      "1/1 [==============================] - 0s 65ms/step\n",
      "Greater_Glacier\n",
      "1/1 [==============================] - 0s 69ms/step\n",
      "Or_Coast\n",
      "1/1 [==============================] - 0s 64ms/step\n",
      "Updating SWE predictions for  2018-12-01\n",
      "Getting VIIRS fSCA data and calculating the spatial average NSDI\n",
      "VIIRS fSCA files found locally\n"
     ]
    },
    {
     "name": "stderr",
     "output_type": "stream",
     "text": [
      "100%|██████████| 696/696 [00:00<00:00, 1239.15it/s]\n",
      "100%|██████████| 696/696 [00:00<00:00, 1250.08it/s]\n",
      "100%|██████████| 12/12 [00:00<00:00, 2159.04it/s]\n",
      "100%|██████████| 7/7 [00:00<00:00, 2202.40it/s]\n",
      "100%|██████████| 25/25 [00:00<00:00, 2345.28it/s]\n",
      "100%|██████████| 13/13 [00:00<00:00, 2269.36it/s]\n",
      "100%|██████████| 3349/3349 [00:01<00:00, 2412.07it/s]\n",
      "100%|██████████| 16/16 [00:00<00:00, 2229.83it/s]\n",
      "100%|██████████| 6/6 [00:00<00:00, 2107.34it/s]\n",
      "100%|██████████| 9/9 [00:00<00:00, 2291.97it/s]\n",
      "100%|██████████| 15/15 [00:00<00:00, 2318.92it/s]\n",
      "100%|██████████| 1707/1707 [00:00<00:00, 2326.02it/s]\n",
      "100%|██████████| 5/5 [00:00<00:00, 2087.34it/s]\n",
      "100%|██████████| 1/1 [00:00<00:00, 1492.10it/s]\n",
      "100%|██████████| 6448/6448 [00:02<00:00, 2389.57it/s]\n",
      "100%|██████████| 2458/2458 [00:01<00:00, 2401.24it/s]\n",
      "100%|██████████| 8/8 [00:00<00:00, 2242.79it/s]\n",
      "100%|██████████| 1/1 [00:00<00:00, 1388.84it/s]\n",
      "100%|██████████| 9/9 [00:00<00:00, 2185.80it/s]\n",
      "100%|██████████| 3/3 [00:00<00:00, 1950.23it/s]\n",
      "100%|██████████| 10/10 [00:00<00:00, 2258.16it/s]\n",
      "100%|██████████| 6986/6986 [00:02<00:00, 2409.57it/s]\n",
      "100%|██████████| 12/12 [00:00<00:00, 2191.10it/s]\n",
      "100%|██████████| 3/3 [00:00<00:00, 1895.87it/s]\n"
     ]
    },
    {
     "name": "stdout",
     "output_type": "stream",
     "text": [
      "Regional data QA/QC\n"
     ]
    },
    {
     "name": "stderr",
     "output_type": "stream",
     "text": [
      "100%|██████████| 22/22 [00:00<00:00, 25.75it/s]\n",
      "100%|██████████| 22/22 [00:16<00:00,  1.35it/s]\n"
     ]
    },
    {
     "name": "stdout",
     "output_type": "stream",
     "text": [
      "Calculating mean SCA for each geometry in each region...\n"
     ]
    },
    {
     "name": "stderr",
     "output_type": "stream",
     "text": [
      "  9%|▊         | 2/23 [00:11<01:50,  5.28s/it]"
     ]
    }
   ],
   "source": [
    "#run the model through all time (data acqusition already completed)\n",
    "model = 'Neural_Network'\n",
    "frequency = 'Daily'\n",
    "\n",
    "for day in datelist:\n",
    "    print('Updating SWE predictions for ', day)\n",
    "    #connect interactive script to Wasatch Snow module\n",
    "    Snow = NSM_SCA.NSM_SCA(day, threshold=threshold, Regions = Region_list, modelname = model, frequency = frequency)\n",
    "    \n",
    "    #Go get SNOTEL observations - all data currently loaded, set to True to download\n",
    "    #Snow.Get_Monitoring_Data_Threaded(getdata = True)\n",
    "\n",
    "    #Initialize/Download the granules, all data preprocessed for the SSM activRegion_listhange to True to use the functions.\n",
    "    Snow.initializeGranules(getdata = True)\n",
    "\n",
    "    #Process observations into Model prediction ready format,\n",
    "    Snow.Data_Processing(SCA = True)\n",
    "\n",
    "    #Agument with SCA\n",
    "    Snow.augmentPredictionDFs()\n",
    "\n",
    "    #Make predictions, set NewSim to False\n",
    "    Snow.SWE_Predict(NewSim = True) #Look to multiprocess, each region can do a prediction to speed things up. set NewSim to true for New simulation, turn to false once all data has been proces and saved."
   ]
  },
  {
   "cell_type": "markdown",
   "id": "1e2290d9",
   "metadata": {
    "user_expressions": []
   },
   "source": [
    "### Model Hindcast complete\n",
    "\n",
    "Lets see how your model performs within SSWEET in the [Hindcast_Evaluation](./Hindcast_Evaluation.ipynb) notebook."
   ]
  },
  {
   "cell_type": "code",
   "execution_count": 5,
   "id": "0b64a8b9-47ac-45ef-885f-98339b0983ad",
   "metadata": {},
   "outputs": [
    {
     "name": "stderr",
     "output_type": "stream",
     "text": [
      "  0% |                                                                        |\r"
     ]
    },
    {
     "name": "stdout",
     "output_type": "stream",
     "text": [
      "['Prediction_DF_2019-03-20.pkl', 'Prediction_DF_2019-03-28.pkl', 'Prediction_DF_SCA_2019-02-10.pkl', 'Prediction_DF_SCA_2018-10-09.pkl', 'Prediction_DF_SCA_2018-10-05.pkl', 'Prediction_DF_SCA_2019-03-19.pkl', 'Prediction_DF_2019-02-14.pkl', 'Prediction_DF_SCA_2019-05-09.pkl', 'Prediction_DF_2019-01-30.pkl', 'Prediction_DF_2019-03-04.pkl', 'Prediction_DF_SCA_2019-02-17.pkl', 'Prediction_DF_2019-04-16.pkl', 'Prediction_DF_SCA_2018-10-23.pkl', 'Prediction_DF_2019-06-15.pkl', 'Prediction_DF_2019-03-17.pkl', 'Prediction_DF_SCA_2018-11-03.pkl', 'Prediction_DF_2018-12-08.pkl', 'Prediction_DF_SCA_2019-06-20.pkl', 'Prediction_DF_SCA_2019-03-01.pkl', 'Prediction_DF_2019-06-03.pkl', 'Prediction_DF_2018-10-13.pkl', 'Prediction_DF_2019-05-13.pkl', 'Prediction_DF_SCA_2018-11-27.pkl', 'Prediction_DF_2019-04-27.pkl', 'Prediction_DF_2018-12-23.pkl', 'Prediction_DF_2019-02-03.pkl', 'Prediction_DF_SCA_2019-03-06.pkl', 'Prediction_DF_SCA_2018-10-01.pkl', 'Prediction_DF_SCA_2018-11-22.pkl', 'Prediction_DF_SCA_2018-11-04.pkl', 'Prediction_DF_2019-05-29.pkl', 'Prediction_DF_SCA_2019-01-21.pkl', 'Prediction_DF_2019-01-25.pkl', 'Prediction_DF_2019-03-07.pkl', 'Prediction_DF_SCA_2019-02-28.pkl', 'Prediction_DF_SCA_2018-11-10.pkl', 'Prediction_DF_SCA_2019-06-09.pkl', 'Prediction_DF_SCA_2019-05-23.pkl', 'Prediction_DF_2019-03-11.pkl', 'Prediction_DF_2019-05-27.pkl', 'Prediction_DF_SCA_2019-01-31.pkl', 'Prediction_DF_2018-10-04.pkl', 'Prediction_DF_SCA_2019-01-03.pkl', 'Prediction_DF_SCA_2018-11-08.pkl', 'Prediction_DF_2019-03-09.pkl', 'Prediction_DF_2019-05-26.pkl', 'Prediction_DF_2018-11-14.pkl', 'Prediction_DF_2018-10-07.pkl', 'Prediction_DF_2019-03-23.pkl', 'Prediction_DF_2018-11-13.pkl', 'Prediction_DF_2019-04-19.pkl', 'Prediction_DF_SCA_2019-01-20.pkl', 'Prediction_DF_SCA_2019-03-28.pkl', 'Prediction_DF_2018-12-07.pkl', 'Prediction_DF_2019-06-02.pkl', 'Prediction_DF_2019-04-29.pkl', 'Prediction_DF_SCA_2018-11-01.pkl', 'Prediction_DF_2019-01-17.pkl', 'Prediction_DF_SCA_2018-12-06.pkl', 'Prediction_DF_2019-04-23.pkl', 'Prediction_DF_SCA_2018-12-21.pkl', 'Prediction_DF_SCA_2019-06-05.pkl', 'Prediction_DF_2018-10-23.pkl', 'Prediction_DF_SCA_2018-11-25.pkl', 'Prediction_DF_2018-11-30.pkl', 'Prediction_DF_2019-03-01.pkl', 'Prediction_DF_2018-11-23.pkl', 'Prediction_DF_2019-05-07.pkl', 'Prediction_DF_SCA_2018-10-31.pkl', 'Prediction_DF_2019-04-10.pkl', 'Prediction_DF_2019-02-21.pkl', 'Prediction_DF_SCA_2018-11-09.pkl', 'Prediction_DF_2019-04-13.pkl', 'Prediction_DF_SCA_2019-06-15.pkl', 'Prediction_DF_2019-04-15.pkl', 'Prediction_DF_2018-10-03.pkl', 'Prediction_DF_2019-05-14.pkl', 'Prediction_DF_SCA_2019-04-14.pkl', 'Prediction_DF_SCA_2019-06-04.pkl', 'Prediction_DF_2019-01-13.pkl', 'Prediction_DF_SCA_2019-05-15.pkl', 'Prediction_DF_2019-01-20.pkl', 'Prediction_DF_2019-04-25.pkl', 'Prediction_DF_2019-05-08.pkl', 'Prediction_DF_SCA_2019-01-14.pkl', 'Prediction_DF_SCA_2019-06-16.pkl', 'Prediction_DF_2019-02-15.pkl', 'Prediction_DF_2019-04-20.pkl', 'Prediction_DF_SCA_2019-04-10.pkl', 'Prediction_DF_SCA_2019-01-24.pkl', 'Prediction_DF_2019-04-07.pkl', 'Prediction_DF_SCA_2019-05-25.pkl', 'Prediction_DF_2019-01-09.pkl', 'Prediction_DF_SCA_2019-03-29.pkl', 'Prediction_DF_SCA_2019-03-30.pkl', 'Prediction_DF_SCA_2019-06-07.pkl', 'Prediction_DF_2019-06-20.pkl', 'Prediction_DF_SCA_2018-11-20.pkl', 'Prediction_DF_SCA_2018-10-19.pkl', 'Prediction_DF_2018-12-04.pkl', 'Prediction_DF_2019-05-01.pkl', 'Prediction_DF_2019-04-01.pkl', 'Prediction_DF_2019-01-08.pkl', 'Prediction_DF_2019-02-17.pkl', 'Prediction_DF_2019-05-19.pkl', 'Prediction_DF_2018-12-20.pkl', 'Prediction_DF_2019-04-18.pkl', 'Prediction_DF_SCA_2018-11-06.pkl', 'Prediction_DF_SCA_2018-12-03.pkl', 'Prediction_DF_2019-04-17.pkl', 'Prediction_DF_SCA_2019-03-24.pkl', 'Prediction_DF_SCA_2019-05-07.pkl', 'Prediction_DF_SCA_2019-02-18.pkl', 'Prediction_DF_2019-05-10.pkl', 'Prediction_DF_SCA_2019-03-10.pkl', 'Prediction_DF_SCA_2019-01-26.pkl', 'Prediction_DF_SCA_2019-05-16.pkl', 'Prediction_DF_2018-11-02.pkl', 'Prediction_DF_SCA_2019-01-04.pkl', 'Prediction_DF_2018-10-20.pkl', 'Prediction_DF_SCA_2019-05-14.pkl', 'Prediction_DF_SCA_2019-04-11.pkl', 'Prediction_DF_SCA_2019-01-22.pkl', 'Prediction_DF_2019-05-15.pkl', 'Prediction_DF_2019-04-28.pkl', 'Prediction_DF_2019-06-13.pkl', 'Prediction_DF_SCA_2018-10-03.pkl', 'Prediction_DF_SCA_2018-12-22.pkl', 'Prediction_DF_2019-04-26.pkl', 'Prediction_DF_2019-04-30.pkl', 'Prediction_DF_2019-01-01.pkl', 'Prediction_DF_SCA_2019-01-08.pkl', 'Prediction_DF_SCA_2019-04-23.pkl', 'Prediction_DF_2019-05-22.pkl', 'Prediction_DF_SCA_2019-05-22.pkl', 'Prediction_DF_SCA_2019-06-17.pkl', 'Prediction_DF_2018-12-30.pkl', 'Prediction_DF_SCA_2019-05-02.pkl', 'Prediction_DF_SCA_2019-05-06.pkl', 'Prediction_DF_SCA_2019-04-20.pkl', 'Prediction_DF_SCA_2019-03-04.pkl', 'Prediction_DF_SCA_2019-02-26.pkl', 'Prediction_DF_SCA_2019-03-21.pkl', 'Prediction_DF_2018-11-21.pkl', 'Prediction_DF_SCA_2019-05-27.pkl', 'Prediction_DF_SCA_2019-05-29.pkl', 'Prediction_DF_2019-06-24.pkl', 'Prediction_DF_2019-05-28.pkl', 'Prediction_DF_SCA_2019-01-15.pkl', 'Prediction_DF_SCA_2018-11-13.pkl', 'Prediction_DF_SCA_2018-10-06.pkl', 'Prediction_DF_SCA_2018-12-02.pkl', 'Prediction_DF_2019-05-21.pkl', 'Prediction_DF_2019-01-31.pkl', 'Prediction_DF_SCA_2018-10-18.pkl', 'Prediction_DF_2018-10-21.pkl', 'Prediction_DF_SCA_2019-02-14.pkl', 'Prediction_DF_2018-10-31.pkl', 'Prediction_DF_SCA_2019-03-13.pkl', 'Prediction_DF_2019-03-19.pkl', 'Prediction_DF_2019-03-26.pkl', 'Prediction_DF_SCA_2019-03-02.pkl', 'Prediction_DF_2019-02-05.pkl', 'Prediction_DF_SCA_2019-05-13.pkl', 'Prediction_DF_2019-04-24.pkl', 'Prediction_DF_2019-02-23.pkl', 'Prediction_DF_2019-05-06.pkl', 'Prediction_DF_SCA_2019-01-13.pkl', 'Prediction_DF_SCA_2019-02-07.pkl', 'Prediction_DF_2018-12-09.pkl', 'Prediction_DF_SCA_2019-06-22.pkl', 'Prediction_DF_2019-02-12.pkl', 'Prediction_DF_2019-06-12.pkl', 'Prediction_DF_SCA_2018-10-15.pkl', 'Prediction_DF_2019-03-06.pkl', 'Prediction_DF_2018-11-12.pkl', 'Prediction_DF_2019-02-06.pkl', 'Prediction_DF_2019-05-03.pkl', 'Prediction_DF_2018-10-05.pkl', 'Prediction_DF_2019-05-17.pkl', 'Prediction_DF_2019-05-18.pkl', 'Prediction_DF_SCA_2019-06-11.pkl', 'Prediction_DF_SCA_2018-12-07.pkl', 'Prediction_DF_2019-04-03.pkl', 'Prediction_DF_SCA_2018-12-20.pkl', 'Prediction_DF_SCA_2018-12-24.pkl', 'Prediction_DF_SCA_2019-04-04.pkl', 'Prediction_DF_2018-10-18.pkl', 'Prediction_DF_2018-10-27.pkl', 'Prediction_DF_2019-06-01.pkl', 'Prediction_DF_SCA_2018-11-14.pkl', 'Prediction_DF_SCA_2019-04-29.pkl', 'Prediction_DF_SCA_2019-03-16.pkl', 'Prediction_DF_SCA_2019-02-25.pkl', 'Prediction_DF_SCA_2018-10-24.pkl', 'Prediction_DF_SCA_2019-05-10.pkl', 'Prediction_DF_SCA_2018-12-28.pkl', 'Prediction_DF_2019-02-01.pkl', 'Prediction_DF_SCA_2019-02-04.pkl', 'Prediction_DF_SCA_2018-11-24.pkl', 'Prediction_DF_SCA_2019-05-28.pkl', 'Prediction_DF_SCA_2019-01-12.pkl', 'Prediction_DF_SCA_2018-12-04.pkl', 'Prediction_DF_SCA_2018-10-13.pkl', 'Prediction_DF_SCA_2018-10-25.pkl', 'Prediction_DF_2018-10-12.pkl', 'Prediction_DF_SCA_2019-02-19.pkl', 'Prediction_DF_2019-06-10.pkl', 'Prediction_DF_2019-05-20.pkl', 'Prediction_DF_2019-03-29.pkl', 'Prediction_DF_2019-01-27.pkl', 'Prediction_DF_SCA_2019-03-11.pkl', 'Prediction_DF_SCA_2019-01-30.pkl', 'Prediction_DF_SCA_2019-06-18.pkl', 'Prediction_DF_SCA_2018-10-10.pkl', 'Prediction_DF_SCA_2019-01-29.pkl', 'Prediction_DF_2019-01-24.pkl', 'Prediction_DF_SCA_2019-01-05.pkl', 'Prediction_DF_2018-11-25.pkl', 'Prediction_DF_SCA_2019-02-11.pkl', 'Prediction_DF_2019-06-22.pkl', 'Prediction_DF_2018-12-21.pkl', 'Prediction_DF_SCA_2019-04-12.pkl', 'Prediction_DF_2019-06-08.pkl', 'Prediction_DF_SCA_2019-03-12.pkl', 'Prediction_DF_2019-06-14.pkl', 'Prediction_DF_2018-11-05.pkl', 'Prediction_DF_SCA_2018-11-30.pkl', 'Prediction_DF_SCA_2019-04-27.pkl', 'Prediction_DF_SCA_2019-04-21.pkl', 'Prediction_DF_SCA_2019-02-03.pkl', 'Prediction_DF_SCA_2019-06-02.pkl', 'Prediction_DF_2019-02-11.pkl', 'Prediction_DF_2019-06-23.pkl', 'Prediction_DF_SCA_2019-01-25.pkl', 'Prediction_DF_2019-02-02.pkl', 'Prediction_DF_SCA_2019-01-11.pkl', 'Prediction_DF_2019-01-28.pkl', 'Prediction_DF_SCA_2018-12-08.pkl', 'Prediction_DF_SCA_2019-02-02.pkl', 'Prediction_DF_SCA_2019-05-08.pkl', 'Prediction_DF_SCA_2018-10-04.pkl', 'Prediction_DF_2019-04-21.pkl', 'Prediction_DF_SCA_2019-05-01.pkl', 'Prediction_DF_2018-12-26.pkl', 'Prediction_DF_2019-06-25.pkl', 'Prediction_DF_SCA_2019-06-03.pkl', 'Prediction_DF_2019-06-09.pkl', 'Prediction_DF_2018-10-28.pkl', 'Prediction_DF_SCA_2018-12-18.pkl', 'Prediction_DF_SCA_2019-04-07.pkl', 'Prediction_DF_SCA_2018-11-18.pkl', 'Prediction_DF_SCA_2019-01-27.pkl', 'Prediction_DF_SCA_2019-05-04.pkl', 'Prediction_DF_2018-11-24.pkl', 'Prediction_DF_SCA_2019-02-01.pkl', 'Prediction_DF_SCA_2018-12-05.pkl', 'Prediction_DF_SCA_2018-12-30.pkl', 'Prediction_DF_SCA_2018-12-23.pkl', 'Prediction_DF_SCA_2019-05-18.pkl', 'Prediction_DF_SCA_2018-12-27.pkl', 'Prediction_DF_2018-12-19.pkl', 'Prediction_DF_SCA_2019-02-20.pkl', 'Prediction_DF_SCA_2019-03-09.pkl', 'Prediction_DF_SCA_2018-12-11.pkl', 'Prediction_DF_2019-01-14.pkl', 'Prediction_DF_SCA_2018-12-13.pkl', 'Prediction_DF_SCA_2018-12-14.pkl', 'Prediction_DF_2019-02-20.pkl', 'Prediction_DF_2018-10-17.pkl', 'Prediction_DF_2018-11-11.pkl', 'Prediction_DF_2019-03-15.pkl', 'Prediction_DF_SCA_2018-10-12.pkl', 'Prediction_DF_2018-12-27.pkl', 'Prediction_DF_2019-06-04.pkl', 'Prediction_DF_2019-02-08.pkl', 'Prediction_DF_SCA_2019-05-19.pkl', 'Prediction_DF_SCA_2018-11-11.pkl', 'Prediction_DF_SCA_2018-10-20.pkl', 'Prediction_DF_SCA_2019-04-22.pkl', 'Prediction_DF_2018-12-25.pkl', 'Prediction_DF_2018-10-16.pkl', 'Prediction_DF_SCA_2019-03-05.pkl', 'Prediction_DF_2019-03-05.pkl', 'Prediction_DF_2018-12-22.pkl', 'Prediction_DF_SCA_2019-05-31.pkl', 'Prediction_DF_2019-06-11.pkl', 'Prediction_DF_2019-01-05.pkl', 'Prediction_DF_2019-02-13.pkl', 'Prediction_DF_SCA_2019-01-28.pkl', 'Prediction_DF_2019-05-05.pkl', 'Prediction_DF_2018-12-12.pkl', 'Prediction_DF_SCA_2018-11-05.pkl', 'Prediction_DF_2018-12-18.pkl', 'Prediction_DF_2019-06-06.pkl', 'Prediction_DF_SCA_2019-04-02.pkl', 'Prediction_DF_2019-04-02.pkl', 'Prediction_DF_SCA_2019-06-12.pkl', 'Prediction_DF_2018-10-11.pkl', 'Prediction_DF_SCA_2019-04-09.pkl', 'Prediction_DF_2018-12-24.pkl', 'Prediction_DF_2019-02-18.pkl', 'Prediction_DF_SCA_2019-03-20.pkl', 'Prediction_DF_2019-01-03.pkl', 'Prediction_DF_SCA_2019-04-01.pkl', 'Prediction_DF_2019-04-14.pkl', 'Prediction_DF_2019-03-13.pkl', 'Prediction_DF_SCA_2019-01-09.pkl', 'Prediction_DF_SCA_2019-05-03.pkl', 'Prediction_DF_SCA_2019-04-05.pkl', 'Prediction_DF_2019-02-19.pkl', 'Prediction_DF_2019-05-16.pkl', 'Prediction_DF_SCA_2019-02-23.pkl', 'Prediction_DF_2019-01-26.pkl', 'Prediction_DF_2019-01-11.pkl', 'Prediction_DF_2018-11-03.pkl', 'Prediction_DF_SCA_2019-02-16.pkl', 'Prediction_DF_SCA_2019-03-25.pkl', 'Prediction_DF_2019-04-09.pkl', 'Prediction_DF_2018-12-29.pkl', 'Prediction_DF_2018-10-30.pkl', 'Prediction_DF_SCA_2019-05-05.pkl', 'Prediction_DF_SCA_2019-04-28.pkl', 'Prediction_DF_SCA_2019-03-07.pkl', 'Prediction_DF_2018-11-29.pkl', 'Prediction_DF_2019-05-09.pkl', 'Prediction_DF_SCA_2019-02-24.pkl', 'Prediction_DF_SCA_2019-04-03.pkl', 'Prediction_DF_2018-11-17.pkl', 'Prediction_DF_SCA_2019-04-18.pkl', 'Prediction_DF_SCA_2018-10-28.pkl', 'Prediction_DF_SCA_2019-03-03.pkl', 'Prediction_DF_2019-03-10.pkl', 'Prediction_DF_SCA_2019-06-10.pkl', 'Prediction_DF_SCA_2019-04-26.pkl', 'Prediction_DF_SCA_2018-12-10.pkl', 'Prediction_DF_2019-02-16.pkl', 'Prediction_DF_SCA_2018-12-15.pkl', 'Prediction_DF_2018-11-26.pkl', 'Prediction_DF_2019-02-25.pkl', 'Prediction_DF_SCA_2019-04-13.pkl', 'Prediction_DF_2018-10-02.pkl', 'Prediction_DF_SCA_2018-10-29.pkl', 'Prediction_DF_2019-03-14.pkl', 'Prediction_DF_SCA_2018-10-30.pkl', 'Prediction_DF_SCA_2019-01-10.pkl', 'Prediction_DF_SCA_2018-11-28.pkl', 'Prediction_DF_2019-05-31.pkl', 'Prediction_DF_2018-11-06.pkl', 'Prediction_DF_2019-01-21.pkl', 'Prediction_DF_2019-03-08.pkl', 'Prediction_DF_SCA_2019-01-17.pkl', 'Prediction_DF_SCA_2019-01-19.pkl', 'Prediction_DF_2018-11-09.pkl', 'Prediction_DF_SCA_2019-02-27.pkl', 'Prediction_DF_SCA_2019-05-17.pkl', 'Prediction_DF_2018-10-08.pkl', 'Prediction_DF_2019-03-24.pkl', 'Prediction_DF_2019-03-18.pkl', 'Prediction_DF_SCA_2018-11-19.pkl', 'Prediction_DF_2018-12-06.pkl', 'Prediction_DF_2018-10-15.pkl', 'Prediction_DF_2018-12-15.pkl', 'Prediction_DF_2019-02-27.pkl', 'Prediction_DF_2018-11-16.pkl', 'Prediction_DF_2019-05-04.pkl', 'Prediction_DF_2018-10-19.pkl', 'Prediction_DF_2019-03-02.pkl', 'Prediction_DF_2019-06-16.pkl', 'Prediction_DF_2019-03-25.pkl', 'Prediction_DF_2019-01-16.pkl', 'Prediction_DF_2019-03-27.pkl', 'Prediction_DF_2018-10-14.pkl', 'Prediction_DF_2019-03-12.pkl', 'Prediction_DF_SCA_2019-02-12.pkl', 'Prediction_DF_SCA_2019-05-20.pkl', 'Prediction_DF_2018-10-22.pkl', 'Prediction_DF_SCA_2018-11-07.pkl', 'Prediction_DF_2019-03-21.pkl', 'Prediction_DF_SCA_2019-02-05.pkl', 'Prediction_DF_SCA_2019-06-06.pkl', 'Prediction_DF_2019-04-05.pkl', 'Prediction_DF_2018-12-16.pkl', 'Prediction_DF_SCA_2018-10-26.pkl', 'Prediction_DF_SCA_2018-12-01.pkl', 'Prediction_DF_2019-04-11.pkl', 'Prediction_DF_2018-12-14.pkl', 'Prediction_DF_2018-10-06.pkl', 'Prediction_DF_SCA_2019-05-26.pkl', 'Prediction_DF_2018-12-01.pkl', 'Prediction_DF_SCA_2019-01-18.pkl', 'Prediction_DF_SCA_2019-06-01.pkl', 'Prediction_DF_2018-11-10.pkl', 'Prediction_DF_2019-05-11.pkl', 'Prediction_DF_2019-02-04.pkl', 'Prediction_DF_2019-01-10.pkl', 'Prediction_DF_2018-11-07.pkl', 'Prediction_DF_2019-02-22.pkl', 'Prediction_DF_2018-10-25.pkl', 'Prediction_DF_SCA_2018-11-26.pkl', 'Prediction_DF_SCA_2019-04-16.pkl', 'Prediction_DF_2019-01-23.pkl', 'Prediction_DF_2019-01-22.pkl', 'Prediction_DF_2018-12-17.pkl', 'Prediction_DF_SCA_2018-11-21.pkl', 'Prediction_DF_SCA_2019-02-09.pkl', 'Prediction_DF_SCA_2019-03-08.pkl', 'Prediction_DF_SCA_2018-12-25.pkl', 'Prediction_DF_SCA_2019-05-12.pkl', 'Prediction_DF_SCA_2018-12-12.pkl', 'Prediction_DF_2019-01-18.pkl', 'Prediction_DF_2019-01-06.pkl', 'Prediction_DF_2019-06-21.pkl', 'Prediction_DF_SCA_2018-10-16.pkl', 'Prediction_DF_2019-01-07.pkl', 'Prediction_DF_2019-02-28.pkl', 'Prediction_DF_2018-11-18.pkl', 'Prediction_DF_SCA_2019-04-30.pkl', 'Prediction_DF_SCA_2019-03-22.pkl', 'Prediction_DF_SCA_2018-10-02.pkl', 'Prediction_DF_SCA_2019-04-17.pkl', 'Prediction_DF_SCA_2019-05-11.pkl', 'Prediction_DF_SCA_2019-03-15.pkl', 'Prediction_DF_2018-12-02.pkl', 'Prediction_DF_2018-12-11.pkl', 'Prediction_DF_2019-03-30.pkl', 'Prediction_DF_2018-10-10.pkl', 'Prediction_DF_2019-03-16.pkl', 'Prediction_DF_2018-10-24.pkl', 'Prediction_DF_2018-11-08.pkl', 'Prediction_DF_SCA_2019-03-23.pkl', 'Prediction_DF_2019-01-15.pkl', 'Prediction_DF_SCA_2019-02-06.pkl', 'Prediction_DF_2019-02-26.pkl', 'Prediction_DF_SCA_2019-01-07.pkl', 'Prediction_DF_2018-12-10.pkl', 'Prediction_DF_SCA_2019-04-24.pkl', 'Prediction_DF_SCA_2019-01-02.pkl', 'Prediction_DF_2019-02-10.pkl', 'Prediction_DF_SCA_2019-04-15.pkl', 'Prediction_DF_2018-11-19.pkl', 'Prediction_DF_SCA_2018-12-17.pkl', 'Prediction_DF_2019-01-02.pkl', 'Prediction_DF_2019-03-22.pkl', 'Prediction_DF_SCA_2018-11-29.pkl', 'Prediction_DF_2018-11-20.pkl', 'Prediction_DF_2018-12-03.pkl', 'Prediction_DF_2018-11-22.pkl', 'Prediction_DF_SCA_2018-10-11.pkl', 'Prediction_DF_SCA_2018-10-22.pkl', 'Prediction_DF_2019-04-12.pkl', 'Prediction_DF_SCA_2019-01-23.pkl', 'Prediction_DF_SCA_2018-10-21.pkl', 'Prediction_DF_SCA_2018-12-31.pkl', 'Prediction_DF_SCA_2019-02-13.pkl', 'Prediction_DF_2019-04-08.pkl', 'Prediction_DF_2019-06-07.pkl', 'Prediction_DF_2018-12-05.pkl', 'Prediction_DF_2019-04-06.pkl', 'Prediction_DF_2019-01-04.pkl', 'Prediction_DF_2019-06-17.pkl', 'Prediction_DF_2019-06-26.pkl', 'Prediction_DF_SCA_2019-03-31.pkl', 'Prediction_DF_2019-04-04.pkl', 'Prediction_DF_SCA_2019-05-21.pkl', 'Prediction_DF_SCA_2019-02-15.pkl', 'Prediction_DF_SCA_2018-12-09.pkl', 'Prediction_DF_SCA_2019-06-25.pkl', 'Prediction_DF_SCA_2019-04-19.pkl', 'Prediction_DF_SCA_2019-01-06.pkl', 'Prediction_DF_2019-05-24.pkl', 'Prediction_DF_2018-10-26.pkl', 'Prediction_DF_SCA_2019-05-24.pkl', 'Prediction_DF_2018-11-04.pkl', 'Prediction_DF_2019-01-12.pkl', 'Prediction_DF_SCA_2019-03-27.pkl', 'Prediction_DF_SCA_2019-02-21.pkl', 'Prediction_DF_SCA_2018-11-23.pkl', 'Prediction_DF_2019-06-05.pkl', 'Prediction_DF_SCA_2018-11-02.pkl', 'Prediction_DF_SCA_2019-03-17.pkl', 'Prediction_DF_SCA_2019-06-24.pkl', 'Prediction_DF_2019-05-02.pkl', 'Prediction_DF_2018-10-29.pkl', 'Prediction_DF_2019-01-19.pkl', 'Prediction_DF_SCA_2019-03-18.pkl', 'Prediction_DF_SCA_2018-12-29.pkl', 'Prediction_DF_2019-05-25.pkl', 'Prediction_DF_SCA_2018-11-16.pkl', 'Prediction_DF_2019-05-30.pkl', 'Prediction_DF_2018-11-15.pkl', 'Prediction_DF_SCA_2019-02-08.pkl', 'Prediction_DF_2018-11-28.pkl', 'Prediction_DF_2018-10-09.pkl', 'Prediction_DF_SCA_2019-01-16.pkl', 'Prediction_DF_2019-05-12.pkl', 'Prediction_DF_SCA_2019-06-08.pkl', 'Prediction_DF_SCA_2018-10-07.pkl', 'Prediction_DF_SCA_2019-04-06.pkl', 'Prediction_DF_SCA_2019-06-13.pkl', 'Prediction_DF_SCA_2018-10-17.pkl', 'Prediction_DF_2019-01-29.pkl', 'Prediction_DF_2018-12-28.pkl', 'Prediction_DF_SCA_2019-01-01.pkl', 'Prediction_DF_SCA_2019-03-14.pkl', 'Prediction_DF_2019-06-19.pkl', 'Prediction_DF_SCA_2019-06-14.pkl', 'Prediction_DF_SCA_2018-10-27.pkl', 'Prediction_DF_SCA_2019-06-23.pkl', 'Prediction_DF_SCA_2019-04-08.pkl', 'Prediction_DF_SCA_2019-06-26.pkl', 'Prediction_DF_2019-03-03.pkl', 'Prediction_DF_SCA_2018-11-12.pkl', 'Prediction_DF_SCA_2019-06-19.pkl', 'Prediction_DF_SCA_2018-12-19.pkl', 'Prediction_DF_2019-04-22.pkl', 'Prediction_DF_2018-11-01.pkl', 'Prediction_DF_SCA_2018-11-15.pkl', 'Prediction_DF_2019-05-23.pkl', 'Prediction_DF_SCA_2019-05-30.pkl', 'Prediction_DF_SCA_2019-02-22.pkl', 'Prediction_DF_2018-12-13.pkl', 'Prediction_DF_SCA_2019-04-25.pkl', 'Prediction_DF_2018-12-31.pkl', 'Prediction_DF_SCA_2018-12-16.pkl', 'Prediction_DF_SCA_2018-10-14.pkl', 'Prediction_DF_2019-02-24.pkl', 'Prediction_DF_SCA_2018-12-26.pkl', 'Prediction_DF_2019-06-18.pkl', 'Prediction_DF_SCA_2018-10-08.pkl', 'Prediction_DF_2019-03-31.pkl', 'Prediction_DF_SCA_2018-11-17.pkl', 'Prediction_DF_2019-02-09.pkl', 'Prediction_DF_2019-02-07.pkl', 'Prediction_DF_SCA_2019-03-26.pkl', 'Prediction_DF_2018-11-27.pkl', 'Prediction_DF_SCA_2019-06-21.pkl']\n",
      "Pushing files to AWS\n"
     ]
    },
    {
     "name": "stderr",
     "output_type": "stream",
     "text": [
      "100% |########################################################################|\n"
     ]
    }
   ],
   "source": [
    "modelname= 'Neural_Network'\n",
    "folderpath = 'Predictions/Hold_Out_Year/Daily/'\n",
    "AWSpath = f\"Hold_Out_Year/Daily/\"\n",
    "type = '.pkl'\n",
    "Hindcast_Initialization.Hindcast_to_AWS(modelname, folderpath, AWSpath, type)"
   ]
  },
  {
   "cell_type": "code",
   "execution_count": null,
   "id": "57e8c763-1ba8-4405-8939-9bb7eb7e236e",
   "metadata": {},
   "outputs": [],
   "source": []
  }
 ],
 "metadata": {
  "kernelspec": {
   "display_name": "NSM_env",
   "language": "python",
   "name": "nsm_env"
  },
  "language_info": {
   "codemirror_mode": {
    "name": "ipython",
    "version": 3
   },
   "file_extension": ".py",
   "mimetype": "text/x-python",
   "name": "python",
   "nbconvert_exporter": "python",
   "pygments_lexer": "ipython3",
   "version": "3.9.12"
  }
 },
 "nbformat": 4,
 "nbformat_minor": 5
}
