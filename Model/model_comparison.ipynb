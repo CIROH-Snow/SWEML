{
 "cells": [
  {
   "cell_type": "code",
   "execution_count": 1,
   "metadata": {},
   "outputs": [
    {
     "name": "stderr",
     "output_type": "stream",
     "text": [
      "C:\\Users\\rjohnson18\\Anaconda3\\envs\\NSM_env\\lib\\site-packages\\geopandas\\_compat.py:111: UserWarning: The Shapely GEOS version (3.10.2-CAPI-1.16.0) is incompatible with the GEOS version PyGEOS was compiled with (3.10.3-CAPI-1.16.1). Conversions between both will be slow.\n",
      "  warnings.warn(\n"
     ]
    },
    {
     "data": {
      "text/plain": [
       "'C:\\\\Users\\\\rjohnson18\\\\Box\\\\CIROH\\\\SnowModeling\\\\Snow_Modeling_Group\\\\NSM_App_Deployment\\\\National-Snow-Model'"
      ]
     },
     "execution_count": 1,
     "metadata": {},
     "output_type": "execute_result"
    }
   ],
   "source": [
    "import numpy as np\n",
    "import pandas as pd\n",
    "import geopandas as gpd\n",
    "import netCDF4 as nc\n",
    "import matplotlib.pyplot as plt\n",
    "from tqdm import tqdm\n",
    "\n",
    "#import seaborn as sns\n",
    "import folium\n",
    "#import National_Snow_Model as NSM\n",
    "#import NSM_SCA\n",
    "from datetime import datetime, timedelta\n",
    "import os\n",
    "\n",
    "import warnings\n",
    "warnings.filterwarnings(\"ignore\")\n",
    "\n",
    "#set path directory\n",
    "os.getcwd()\n",
    "os.chdir('..')\n",
    "cwd = os.getcwd()\n",
    "cwd"
   ]
  },
  {
   "cell_type": "code",
   "execution_count": 4,
   "metadata": {},
   "outputs": [],
   "source": [
    "# Create Filepaths and dates\n",
    "cwds = {\n",
    "    \"no_fSCA_Region_Pred\": cwd+\"/Predictions/NSM2018_no_fSCA_Region_Pred\",\n",
    "    \"fSCA_RegionVal\": cwd+\"/Predictions/NSM2018_fSCA_RegionVal\",\n",
    "    \"no_fSCA_RegionVal\": cwd+\"/Predictions/NSM2018_no_fSCA_RegionVal\",\n",
    "    \"5000ftDomain_UpdatedCDEC\": cwd+ \"/Predictions/NSM2018_FullDomain_UpdatedCDEC\"\n",
    "       }\n",
    "\n",
    "dates = [datetime(2018, 12, 24), datetime(2019, 4, 15), datetime(2019, 7, 22)]"
   ]
  },
  {
   "cell_type": "markdown",
   "metadata": {},
   "source": [
    "# Creates GeoJSON exports\n",
    "\n",
    "This code block runs the model, making the predictions."
   ]
  },
  {
   "cell_type": "code",
   "execution_count": 35,
   "metadata": {},
   "outputs": [],
   "source": [
    "#for cwd in cwds:\n",
    " #   for date in dates:\n",
    "        # create SWE_Prediction class in the directory where the files are saved\n",
    "  #      nsm = National_Snow_Model.SWE_Prediction(cwds[cwd], date.strftime('%Y-%m-%d'))\n",
    "\n",
    "   #     nsm.Geo_df()  # create geodataframe from files\n",
    "\n",
    "        # Export to GeoJSON\n",
    "    #    nsm.SWE_gdf.to_file(cwds[cwd] + f'/NSM{date.strftime(\"%Y-%m-%d\")}_{cwd}.geojson', driver='GeoJSON')\n",
    "\n",
    "# os.system(f'say \"your program has completely finished\"')  # sometimes can take a while... only works on MacOS"
   ]
  },
  {
   "cell_type": "markdown",
   "metadata": {},
   "source": [
    "# Combines Data from h5 files into a single DF"
   ]
  },
  {
   "cell_type": "code",
   "execution_count": 5,
   "metadata": {},
   "outputs": [],
   "source": [
    "from datetime import date, timedelta\n",
    "\n",
    "#Grab existing files based on water year\n",
    "prev_year = '2018'\n",
    "\n",
    "#input the new water year of choice\n",
    "water_year = '2019'\n",
    "\n",
    "prev_date = date(int(prev_year), 10, 1)\n",
    "new_date = date(int(water_year), 7, 31)\n",
    "\n",
    "#write code for CSV files\n",
    "\n",
    "#for h5 files\n",
    "Region_list = ['N_Sierras',\n",
    "                       'S_Sierras_High',\n",
    "                       'S_Sierras_Low',\n",
    "                       #'Greater_Yellowstone',\n",
    "                       #'N_Co_Rockies',\n",
    "                       #'SW_Mont',\n",
    "                       #'SW_Co_Rockies',\n",
    "                       #'GBasin',\n",
    "                       #'N_Wasatch',\n",
    "                       #'N_Cascade',\n",
    "                       #'S_Wasatch',\n",
    "                       #'SW_Mtns',\n",
    "                       #'E_WA_N_Id_W_Mont',\n",
    "                       #'S_Wyoming',\n",
    "                       #'SE_Co_Rockies',\n",
    "                       #'Sawtooth',\n",
    "                       #'Ca_Coast',\n",
    "                       #'E_Or',\n",
    "                       #'N_Yellowstone',\n",
    "                       #'S_Cascade',\n",
    "                       #'Wa_Coast',\n",
    "                       #'Greater_Glacier',\n",
    "                       #'Or_Coast'\n",
    "                      ]"
   ]
  },
  {
   "cell_type": "code",
   "execution_count": 6,
   "metadata": {},
   "outputs": [],
   "source": [
    "#can be altered to create list every n number of days by changing 7 to desired skip length\n",
    "def daterange(start_date, end_date):\n",
    "     for n in range(0, int((end_date - start_date).days) + 1, 7):\n",
    "        yield start_date + timedelta(n)\n",
    "        \n",
    "def Region_id(df):\n",
    "        # put obervations into the regions\n",
    "    for i in tqdm(range(0, len(df))):\n",
    "\n",
    "        # Sierras\n",
    "        # Northern Sierras\n",
    "        if -122.5 <= df['Long'][i] <= -119 and 39 <= df['Lat'][i] <= 42:\n",
    "            loc = 'Sierras'\n",
    "            df['Region'].iloc[i] = loc\n",
    "\n",
    "        # Southern Sierras\n",
    "        if -121.2 <= df['Long'][i] <= -117 and 35 <= df['Lat'][i] <= 39:\n",
    "            loc = 'Sierras'\n",
    "            df['Region'].iloc[i] = loc\n"
   ]
  },
  {
   "cell_type": "code",
   "execution_count": 8,
   "metadata": {
    "scrolled": true
   },
   "outputs": [],
   "source": [
    "#create empty list to store dates\n",
    "datelist = []\n",
    "#define start and end date for list of dates\n",
    "start_dt = prev_date\n",
    "end_dt = new_date\n",
    "#append dates to list\n",
    "for dt in daterange(start_dt, end_dt):\n",
    "    #print(dt.strftime(\"%Y-%m-%d\"))\n",
    "    dt=dt.strftime('%Y-%m-%d')\n",
    "    datelist.append(dt)\n"
   ]
  },
  {
   "cell_type": "code",
   "execution_count": 9,
   "metadata": {},
   "outputs": [],
   "source": [
    "region_val = pd.read_pickle(cwd+\"/Data/Processed/RegionVal.pkl\")\n",
    "\n",
    "superset = []\n",
    "\n",
    "for region in region_val:\n",
    "    superset.append(region_val[region])\n",
    "\n",
    "superset = pd.concat(superset)\n",
    "superset = superset.set_index('cell_id')"
   ]
  },
  {
   "cell_type": "code",
   "execution_count": 10,
   "metadata": {
    "scrolled": true
   },
   "outputs": [
    {
     "name": "stdout",
     "output_type": "stream",
     "text": [
      "on no_fSCA_Region_Pred\n"
     ]
    },
    {
     "name": "stderr",
     "output_type": "stream",
     "text": [
      "100%|██████████| 44/44 [00:04<00:00, 10.98it/s]\n"
     ]
    },
    {
     "name": "stdout",
     "output_type": "stream",
     "text": [
      "on fSCA_RegionVal\n"
     ]
    },
    {
     "name": "stderr",
     "output_type": "stream",
     "text": [
      "100%|██████████| 44/44 [00:04<00:00,  9.48it/s]\n"
     ]
    },
    {
     "name": "stdout",
     "output_type": "stream",
     "text": [
      "on no_fSCA_RegionVal\n"
     ]
    },
    {
     "name": "stderr",
     "output_type": "stream",
     "text": [
      "100%|██████████| 44/44 [00:04<00:00, 10.09it/s]\n"
     ]
    },
    {
     "name": "stdout",
     "output_type": "stream",
     "text": [
      "on 5000ftDomain_UpdatedCDEC\n"
     ]
    },
    {
     "name": "stderr",
     "output_type": "stream",
     "text": [
      "100%|██████████| 44/44 [00:03<00:00, 11.36it/s]\n"
     ]
    }
   ],
   "source": [
    "runs = {}\n",
    "\n",
    "for cw in cwds:\n",
    "    print(f\"on {cw}\")\n",
    "    run = superset.copy()\n",
    "    for date in tqdm(datelist):\n",
    "        #print(f\"on {date}\")\n",
    "        run[date] = 0\n",
    "        for region in Region_list:\n",
    "            tmp = pd.read_hdf(f\"{cwds[cw]}/Predictions/predictions{date}.h5\", key=region)\n",
    "            tmp = tmp[[date]]\n",
    "            run.update(tmp)\n",
    "            # print(tmp.head())\n",
    "    runs[cw] = run"
   ]
  },
  {
   "cell_type": "code",
   "execution_count": 11,
   "metadata": {},
   "outputs": [
    {
     "name": "stderr",
     "output_type": "stream",
     "text": [
      "100%|██████████| 20759/20759 [00:03<00:00, 5963.31it/s]\n",
      "100%|██████████| 20759/20759 [00:03<00:00, 5837.63it/s]\n",
      "100%|██████████| 20759/20759 [00:03<00:00, 6070.82it/s]\n",
      "100%|██████████| 20759/20759 [00:03<00:00, 6092.39it/s]\n"
     ]
    }
   ],
   "source": [
    "#Get Sierra Nevada predictions\n",
    "\n",
    "for run in runs:\n",
    "    runs[run]['Region'] = 'None'\n",
    "    Region_id(runs[run])\n",
    "    runs[run] = runs[run][runs[run]['Region'] =='Sierras']"
   ]
  },
  {
   "cell_type": "markdown",
   "metadata": {},
   "source": [
    "## Export to CSVs"
   ]
  },
  {
   "cell_type": "code",
   "execution_count": 12,
   "metadata": {},
   "outputs": [],
   "source": [
    "clean = {}\n",
    "for run in runs:\n",
    "    clean[run] = runs[run].drop(columns=['Lat','Long', 'elevation_m', 'northness', 'Region'])\n",
    "    clean[run] = clean[run].fillna(0)\n",
    "    runs[run].to_csv(cwd+ \"/Data/Processed/\"+ run+ \"_Sierras.csv\")"
   ]
  },
  {
   "cell_type": "markdown",
   "metadata": {},
   "source": [
    "## Plot Average watershed SWE over time"
   ]
  },
  {
   "cell_type": "code",
   "execution_count": 13,
   "metadata": {
    "scrolled": true
   },
   "outputs": [
    {
     "data": {
      "text/html": [
       "<div>\n",
       "<style scoped>\n",
       "    .dataframe tbody tr th:only-of-type {\n",
       "        vertical-align: middle;\n",
       "    }\n",
       "\n",
       "    .dataframe tbody tr th {\n",
       "        vertical-align: top;\n",
       "    }\n",
       "\n",
       "    .dataframe thead th {\n",
       "        text-align: right;\n",
       "    }\n",
       "</style>\n",
       "<table border=\"1\" class=\"dataframe\">\n",
       "  <thead>\n",
       "    <tr style=\"text-align: right;\">\n",
       "      <th></th>\n",
       "      <th>no_fSCA_Region_Pred</th>\n",
       "      <th>fSCA_RegionVal</th>\n",
       "      <th>no_fSCA_RegionVal</th>\n",
       "      <th>5000ftDomain_UpdatedCDEC</th>\n",
       "    </tr>\n",
       "  </thead>\n",
       "  <tbody>\n",
       "    <tr>\n",
       "      <th>2018-10-01</th>\n",
       "      <td>0.257417</td>\n",
       "      <td>0.000000</td>\n",
       "      <td>0.485954</td>\n",
       "      <td>0.264913</td>\n",
       "    </tr>\n",
       "    <tr>\n",
       "      <th>2018-10-08</th>\n",
       "      <td>0.339799</td>\n",
       "      <td>0.073022</td>\n",
       "      <td>0.589773</td>\n",
       "      <td>0.383246</td>\n",
       "    </tr>\n",
       "    <tr>\n",
       "      <th>2018-10-15</th>\n",
       "      <td>0.423516</td>\n",
       "      <td>0.001118</td>\n",
       "      <td>0.686381</td>\n",
       "      <td>0.430446</td>\n",
       "    </tr>\n",
       "    <tr>\n",
       "      <th>2018-10-22</th>\n",
       "      <td>0.519185</td>\n",
       "      <td>0.072954</td>\n",
       "      <td>0.793146</td>\n",
       "      <td>0.558351</td>\n",
       "    </tr>\n",
       "    <tr>\n",
       "      <th>2018-10-29</th>\n",
       "      <td>0.636377</td>\n",
       "      <td>0.085357</td>\n",
       "      <td>0.920861</td>\n",
       "      <td>0.660286</td>\n",
       "    </tr>\n",
       "    <tr>\n",
       "      <th>2018-11-05</th>\n",
       "      <td>1.008836</td>\n",
       "      <td>0.000559</td>\n",
       "      <td>1.338580</td>\n",
       "      <td>0.990949</td>\n",
       "    </tr>\n",
       "    <tr>\n",
       "      <th>2018-11-12</th>\n",
       "      <td>1.327934</td>\n",
       "      <td>0.001245</td>\n",
       "      <td>1.747837</td>\n",
       "      <td>1.293720</td>\n",
       "    </tr>\n",
       "    <tr>\n",
       "      <th>2018-11-19</th>\n",
       "      <td>1.535416</td>\n",
       "      <td>0.004212</td>\n",
       "      <td>2.019275</td>\n",
       "      <td>1.487066</td>\n",
       "    </tr>\n",
       "    <tr>\n",
       "      <th>2018-11-26</th>\n",
       "      <td>2.357326</td>\n",
       "      <td>0.242418</td>\n",
       "      <td>2.919808</td>\n",
       "      <td>2.681498</td>\n",
       "    </tr>\n",
       "    <tr>\n",
       "      <th>2018-12-03</th>\n",
       "      <td>3.010350</td>\n",
       "      <td>0.856150</td>\n",
       "      <td>3.588950</td>\n",
       "      <td>3.804584</td>\n",
       "    </tr>\n",
       "    <tr>\n",
       "      <th>2018-12-10</th>\n",
       "      <td>2.873507</td>\n",
       "      <td>1.074075</td>\n",
       "      <td>3.446968</td>\n",
       "      <td>4.067459</td>\n",
       "    </tr>\n",
       "    <tr>\n",
       "      <th>2018-12-17</th>\n",
       "      <td>2.693808</td>\n",
       "      <td>1.092935</td>\n",
       "      <td>3.281489</td>\n",
       "      <td>4.371848</td>\n",
       "    </tr>\n",
       "    <tr>\n",
       "      <th>2018-12-24</th>\n",
       "      <td>2.794642</td>\n",
       "      <td>1.213158</td>\n",
       "      <td>3.457754</td>\n",
       "      <td>4.952015</td>\n",
       "    </tr>\n",
       "    <tr>\n",
       "      <th>2018-12-31</th>\n",
       "      <td>2.910552</td>\n",
       "      <td>1.372449</td>\n",
       "      <td>3.629685</td>\n",
       "      <td>5.482092</td>\n",
       "    </tr>\n",
       "    <tr>\n",
       "      <th>2019-01-07</th>\n",
       "      <td>2.849890</td>\n",
       "      <td>1.371687</td>\n",
       "      <td>3.588149</td>\n",
       "      <td>6.460313</td>\n",
       "    </tr>\n",
       "    <tr>\n",
       "      <th>2019-01-14</th>\n",
       "      <td>3.340761</td>\n",
       "      <td>1.919775</td>\n",
       "      <td>4.178627</td>\n",
       "      <td>8.322292</td>\n",
       "    </tr>\n",
       "    <tr>\n",
       "      <th>2019-01-21</th>\n",
       "      <td>4.512683</td>\n",
       "      <td>3.070157</td>\n",
       "      <td>5.393104</td>\n",
       "      <td>13.182674</td>\n",
       "    </tr>\n",
       "    <tr>\n",
       "      <th>2019-01-28</th>\n",
       "      <td>5.532198</td>\n",
       "      <td>4.056085</td>\n",
       "      <td>6.477076</td>\n",
       "      <td>14.304660</td>\n",
       "    </tr>\n",
       "    <tr>\n",
       "      <th>2019-02-04</th>\n",
       "      <td>6.854602</td>\n",
       "      <td>5.296941</td>\n",
       "      <td>7.822588</td>\n",
       "      <td>16.723126</td>\n",
       "    </tr>\n",
       "    <tr>\n",
       "      <th>2019-02-11</th>\n",
       "      <td>9.663914</td>\n",
       "      <td>8.215182</td>\n",
       "      <td>10.870186</td>\n",
       "      <td>21.025136</td>\n",
       "    </tr>\n",
       "    <tr>\n",
       "      <th>2019-02-18</th>\n",
       "      <td>14.287580</td>\n",
       "      <td>13.222160</td>\n",
       "      <td>16.073508</td>\n",
       "      <td>26.299501</td>\n",
       "    </tr>\n",
       "    <tr>\n",
       "      <th>2019-02-25</th>\n",
       "      <td>18.226052</td>\n",
       "      <td>16.983041</td>\n",
       "      <td>20.768862</td>\n",
       "      <td>26.590828</td>\n",
       "    </tr>\n",
       "    <tr>\n",
       "      <th>2019-03-04</th>\n",
       "      <td>20.565014</td>\n",
       "      <td>19.310380</td>\n",
       "      <td>23.465253</td>\n",
       "      <td>31.465290</td>\n",
       "    </tr>\n",
       "    <tr>\n",
       "      <th>2019-03-11</th>\n",
       "      <td>25.560621</td>\n",
       "      <td>24.421463</td>\n",
       "      <td>29.462395</td>\n",
       "      <td>32.945398</td>\n",
       "    </tr>\n",
       "    <tr>\n",
       "      <th>2019-03-18</th>\n",
       "      <td>32.119760</td>\n",
       "      <td>30.163783</td>\n",
       "      <td>36.890991</td>\n",
       "      <td>32.860909</td>\n",
       "    </tr>\n",
       "    <tr>\n",
       "      <th>2019-03-25</th>\n",
       "      <td>37.973119</td>\n",
       "      <td>34.480802</td>\n",
       "      <td>43.460609</td>\n",
       "      <td>33.393462</td>\n",
       "    </tr>\n",
       "    <tr>\n",
       "      <th>2019-04-01</th>\n",
       "      <td>42.937830</td>\n",
       "      <td>38.650028</td>\n",
       "      <td>49.185839</td>\n",
       "      <td>34.061414</td>\n",
       "    </tr>\n",
       "    <tr>\n",
       "      <th>2019-04-08</th>\n",
       "      <td>47.092853</td>\n",
       "      <td>41.445739</td>\n",
       "      <td>53.988540</td>\n",
       "      <td>35.288017</td>\n",
       "    </tr>\n",
       "    <tr>\n",
       "      <th>2019-04-15</th>\n",
       "      <td>48.536663</td>\n",
       "      <td>37.663675</td>\n",
       "      <td>55.492531</td>\n",
       "      <td>33.435225</td>\n",
       "    </tr>\n",
       "    <tr>\n",
       "      <th>2019-04-22</th>\n",
       "      <td>47.899139</td>\n",
       "      <td>35.560952</td>\n",
       "      <td>54.245182</td>\n",
       "      <td>33.494186</td>\n",
       "    </tr>\n",
       "    <tr>\n",
       "      <th>2019-04-29</th>\n",
       "      <td>42.146243</td>\n",
       "      <td>31.230466</td>\n",
       "      <td>46.358561</td>\n",
       "      <td>32.072176</td>\n",
       "    </tr>\n",
       "    <tr>\n",
       "      <th>2019-05-06</th>\n",
       "      <td>37.360007</td>\n",
       "      <td>24.486279</td>\n",
       "      <td>40.712982</td>\n",
       "      <td>30.512294</td>\n",
       "    </tr>\n",
       "    <tr>\n",
       "      <th>2019-05-13</th>\n",
       "      <td>33.372644</td>\n",
       "      <td>21.883756</td>\n",
       "      <td>36.368858</td>\n",
       "      <td>31.477938</td>\n",
       "    </tr>\n",
       "    <tr>\n",
       "      <th>2019-05-20</th>\n",
       "      <td>30.439910</td>\n",
       "      <td>20.069254</td>\n",
       "      <td>32.885677</td>\n",
       "      <td>34.317260</td>\n",
       "    </tr>\n",
       "    <tr>\n",
       "      <th>2019-05-27</th>\n",
       "      <td>29.016112</td>\n",
       "      <td>18.394843</td>\n",
       "      <td>31.072009</td>\n",
       "      <td>34.424217</td>\n",
       "    </tr>\n",
       "    <tr>\n",
       "      <th>2019-06-03</th>\n",
       "      <td>25.377969</td>\n",
       "      <td>16.118600</td>\n",
       "      <td>26.896574</td>\n",
       "      <td>36.095252</td>\n",
       "    </tr>\n",
       "    <tr>\n",
       "      <th>2019-06-10</th>\n",
       "      <td>20.543425</td>\n",
       "      <td>12.412362</td>\n",
       "      <td>21.469240</td>\n",
       "      <td>29.947271</td>\n",
       "    </tr>\n",
       "    <tr>\n",
       "      <th>2019-06-17</th>\n",
       "      <td>15.095784</td>\n",
       "      <td>8.334324</td>\n",
       "      <td>15.516107</td>\n",
       "      <td>25.463847</td>\n",
       "    </tr>\n",
       "    <tr>\n",
       "      <th>2019-06-24</th>\n",
       "      <td>12.862036</td>\n",
       "      <td>4.721690</td>\n",
       "      <td>13.297713</td>\n",
       "      <td>21.415199</td>\n",
       "    </tr>\n",
       "    <tr>\n",
       "      <th>2019-07-01</th>\n",
       "      <td>11.173806</td>\n",
       "      <td>3.116562</td>\n",
       "      <td>11.623077</td>\n",
       "      <td>17.628486</td>\n",
       "    </tr>\n",
       "    <tr>\n",
       "      <th>2019-07-08</th>\n",
       "      <td>9.279263</td>\n",
       "      <td>1.957856</td>\n",
       "      <td>9.726750</td>\n",
       "      <td>13.604509</td>\n",
       "    </tr>\n",
       "    <tr>\n",
       "      <th>2019-07-15</th>\n",
       "      <td>6.655577</td>\n",
       "      <td>0.903994</td>\n",
       "      <td>7.025442</td>\n",
       "      <td>9.534921</td>\n",
       "    </tr>\n",
       "    <tr>\n",
       "      <th>2019-07-22</th>\n",
       "      <td>4.464092</td>\n",
       "      <td>0.421370</td>\n",
       "      <td>4.750148</td>\n",
       "      <td>5.581670</td>\n",
       "    </tr>\n",
       "    <tr>\n",
       "      <th>2019-07-29</th>\n",
       "      <td>3.505434</td>\n",
       "      <td>0.232342</td>\n",
       "      <td>3.784877</td>\n",
       "      <td>4.001332</td>\n",
       "    </tr>\n",
       "  </tbody>\n",
       "</table>\n",
       "</div>"
      ],
      "text/plain": [
       "            no_fSCA_Region_Pred  fSCA_RegionVal  no_fSCA_RegionVal  \\\n",
       "2018-10-01             0.257417        0.000000           0.485954   \n",
       "2018-10-08             0.339799        0.073022           0.589773   \n",
       "2018-10-15             0.423516        0.001118           0.686381   \n",
       "2018-10-22             0.519185        0.072954           0.793146   \n",
       "2018-10-29             0.636377        0.085357           0.920861   \n",
       "2018-11-05             1.008836        0.000559           1.338580   \n",
       "2018-11-12             1.327934        0.001245           1.747837   \n",
       "2018-11-19             1.535416        0.004212           2.019275   \n",
       "2018-11-26             2.357326        0.242418           2.919808   \n",
       "2018-12-03             3.010350        0.856150           3.588950   \n",
       "2018-12-10             2.873507        1.074075           3.446968   \n",
       "2018-12-17             2.693808        1.092935           3.281489   \n",
       "2018-12-24             2.794642        1.213158           3.457754   \n",
       "2018-12-31             2.910552        1.372449           3.629685   \n",
       "2019-01-07             2.849890        1.371687           3.588149   \n",
       "2019-01-14             3.340761        1.919775           4.178627   \n",
       "2019-01-21             4.512683        3.070157           5.393104   \n",
       "2019-01-28             5.532198        4.056085           6.477076   \n",
       "2019-02-04             6.854602        5.296941           7.822588   \n",
       "2019-02-11             9.663914        8.215182          10.870186   \n",
       "2019-02-18            14.287580       13.222160          16.073508   \n",
       "2019-02-25            18.226052       16.983041          20.768862   \n",
       "2019-03-04            20.565014       19.310380          23.465253   \n",
       "2019-03-11            25.560621       24.421463          29.462395   \n",
       "2019-03-18            32.119760       30.163783          36.890991   \n",
       "2019-03-25            37.973119       34.480802          43.460609   \n",
       "2019-04-01            42.937830       38.650028          49.185839   \n",
       "2019-04-08            47.092853       41.445739          53.988540   \n",
       "2019-04-15            48.536663       37.663675          55.492531   \n",
       "2019-04-22            47.899139       35.560952          54.245182   \n",
       "2019-04-29            42.146243       31.230466          46.358561   \n",
       "2019-05-06            37.360007       24.486279          40.712982   \n",
       "2019-05-13            33.372644       21.883756          36.368858   \n",
       "2019-05-20            30.439910       20.069254          32.885677   \n",
       "2019-05-27            29.016112       18.394843          31.072009   \n",
       "2019-06-03            25.377969       16.118600          26.896574   \n",
       "2019-06-10            20.543425       12.412362          21.469240   \n",
       "2019-06-17            15.095784        8.334324          15.516107   \n",
       "2019-06-24            12.862036        4.721690          13.297713   \n",
       "2019-07-01            11.173806        3.116562          11.623077   \n",
       "2019-07-08             9.279263        1.957856           9.726750   \n",
       "2019-07-15             6.655577        0.903994           7.025442   \n",
       "2019-07-22             4.464092        0.421370           4.750148   \n",
       "2019-07-29             3.505434        0.232342           3.784877   \n",
       "\n",
       "            5000ftDomain_UpdatedCDEC  \n",
       "2018-10-01                  0.264913  \n",
       "2018-10-08                  0.383246  \n",
       "2018-10-15                  0.430446  \n",
       "2018-10-22                  0.558351  \n",
       "2018-10-29                  0.660286  \n",
       "2018-11-05                  0.990949  \n",
       "2018-11-12                  1.293720  \n",
       "2018-11-19                  1.487066  \n",
       "2018-11-26                  2.681498  \n",
       "2018-12-03                  3.804584  \n",
       "2018-12-10                  4.067459  \n",
       "2018-12-17                  4.371848  \n",
       "2018-12-24                  4.952015  \n",
       "2018-12-31                  5.482092  \n",
       "2019-01-07                  6.460313  \n",
       "2019-01-14                  8.322292  \n",
       "2019-01-21                 13.182674  \n",
       "2019-01-28                 14.304660  \n",
       "2019-02-04                 16.723126  \n",
       "2019-02-11                 21.025136  \n",
       "2019-02-18                 26.299501  \n",
       "2019-02-25                 26.590828  \n",
       "2019-03-04                 31.465290  \n",
       "2019-03-11                 32.945398  \n",
       "2019-03-18                 32.860909  \n",
       "2019-03-25                 33.393462  \n",
       "2019-04-01                 34.061414  \n",
       "2019-04-08                 35.288017  \n",
       "2019-04-15                 33.435225  \n",
       "2019-04-22                 33.494186  \n",
       "2019-04-29                 32.072176  \n",
       "2019-05-06                 30.512294  \n",
       "2019-05-13                 31.477938  \n",
       "2019-05-20                 34.317260  \n",
       "2019-05-27                 34.424217  \n",
       "2019-06-03                 36.095252  \n",
       "2019-06-10                 29.947271  \n",
       "2019-06-17                 25.463847  \n",
       "2019-06-24                 21.415199  \n",
       "2019-07-01                 17.628486  \n",
       "2019-07-08                 13.604509  \n",
       "2019-07-15                  9.534921  \n",
       "2019-07-22                  5.581670  \n",
       "2019-07-29                  4.001332  "
      ]
     },
     "execution_count": 13,
     "metadata": {},
     "output_type": "execute_result"
    }
   ],
   "source": [
    "Spatial_Ave_df = pd.DataFrame()\n",
    "\n",
    "for sim in clean:\n",
    "    cleandf = pd.DataFrame(columns = clean[sim].columns)\n",
    "    \n",
    "    for col in clean[sim].columns:\n",
    "        cleandf[col] = [clean[sim][col].mean()]\n",
    "    Spatial_Ave_df[sim] = cleandf.T\n",
    "Spatial_Ave_df.index = pd.to_datetime(Spatial_Ave_df.index)\n",
    "Spatial_Ave_df     "
   ]
  },
  {
   "cell_type": "code",
   "execution_count": 14,
   "metadata": {},
   "outputs": [
    {
     "data": {
      "image/png": "[encoded data removed]",
      "text/plain": [
       "<Figure size 504x360 with 1 Axes>"
      ]
     },
     "metadata": {
      "needs_background": "light"
     },
     "output_type": "display_data"
    }
   ],
   "source": [
    "import matplotlib.dates as mdates\n",
    "\n",
    "#make figure\n",
    "fig, ax = plt.subplots(1,1, figsize=(7, 5))\n",
    "ax.set_facecolor('white')\n",
    "\n",
    "ax.plot(Spatial_Ave_df['no_fSCA_Region_Pred'], label = '5000 ft Threshold')\n",
    "ax.plot(Spatial_Ave_df['fSCA_RegionVal'], label = 'fSCA 0.2 Threshold')\n",
    "ax.plot(Spatial_Ave_df['no_fSCA_RegionVal'], label = 'Full Model Domain')\n",
    "ax.plot(Spatial_Ave_df['5000ftDomain_UpdatedCDEC'], label = '5000ft Threshold w/CDEC')\n",
    "ax.legend()\n",
    "#ax.xaxis.set_major_locator(mdates.MonthLocator(bymonth=range(1,12,3)))\n",
    "#ax.xaxis.set_major_formatter(mdates.DateFormatter('%Y-%b'))\n",
    "\n",
    "plt.setp(ax.get_xticklabels(), rotation=45) \n",
    "plt.ylabel(\"SWE (in)\")\n",
    "plt.xlabel(\"Date\")\n",
    "plt.title(\"Sierra Nevada NSM SWE predictions\")\n",
    "plt.savefig(cwd + \"/Figures/Thresholds/2018-2019_SWE_in_Sierras.png\", dpi=600, bbox_inches='tight')\n",
    "plt.show()"
   ]
  },
  {
   "cell_type": "code",
   "execution_count": 17,
   "metadata": {},
   "outputs": [
    {
     "data": {
      "image/png": "[encoded data removed]",
      "text/plain": [
       "<Figure size 504x360 with 1 Axes>"
      ]
     },
     "metadata": {
      "needs_background": "light"
     },
     "output_type": "display_data"
    }
   ],
   "source": [
    "import matplotlib.dates as mdates\n",
    "\n",
    "in_to_cm = 2.54\n",
    "\n",
    "#make figure\n",
    "fig, ax = plt.subplots(1,1, figsize=(7, 5))\n",
    "ax.set_facecolor('white')\n",
    "\n",
    "ax.plot(Spatial_Ave_df['no_fSCA_Region_Pred']*in_to_cm, label = '5000 ft Threshold')\n",
    "ax.plot(Spatial_Ave_df['fSCA_RegionVal']*in_to_cm, label = 'fSCA 0.2 Threshold')\n",
    "ax.plot(Spatial_Ave_df['no_fSCA_RegionVal']*in_to_cm, label = 'Full Model Domain')\n",
    "ax.plot(Spatial_Ave_df['5000ftDomain_UpdatedCDEC']*in_to_cm, label = '5000ft Threshold w/CDEC')\n",
    "ax.legend()\n",
    "#ax.xaxis.set_major_locator(mdates.MonthLocator(bymonth=range(1,12,3)))\n",
    "#ax.xaxis.set_major_formatter(mdates.DateFormatter('%Y-%b'))\n",
    "\n",
    "plt.setp(ax.get_xticklabels(), rotation=45) \n",
    "plt.ylabel(\"SWE (cm)\")\n",
    "plt.xlabel(\"Date\")\n",
    "plt.title(\"Sierra Nevada NSM SWE predictions\")\n",
    "plt.savefig(cwd + \"/Figures/Thresholds/2018-2019_SWE_cm_Sierras.png\", dpi=600, bbox_inches='tight')\n",
    "plt.show()"
   ]
  },
  {
   "cell_type": "code",
   "execution_count": 23,
   "metadata": {
    "scrolled": true
   },
   "outputs": [],
   "source": [
    "#Get and add CDEC observations to SWE prediction plot\n",
    "CDEC = {}\n",
    "\n",
    "path = cwd+ '/Data/Pre_Processed_DA/WY2019/'\n",
    "for x in os.listdir(path):\n",
    "    if x.endswith(\".csv\"):\n",
    "        CDEC[x] = pd.read_csv(path+x)\n",
    "        CDEC[x] = CDEC[x][CDEC[x]['station_id'].str.contains('CDEC') ]\n",
    "        CDEC[x].set_index('station_id', inplace = True)"
   ]
  },
  {
   "cell_type": "code",
   "execution_count": 24,
   "metadata": {},
   "outputs": [],
   "source": [
    "CDEC_df = pd.DataFrame(index = CDEC['ground_measures_features_2019-03-04.csv'].index)\n",
    "\n",
    "for key in CDEC.keys():\n",
    "    df = CDEC[key]\n",
    "    CDEC_df = pd.concat([CDEC_df, df])\n"
   ]
  },
  {
   "cell_type": "code",
   "execution_count": 25,
   "metadata": {},
   "outputs": [
    {
     "ename": "ValueError",
     "evalue": "If using all scalar values, you must pass an index",
     "output_type": "error",
     "traceback": [
      "\u001b[1;31m---------------------------------------------------------------------------\u001b[0m",
      "\u001b[1;31mValueError\u001b[0m                                Traceback (most recent call last)",
      "Input \u001b[1;32mIn [25]\u001b[0m, in \u001b[0;36m<cell line: 1>\u001b[1;34m()\u001b[0m\n\u001b[1;32m----> 1\u001b[0m \u001b[43mpd\u001b[49m\u001b[38;5;241;43m.\u001b[39;49m\u001b[43mDataFrame\u001b[49m\u001b[38;5;241;43m.\u001b[39;49m\u001b[43mfrom_dict\u001b[49m\u001b[43m(\u001b[49m\u001b[43mCDEC\u001b[49m\u001b[43m)\u001b[49m\n",
      "File \u001b[1;32m~\\Anaconda3\\envs\\NSM_env\\lib\\site-packages\\pandas\\core\\frame.py:1677\u001b[0m, in \u001b[0;36mDataFrame.from_dict\u001b[1;34m(cls, data, orient, dtype, columns)\u001b[0m\n\u001b[0;32m   1674\u001b[0m     \u001b[38;5;28;01mraise\u001b[39;00m \u001b[38;5;167;01mValueError\u001b[39;00m(\u001b[38;5;124m\"\u001b[39m\u001b[38;5;124monly recognize index or columns for orient\u001b[39m\u001b[38;5;124m\"\u001b[39m)\n\u001b[0;32m   1676\u001b[0m \u001b[38;5;28;01mif\u001b[39;00m orient \u001b[38;5;241m!=\u001b[39m \u001b[38;5;124m\"\u001b[39m\u001b[38;5;124mtight\u001b[39m\u001b[38;5;124m\"\u001b[39m:\n\u001b[1;32m-> 1677\u001b[0m     \u001b[38;5;28;01mreturn\u001b[39;00m \u001b[38;5;28;43mcls\u001b[39;49m\u001b[43m(\u001b[49m\u001b[43mdata\u001b[49m\u001b[43m,\u001b[49m\u001b[43m \u001b[49m\u001b[43mindex\u001b[49m\u001b[38;5;241;43m=\u001b[39;49m\u001b[43mindex\u001b[49m\u001b[43m,\u001b[49m\u001b[43m \u001b[49m\u001b[43mcolumns\u001b[49m\u001b[38;5;241;43m=\u001b[39;49m\u001b[43mcolumns\u001b[49m\u001b[43m,\u001b[49m\u001b[43m \u001b[49m\u001b[43mdtype\u001b[49m\u001b[38;5;241;43m=\u001b[39;49m\u001b[43mdtype\u001b[49m\u001b[43m)\u001b[49m\n\u001b[0;32m   1678\u001b[0m \u001b[38;5;28;01melse\u001b[39;00m:\n\u001b[0;32m   1679\u001b[0m     realdata \u001b[38;5;241m=\u001b[39m data[\u001b[38;5;124m\"\u001b[39m\u001b[38;5;124mdata\u001b[39m\u001b[38;5;124m\"\u001b[39m]\n",
      "File \u001b[1;32m~\\Anaconda3\\envs\\NSM_env\\lib\\site-packages\\pandas\\core\\frame.py:636\u001b[0m, in \u001b[0;36mDataFrame.__init__\u001b[1;34m(self, data, index, columns, dtype, copy)\u001b[0m\n\u001b[0;32m    630\u001b[0m     mgr \u001b[38;5;241m=\u001b[39m \u001b[38;5;28mself\u001b[39m\u001b[38;5;241m.\u001b[39m_init_mgr(\n\u001b[0;32m    631\u001b[0m         data, axes\u001b[38;5;241m=\u001b[39m{\u001b[38;5;124m\"\u001b[39m\u001b[38;5;124mindex\u001b[39m\u001b[38;5;124m\"\u001b[39m: index, \u001b[38;5;124m\"\u001b[39m\u001b[38;5;124mcolumns\u001b[39m\u001b[38;5;124m\"\u001b[39m: columns}, dtype\u001b[38;5;241m=\u001b[39mdtype, copy\u001b[38;5;241m=\u001b[39mcopy\n\u001b[0;32m    632\u001b[0m     )\n\u001b[0;32m    634\u001b[0m \u001b[38;5;28;01melif\u001b[39;00m \u001b[38;5;28misinstance\u001b[39m(data, \u001b[38;5;28mdict\u001b[39m):\n\u001b[0;32m    635\u001b[0m     \u001b[38;5;66;03m# GH#38939 de facto copy defaults to False only in non-dict cases\u001b[39;00m\n\u001b[1;32m--> 636\u001b[0m     mgr \u001b[38;5;241m=\u001b[39m \u001b[43mdict_to_mgr\u001b[49m\u001b[43m(\u001b[49m\u001b[43mdata\u001b[49m\u001b[43m,\u001b[49m\u001b[43m \u001b[49m\u001b[43mindex\u001b[49m\u001b[43m,\u001b[49m\u001b[43m \u001b[49m\u001b[43mcolumns\u001b[49m\u001b[43m,\u001b[49m\u001b[43m \u001b[49m\u001b[43mdtype\u001b[49m\u001b[38;5;241;43m=\u001b[39;49m\u001b[43mdtype\u001b[49m\u001b[43m,\u001b[49m\u001b[43m \u001b[49m\u001b[43mcopy\u001b[49m\u001b[38;5;241;43m=\u001b[39;49m\u001b[43mcopy\u001b[49m\u001b[43m,\u001b[49m\u001b[43m \u001b[49m\u001b[43mtyp\u001b[49m\u001b[38;5;241;43m=\u001b[39;49m\u001b[43mmanager\u001b[49m\u001b[43m)\u001b[49m\n\u001b[0;32m    637\u001b[0m \u001b[38;5;28;01melif\u001b[39;00m \u001b[38;5;28misinstance\u001b[39m(data, ma\u001b[38;5;241m.\u001b[39mMaskedArray):\n\u001b[0;32m    638\u001b[0m     \u001b[38;5;28;01mimport\u001b[39;00m \u001b[38;5;21;01mnumpy\u001b[39;00m\u001b[38;5;21;01m.\u001b[39;00m\u001b[38;5;21;01mma\u001b[39;00m\u001b[38;5;21;01m.\u001b[39;00m\u001b[38;5;21;01mmrecords\u001b[39;00m \u001b[38;5;28;01mas\u001b[39;00m \u001b[38;5;21;01mmrecords\u001b[39;00m\n",
      "File \u001b[1;32m~\\Anaconda3\\envs\\NSM_env\\lib\\site-packages\\pandas\\core\\internals\\construction.py:502\u001b[0m, in \u001b[0;36mdict_to_mgr\u001b[1;34m(data, index, columns, dtype, typ, copy)\u001b[0m\n\u001b[0;32m    494\u001b[0m     arrays \u001b[38;5;241m=\u001b[39m [\n\u001b[0;32m    495\u001b[0m         x\n\u001b[0;32m    496\u001b[0m         \u001b[38;5;28;01mif\u001b[39;00m \u001b[38;5;129;01mnot\u001b[39;00m \u001b[38;5;28mhasattr\u001b[39m(x, \u001b[38;5;124m\"\u001b[39m\u001b[38;5;124mdtype\u001b[39m\u001b[38;5;124m\"\u001b[39m) \u001b[38;5;129;01mor\u001b[39;00m \u001b[38;5;129;01mnot\u001b[39;00m \u001b[38;5;28misinstance\u001b[39m(x\u001b[38;5;241m.\u001b[39mdtype, ExtensionDtype)\n\u001b[0;32m    497\u001b[0m         \u001b[38;5;28;01melse\u001b[39;00m x\u001b[38;5;241m.\u001b[39mcopy()\n\u001b[0;32m    498\u001b[0m         \u001b[38;5;28;01mfor\u001b[39;00m x \u001b[38;5;129;01min\u001b[39;00m arrays\n\u001b[0;32m    499\u001b[0m     ]\n\u001b[0;32m    500\u001b[0m     \u001b[38;5;66;03m# TODO: can we get rid of the dt64tz special case above?\u001b[39;00m\n\u001b[1;32m--> 502\u001b[0m \u001b[38;5;28;01mreturn\u001b[39;00m \u001b[43marrays_to_mgr\u001b[49m\u001b[43m(\u001b[49m\u001b[43marrays\u001b[49m\u001b[43m,\u001b[49m\u001b[43m \u001b[49m\u001b[43mcolumns\u001b[49m\u001b[43m,\u001b[49m\u001b[43m \u001b[49m\u001b[43mindex\u001b[49m\u001b[43m,\u001b[49m\u001b[43m \u001b[49m\u001b[43mdtype\u001b[49m\u001b[38;5;241;43m=\u001b[39;49m\u001b[43mdtype\u001b[49m\u001b[43m,\u001b[49m\u001b[43m \u001b[49m\u001b[43mtyp\u001b[49m\u001b[38;5;241;43m=\u001b[39;49m\u001b[43mtyp\u001b[49m\u001b[43m,\u001b[49m\u001b[43m \u001b[49m\u001b[43mconsolidate\u001b[49m\u001b[38;5;241;43m=\u001b[39;49m\u001b[43mcopy\u001b[49m\u001b[43m)\u001b[49m\n",
      "File \u001b[1;32m~\\Anaconda3\\envs\\NSM_env\\lib\\site-packages\\pandas\\core\\internals\\construction.py:120\u001b[0m, in \u001b[0;36marrays_to_mgr\u001b[1;34m(arrays, columns, index, dtype, verify_integrity, typ, consolidate)\u001b[0m\n\u001b[0;32m    117\u001b[0m \u001b[38;5;28;01mif\u001b[39;00m verify_integrity:\n\u001b[0;32m    118\u001b[0m     \u001b[38;5;66;03m# figure out the index, if necessary\u001b[39;00m\n\u001b[0;32m    119\u001b[0m     \u001b[38;5;28;01mif\u001b[39;00m index \u001b[38;5;129;01mis\u001b[39;00m \u001b[38;5;28;01mNone\u001b[39;00m:\n\u001b[1;32m--> 120\u001b[0m         index \u001b[38;5;241m=\u001b[39m \u001b[43m_extract_index\u001b[49m\u001b[43m(\u001b[49m\u001b[43marrays\u001b[49m\u001b[43m)\u001b[49m\n\u001b[0;32m    121\u001b[0m     \u001b[38;5;28;01melse\u001b[39;00m:\n\u001b[0;32m    122\u001b[0m         index \u001b[38;5;241m=\u001b[39m ensure_index(index)\n",
      "File \u001b[1;32m~\\Anaconda3\\envs\\NSM_env\\lib\\site-packages\\pandas\\core\\internals\\construction.py:664\u001b[0m, in \u001b[0;36m_extract_index\u001b[1;34m(data)\u001b[0m\n\u001b[0;32m    661\u001b[0m         \u001b[38;5;28;01mraise\u001b[39;00m \u001b[38;5;167;01mValueError\u001b[39;00m(\u001b[38;5;124m\"\u001b[39m\u001b[38;5;124mPer-column arrays must each be 1-dimensional\u001b[39m\u001b[38;5;124m\"\u001b[39m)\n\u001b[0;32m    663\u001b[0m \u001b[38;5;28;01mif\u001b[39;00m \u001b[38;5;129;01mnot\u001b[39;00m indexes \u001b[38;5;129;01mand\u001b[39;00m \u001b[38;5;129;01mnot\u001b[39;00m raw_lengths:\n\u001b[1;32m--> 664\u001b[0m     \u001b[38;5;28;01mraise\u001b[39;00m \u001b[38;5;167;01mValueError\u001b[39;00m(\u001b[38;5;124m\"\u001b[39m\u001b[38;5;124mIf using all scalar values, you must pass an index\u001b[39m\u001b[38;5;124m\"\u001b[39m)\n\u001b[0;32m    666\u001b[0m \u001b[38;5;28;01melif\u001b[39;00m have_series:\n\u001b[0;32m    667\u001b[0m     index \u001b[38;5;241m=\u001b[39m union_indexes(indexes)\n",
      "\u001b[1;31mValueError\u001b[0m: If using all scalar values, you must pass an index"
     ]
    }
   ],
   "source": [
    "pd.DataFrame.from_dict(CDEC)"
   ]
  },
  {
   "cell_type": "code",
   "execution_count": null,
   "metadata": {},
   "outputs": [],
   "source": []
  },
  {
   "cell_type": "code",
   "execution_count": null,
   "metadata": {},
   "outputs": [],
   "source": []
  },
  {
   "cell_type": "code",
   "execution_count": null,
   "metadata": {},
   "outputs": [],
   "source": []
  },
  {
   "cell_type": "code",
   "execution_count": null,
   "metadata": {},
   "outputs": [],
   "source": []
  },
  {
   "cell_type": "code",
   "execution_count": null,
   "metadata": {},
   "outputs": [],
   "source": []
  },
  {
   "cell_type": "code",
   "execution_count": null,
   "metadata": {},
   "outputs": [],
   "source": []
  },
  {
   "cell_type": "code",
   "execution_count": null,
   "metadata": {},
   "outputs": [],
   "source": []
  },
  {
   "cell_type": "markdown",
   "metadata": {},
   "source": [
    "## Graph Volume"
   ]
  },
  {
   "cell_type": "code",
   "execution_count": null,
   "metadata": {},
   "outputs": [],
   "source": [
    "totals = {}\n",
    "for run in clean:\n",
    "    total_in = clean[run].sum(axis=0)\n",
    "    totals[run] = total_in\n",
    "    \n",
    "df = pd.DataFrame(totals)\n",
    "df.rename(columns={'no_fSCA_Region_Pred': '5000ft Elevation Threshold', 'fSCA_RegionVal': 'fSCA Threshold', 'no_fSCA_RegionVal': 'Original Model'}, inplace=True)\n",
    "\n",
    "for col in df.columns:\n",
    "    df[f\"{col}_m\"] = df[col] / 39.3700787402  # convert inches to meters\n",
    "    df[f\"{col} Volume\"] = df[f\"{col}_m\"] / 1000  # convert meters to kilometers (using square kilometer grid, so we're done!)\n",
    "    \n",
    "df.head(40)\n",
    "df.index = pd.to_datetime(df.index)\n",
    "df.info()  \n"
   ]
  },
  {
   "cell_type": "code",
   "execution_count": null,
   "metadata": {},
   "outputs": [],
   "source": [
    "sns.set_style(\"whitegrid\")\n",
    "sns.set_context(\"poster\")\n",
    "sns.set(rc={'figure.figsize':(11.7,5.27)})\n",
    "\n",
    "g = sns.lineplot(data=df[[\"Original Model Volume\", \"5000ft Elevation Threshold Volume\", \"fSCA Threshold Volume\"]], dashes=False, )\n",
    "t = plt.xticks(rotation=45, ha='right')\n",
    "plt.ylabel(\"SWE (km^3)\")\n",
    "plt.xlabel(\"Date\")\n",
    "plt.title(\"Comparison of Model's SWE predictions for 2018-2019 Water Year\")\n",
    "plt.savefig(cwd + \"/Figures/Thresholds/2018-2019_SWE_Predictions_m3.png\", dpi=600, bbox_inches='tight')\n",
    "plt.show()"
   ]
  },
  {
   "cell_type": "code",
   "execution_count": null,
   "metadata": {},
   "outputs": [],
   "source": []
  }
 ],
 "metadata": {
  "kernelspec": {
   "display_name": "NSM_env",
   "language": "python",
   "name": "nsm_env"
  },
  "language_info": {
   "codemirror_mode": {
    "name": "ipython",
    "version": 3
   },
   "file_extension": ".py",
   "mimetype": "text/x-python",
   "name": "python",
   "nbconvert_exporter": "python",
   "pygments_lexer": "ipython3",
   "version": "3.9.12"
  }
 },
 "nbformat": 4,
 "nbformat_minor": 1
}
