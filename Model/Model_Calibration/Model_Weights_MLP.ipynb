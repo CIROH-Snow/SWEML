{
 "cells": [
  {
   "cell_type": "code",
   "execution_count": 2,
   "id": "72f1b421",
   "metadata": {},
   "outputs": [
    {
     "name": "stdout",
     "output_type": "stream",
     "text": [
      "Warning: ecCodes 2.21.0 or higher is recommended. You are running version 2.19.1\n",
      "1.3.5\n",
      "1.0.2\n",
      "2.4.1\n",
      "3.9.5\n"
     ]
    }
   ],
   "source": [
    "import os\n",
    "import time\n",
    "\n",
    "import re\n",
    "import copy\n",
    "import numpy as np\n",
    "import pandas as pd\n",
    "import h5py\n",
    "import tables\n",
    "import random\n",
    "from tqdm import tqdm\n",
    "import matplotlib.pyplot as plt\n",
    "import seaborn as sns\n",
    "import rioxarray as rxr\n",
    "import math\n",
    "import pickle \n",
    "import sklearn\n",
    "import graphviz\n",
    "import xgboost as xgb\n",
    "import lightgbm as lgbm\n",
    "from pickle import dump\n",
    "\n",
    "import contextily as cx\n",
    "import rasterio\n",
    "import geopandas as gpd\n",
    "from shapely.geometry import Point\n",
    "# from mpl_toolkits.basemap import Basemap\n",
    "\n",
    "from sklearn.preprocessing import MinMaxScaler\n",
    "from sklearn.model_selection import train_test_split\n",
    "from sklearn.model_selection import GridSearchCV\n",
    "from sklearn.model_selection import StratifiedKFold\n",
    "from sklearn.metrics import mean_squared_error\n",
    "from sklearn.feature_selection import RFE\n",
    "from sklearn.feature_selection import RFECV\n",
    "from xgboost import cv\n",
    "from xgboost import XGBRegressor\n",
    "from xgboost import plot_importance as plot_importance_XGB\n",
    "from lightgbm import LGBMRegressor\n",
    "from lightgbm import plot_importance as plot_importance_LGBM\n",
    "\n",
    "import tensorflow as tf\n",
    "from tensorflow import keras\n",
    "from tensorflow.keras import layers\n",
    "from tensorflow.keras.models import load_model\n",
    "from tensorflow.keras.models import Sequential\n",
    "# from tensorflow.keras.utils import np_utils\n",
    "from tensorflow.keras.layers import Dense, Activation, Dropout\n",
    "from os import listdir\n",
    "from os.path import isfile, join\n",
    "from platform import python_version\n",
    "\n",
    "import re\n",
    "\n",
    "def atof(text):\n",
    "    try:\n",
    "        retval = float(text)\n",
    "    except ValueError:\n",
    "        retval = text\n",
    "    return retval\n",
    "\n",
    "def natural_keys(text):\n",
    "    '''\n",
    "    alist.sort(key=natural_keys) sorts in human order\n",
    "    http://nedbatchelder.com/blog/200712/human_sorting.html\n",
    "    (See Toothy's implementation in the comments)\n",
    "    float regex comes from https://stackoverflow.com/a/12643073/190597\n",
    "    '''\n",
    "    return [ atof(c) for c in re.split(r'[+-]?([0-9]+(?:[.][0-9]*)?|[.][0-9]+)', text) ]\n",
    "\n",
    "\n",
    "\n",
    "print(pd.__version__) # should be 1.3.0\n",
    "print(sklearn.__version__) # should be 0.24.1\n",
    "print(tf.__version__) # should be 2.4.0\n",
    "print(python_version()) #should be 3.8.2"
   ]
  },
  {
   "cell_type": "code",
   "execution_count": 3,
   "id": "ba8f14d7",
   "metadata": {},
   "outputs": [
    {
     "data": {
      "text/plain": [
       "'/uufs/chpc.utah.edu/common/home/civil-group1/ItalianAlps/SnowCast/Final_Model'"
      ]
     },
     "execution_count": 3,
     "metadata": {},
     "output_type": "execute_result"
    }
   ],
   "source": [
    "os.getcwd()\n",
    "os.chdir('..')\n",
    "os.getcwd()\n",
    "os.chdir('..')\n",
    "os.getcwd()"
   ]
  },
  {
   "cell_type": "code",
   "execution_count": 4,
   "id": "e1e3fc7c",
   "metadata": {},
   "outputs": [],
   "source": [
    "\n",
    "### define new regions\n",
    "Region_list = ['N_Sierras',\n",
    "               'S_Sierras_High',\n",
    "               'S_Sierras_Low',\n",
    "               'Greater_Yellowstone',\n",
    "               'N_Co_Rockies',\n",
    "               'SW_Mont',\n",
    "               'SW_Co_Rockies',\n",
    "               'GBasin',\n",
    "               'N_Wasatch',\n",
    "               'N_Cascade',\n",
    "               'S_Wasatch',\n",
    "               'SW_Mtns',\n",
    "               'E_WA_N_Id_W_Mont',\n",
    "               'S_Wyoming',\n",
    "               'SE_Co_Rockies',\n",
    "               'Sawtooth',\n",
    "               'Ca_Coast',\n",
    "               'E_Or',\n",
    "               'N_Yellowstone',\n",
    "               'S_Cascade',\n",
    "               'Wa_Coast',\n",
    "               'Greater_Glacier',\n",
    "               'Or_Coast'\n",
    "              ]"
   ]
  },
  {
   "cell_type": "code",
   "execution_count": 5,
   "id": "4c1106c2",
   "metadata": {},
   "outputs": [
    {
     "name": "stdout",
     "output_type": "stream",
     "text": [
      "Model/Initial_Models_Final/N_Sierras/N_Sierras_model.h5\n"
     ]
    },
    {
     "name": "stderr",
     "output_type": "stream",
     "text": [
      "2022-02-15 15:45:01.477077: I tensorflow/compiler/jit/xla_cpu_device.cc:41] Not creating XLA devices, tf_xla_enable_xla_devices not set\n",
      "2022-02-15 15:45:01.478375: I tensorflow/core/platform/cpu_feature_guard.cc:142] This TensorFlow binary is optimized with oneAPI Deep Neural Network Library (oneDNN) to use the following CPU instructions in performance-critical operations:  SSE4.1 SSE4.2 AVX AVX2 AVX512F FMA\n",
      "To enable them in other operations, rebuild TensorFlow with the appropriate compiler flags.\n",
      "2022-02-15 15:45:01.552281: I tensorflow/core/common_runtime/process_util.cc:146] Creating new thread pool with default inter op setting: 2. Tune using inter_op_parallelism_threads for best performance.\n"
     ]
    },
    {
     "name": "stdout",
     "output_type": "stream",
     "text": [
      "Model/Initial_Models_Final/S_Sierras_High/S_Sierras_High_model.h5\n",
      "Model/Initial_Models_Final/S_Sierras_Low/S_Sierras_Low_model.h5\n",
      "Model/Initial_Models_Final/Greater_Yellowstone/Greater_Yellowstone_model.h5\n",
      "Model/Initial_Models_Final/N_Co_Rockies/N_Co_Rockies_model.h5\n",
      "Model/Initial_Models_Final/SW_Mont/SW_Mont_model.h5\n",
      "Model/Initial_Models_Final/SW_Co_Rockies/SW_Co_Rockies_model.h5\n",
      "Model/Initial_Models_Final/GBasin/GBasin_model.h5\n",
      "Model/Initial_Models_Final/N_Wasatch/N_Wasatch_model.h5\n",
      "Model/Initial_Models_Final/N_Cascade/N_Cascade_model.h5\n",
      "Model/Initial_Models_Final/S_Wasatch/S_Wasatch_model.h5\n",
      "Model/Initial_Models_Final/SW_Mtns/SW_Mtns_model.h5\n",
      "Model/Initial_Models_Final/E_WA_N_Id_W_Mont/E_WA_N_Id_W_Mont_model.h5\n",
      "Model/Initial_Models_Final/S_Wyoming/S_Wyoming_model.h5\n",
      "Model/Initial_Models_Final/SE_Co_Rockies/SE_Co_Rockies_model.h5\n",
      "Model/Initial_Models_Final/Sawtooth/Sawtooth_model.h5\n",
      "Model/Initial_Models_Final/Ca_Coast/Ca_Coast_model.h5\n",
      "Model/Initial_Models_Final/E_Or/E_Or_model.h5\n",
      "Model/Initial_Models_Final/N_Yellowstone/N_Yellowstone_model.h5\n",
      "Model/Initial_Models_Final/S_Cascade/S_Cascade_model.h5\n",
      "Model/Initial_Models_Final/Wa_Coast/Wa_Coast_model.h5\n",
      "Model/Initial_Models_Final/Greater_Glacier/Greater_Glacier_model.h5\n",
      "Model/Initial_Models_Final/Or_Coast/Or_Coast_model.h5\n"
     ]
    }
   ],
   "source": [
    "Model_weights_intial = {}\n",
    "for Region in Region_list:\n",
    "#set up filepath to extract best model\n",
    "    checkpoint_filepath = 'Model/Initial_Models_Final/'+Region+ '/'\n",
    "    model = checkpoint_filepath+Region+'_model.h5'\n",
    "    print(model)\n",
    "    model=load_model(model)\n",
    "    Model_weights_intial[Region] = {}\n",
    "    for i in range(1,len((model.layers))):\n",
    "        weights = model.layers[i].get_weights()\n",
    "        Model_weights_intial[Region][i] = weights\n",
    "\n",
    "pickle.dump(Model_weights_intial, open(\"Model/Model_Calibration/Initial_MLP/Model_Weights_Intitial.pkl\", \"wb\"))\n"
   ]
  },
  {
   "cell_type": "code",
   "execution_count": 6,
   "id": "bbc70463",
   "metadata": {},
   "outputs": [
    {
     "name": "stdout",
     "output_type": "stream",
     "text": [
      "Model/Prev_SWE_Models_Final/N_Sierras/N_Sierras_model.h5\n",
      "Model/Prev_SWE_Models_Final/S_Sierras_High/S_Sierras_High_model.h5\n",
      "Model/Prev_SWE_Models_Final/S_Sierras_Low/S_Sierras_Low_model.h5\n",
      "Model/Prev_SWE_Models_Final/Greater_Yellowstone/Greater_Yellowstone_model.h5\n",
      "Model/Prev_SWE_Models_Final/N_Co_Rockies/N_Co_Rockies_model.h5\n",
      "Model/Prev_SWE_Models_Final/SW_Mont/SW_Mont_model.h5\n",
      "Model/Prev_SWE_Models_Final/SW_Co_Rockies/SW_Co_Rockies_model.h5\n",
      "Model/Prev_SWE_Models_Final/GBasin/GBasin_model.h5\n",
      "Model/Prev_SWE_Models_Final/N_Wasatch/N_Wasatch_model.h5\n",
      "Model/Prev_SWE_Models_Final/N_Cascade/N_Cascade_model.h5\n",
      "Model/Prev_SWE_Models_Final/S_Wasatch/S_Wasatch_model.h5\n",
      "Model/Prev_SWE_Models_Final/SW_Mtns/SW_Mtns_model.h5\n",
      "Model/Prev_SWE_Models_Final/E_WA_N_Id_W_Mont/E_WA_N_Id_W_Mont_model.h5\n",
      "Model/Prev_SWE_Models_Final/S_Wyoming/S_Wyoming_model.h5\n",
      "Model/Prev_SWE_Models_Final/SE_Co_Rockies/SE_Co_Rockies_model.h5\n",
      "Model/Prev_SWE_Models_Final/Sawtooth/Sawtooth_model.h5\n",
      "Model/Prev_SWE_Models_Final/Ca_Coast/Ca_Coast_model.h5\n",
      "Model/Prev_SWE_Models_Final/E_Or/E_Or_model.h5\n",
      "Model/Prev_SWE_Models_Final/N_Yellowstone/N_Yellowstone_model.h5\n",
      "Model/Prev_SWE_Models_Final/S_Cascade/S_Cascade_model.h5\n",
      "Model/Prev_SWE_Models_Final/Wa_Coast/Wa_Coast_model.h5\n",
      "Model/Prev_SWE_Models_Final/Greater_Glacier/Greater_Glacier_model.h5\n",
      "Model/Prev_SWE_Models_Final/Or_Coast/Or_Coast_model.h5\n"
     ]
    }
   ],
   "source": [
    "Model_weights_final= {}\n",
    "for Region in Region_list:\n",
    "#set up filepath to extract best model\n",
    "    checkpoint_filepath = 'Model/Prev_SWE_Models_Final/'+Region+ '/'\n",
    "    model = checkpoint_filepath+Region+'_model.h5'\n",
    "    print(model)\n",
    "    model=load_model(model)\n",
    "    Model_weights_intial[Region] = {}\n",
    "    for i in range(1,len((model.layers))):\n",
    "        weights = model.layers[i].get_weights()\n",
    "        Model_weights_intial[Region][i] = weights\n",
    "\n",
    "pickle.dump(Model_weights_final, open(\"Model/Model_Calibration/Prev_MLP/Model_Weights_Final.pkl\", \"wb\"))\n"
   ]
  },
  {
   "cell_type": "code",
   "execution_count": null,
   "id": "5267087b",
   "metadata": {},
   "outputs": [],
   "source": []
  }
 ],
 "metadata": {
  "kernelspec": {
   "display_name": "Python 3 (ipykernel)",
   "language": "python",
   "name": "python3"
  },
  "language_info": {
   "codemirror_mode": {
    "name": "ipython",
    "version": 3
   },
   "file_extension": ".py",
   "mimetype": "text/x-python",
   "name": "python",
   "nbconvert_exporter": "python",
   "pygments_lexer": "ipython3",
   "version": "3.9.5"
  }
 },
 "nbformat": 4,
 "nbformat_minor": 5
}
