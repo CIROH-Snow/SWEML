{
 "cells": [
  {
   "cell_type": "code",
   "execution_count": null,
   "metadata": {
    "collapsed": true
   },
   "outputs": [],
   "source": [
    "import pandas as pd\n",
    "import geopandas as gpd\n",
    "import numpy as np\n",
    "import rasterio as rio\n",
    "from rasterio.merge import merge\n",
    "from rasterio.plot import show\n",
    "import rioxarray as rxr\n",
    "import xarray as xr\n",
    "import folium\n",
    "import hvplot\n",
    "import h5py\n",
    "import h5netcdf\n",
    "import re"
   ]
  },
  {
   "cell_type": "code",
   "execution_count": null,
   "outputs": [],
   "source": [
    "# grap data from hdf5 file\n",
    "f = h5py.File(\"/Users/jmac/Documents/Programming/REU/National-Snow-Model/Data/VIIRS_SCA/2013-2014/VNP10A1F.A2013330.h08v05.001.2019340224942.h5\", \"r\")"
   ],
   "metadata": {
    "collapsed": false
   }
  },
  {
   "cell_type": "code",
   "execution_count": null,
   "outputs": [],
   "source": [
    "# # List all groups\n",
    "# print(\"Keys: %s\" % f.keys())\n",
    "# a_group_key = list(f.keys())[0]\n",
    "#\n",
    "# # Get the data\n",
    "# data = list(f[a_group_key])"
   ],
   "metadata": {
    "collapsed": false
   }
  },
  {
   "cell_type": "code",
   "execution_count": null,
   "outputs": [],
   "source": [
    "for key in f.keys():\n",
    "    print(key) #Names of the root level object names in HDF5 file - can be groups or datasets.\n",
    "    print(type(f[key])) # get the object type: usually group or dataset\n",
    "    ls = list(f.keys())"
   ],
   "metadata": {
    "collapsed": false
   }
  },
  {
   "cell_type": "code",
   "execution_count": null,
   "outputs": [],
   "source": [
    "# np.array(f.get('HDFEOS').get('GRIDS').get('NPP_Grid_IMG_2D').get('Data Fields').get('CGF_NDSI_Snow_Cover'))\n",
    "# bitmap = np.array(f['HDFEOS']['GRIDS']['NPP_Grid_IMG_2D']['Data Fields']['CGF_NDSI_Snow_Cover'])\n",
    "# bitmap"
   ],
   "metadata": {
    "collapsed": false
   }
  },
  {
   "cell_type": "code",
   "execution_count": null,
   "outputs": [],
   "source": [
    "# xr.open_mfdataset(\"/Users/jmac/Documents/Programming/REU/National-Snow-Model/Data/VIIRS_SCA/2013-2014/VNP10A1F.A2013330.h08v05.001.2019340224942.h5\", engine='h5netcdf')"
   ],
   "metadata": {
    "collapsed": false
   }
  },
  {
   "cell_type": "code",
   "execution_count": null,
   "outputs": [],
   "source": [
    "# def create_geotiff(fname, h5_path, geo_transform, projection = \"+proj=sinu +lon_0=0 +x_0=0 +y_0=0 +ellps=WGS84 +datum=WGS84 +units=m +no_defs\", datafield = \"CGF_NDSI_Snow_Cover\"):\n",
    "#     '''\n",
    "#     Create a GeoTIFF file with the given data.\n",
    "#     '''\n",
    "#     # Open the HDF5 file\n",
    "#     hdf5_ds = h5py.File(h5_path, 'r')\n",
    "#     data = hdf5_ds['HDFEOS']['GRIDS']['NPP_Grid_IMG_2D']['Data Fields'][datafield]\n",
    "#     crs = rio.crs.CRS.from_proj4(projection)\n",
    "\n"
   ],
   "metadata": {
    "collapsed": false
   }
  },
  {
   "cell_type": "code",
   "execution_count": null,
   "outputs": [],
   "source": [
    "def convert_h5_to_geotiff(h5_file, datafield_name, output_geotiff):\n",
    "    with h5py.File(h5_file, mode='r') as f:\n",
    "        # Access the data field\n",
    "        data = f[datafield_name][:].astype(np.float64)\n",
    "\n",
    "        # Read metadata\n",
    "        gridmeta = f['/HDFEOS INFORMATION/StructMetadata.0'][()]\n",
    "        s = gridmeta.decode('UTF-8')\n",
    "\n",
    "        # Extract grid extents using regular expressions\n",
    "        ul_regex = re.compile(r'''UpperLeftPointMtrs=\\(\n",
    "        (?P<upper_left_x>[+-]?\\d+\\.\\d+)\n",
    "        ,\n",
    "        (?P<upper_left_y>[+-]?\\d+\\.\\d+)\n",
    "        \\)''', re.VERBOSE)\n",
    "        match = ul_regex.search(s)\n",
    "        x0 = float(match.group('upper_left_x'))\n",
    "        y0 = float(match.group('upper_left_y'))\n",
    "        lr_regex = re.compile(r'''LowerRightMtrs=\\(\n",
    "        (?P<lower_right_x>[+-]?\\d+\\.\\d+)\n",
    "        ,\n",
    "        (?P<lower_right_y>[+-]?\\d+\\.\\d+)\n",
    "        \\)''', re.VERBOSE)\n",
    "        match = lr_regex.search(s)\n",
    "        x1 = float(match.group('lower_right_x'))\n",
    "        y1 = float(match.group('lower_right_y'))\n",
    "        ny, nx = data.shape\n",
    "\n",
    "        # Create rasterio dataset and write the data\n",
    "        transform = rio.transform.from_bounds(x0, y1, x1, y0, nx, ny)\n",
    "        # crs = rio.crs.CRS.from_proj4(\"+proj=sinu +lon_0=0 +x_0=0 +y_0=0 +ellps=WGS84 +datum=WGS84 +units=m +no_defs\")\n",
    "        # crs = rio.crs.CRS.from_wkt('''\n",
    "        #     PROJCS[\"MODIS Sinusoidal\",\n",
    "        #         GEOGCS[\"WGS 84\",\n",
    "        #             DATUM[\"WGS_1984\",\n",
    "        #                 SPHEROID[\"WGS 84\",6378137,298.257223563,\n",
    "        #                     AUTHORITY[\"EPSG\",\"7030\"]],\n",
    "        #                 AUTHORITY[\"EPSG\",\"6326\"]],\n",
    "        #             PRIMEM[\"Greenwich\",0,\n",
    "        #                 AUTHORITY[\"EPSG\",\"8901\"]],\n",
    "        #             UNIT[\"degree\",0.01745329251994328,\n",
    "        #                 AUTHORITY[\"EPSG\",\"9122\"]],\n",
    "        #             AUTHORITY[\"EPSG\",\"4326\"]],\n",
    "        #         PROJECTION[\"Sinusoidal\"],\n",
    "        #         PARAMETER[\"false_easting\",0.0],\n",
    "        #         PARAMETER[\"false_northing\",0.0],\n",
    "        #         PARAMETER[\"central_meridian\",0.0],\n",
    "        #         PARAMETER[\"semi_major\",6371007.181],\n",
    "        #         PARAMETER[\"semi_minor\",6371007.181],\n",
    "        #         UNIT[\"m\",1.0],\n",
    "        #         AUTHORITY[\"SR-ORG\",\"6974\"]]''')\n",
    "        crs = rio.crs.CRS.from_wkt(\n",
    "            '''\n",
    "            PROJCRS[\"Sinusoidal Modis Spheroid\",BASEGEOGCRS[\"Unknown datum based upon the Authalic Sphere\",DATUM[\"Not specified (based on Authalic Sphere)\",ELLIPSOID[\"Sphere\",6371007.181,0,LENGTHUNIT[\"metre\",1]]],PRIMEM[\"Greenwich\",0,ANGLEUNIT[\"degree\",0.0174532925199433]],ID[\"EPSG\",4035]],CONVERSION[\"Sinusoidal\",METHOD[\"Sinusoidal\"],PARAMETER[\"Longitude of natural origin\",0,ANGLEUNIT[\"degree\",0.0174532925199433],ID[\"EPSG\",8802]],PARAMETER[\"False easting\",0,LENGTHUNIT[\"metre\",1],ID[\"EPSG\",8806]],PARAMETER[\"False northing\",0,LENGTHUNIT[\"metre\",1],ID[\"EPSG\",8807]]],CS[Cartesian,2],AXIS[\"easting\",east,ORDER[1],LENGTHUNIT[\"metre\",1,ID[\"EPSG\",9001]]],AXIS[\"northing\",north,ORDER[2],LENGTHUNIT[\"metre\",1,ID[\"EPSG\",9001]]]]\n",
    "            '''\n",
    "        )\n",
    "        with rio.open(output_geotiff, 'w', driver='GTiff', height=ny, width=nx, count=1, dtype=data.dtype,\n",
    "                           crs=crs, transform=transform) as dst:\n",
    "                        dst.write(data, 1)"
   ],
   "metadata": {
    "collapsed": false
   }
  },
  {
   "cell_type": "code",
   "execution_count": null,
   "outputs": [],
   "source": [
    "def convert_h5_to_geotiff(h5_file, datafield_name, output_geotiff):\n",
    "    with h5py.File(h5_file, mode='r') as f:\n",
    "        # Access the data field\n",
    "        data = f[datafield_name][:].astype(np.float64)\n",
    "\n",
    "        # Read metadata\n",
    "        gridmeta = f['/HDFEOS INFORMATION/StructMetadata.0'][()]\n",
    "        s = gridmeta.decode('UTF-8')\n",
    "\n",
    "        # Extract grid extents using regular expressions\n",
    "        ul_regex = re.compile(r'''UpperLeftPointMtrs=\\(\n",
    "        (?P<upper_left_x>[+-]?\\d+\\.\\d+)\n",
    "        ,\n",
    "        (?P<upper_left_y>[+-]?\\d+\\.\\d+)\n",
    "        \\)''', re.VERBOSE)\n",
    "        match = ul_regex.search(s)\n",
    "        x0 = float(match.group('upper_left_x'))\n",
    "        y0 = float(match.group('upper_left_y'))\n",
    "        lr_regex = re.compile(r'''LowerRightMtrs=\\(\n",
    "        (?P<lower_right_x>[+-]?\\d+\\.\\d+)\n",
    "        ,\n",
    "        (?P<lower_right_y>[+-]?\\d+\\.\\d+)\n",
    "        \\)''', re.VERBOSE)\n",
    "        match = lr_regex.search(s)\n",
    "        x1 = float(match.group('lower_right_x'))\n",
    "        y1 = float(match.group('lower_right_y'))\n",
    "        ny, nx = data.shape\n",
    "\n",
    "        # Create rasterio dataset and write the data\n",
    "        transform = rio.transform.from_bounds(x0, y1, x1, y0, nx, ny)\n",
    "        # crs = rio.crs.CRS.from_proj4(\"+proj=sinu +lon_0=0 +x_0=0 +y_0=0 +ellps=WGS84 +datum=WGS84 +units=m +no_defs\")\n",
    "        # crs = rio.crs.CRS.from_wkt('''\n",
    "        #     PROJCS[\"MODIS Sinusoidal\",\n",
    "        #         GEOGCS[\"WGS 84\",\n",
    "        #             DATUM[\"WGS_1984\",\n",
    "        #                 SPHEROID[\"WGS 84\",6378137,298.257223563,\n",
    "        #                     AUTHORITY[\"EPSG\",\"7030\"]],\n",
    "        #                 AUTHORITY[\"EPSG\",\"6326\"]],\n",
    "        #             PRIMEM[\"Greenwich\",0,\n",
    "        #                 AUTHORITY[\"EPSG\",\"8901\"]],\n",
    "        #             UNIT[\"degree\",0.01745329251994328,\n",
    "        #                 AUTHORITY[\"EPSG\",\"9122\"]],\n",
    "        #             AUTHORITY[\"EPSG\",\"4326\"]],\n",
    "        #         PROJECTION[\"Sinusoidal\"],\n",
    "        #         PARAMETER[\"false_easting\",0.0],\n",
    "        #         PARAMETER[\"false_northing\",0.0],\n",
    "        #         PARAMETER[\"central_meridian\",0.0],\n",
    "        #         PARAMETER[\"semi_major\",6371007.181],\n",
    "        #         PARAMETER[\"semi_minor\",6371007.181],\n",
    "        #         UNIT[\"m\",1.0],\n",
    "        #         AUTHORITY[\"SR-ORG\",\"6974\"]]''')\n",
    "        crs = rio.crs.CRS.from_wkt(\n",
    "            '''\n",
    "            PROJCRS[\"Sinusoidal Modis Spheroid\",BASEGEOGCRS[\"Unknown datum based upon the Authalic Sphere\",DATUM[\"Not specified (based on Authalic Sphere)\",ELLIPSOID[\"Sphere\",6371007.181,0,LENGTHUNIT[\"metre\",1]]],PRIMEM[\"Greenwich\",0,ANGLEUNIT[\"degree\",0.0174532925199433]],ID[\"EPSG\",4035]],CONVERSION[\"Sinusoidal\",METHOD[\"Sinusoidal\"],PARAMETER[\"Longitude of natural origin\",0,ANGLEUNIT[\"degree\",0.0174532925199433],ID[\"EPSG\",8802]],PARAMETER[\"False easting\",0,LENGTHUNIT[\"metre\",1],ID[\"EPSG\",8806]],PARAMETER[\"False northing\",0,LENGTHUNIT[\"metre\",1],ID[\"EPSG\",8807]]],CS[Cartesian,2],AXIS[\"easting\",east,ORDER[1],LENGTHUNIT[\"metre\",1,ID[\"EPSG\",9001]]],AXIS[\"northing\",north,ORDER[2],LENGTHUNIT[\"metre\",1,ID[\"EPSG\",9001]]]]\n",
    "            '''\n",
    "        )\n",
    "        with rio.open(output_geotiff, 'w', driver='GTiff', height=ny, width=nx, count=1, dtype=data.dtype,\n",
    "                           crs=crs, transform=transform) as dst:\n",
    "                        dst.write(data, 1)"
   ],
   "metadata": {
    "collapsed": false
   }
  },
  {
   "cell_type": "code",
   "execution_count": null,
   "outputs": [],
   "source": [
    "fpath = \"/Users/jmac/Documents/Programming/REU/National-Snow-Model/Data/VIIRS_SCA/2013-2014/VNP10A1F.A2013365.h09v04.001.2019341004913.h5\"\n",
    "\n",
    "datafield = \"/HDFEOS/GRIDS/NPP_Grid_IMG_2D/Data Fields/CGF_NDSI_Snow_Cover/\"\n",
    "\n",
    "convert_h5_to_geotiff(fpath, datafield, \"testh09v04_stolen_ints.tif\")"
   ],
   "metadata": {
    "collapsed": false
   }
  },
  {
   "cell_type": "code",
   "execution_count": null,
   "outputs": [],
   "source": [
    "fpath = \"/Users/jmac/Documents/Programming/REU/National-Snow-Model/Data/VIIRS_SCA/VNP10A1.A2013365.h12v12.001.2019211062842.h5\"\n",
    "datafield = \"/HDFEOS/GRIDS/NPP_Grid_IMG_2D/Data Fields/CGF_NDSI_Snow_Cover/\"\n",
    "\n",
    "# convert_h5_to_geotiff(fpath, datafield, \"testh12v12_stolenCRS.tif\")"
   ],
   "metadata": {
    "collapsed": false
   }
  },
  {
   "cell_type": "code",
   "execution_count": null,
   "outputs": [],
   "source": [
    "# plot geotiff\n",
    "# Open the file:\n",
    "gran1 = rio.open(\"/Users/jmac/Documents/Programming/REU/National-Snow-Model/Data_Processing_Assimilation/outputs/testh08v04_stolen.tif\", 'r')\n",
    "gran2 = rio.open(\"/Users/jmac/Documents/Programming/REU/National-Snow-Model/Data_Processing_Assimilation/outputs/testh09v04_stolen.tif\", 'r')\n",
    "gran3 = rio.open(\"/Users/jmac/Documents/Programming/REU/National-Snow-Model/Data_Processing_Assimilation/outputs/testh08v05_stolen.tif\", 'r')"
   ],
   "metadata": {
    "collapsed": false
   }
  },
  {
   "cell_type": "code",
   "execution_count": null,
   "outputs": [],
   "source": [
    "import rioxarray as rxr\n",
    "from rioxarray.merge import merge_arrays\n",
    "def createMergedRxr(files: list[str]):\n",
    "    # Create a merged rasterio dataset from a list of files\n",
    "    tifs = [rxr.open_rasterio(file) for file in files]\n",
    "    merged = merge_arrays(tifs, nodata=255)\n",
    "    return merged"
   ],
   "metadata": {
    "collapsed": false
   }
  },
  {
   "cell_type": "code",
   "execution_count": null,
   "outputs": [],
   "source": [
    "l = [\n",
    "\"/Users/jmac/Documents/Programming/REU/National-Snow-Model/Data_Processing_Assimilation/outputs/VNP10A1F_A2020193_h07v05_002_2023042125033_VIIRS_Grid_IMG_2D_CGF_NDSI_Snow_Cover_efe7c713.tif\",\n",
    "\"/Users/jmac/Documents/Programming/REU/National-Snow-Model/Data_Processing_Assimilation/outputs/VNP10A1F_A2020193_h08v04_002_2023042130237_VIIRS_Grid_IMG_2D_CGF_NDSI_Snow_Cover_efe7dd78.tif\",\n",
    "\"/Users/jmac/Documents/Programming/REU/National-Snow-Model/Data_Processing_Assimilation/outputs/VNP10A1F_A2020193_h08v05_002_2023042125025_VIIRS_Grid_IMG_2D_CGF_NDSI_Snow_Cover_efe7ceb1.tif\",\n",
    "\"/Users/jmac/Documents/Programming/REU/National-Snow-Model/Data_Processing_Assimilation/outputs/VNP10A1F_A2020193_h09v04_002_2023042130201_VIIRS_Grid_IMG_2D_CGF_NDSI_Snow_Cover_efe7d655.tif\",\n",
    "\"/Users/jmac/Documents/Programming/REU/National-Snow-Model/Data_Processing_Assimilation/outputs/VNP10A1F_A2020193_h09v05_002_2023042123953_VIIRS_Grid_IMG_2D_CGF_NDSI_Snow_Cover_efe76cd7.tif\",\n",
    "\"/Users/jmac/Documents/Programming/REU/National-Snow-Model/Data_Processing_Assimilation/outputs/VNP10A1F_A2020193_h10v04_002_2023042132519_VIIRS_Grid_IMG_2D_CGF_NDSI_Snow_Cover_efe8478d.tif\",\n",
    "\"/Users/jmac/Documents/Programming/REU/National-Snow-Model/Data_Processing_Assimilation/outputs/VNP10A1F_A2020193_h11v04_002_2023042131558_VIIRS_Grid_IMG_2D_CGF_NDSI_Snow_Cover_efe85653.tif\",\n",
    "]"
   ],
   "metadata": {
    "collapsed": false
   }
  },
  {
   "cell_type": "code",
   "execution_count": null,
   "outputs": [],
   "source": [
    "merged = createMergedRxr(l)"
   ],
   "metadata": {
    "collapsed": false
   }
  },
  {
   "cell_type": "code",
   "execution_count": null,
   "outputs": [],
   "source": [
    "merged"
   ],
   "metadata": {
    "collapsed": false
   }
  },
  {
   "cell_type": "code",
   "execution_count": null,
   "outputs": [],
   "source": [
    "image = merged.values\n",
    "show(image)"
   ],
   "metadata": {
    "collapsed": false
   }
  },
  {
   "cell_type": "code",
   "execution_count": null,
   "outputs": [],
   "source": [
    "merged.rio.crs"
   ],
   "metadata": {
    "collapsed": false
   }
  },
  {
   "cell_type": "code",
   "execution_count": null,
   "outputs": [],
   "source": [
    "\n",
    "merged, transform = merge([gran1, gran2, gran3])\n",
    "# hvplot.plot(merged, kind=\"\", cmap='viridis', clim=(0, 100))\n",
    "show(merged, cmap='viridis', clim=(0, 100))"
   ],
   "metadata": {
    "collapsed": false
   }
  },
  {
   "cell_type": "code",
   "execution_count": null,
   "outputs": [],
   "source": [
    "# convert every image to .tif\n",
    "from os.path import exists\n",
    "from pathlib import Path\n",
    "import glob\n",
    "root_folder = '/Users/jmac/Documents/Programming/REU/National-Snow-Model/Data/VIIRS_SCA'\n",
    "# folders = [ f.path for f in os.scandir(root_folder) if f.is_dir() ]\n",
    "h5paths = glob.iglob(root_folder+\"/**/*.h5\")\n",
    "errors = []\n",
    "skipped = []\n",
    "for path in h5paths:\n",
    "    path = Path(path)\n",
    "    tif = str(path.parent.joinpath(path.stem)) + \".tif\"\n",
    "    if exists(tif):\n",
    "        skipped.append(tif)\n",
    "        continue\n",
    "    try:\n",
    "        # print(path)\n",
    "        convert_h5_to_geotiff(path, datafield_name=datafield, output_geotiff=tif)\n",
    "    except KeyError as e:\n",
    "        errors.append(str(path.stem))\n",
    "    except Exception as e:\n",
    "        print(tif, e)\n"
   ],
   "metadata": {
    "collapsed": false
   }
  },
  {
   "cell_type": "code",
   "execution_count": null,
   "outputs": [],
   "source": [
    "errors.sort()\n",
    "errors"
   ],
   "metadata": {
    "collapsed": false
   }
  },
  {
   "cell_type": "code",
   "execution_count": null,
   "outputs": [],
   "source": [
    "errors"
   ],
   "metadata": {
    "collapsed": false
   }
  },
  {
   "cell_type": "code",
   "execution_count": null,
   "outputs": [],
   "source": [],
   "metadata": {
    "collapsed": false
   }
  }
 ],
 "metadata": {
  "kernelspec": {
   "display_name": "Python 3",
   "language": "python",
   "name": "python3"
  },
  "language_info": {
   "codemirror_mode": {
    "name": "ipython",
    "version": 2
   },
   "file_extension": ".py",
   "mimetype": "text/x-python",
   "name": "python",
   "nbconvert_exporter": "python",
   "pygments_lexer": "ipython2",
   "version": "2.7.6"
  }
 },
 "nbformat": 4,
 "nbformat_minor": 0
}
