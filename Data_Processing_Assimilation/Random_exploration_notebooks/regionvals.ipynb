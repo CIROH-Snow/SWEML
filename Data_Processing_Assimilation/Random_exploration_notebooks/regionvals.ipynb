{
 "cells": [
  {
   "cell_type": "code",
   "execution_count": null,
   "metadata": {
    "collapsed": true
   },
   "outputs": [],
   "source": [
    "import pandas as pd\n",
    "import geopandas as gpd\n",
    "import rasterio as rio\n",
    "from rasterio.merge import merge\n",
    "import matplotlib.pyplot as plt\n",
    "from rasterio.plot import show\n",
    "from rasterio.warp import reproject, Resampling\n",
    "import rasterstats as rs\n",
    "import folium\n"
   ]
  },
  {
   "cell_type": "code",
   "execution_count": null,
   "outputs": [],
   "source": [
    "RegionVals = pd.read_pickle(\"/Users/jmac/Documents/Programming/REU/National-Snow-Model/Data/Processed/RegionVal.pkl\")\n",
    "RegionVals.keys()"
   ],
   "metadata": {
    "collapsed": false
   }
  },
  {
   "cell_type": "code",
   "execution_count": null,
   "outputs": [],
   "source": [
    "gdfs = []\n",
    "\n",
    "# regions = RegionVals.keys()  # all regions\n",
    "regions = [\"S_Sierras\", \"N_Sierras\"]  # just the two regions we want\n",
    "\n",
    "for reg in regions:\n",
    "    df = RegionVals[reg]\n",
    "    df['region'] = reg  # add column to record original region\n",
    "    gdfs.append(df)"
   ],
   "metadata": {
    "collapsed": false
   }
  },
  {
   "cell_type": "code",
   "execution_count": null,
   "outputs": [],
   "source": [
    "superset = pd.concat(gdfs)\n",
    "superset = gpd.GeoDataFrame(superset, geometry=gpd.points_from_xy(superset.Long, superset.Lat, crs=\"EPSG:4326\"))\n",
    "superset.plot()"
   ],
   "metadata": {
    "collapsed": false
   }
  },
  {
   "cell_type": "code",
   "execution_count": null,
   "outputs": [],
   "source": [
    "# plot geotiff\n",
    "# Open the file:\n",
    "gran1 = rio.open(\"/Users/jmac/Documents/Programming/REU/National-Snow-Model/Data_Processing_Assimilation/testh08v04_stolen.tif\", 'r')\n",
    "gran2 = rio.open(\"/Users/jmac/Documents/Programming/REU/National-Snow-Model/Data_Processing_Assimilation/testh09v04_stolen.tif\", 'r')\n",
    "gran3 = rio.open(\"/Users/jmac/Documents/Programming/REU/National-Snow-Model/Data_Processing_Assimilation/testh08v05_stolen.tif\", 'r')\n",
    "\n",
    "merged, transform = merge([gran1, gran2, gran3])\n",
    "merged_meta = gran1.meta.copy()\n",
    "merged_meta.update(\n",
    "    {\n",
    "        \"driver\": \"GTiff\",\n",
    "        \"height\": merged.shape[1],\n",
    "        \"width\": merged.shape[2],\n",
    "        \"transform\": transform,\n",
    "    }\n",
    ")\n",
    "\n",
    "# Write the mosaic raster to disk:\n",
    "with rio.open('/Users/jmac/Documents/Programming/REU/National-Snow-Model/Data_Processing_Assimilation/merged.tif', 'w', **merged_meta) as dst:\n",
    "    dst.write(merged)"
   ],
   "metadata": {
    "collapsed": false
   }
  },
  {
   "cell_type": "code",
   "execution_count": null,
   "outputs": [],
   "source": [
    "with rio.open('/Users/jmac/Documents/Programming/REU/National-Snow-Model/Data_Processing_Assimilation/merged.tif') as sca:\n",
    "    fig, ax = plt.subplots(figsize=(10, 10))\n",
    "    ax = show(sca, ax=ax, cmap='viridis', title=\"Merged\", alpha=0.5)\n",
    "    superset.to_crs(sca.crs).plot(ax=ax, column='region', categorical=True, legend=True)\n",
    "    plt.show()"
   ],
   "metadata": {
    "collapsed": false
   }
  },
  {
   "cell_type": "code",
   "execution_count": null,
   "outputs": [],
   "source": [
    "s = superset.to_crs(sca.crs)\n",
    "s.crs"
   ],
   "metadata": {
    "collapsed": false
   }
  },
  {
   "cell_type": "code",
   "execution_count": null,
   "outputs": [],
   "source": [
    "with rio.open('/Users/jmac/Documents/Programming/REU/National-Snow-Model/Data_Processing_Assimilation/merged.tif') as sca:\n",
    "# sca = rio.open('/Users/jmac/Documents/Programming/REU/National-Snow-Model/Data_Processing_Assimilation/merged.tif')\n",
    "    buffered = gpd.GeoDataFrame(superset)  # TODO do we need a copy here?\n",
    "    buffered['geometry'] = superset.to_crs(sca.crs).buffer(200)  # 200 meter buffer\n",
    "\n",
    "    stats = rs.zonal_stats(buffered, sca.read(1), affine=sca.transform, stats=['mean'], geojson_out=False, copy_properties=True)\n",
    "\n",
    "    superset[\"sca\"] = [stat['mean'] for stat in stats]\n"
   ],
   "metadata": {
    "collapsed": false
   }
  },
  {
   "cell_type": "code",
   "execution_count": null,
   "outputs": [],
   "source": [],
   "metadata": {
    "collapsed": false
   }
  },
  {
   "cell_type": "code",
   "execution_count": null,
   "outputs": [],
   "source": [
    "superset.to_file(\"/Users/jmac/Documents/Programming/REU/National-Snow-Model/Data_Processing_Assimilation/testoutput2.geojson\", driver='GeoJSON')"
   ],
   "metadata": {
    "collapsed": false
   }
  },
  {
   "cell_type": "code",
   "execution_count": null,
   "outputs": [],
   "source": [],
   "metadata": {
    "collapsed": false
   }
  }
 ],
 "metadata": {
  "kernelspec": {
   "display_name": "Python 3",
   "language": "python",
   "name": "python3"
  },
  "language_info": {
   "codemirror_mode": {
    "name": "ipython",
    "version": 2
   },
   "file_extension": ".py",
   "mimetype": "text/x-python",
   "name": "python",
   "nbconvert_exporter": "python",
   "pygments_lexer": "ipython2",
   "version": "2.7.6"
  }
 },
 "nbformat": 4,
 "nbformat_minor": 0
}
