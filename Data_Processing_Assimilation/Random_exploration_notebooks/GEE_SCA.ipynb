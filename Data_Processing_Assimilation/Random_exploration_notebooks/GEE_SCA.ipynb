{
 "cells": [
  {
   "cell_type": "code",
   "execution_count": null,
   "metadata": {
    "collapsed": true
   },
   "outputs": [],
   "source": [
    "import ee\n",
    "import folium\n",
    "import os\n",
    "import dotenv\n",
    "from pprint import pprint\n",
    "import geopandas as gpd\n",
    "import geemap"
   ]
  },
  {
   "cell_type": "code",
   "execution_count": null,
   "outputs": [],
   "source": [
    "# Set up GEE credentials\n",
    "dotenv.load_dotenv()\n",
    "\n",
    "service_account = os.getenv('GCP_SERVICE_ACC')\n",
    "private_key = os.getenv('GCP_SERVICE_JSON')\n",
    "\n",
    "credentials = ee.ServiceAccountCredentials(service_account, private_key)\n",
    "\n",
    "ee.Initialize(credentials)"
   ],
   "metadata": {
    "collapsed": false
   }
  },
  {
   "cell_type": "code",
   "execution_count": null,
   "outputs": [],
   "source": [
    "ee.Authenticate()\n",
    "ee.Initialize()"
   ],
   "metadata": {
    "collapsed": false
   }
  },
  {
   "cell_type": "code",
   "execution_count": null,
   "outputs": [],
   "source": [
    "# Define a method for displaying Earth Engine image tiles to folium map.\n",
    "def add_ee_layer(self, ee_image_object, vis_params, name):\n",
    "  map_id_dict = ee_image_object.getMapId(vis_params)\n",
    "  folium.raster_layers.TileLayer(\n",
    "      tiles=map_id_dict['tile_fetcher'].url_format,\n",
    "      attr='Map Data &copy; <a href=\"https://earthengine.google.com/\">Google Earth Engine</a>',\n",
    "      name=name,\n",
    "      overlay=True,\n",
    "      control=True\n",
    "  ).add_to(self)\n",
    "\n",
    "folium.Map.add_ee_layer = add_ee_layer"
   ],
   "metadata": {
    "collapsed": false
   }
  },
  {
   "cell_type": "code",
   "execution_count": null,
   "outputs": [],
   "source": [
    "# Get Snow Cover Data\n",
    "sca: ee.ImageCollection = (ee.ImageCollection('MODIS/006/MOD10A1')\n",
    "                           .filterDate('2023-01-01', '2023-01-4'))\n",
    "\n",
    "# Get the number of images.\n",
    "count = sca.size().getInfo()\n",
    "print(\"Num Images:\", count)"
   ],
   "metadata": {
    "collapsed": false
   }
  },
  {
   "cell_type": "code",
   "execution_count": null,
   "outputs": [],
   "source": [
    "# Create FeatureCollection of grid cells\n",
    "aoi = (ee.Geometry.Polygon(\n",
    "        [[[-120.88206223229643, 39.15849400460822],\n",
    "          [-120.88206223229643, 39.149575297287804],\n",
    "          [-120.87141922692534, 39.149575297287804],\n",
    "          [-120.87141922692534, 39.15849400460822]]])) # Secret Town, CA\n",
    "\n",
    "feature = ee.Feature(aoi, {'label': 'Secret Town'}) # Create feature from AOI\n",
    "# proj = sca.first().projection() # Get projection from first image in collection\n",
    "proj = feature.geometry().projection() # Get projection from feature\n",
    "\n",
    "grid = feature.geometry().coveringGrid(proj, 500) # Create grid of 500x500m cells"
   ],
   "metadata": {
    "collapsed": false
   }
  },
  {
   "cell_type": "code",
   "execution_count": null,
   "outputs": [],
   "source": [
    "# Add grid cells to map\n",
    "\n",
    "# map1 = folium.Map(location=[39.158763626894384, -120.88206515079846], zoom_start=14)\n",
    "#\n",
    "# map1.add_ee_layer(feature, {}, 'aoi')\n",
    "# map1.add_ee_layer(grid, {}, 'grid')\n",
    "# display(map1)"
   ],
   "metadata": {
    "collapsed": false
   }
  },
  {
   "cell_type": "code",
   "execution_count": null,
   "outputs": [],
   "source": [
    "# Def vis params for snow cover\n",
    "\n",
    "# snowCoverVis = {\n",
    "#   'min': 0,\n",
    "#   'max': 100,\n",
    "#   'palette': ['00FFFF', '0000FF'],\n",
    "#   'opacity': 0.8\n",
    "# }"
   ],
   "metadata": {
    "collapsed": false
   }
  },
  {
   "cell_type": "code",
   "execution_count": null,
   "outputs": [],
   "source": [
    "# map1.add_ee_layer(sca.select(\"NDSI_Snow_Cover\").first(), snowCoverVis, 'sca')\n",
    "# display(map1)"
   ],
   "metadata": {
    "collapsed": false
   }
  },
  {
   "cell_type": "code",
   "execution_count": null,
   "outputs": [],
   "source": [
    "# map2 = folium.Map(location=[39.158763626894384, -120.88206515079846], zoom_start=14)\n",
    "#\n",
    "# # Get NDSI_Snow_Cover for each grid cell\n",
    "# def get_sca(image):\n",
    "#     return image.reduceRegions(grid, ee.Reducer.mean(), 500)\n",
    "#\n",
    "# sca_grid = sca.map(get_sca).flatten()\n",
    "# pprint(sca_grid.getInfo())\n",
    "#\n",
    "# # Add grid cells to map\n",
    "# map2.add_ee_layer(sca_grid, snowCoverVis, 'sca')\n",
    "# display(map2)"
   ],
   "metadata": {
    "collapsed": false
   }
  },
  {
   "cell_type": "code",
   "execution_count": null,
   "outputs": [],
   "source": [
    "url = grid.getDownloadURL(filetype=\"geojson\", filename=\"grid\")\n",
    "\n",
    "print(url)"
   ],
   "metadata": {
    "collapsed": false
   }
  },
  {
   "cell_type": "code",
   "execution_count": null,
   "outputs": [],
   "source": [
    "def toCloudStorage(collection, bucket, folder=None, namePattern='{id}',\n",
    "                   region=None, scale=30, dataType=\"float\", datePattern=None,\n",
    "                   verbose=False, extra=None, **kwargs):\n",
    "    \"\"\" Upload all images from one collection to Google Cloud Storage. You can\n",
    "    use the same arguments as the original function\n",
    "    ee.batch.export.image.toCloudStorage\n",
    "\n",
    "    :param collection: Collection to upload\n",
    "    :type collection: ee.ImageCollection\n",
    "    :param bucket: Google Cloud Storage bucket name\n",
    "    :type folder: str\n",
    "    :param folder: Google Cloud Storage prefix to export the images to\n",
    "    :type folder: str\n",
    "    :param namePattern: pattern for the name. See make_name function\n",
    "    :type namePattern: str\n",
    "    :param region: area to upload. Defualt to the footprint of the first\n",
    "        image in the collection\n",
    "    :type region: ee.Geometry.Rectangle or ee.Feature\n",
    "    :param scale: scale of the image (side of one pixel). Defults to 30\n",
    "        (Landsat resolution)\n",
    "    :type scale: int\n",
    "    :param dataType: as downloaded images **must** have the same data type\n",
    "        in all bands, you have to set it here. Can be one of: \"float\",\n",
    "        \"double\", \"int\", \"Uint8\", \"Int8\" or a casting function like\n",
    "        *ee.Image.toFloat*\n",
    "    :type dataType: str\n",
    "    :param datePattern: pattern for date if specified in namePattern.\n",
    "        Defaults to 'yyyyMMdd'\n",
    "    :type datePattern: str\n",
    "    \"\"\"\n",
    "    # empty tasks list\n",
    "    tasklist = []\n",
    "    # get region\n",
    "    # region = tools.geometry.getRegion(region)\n",
    "    # Make a list of images\n",
    "    img_list = collection.toList(collection.size())\n",
    "\n",
    "    n = 0\n",
    "    while True:\n",
    "        try:\n",
    "            img = ee.Image(img_list.get(n))\n",
    "\n",
    "            fc = ee.FeatureCollection(img.get('fc'))\n",
    "\n",
    "\n",
    "            name = f\"test_{n}\"\n",
    "            # name = name.getInfo()\n",
    "            description = name\n",
    "            # description = utils.matchDescription(name)\n",
    "\n",
    "            # convert data type\n",
    "            # img = utils.convertDataType(dataType)(img)\n",
    "\n",
    "            if folder is not None:\n",
    "                path = folder + \"/\" + name\n",
    "            else:\n",
    "                path = name\n",
    "\n",
    "            url = fc.getDownloadURL(filetype=\"geojson\", filename=name)\n",
    "            print(url)\n",
    "\n",
    "            # task = ee.batch.Export.table.toCloudStorage(collection=fc,\n",
    "            #                                      description=description,\n",
    "            #                                      bucket=bucket,\n",
    "            #                                      path=path,\n",
    "            #                                      **kwargs)\n",
    "            # task.start()\n",
    "            # tasklist.append(task)\n",
    "            if verbose:\n",
    "                print(\"adding task {} to list\".format(name))\n",
    "            n += 1\n",
    "\n",
    "        except Exception as e:\n",
    "            error = str(e).split(':')\n",
    "            if error[0] == 'List.get':\n",
    "                break\n",
    "            else:\n",
    "                raise e\n",
    "\n",
    "    return tasklist"
   ],
   "metadata": {
    "collapsed": false
   }
  },
  {
   "cell_type": "code",
   "execution_count": null,
   "outputs": [],
   "source": [
    "def download_scas_regions(regions: ee.FeatureCollection, ee_ic: ee.ImageCollection):\n",
    "    return ee_ic.map(lambda image: image.set('fc', image.reduceRegions(regions, ee.Reducer.mean(), 500)))"
   ],
   "metadata": {
    "collapsed": false
   }
  },
  {
   "cell_type": "code",
   "execution_count": null,
   "outputs": [],
   "source": [
    "\n",
    "# new_ic = download_scas_regions(grid, ee.ImageCollection(sca.first()))\n",
    "new_ic = download_scas_regions(grid, sca)\n",
    "\n",
    "first_fc = ee.FeatureCollection(new_ic.first().get('fc'))\n",
    "first_fc.getDownloadUrl(filetype=\"geojson\", filename=\"first_fc\")"
   ],
   "metadata": {
    "collapsed": false
   }
  },
  {
   "cell_type": "code",
   "execution_count": null,
   "outputs": [],
   "source": [
    "out = toCloudStorage(new_ic, \"none\")"
   ],
   "metadata": {
    "collapsed": false
   }
  },
  {
   "cell_type": "code",
   "execution_count": null,
   "outputs": [],
   "source": [
    "ee.batch.Export.table.toAsset(first_fc, 'sca_fc', 'users/joshcchristensen7/sca_fc').start()"
   ],
   "metadata": {
    "collapsed": false
   }
  },
  {
   "cell_type": "code",
   "execution_count": null,
   "outputs": [],
   "source": [
    "list_fc = new_ic\\\n",
    "  .toList(5) \\\n",
    "  .map(lambda image: ee.FeatureCollection(ee.Image(image).get('fc')))\n",
    "\n",
    "# list_fc = new_ic\\\n",
    "#   .toList(5) \\\n",
    "#   .map(lambda image: ee.batch.Export.table.toAsset(ee.FeatureCollection(ee.Image(image).get('fc')), 'sca_fc', 'users/joshcchristensen7/sca_fc'))"
   ],
   "metadata": {
    "collapsed": false
   }
  },
  {
   "cell_type": "code",
   "execution_count": null,
   "outputs": [],
   "source": [
    "fc = ee.FeatureCollection(list_fc)\n",
    "fc.getInfo()"
   ],
   "metadata": {
    "collapsed": false
   }
  },
  {
   "cell_type": "code",
   "execution_count": null,
   "outputs": [],
   "source": [
    "import geetools\n",
    "\n",
    "geetools.batch.Download.table.toLocal(fc, \"test1234.geojson\")"
   ],
   "metadata": {
    "collapsed": false
   }
  },
  {
   "cell_type": "code",
   "execution_count": null,
   "outputs": [],
   "source": [
    "\n",
    "\n",
    "tmp = sca.map(lambda image: image.reduceRegions(grid, ee.Reducer.mean(), 500))\n",
    "\n",
    "tmp.map(lambda image: print(image.getDownloadURL(\n",
    "    filetype='CSV',\n",
    "    filename='sca',\n",
    "    selectors=['NDSI_Snow_Cover']\n",
    ")))"
   ],
   "metadata": {
    "collapsed": false
   }
  },
  {
   "cell_type": "code",
   "execution_count": null,
   "outputs": [],
   "source": [
    "grid_df = gpd.read_file(\"/Users/jmac/Documents/Programming/REU/National-Snow-Model/Data_Processing_Assimilation/grid.geojson\")\n",
    "grid_df.head()"
   ],
   "metadata": {
    "collapsed": false
   }
  },
  {
   "cell_type": "code",
   "execution_count": null,
   "outputs": [],
   "source": [
    "fc = geemap.geopandas_to_ee(grid_df)\n",
    "pprint(fc.getInfo())"
   ],
   "metadata": {
    "collapsed": false
   }
  },
  {
   "cell_type": "code",
   "execution_count": null,
   "outputs": [],
   "source": [
    "# try downloading a big geojson\n",
    "prediction_sites = gpd.read_file(\"/Users/jmac/Documents/Programming/REU/National-Snow-Model/Data_Processing_Assimilation/test.geojson\")\n",
    "prediction_sites.head()"
   ],
   "metadata": {
    "collapsed": false
   }
  },
  {
   "cell_type": "code",
   "execution_count": null,
   "outputs": [],
   "source": [
    "pred_sites_fc = geemap.geopandas_to_ee(prediction_sites[[\"geometry\"]].head())\n",
    "pprint(pred_sites_fc.getInfo())"
   ],
   "metadata": {
    "collapsed": false
   }
  },
  {
   "cell_type": "code",
   "execution_count": null,
   "outputs": [],
   "source": [
    "def wrapper (regions: ee.FeatureCollection):\n",
    "\n",
    "    def wrapped (eeimage: ee.Image):\n",
    "        return download_scas_regions(regions, eeimage)\n",
    "    return wrapped"
   ],
   "metadata": {
    "collapsed": false
   }
  },
  {
   "cell_type": "code",
   "execution_count": null,
   "outputs": [],
   "source": [
    "downloader = wrapper(pred_sites_fc)"
   ],
   "metadata": {
    "collapsed": false
   }
  },
  {
   "cell_type": "code",
   "execution_count": null,
   "outputs": [],
   "source": [
    "downloads = sca.map(downloader).getInfo()"
   ],
   "metadata": {
    "collapsed": false
   }
  },
  {
   "cell_type": "code",
   "execution_count": null,
   "outputs": [],
   "source": [],
   "metadata": {
    "collapsed": false
   }
  }
 ],
 "metadata": {
  "kernelspec": {
   "display_name": "Python 3",
   "language": "python",
   "name": "python3"
  },
  "language_info": {
   "codemirror_mode": {
    "name": "ipython",
    "version": 2
   },
   "file_extension": ".py",
   "mimetype": "text/x-python",
   "name": "python",
   "nbconvert_exporter": "python",
   "pygments_lexer": "ipython2",
   "version": "2.7.6"
  }
 },
 "nbformat": 4,
 "nbformat_minor": 0
}
