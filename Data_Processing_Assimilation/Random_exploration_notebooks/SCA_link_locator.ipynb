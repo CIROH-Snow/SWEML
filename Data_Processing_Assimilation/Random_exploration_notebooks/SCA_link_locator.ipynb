{
 "cells": [
  {
   "cell_type": "code",
   "execution_count": null,
   "metadata": {
    "collapsed": true
   },
   "outputs": [],
   "source": [
    "import earthaccess\n",
    "import pandas as pd\n",
    "import geopandas as gpd\n",
    "import tqdm"
   ]
  },
  {
   "cell_type": "code",
   "execution_count": null,
   "outputs": [],
   "source": [
    "auth = earthaccess.login(strategy=\"netrc\")"
   ],
   "metadata": {
    "collapsed": false
   }
  },
  {
   "cell_type": "code",
   "execution_count": null,
   "outputs": [],
   "source": [
    "RegionVals = pd.read_pickle(\"/Users/jmac/Documents/Programming/REU/National-Snow-Model/Data/Processed/RegionVal.pkl\")\n",
    "\n",
    "# S_Sierras = df[\"S_Sierras\"]\n",
    "# S_Sierras[\"Region\"] = \"S_Sierras\"\n",
    "#\n",
    "# N_Sierras = df[\"N_Sierras\"]\n",
    "# N_Sierras[\"Region\"] = \"N_Sierras\"\n",
    "#\n",
    "# sierras = pd.concat([S_Sierras, N_Sierras])\n",
    "# gdf = gpd.GeoDataFrame(sierras, geometry=gpd.points_from_xy(sierras.Long, sierras.Lat))\n",
    "#\n",
    "# gdf.to_file(\"/Users/jmac/Documents/Programming/REU/National-Snow-Model/Data_Processing_Assimilation/sierras.geojson\",\n",
    "#             driver=\"GeoJSON\")\n",
    "# sierras_bounds = gdf.total_bounds\n",
    "# sierras_bounds"
   ],
   "metadata": {
    "collapsed": false
   }
  },
  {
   "cell_type": "code",
   "execution_count": null,
   "outputs": [],
   "source": [
    "# results = query.get()"
   ],
   "metadata": {
    "collapsed": false
   }
  },
  {
   "cell_type": "code",
   "execution_count": null,
   "outputs": [],
   "source": [
    "# %%time\n",
    "# files = earthaccess.download(results, local_path=\"/Users/jmac/Library/CloudStorage/Box-Box/Snow_Modeling_Group/NSM_App_Deployment/National-Snow-Model/Data/VIIRS_SCA\")"
   ],
   "metadata": {
    "collapsed": false
   }
  },
  {
   "cell_type": "markdown",
   "source": [],
   "metadata": {
    "collapsed": false
   }
  },
  {
   "cell_type": "code",
   "execution_count": null,
   "outputs": [],
   "source": [
    "\n",
    "def get_links_region(region_gdf, start=2013, stop=2020):\n",
    "    years = []\n",
    "    for year in range(2013,2020) :\n",
    "        bounds = region_gdf.total_bounds\n",
    "        query = (earthaccess.granule_query()\n",
    "          .short_name('VNP10A1F')\n",
    "          .version(\"1\")\n",
    "          .bounding_box(*bounds)\n",
    "          .temporal(f\"{year}-10-1\",f\"{year+1}-07-31\")\n",
    "         )\n",
    "\n",
    "        print(f\"{year} hits: {query.hits()}\")\n",
    "\n",
    "        results = query.get(3000)\n",
    "\n",
    "        urls = [g.data_links(access=\"on_prem\") for g in results]\n",
    "        years.append({\"year\":year, \"urls\": urls})\n",
    "    return years\n",
    "\n",
    "    # files = earthaccess.download(results, local_path=f\"/Users/jmac/Library/CloudStorage/Box-Box/Snow_Modeling_Group/NSM_App_Deployment/National-Snow-Model/Data/VIIRS_SCA/{year}-{year+1}\")"
   ],
   "metadata": {
    "collapsed": false
   }
  },
  {
   "cell_type": "code",
   "execution_count": null,
   "outputs": [],
   "source": [
    "gdfs = []\n",
    "for reg in RegionVals:\n",
    "    df = RegionVals[reg]\n",
    "    df['region'] = reg\n",
    "    gdfs.append(df)"
   ],
   "metadata": {
    "collapsed": false
   }
  },
  {
   "cell_type": "code",
   "execution_count": null,
   "outputs": [],
   "source": [
    "superset = pd.concat(gdfs)\n",
    "superset = gpd.GeoDataFrame(superset, geometry=gpd.points_from_xy(superset.Long, superset.Lat))"
   ],
   "metadata": {
    "collapsed": false
   }
  },
  {
   "cell_type": "code",
   "execution_count": null,
   "outputs": [],
   "source": [
    "superset.plot()"
   ],
   "metadata": {
    "collapsed": false
   }
  },
  {
   "cell_type": "code",
   "execution_count": null,
   "outputs": [],
   "source": [
    "superset.total_bounds"
   ],
   "metadata": {
    "collapsed": false
   }
  },
  {
   "cell_type": "code",
   "execution_count": null,
   "outputs": [],
   "source": [
    "links = get_links_region(superset)"
   ],
   "metadata": {
    "collapsed": false
   }
  },
  {
   "cell_type": "code",
   "execution_count": null,
   "outputs": [],
   "source": [
    "links[0]"
   ],
   "metadata": {
    "collapsed": false
   }
  },
  {
   "cell_type": "code",
   "execution_count": null,
   "outputs": [],
   "source": [
    "for y in links:\n",
    "    year = links[y][\"year\"]\n"
   ],
   "metadata": {
    "collapsed": false
   }
  },
  {
   "cell_type": "code",
   "execution_count": null,
   "outputs": [],
   "source": [],
   "metadata": {
    "collapsed": false
   }
  },
  {
   "cell_type": "code",
   "execution_count": null,
   "outputs": [],
   "source": [
    "import earthaccess as ea\n",
    "import shapely\n",
    "import geopandas as gpd\n",
    "\n",
    "def calculateGranuleExtent(boundingBox: list[float, float, float, float], day=\"2019-07-07\"):\n",
    "    \"\"\"\n",
    "        Fetches relevant VIIRS granules from NASA's EarthData's CMR API.\n",
    "\n",
    "        Parameters:\n",
    "            boundingBox (list[float, float, float, float]): The bounding box of the region of interest.\n",
    "\n",
    "                lower_left_lon – lower left longitude of the box (west)\n",
    "                lower_left_lat – lower left latitude of the box (south)\n",
    "                upper_right_lon – upper right longitude of the box (east)\n",
    "                upper_right_lat – upper right latitude of the box (north)\n",
    "\n",
    "        Returns:\n",
    "            cells (GeoDataFrame): A dataframe containing the horizontal and vertical tile numbers and their boundaries\n",
    "\n",
    "    \"\"\"\n",
    "    auth = ea.login(strategy=\"netrc\")\n",
    "    if auth is None:\n",
    "        print(\"Error logging into Earth Data account.\")\n",
    "        return\n",
    "    query = (ea.granule_query()\n",
    "             .short_name('VNP10A1F')  # NPP-SUOMI VIIRS, but JPSS1 VIIRS also exists\n",
    "             .version(\"2\")  # FIXME v1 supports 2013-onwards, but v2 doesn't work before 2018, update programmatically\n",
    "             .bounding_box(*boundingBox)\n",
    "             .temporal(day, day)  # Grab one day's worth of data, we only care about spatial extent\n",
    "             )\n",
    "\n",
    "    results = query.get(100)  # The Western CONUS is usually 7, so this is plenty\n",
    "\n",
    "    cells = []\n",
    "    for result in results:\n",
    "        geometry = shapely.geometry.Polygon(\n",
    "            [(x[\"Longitude\"],x[\"Latitude\"]) for x in\n",
    "             result[\"umm\"][\"SpatialExtent\"][\"HorizontalSpatialDomain\"][\"Geometry\"][\"GPolygons\"][0][\"Boundary\"][\n",
    "                 \"Points\"]]\n",
    "        )\n",
    "        cell = {\n",
    "            # \"name\": 'VNP10A1F',\n",
    "            # \"version\": '2',\n",
    "            \"h\": result[\"umm\"][\"AdditionalAttributes\"][1][\"Values\"],  # HORIZONTAL TILE NUMBER\n",
    "            \"v\": result[\"umm\"][\"AdditionalAttributes\"][2][\"Values\"],  # VERTICAL TILE NUMBER\n",
    "            \"geometry\": geometry\n",
    "        }\n",
    "        cells.append(cell)\n",
    "\n",
    "    geo = gpd.GeoDataFrame(cells, geometry=\"geometry\", crs=\"EPSG:4326\")\n",
    "    return geo\n",
    "\n",
    "\n",
    "res = calculateGranuleExtent([-123.34078531, 33.35825379, -105.07803558, 48.97106571])"
   ],
   "metadata": {
    "collapsed": false
   }
  },
  {
   "cell_type": "code",
   "execution_count": null,
   "outputs": [],
   "source": [
    "res.explore()"
   ],
   "metadata": {
    "collapsed": false
   }
  },
  {
   "cell_type": "code",
   "execution_count": null,
   "outputs": [],
   "source": [
    "res[\"geometry\"].explore()"
   ],
   "metadata": {
    "collapsed": false
   }
  },
  {
   "cell_type": "code",
   "execution_count": null,
   "outputs": [],
   "source": [],
   "metadata": {
    "collapsed": false
   }
  }
 ],
 "metadata": {
  "kernelspec": {
   "display_name": "Python 3",
   "language": "python",
   "name": "python3"
  },
  "language_info": {
   "codemirror_mode": {
    "name": "ipython",
    "version": 2
   },
   "file_extension": ".py",
   "mimetype": "text/x-python",
   "name": "python",
   "nbconvert_exporter": "python",
   "pygments_lexer": "ipython2",
   "version": "2.7.6"
  }
 },
 "nbformat": 4,
 "nbformat_minor": 0
}
